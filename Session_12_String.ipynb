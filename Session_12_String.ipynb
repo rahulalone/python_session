{
 "cells": [
  {
   "cell_type": "markdown",
   "id": "cbc7b4b2-0456-4d1a-bd10-c942d4597fbf",
   "metadata": {},
   "source": [
    "## String"
   ]
  },
  {
   "cell_type": "markdown",
   "id": "c65cdd78-3c00-4006-9969-336599bad091",
   "metadata": {},
   "source": [
    "#### Intialiazing"
   ]
  },
  {
   "cell_type": "code",
   "execution_count": 2,
   "id": "0db09904-74e5-46a6-93b1-bfc0502b03e5",
   "metadata": {},
   "outputs": [
    {
     "data": {
      "text/plain": [
       "'pyhton'"
      ]
     },
     "execution_count": 2,
     "metadata": {},
     "output_type": "execute_result"
    }
   ],
   "source": [
    "str1= 'pyhton'\n",
    "str1"
   ]
  },
  {
   "cell_type": "code",
   "execution_count": 2,
   "id": "c69b1756-98fe-4547-9788-dc92a652b46d",
   "metadata": {},
   "outputs": [
    {
     "data": {
      "text/plain": [
       "'pyhton'"
      ]
     },
     "execution_count": 2,
     "metadata": {},
     "output_type": "execute_result"
    }
   ],
   "source": [
    "str2= \"pyhton\"\n",
    "str2"
   ]
  },
  {
   "cell_type": "code",
   "execution_count": 5,
   "id": "ad00577a-09a5-4cae-8de7-10d029a5d16a",
   "metadata": {},
   "outputs": [
    {
     "data": {
      "text/plain": [
       "' i like Python'"
      ]
     },
     "execution_count": 5,
     "metadata": {},
     "output_type": "execute_result"
    }
   ],
   "source": [
    "str3= \"\"\" i like Python\"\"\"\n",
    "str3"
   ]
  },
  {
   "cell_type": "code",
   "execution_count": 9,
   "id": "cc2fd403-0805-4f1f-b307-9e06de87476f",
   "metadata": {},
   "outputs": [
    {
     "data": {
      "text/plain": [
       "\" i like 'Python' \""
      ]
     },
     "execution_count": 9,
     "metadata": {},
     "output_type": "execute_result"
    }
   ],
   "source": [
    "str3= \" i like 'Python' \"\n",
    "str3"
   ]
  },
  {
   "cell_type": "markdown",
   "id": "6cc97e32-f7e9-4fae-9b2d-e300d4c53b54",
   "metadata": {},
   "source": [
    "##"
   ]
  },
  {
   "cell_type": "code",
   "execution_count": 3,
   "id": "5ab1b79e-afe2-4ba6-9726-fac1d3ef479b",
   "metadata": {},
   "outputs": [],
   "source": [
    "str1= \"python\""
   ]
  },
  {
   "cell_type": "code",
   "execution_count": 4,
   "id": "69c7f6a0-e936-4959-bd17-a13cc6684e7b",
   "metadata": {},
   "outputs": [
    {
     "data": {
      "text/plain": [
       "str"
      ]
     },
     "execution_count": 4,
     "metadata": {},
     "output_type": "execute_result"
    }
   ],
   "source": [
    "type(str1)"
   ]
  },
  {
   "cell_type": "code",
   "execution_count": 5,
   "id": "d4502050-5ab6-44c8-b394-80a00ce4e31c",
   "metadata": {},
   "outputs": [
    {
     "name": "stdout",
     "output_type": "stream",
     "text": [
      "python\n"
     ]
    }
   ],
   "source": [
    "print(str1)"
   ]
  },
  {
   "cell_type": "code",
   "execution_count": 6,
   "id": "df9c57c7-0baf-4bac-9686-42cfdf819bf8",
   "metadata": {},
   "outputs": [
    {
     "data": {
      "text/plain": [
       "6"
      ]
     },
     "execution_count": 6,
     "metadata": {},
     "output_type": "execute_result"
    }
   ],
   "source": [
    "len(str1)"
   ]
  },
  {
   "cell_type": "code",
   "execution_count": 7,
   "id": "43b64188-9602-4532-afd6-880b81c7f9e1",
   "metadata": {},
   "outputs": [
    {
     "data": {
      "text/plain": [
       "'h'"
      ]
     },
     "execution_count": 7,
     "metadata": {},
     "output_type": "execute_result"
    }
   ],
   "source": [
    "min(str1)"
   ]
  },
  {
   "cell_type": "code",
   "execution_count": 8,
   "id": "ffab55b9-30d4-44e2-8d13-ddab69f35d80",
   "metadata": {},
   "outputs": [
    {
     "data": {
      "text/plain": [
       "'y'"
      ]
     },
     "execution_count": 8,
     "metadata": {},
     "output_type": "execute_result"
    }
   ],
   "source": [
    "max(str1)"
   ]
  },
  {
   "cell_type": "code",
   "execution_count": 9,
   "id": "c76bcfe8-4ff9-4e27-a2ce-8061ec4ea200",
   "metadata": {},
   "outputs": [
    {
     "ename": "TypeError",
     "evalue": "unsupported operand type(s) for +: 'int' and 'str'",
     "output_type": "error",
     "traceback": [
      "\u001b[1;31m---------------------------------------------------------------------------\u001b[0m",
      "\u001b[1;31mTypeError\u001b[0m                                 Traceback (most recent call last)",
      "Cell \u001b[1;32mIn[9], line 1\u001b[0m\n\u001b[1;32m----> 1\u001b[0m \u001b[38;5;28msum\u001b[39m(str1)\n",
      "\u001b[1;31mTypeError\u001b[0m: unsupported operand type(s) for +: 'int' and 'str'"
     ]
    }
   ],
   "source": [
    "sum(str1)"
   ]
  },
  {
   "cell_type": "code",
   "execution_count": 10,
   "id": "3d286288-1995-4ac3-ba5e-35ca5d3c3313",
   "metadata": {},
   "outputs": [
    {
     "data": {
      "text/plain": [
       "'1'"
      ]
     },
     "execution_count": 10,
     "metadata": {},
     "output_type": "execute_result"
    }
   ],
   "source": [
    "min(\"123\")"
   ]
  },
  {
   "cell_type": "code",
   "execution_count": 11,
   "id": "29fb36ac-ec8b-46ab-b230-1d590e6abbc0",
   "metadata": {},
   "outputs": [
    {
     "data": {
      "text/plain": [
       "'1'"
      ]
     },
     "execution_count": 11,
     "metadata": {},
     "output_type": "execute_result"
    }
   ],
   "source": [
    "min(\"pyhton123\")"
   ]
  },
  {
   "cell_type": "code",
   "execution_count": 12,
   "id": "664991cc-9daf-4d13-a5f0-311ea10af9ee",
   "metadata": {},
   "outputs": [
    {
     "data": {
      "text/plain": [
       "['h', 'n', 'o', 'p', 't', 'y']"
      ]
     },
     "execution_count": 12,
     "metadata": {},
     "output_type": "execute_result"
    }
   ],
   "source": [
    "sorted(str1)"
   ]
  },
  {
   "cell_type": "code",
   "execution_count": 14,
   "id": "2d7b6b82-2db5-4fc0-a321-8b7ac8a16f57",
   "metadata": {},
   "outputs": [
    {
     "data": {
      "text/plain": [
       "<reversed at 0x277409aa080>"
      ]
     },
     "execution_count": 14,
     "metadata": {},
     "output_type": "execute_result"
    }
   ],
   "source": [
    "reversed(\"python\")"
   ]
  },
  {
   "cell_type": "markdown",
   "id": "f94e2474-4796-46f3-a7be-4973ab2656d3",
   "metadata": {},
   "source": [
    "## iterable "
   ]
  },
  {
   "cell_type": "markdown",
   "id": "db81a5a5-67f0-41b3-818c-5d6ab20e98b9",
   "metadata": {},
   "source": [
    "- anything can iterate through loop\n",
    "- string list tuple dictionary"
   ]
  },
  {
   "cell_type": "code",
   "execution_count": 15,
   "id": "8a210091-85e8-4435-b245-091fcf3cdaf1",
   "metadata": {},
   "outputs": [
    {
     "data": {
      "text/plain": [
       "['h', 'n', 'o', 'p', 't', 'y']"
      ]
     },
     "execution_count": 15,
     "metadata": {},
     "output_type": "execute_result"
    }
   ],
   "source": [
    "sorted(str1, reverse=False)"
   ]
  },
  {
   "cell_type": "code",
   "execution_count": 16,
   "id": "327c4a58-4557-44c3-8bc8-9aac9811da2d",
   "metadata": {},
   "outputs": [
    {
     "data": {
      "text/plain": [
       "['y', 't', 'p', 'o', 'n', 'h']"
      ]
     },
     "execution_count": 16,
     "metadata": {},
     "output_type": "execute_result"
    }
   ],
   "source": [
    "sorted(str1, reverse=True)\n"
   ]
  },
  {
   "cell_type": "markdown",
   "id": "11b18fb4-4a4c-45b3-a0a2-39b162b2f540",
   "metadata": {},
   "source": [
    "## Reversed"
   ]
  },
  {
   "cell_type": "code",
   "execution_count": 22,
   "id": "99c60232-3be6-4e4c-a521-f13ed4c8a54b",
   "metadata": {},
   "outputs": [
    {
     "name": "stdout",
     "output_type": "stream",
     "text": [
      "python\n"
     ]
    }
   ],
   "source": [
    "print(str1)\n",
    "out=reversed(str1)"
   ]
  },
  {
   "cell_type": "code",
   "execution_count": 23,
   "id": "a2c35268-e4fc-4977-8567-5b6db25c0b0f",
   "metadata": {},
   "outputs": [
    {
     "name": "stdout",
     "output_type": "stream",
     "text": [
      "n o h t y p "
     ]
    }
   ],
   "source": [
    "for i in out:\n",
    "    print(i,end=\" \")"
   ]
  },
  {
   "cell_type": "code",
   "execution_count": 25,
   "id": "aff64054-0036-42c1-991e-09d3ca822800",
   "metadata": {},
   "outputs": [
    {
     "data": {
      "text/plain": [
       "['n', 'o', 'h', 't', 'y', 'p']"
      ]
     },
     "execution_count": 25,
     "metadata": {},
     "output_type": "execute_result"
    }
   ],
   "source": [
    "list(reversed(str1))"
   ]
  },
  {
   "cell_type": "code",
   "execution_count": 26,
   "id": "90b91983-c308-4fe5-8c49-6bb2951f645c",
   "metadata": {},
   "outputs": [
    {
     "data": {
      "text/plain": [
       "str"
      ]
     },
     "execution_count": 26,
     "metadata": {},
     "output_type": "execute_result"
    }
   ],
   "source": [
    "type(str1)"
   ]
  },
  {
   "cell_type": "code",
   "execution_count": 27,
   "id": "8238cf7a-2594-4624-80dd-7c52107b00dc",
   "metadata": {},
   "outputs": [
    {
     "data": {
      "text/plain": [
       "6"
      ]
     },
     "execution_count": 27,
     "metadata": {},
     "output_type": "execute_result"
    }
   ],
   "source": [
    "len(str1)"
   ]
  },
  {
   "cell_type": "code",
   "execution_count": 28,
   "id": "f9627d99-8d1c-46c1-a486-3224144bc890",
   "metadata": {},
   "outputs": [
    {
     "data": {
      "text/plain": [
       "'h'"
      ]
     },
     "execution_count": 28,
     "metadata": {},
     "output_type": "execute_result"
    }
   ],
   "source": [
    "min(str1)"
   ]
  },
  {
   "cell_type": "code",
   "execution_count": 29,
   "id": "b9591914-7e47-4391-84db-707f64559dcf",
   "metadata": {},
   "outputs": [
    {
     "data": {
      "text/plain": [
       "'y'"
      ]
     },
     "execution_count": 29,
     "metadata": {},
     "output_type": "execute_result"
    }
   ],
   "source": [
    "max(str1)"
   ]
  },
  {
   "cell_type": "code",
   "execution_count": 30,
   "id": "8c407ef3-6e62-4a58-88c4-a873ecd092f5",
   "metadata": {},
   "outputs": [
    {
     "data": {
      "text/plain": [
       "['h', 'n', 'o', 'p', 't', 'y']"
      ]
     },
     "execution_count": 30,
     "metadata": {},
     "output_type": "execute_result"
    }
   ],
   "source": [
    "sorted(str1)"
   ]
  },
  {
   "cell_type": "code",
   "execution_count": 31,
   "id": "f46f0e8d-65fc-4803-a2eb-d5905d3c2e6b",
   "metadata": {},
   "outputs": [
    {
     "data": {
      "text/plain": [
       "['y', 't', 'p', 'o', 'n', 'h']"
      ]
     },
     "execution_count": 31,
     "metadata": {},
     "output_type": "execute_result"
    }
   ],
   "source": [
    "sorted(str1, reverse=True)"
   ]
  },
  {
   "cell_type": "code",
   "execution_count": 32,
   "id": "12a0cf13-f5df-4a5a-a1c6-b2f0a572e640",
   "metadata": {},
   "outputs": [
    {
     "data": {
      "text/plain": [
       "['n', 'o', 'h', 't', 'y', 'p']"
      ]
     },
     "execution_count": 32,
     "metadata": {},
     "output_type": "execute_result"
    }
   ],
   "source": [
    "list(reversed(str1))"
   ]
  },
  {
   "cell_type": "markdown",
   "id": "1868cbc2-8a7d-408b-aa88-666473bbdab4",
   "metadata": {},
   "source": [
    "## concatenation"
   ]
  },
  {
   "cell_type": "code",
   "execution_count": 34,
   "id": "b3884ff9-4538-47ff-92bd-79caaddb104b",
   "metadata": {},
   "outputs": [
    {
     "data": {
      "text/plain": [
       "'hellopython'"
      ]
     },
     "execution_count": 34,
     "metadata": {},
     "output_type": "execute_result"
    }
   ],
   "source": [
    "str1=\"hello\"\n",
    "str2=\"python\"\n",
    "str1+str2"
   ]
  },
  {
   "cell_type": "code",
   "execution_count": 37,
   "id": "ba00031d-5829-4370-8d88-df836cfbc96a",
   "metadata": {},
   "outputs": [
    {
     "ename": "TypeError",
     "evalue": "unsupported operand type(s) for -: 'str' and 'str'",
     "output_type": "error",
     "traceback": [
      "\u001b[1;31m---------------------------------------------------------------------------\u001b[0m",
      "\u001b[1;31mTypeError\u001b[0m                                 Traceback (most recent call last)",
      "Cell \u001b[1;32mIn[37], line 1\u001b[0m\n\u001b[1;32m----> 1\u001b[0m str1\u001b[38;5;241m-\u001b[39mstr2\n",
      "\u001b[1;31mTypeError\u001b[0m: unsupported operand type(s) for -: 'str' and 'str'"
     ]
    }
   ],
   "source": [
    "str1-str2\n"
   ]
  },
  {
   "cell_type": "code",
   "execution_count": 38,
   "id": "f3f61133-3132-4363-8a6d-47ced00f262c",
   "metadata": {},
   "outputs": [
    {
     "ename": "TypeError",
     "evalue": "unsupported operand type(s) for /: 'str' and 'str'",
     "output_type": "error",
     "traceback": [
      "\u001b[1;31m---------------------------------------------------------------------------\u001b[0m",
      "\u001b[1;31mTypeError\u001b[0m                                 Traceback (most recent call last)",
      "Cell \u001b[1;32mIn[38], line 1\u001b[0m\n\u001b[1;32m----> 1\u001b[0m str1\u001b[38;5;241m/\u001b[39mstr2\n",
      "\u001b[1;31mTypeError\u001b[0m: unsupported operand type(s) for /: 'str' and 'str'"
     ]
    }
   ],
   "source": [
    "str1/str2\n"
   ]
  },
  {
   "cell_type": "code",
   "execution_count": 39,
   "id": "8202fb65-6057-4f2c-a8e4-30a3514152aa",
   "metadata": {},
   "outputs": [
    {
     "ename": "TypeError",
     "evalue": "can't multiply sequence by non-int of type 'str'",
     "output_type": "error",
     "traceback": [
      "\u001b[1;31m---------------------------------------------------------------------------\u001b[0m",
      "\u001b[1;31mTypeError\u001b[0m                                 Traceback (most recent call last)",
      "Cell \u001b[1;32mIn[39], line 1\u001b[0m\n\u001b[1;32m----> 1\u001b[0m str1\u001b[38;5;241m*\u001b[39mstr2\n",
      "\u001b[1;31mTypeError\u001b[0m: can't multiply sequence by non-int of type 'str'"
     ]
    }
   ],
   "source": [
    "str1*str2\n"
   ]
  },
  {
   "cell_type": "code",
   "execution_count": 40,
   "id": "e598aa26-c8a5-46d0-8642-c89bb9081c73",
   "metadata": {},
   "outputs": [
    {
     "data": {
      "text/plain": [
       "'hellohello'"
      ]
     },
     "execution_count": 40,
     "metadata": {},
     "output_type": "execute_result"
    }
   ],
   "source": [
    "str1*2"
   ]
  },
  {
   "cell_type": "markdown",
   "id": "5dc8abbf-87c6-4fa0-9873-26efa37749a4",
   "metadata": {},
   "source": [
    "## Index"
   ]
  },
  {
   "cell_type": "code",
   "execution_count": null,
   "id": "9974b60f-183d-442e-b49b-b708e4679aad",
   "metadata": {},
   "outputs": [],
   "source": [
    "-6 -5 -4 -3 -2 -1 \n",
    "p   y t   h  o  n\n",
    "0   1 2   3  4  5"
   ]
  },
  {
   "cell_type": "code",
   "execution_count": 5,
   "id": "a2afd735-21d0-42a1-a712-6174686cb287",
   "metadata": {},
   "outputs": [
    {
     "data": {
      "text/plain": [
       "'p'"
      ]
     },
     "execution_count": 5,
     "metadata": {},
     "output_type": "execute_result"
    }
   ],
   "source": [
    "str1=\"python\"\n",
    "str1[0]"
   ]
  },
  {
   "cell_type": "code",
   "execution_count": 13,
   "id": "7b212f0e-a2c7-4882-9a2b-8819b3bc934e",
   "metadata": {},
   "outputs": [
    {
     "name": "stdout",
     "output_type": "stream",
     "text": [
      "0 - p\n",
      "1 - y\n",
      "2 - t\n",
      "3 - h\n",
      "4 - o\n",
      "5 - n\n"
     ]
    }
   ],
   "source": [
    "for i in range(len(str1)):\n",
    "    \n",
    "    print(i,\"-\",str1[i])"
   ]
  },
  {
   "cell_type": "code",
   "execution_count": 14,
   "id": "fa5fc4b7-0deb-418d-b895-98a8f4f56f1f",
   "metadata": {},
   "outputs": [
    {
     "name": "stdout",
     "output_type": "stream",
     "text": [
      "The index of p is 0 \n",
      "The index of y is 1 \n",
      "The index of t is 2 \n",
      "The index of h is 3 \n",
      "The index of o is 4 \n",
      "The index of n is 5 \n"
     ]
    }
   ],
   "source": [
    "for i in range(len(str1)):\n",
    "    print(f\"The index of {str1[i]} is {i} \")"
   ]
  },
  {
   "cell_type": "markdown",
   "id": "d4317410-5690-41d7-a6ca-3bb6a454892c",
   "metadata": {},
   "source": [
    "## Note\n",
    "\n",
    "- range number ke liye use karo\n",
    "- in alphabet ke liye use karo"
   ]
  },
  {
   "cell_type": "code",
   "execution_count": 17,
   "id": "b97c8709-0378-4ed7-8fc7-17e0dafdcecd",
   "metadata": {},
   "outputs": [
    {
     "name": "stdout",
     "output_type": "stream",
     "text": [
      "1 5 9 "
     ]
    }
   ],
   "source": [
    "str1= \"hai hai hai\"\n",
    "for i in range(len(str1)):\n",
    "    if str1[i]==\"a\":\n",
    "        print(i,end=\" \")"
   ]
  },
  {
   "cell_type": "code",
   "execution_count": 18,
   "id": "cbd1edc5-56f6-4939-a85b-855dc1274a74",
   "metadata": {},
   "outputs": [
    {
     "name": "stdout",
     "output_type": "stream",
     "text": [
      "3\n"
     ]
    }
   ],
   "source": [
    "str1= \"hai hai hai\"\n",
    "count=0\n",
    "for i in range(len(str1)):\n",
    "    if str1[i]==\"a\":\n",
    "        count=count+1\n",
    "print(count)"
   ]
  },
  {
   "cell_type": "code",
   "execution_count": 19,
   "id": "74015c51-0518-42b3-86a1-7ed1ff9b0638",
   "metadata": {},
   "outputs": [
    {
     "name": "stdout",
     "output_type": "stream",
     "text": [
      "3\n"
     ]
    }
   ],
   "source": [
    "str1= \"hai hai hai\"\n",
    "count=0\n",
    "for i in str1:\n",
    "    if i==\"a\":\n",
    "        count=count+1\n",
    "print(count)"
   ]
  },
  {
   "cell_type": "code",
   "execution_count": 3,
   "id": "ca8f1257-aea4-488c-bd11-55ef14e09c7f",
   "metadata": {},
   "outputs": [
    {
     "name": "stdout",
     "output_type": "stream",
     "text": [
      "e o a i u 5\n"
     ]
    }
   ],
   "source": [
    "str1= \"hello hai how are you\"\n",
    "count1=\"\"\n",
    "for i in str1:\n",
    "    if i in \"aeiou\"  and  i not in count1:\n",
    "        print(i,end=\" \")\n",
    "        count1=count1+i\n",
    "print(len(count1))"
   ]
  },
  {
   "cell_type": "code",
   "execution_count": 16,
   "id": "f69b7cde-e7f2-468b-b4e8-0cfdbecabc8c",
   "metadata": {},
   "outputs": [],
   "source": [
    "# update code with only one vowel"
   ]
  },
  {
   "cell_type": "markdown",
   "id": "af149048-5642-4b0a-bdbd-44c614e2aefb",
   "metadata": {},
   "source": [
    "Empty string"
   ]
  },
  {
   "cell_type": "code",
   "execution_count": 2,
   "id": "6419e48a-7ec0-4d9f-87fe-e273f20c4125",
   "metadata": {},
   "outputs": [],
   "source": [
    "s=\"\""
   ]
  },
  {
   "cell_type": "code",
   "execution_count": 3,
   "id": "63fa2f79-b4a8-42d2-b515-c034bccdf288",
   "metadata": {},
   "outputs": [],
   "source": [
    "s=s+\"power\"\n"
   ]
  },
  {
   "cell_type": "code",
   "execution_count": 4,
   "id": "f98b37f5-b3c8-49ac-ab94-451fd1498a34",
   "metadata": {},
   "outputs": [
    {
     "data": {
      "text/plain": [
       "'power'"
      ]
     },
     "execution_count": 4,
     "metadata": {},
     "output_type": "execute_result"
    }
   ],
   "source": [
    "s"
   ]
  },
  {
   "cell_type": "code",
   "execution_count": 28,
   "id": "831b23f0-b837-4bab-a5ac-30e3f1022619",
   "metadata": {},
   "outputs": [],
   "source": [
    "str1=\"python\""
   ]
  },
  {
   "cell_type": "code",
   "execution_count": 29,
   "id": "5ec70afa-9847-47b1-97f0-a39edd391184",
   "metadata": {},
   "outputs": [
    {
     "name": "stdout",
     "output_type": "stream",
     "text": [
      "python\n"
     ]
    }
   ],
   "source": [
    "for i in str1:\n",
    "    s=s+i\n",
    "print(s)"
   ]
  },
  {
   "cell_type": "markdown",
   "id": "3dc40441-4679-4576-9f07-3136fbfa34fe",
   "metadata": {},
   "source": [
    "immutable --- not  change"
   ]
  },
  {
   "cell_type": "markdown",
   "id": "8e921c99-985b-4736-ace8-856d1e93d202",
   "metadata": {},
   "source": [
    "mutable----- change"
   ]
  },
  {
   "cell_type": "code",
   "execution_count": null,
   "id": "73383671-e0e1-4afe-8df8-29a4cac77529",
   "metadata": {},
   "outputs": [],
   "source": [
    "str1= \"welcome\"\n",
    "\n",
    "str[2]=\"L\" #not work"
   ]
  },
  {
   "cell_type": "markdown",
   "id": "daf58840-e393-4a9b-a4db-423a5facdf23",
   "metadata": {},
   "source": [
    "## Slice"
   ]
  },
  {
   "cell_type": "code",
   "execution_count": 9,
   "id": "dff50656-b548-41e6-accd-db4bed4ba013",
   "metadata": {},
   "outputs": [],
   "source": [
    "str1= \"hai how are you\""
   ]
  },
  {
   "cell_type": "code",
   "execution_count": 15,
   "id": "16a8a6f8-4c04-4dba-9fb3-69804b92d919",
   "metadata": {},
   "outputs": [
    {
     "data": {
      "text/plain": [
       "15"
      ]
     },
     "execution_count": 15,
     "metadata": {},
     "output_type": "execute_result"
    }
   ],
   "source": [
    "len(str1)"
   ]
  },
  {
   "cell_type": "code",
   "execution_count": 18,
   "id": "96d91188-0029-4811-afed-6486a9c19936",
   "metadata": {},
   "outputs": [
    {
     "data": {
      "text/plain": [
       "'i how are'"
      ]
     },
     "execution_count": 18,
     "metadata": {},
     "output_type": "execute_result"
    }
   ],
   "source": [
    "str1[2:-4]"
   ]
  },
  {
   "cell_type": "code",
   "execution_count": 20,
   "id": "7c016953-3ee3-4b81-81ff-70e2621c754b",
   "metadata": {},
   "outputs": [
    {
     "data": {
      "text/plain": [
       "'ihwaey'"
      ]
     },
     "execution_count": 20,
     "metadata": {},
     "output_type": "execute_result"
    }
   ],
   "source": [
    "str1[2:-2:2]\n"
   ]
  },
  {
   "cell_type": "code",
   "execution_count": 32,
   "id": "30cddd29-6e5b-461c-be72-61e8d57fc5e6",
   "metadata": {},
   "outputs": [
    {
     "data": {
      "text/plain": [
       "'i how are '"
      ]
     },
     "execution_count": 32,
     "metadata": {},
     "output_type": "execute_result"
    }
   ],
   "source": [
    "str1[2:-3]"
   ]
  },
  {
   "cell_type": "code",
   "execution_count": 38,
   "id": "d0190923-0790-440b-8d3c-021e4f0715a0",
   "metadata": {},
   "outputs": [
    {
     "data": {
      "text/plain": [
       "'i how are you'"
      ]
     },
     "execution_count": 38,
     "metadata": {},
     "output_type": "execute_result"
    }
   ],
   "source": [
    "str1[2:100]"
   ]
  },
  {
   "cell_type": "code",
   "execution_count": 40,
   "id": "953ad96f-8fa2-4345-a2a2-251544223cbb",
   "metadata": {},
   "outputs": [
    {
     "data": {
      "text/plain": [
       "'uoy era woh iah'"
      ]
     },
     "execution_count": 40,
     "metadata": {},
     "output_type": "execute_result"
    }
   ],
   "source": [
    "str1[::-1]"
   ]
  },
  {
   "cell_type": "code",
   "execution_count": 42,
   "id": "e0265375-d41a-41b5-b5ad-1700405f47f3",
   "metadata": {},
   "outputs": [
    {
     "data": {
      "text/plain": [
       "'uoy era woh iah'"
      ]
     },
     "execution_count": 42,
     "metadata": {},
     "output_type": "execute_result"
    }
   ],
   "source": [
    "str1[::-1]"
   ]
  },
  {
   "cell_type": "code",
   "execution_count": 44,
   "id": "6ed2ba69-ab58-41bc-b943-dd2e305efdc8",
   "metadata": {},
   "outputs": [
    {
     "data": {
      "text/plain": [
       "''"
      ]
     },
     "execution_count": 44,
     "metadata": {},
     "output_type": "execute_result"
    }
   ],
   "source": [
    "str1[-2:-2:-1]"
   ]
  },
  {
   "cell_type": "code",
   "execution_count": 48,
   "id": "7651281c-bcde-4211-bf99-a042bc32e80e",
   "metadata": {},
   "outputs": [
    {
     "data": {
      "text/plain": [
       "'hai how are you'"
      ]
     },
     "execution_count": 48,
     "metadata": {},
     "output_type": "execute_result"
    }
   ],
   "source": [
    "str1"
   ]
  },
  {
   "cell_type": "code",
   "execution_count": 47,
   "id": "5c54d056-b0d7-46e0-bc77-caa99da75f49",
   "metadata": {},
   "outputs": [
    {
     "data": {
      "text/plain": [
       "'o'"
      ]
     },
     "execution_count": 47,
     "metadata": {},
     "output_type": "execute_result"
    }
   ],
   "source": [
    "str1[-2:-3:-1]"
   ]
  },
  {
   "cell_type": "markdown",
   "id": "dab32cf2-3ae5-472e-a01b-f6f2d68df437",
   "metadata": {},
   "source": [
    "## Method"
   ]
  },
  {
   "cell_type": "code",
   "execution_count": 80,
   "id": "ebe6ef76-a90f-456d-8d4e-3f108f5dde8c",
   "metadata": {},
   "outputs": [],
   "source": [
    "st= \"python is  gooD \"\n",
    "# dir(st)"
   ]
  },
  {
   "cell_type": "code",
   "execution_count": 61,
   "id": "e9672754-d35b-46e1-8d58-84ab3e9a25eb",
   "metadata": {},
   "outputs": [
    {
     "data": {
      "text/plain": [
       "'PYTHON '"
      ]
     },
     "execution_count": 61,
     "metadata": {},
     "output_type": "execute_result"
    }
   ],
   "source": [
    "st.upper()"
   ]
  },
  {
   "cell_type": "code",
   "execution_count": 62,
   "id": "ae54d60e-cf7f-48e6-91ac-bf86c82fe281",
   "metadata": {},
   "outputs": [
    {
     "data": {
      "text/plain": [
       "'python '"
      ]
     },
     "execution_count": 62,
     "metadata": {},
     "output_type": "execute_result"
    }
   ],
   "source": [
    "st.lower()"
   ]
  },
  {
   "cell_type": "code",
   "execution_count": 63,
   "id": "650bb436-315c-414b-a7a8-a2588d1e1405",
   "metadata": {},
   "outputs": [
    {
     "data": {
      "text/plain": [
       "'python '"
      ]
     },
     "execution_count": 63,
     "metadata": {},
     "output_type": "execute_result"
    }
   ],
   "source": [
    "st.casefold()"
   ]
  },
  {
   "cell_type": "code",
   "execution_count": 64,
   "id": "1aaecd9c-4b75-46e1-94e9-21034fe0d566",
   "metadata": {},
   "outputs": [
    {
     "data": {
      "text/plain": [
       "'Python '"
      ]
     },
     "execution_count": 64,
     "metadata": {},
     "output_type": "execute_result"
    }
   ],
   "source": [
    "st.capitalize()"
   ]
  },
  {
   "cell_type": "code",
   "execution_count": 69,
   "id": "c4d65b6b-13ff-4c81-ac30-e812d8f87e40",
   "metadata": {},
   "outputs": [
    {
     "data": {
      "text/plain": [
       "'Python Is  Good  '"
      ]
     },
     "execution_count": 69,
     "metadata": {},
     "output_type": "execute_result"
    }
   ],
   "source": [
    "st.title()"
   ]
  },
  {
   "cell_type": "code",
   "execution_count": 81,
   "id": "ae6ef891-cf39-4750-96a2-c26269b0ab1b",
   "metadata": {},
   "outputs": [
    {
     "data": {
      "text/plain": [
       "'__________________________________________python is  gooD __________________________________________'"
      ]
     },
     "execution_count": 81,
     "metadata": {},
     "output_type": "execute_result"
    }
   ],
   "source": [
    "st.center(100 ,\"_\")"
   ]
  },
  {
   "cell_type": "code",
   "execution_count": 82,
   "id": "d6138e8f-994d-4832-a686-2b9c17b5836a",
   "metadata": {},
   "outputs": [
    {
     "data": {
      "text/plain": [
       "100"
      ]
     },
     "execution_count": 82,
     "metadata": {},
     "output_type": "execute_result"
    }
   ],
   "source": [
    "len(st.center(100 ,\"_\"))"
   ]
  },
  {
   "cell_type": "code",
   "execution_count": 83,
   "id": "181df6c5-eac1-49dc-8c20-c32eeb547274",
   "metadata": {},
   "outputs": [],
   "source": [
    "stp= \"hai how are you\""
   ]
  },
  {
   "cell_type": "code",
   "execution_count": 84,
   "id": "0257c65f-45cb-488b-ba72-44887e48f714",
   "metadata": {},
   "outputs": [
    {
     "data": {
      "text/plain": [
       "2"
      ]
     },
     "execution_count": 84,
     "metadata": {},
     "output_type": "execute_result"
    }
   ],
   "source": []
  },
  {
   "cell_type": "code",
   "execution_count": 85,
   "id": "ef943dcb-9ec9-4509-adaf-6378f3700aca",
   "metadata": {},
   "outputs": [
    {
     "data": {
      "text/plain": [
       "2"
      ]
     },
     "execution_count": 85,
     "metadata": {},
     "output_type": "execute_result"
    }
   ],
   "source": [
    "count=0\n",
    "for i in stp:\n",
    "    if i ==\"a\":\n",
    "        count=count+1\n",
    "count"
   ]
  },
  {
   "cell_type": "code",
   "execution_count": 86,
   "id": "897e985c-0533-46d1-9392-ea9e2b3a2968",
   "metadata": {},
   "outputs": [
    {
     "data": {
      "text/plain": [
       "2"
      ]
     },
     "execution_count": 86,
     "metadata": {},
     "output_type": "execute_result"
    }
   ],
   "source": [
    "stp.count(\"a\")"
   ]
  },
  {
   "cell_type": "code",
   "execution_count": 87,
   "id": "86870de5-8237-4bb6-a4a7-a2edd1ba6773",
   "metadata": {},
   "outputs": [],
   "source": [
    "sd= \"ola ola ola ola\""
   ]
  },
  {
   "cell_type": "code",
   "execution_count": 89,
   "id": "d2d29549-b59b-4c5e-ba6e-0c989c9acc9c",
   "metadata": {},
   "outputs": [
    {
     "data": {
      "text/plain": [
       "1"
      ]
     },
     "execution_count": 89,
     "metadata": {},
     "output_type": "execute_result"
    }
   ],
   "source": [
    "sd.count(\"a\",4,10)"
   ]
  },
  {
   "cell_type": "code",
   "execution_count": 90,
   "id": "657c4fc1-011e-4bf0-8b0e-094459c213bc",
   "metadata": {},
   "outputs": [
    {
     "data": {
      "text/plain": [
       "4"
      ]
     },
     "execution_count": 90,
     "metadata": {},
     "output_type": "execute_result"
    }
   ],
   "source": [
    "sd.count(\"a\",4)\n",
    "\n",
    "sd.count(\"a\")\n",
    "sd.count(\"a\")\n",
    "sd.count(\"a\")"
   ]
  },
  {
   "cell_type": "code",
   "execution_count": 92,
   "id": "a5992037-a684-44d6-ad65-f54d0b924ff9",
   "metadata": {},
   "outputs": [
    {
     "data": {
      "text/plain": [
       "3"
      ]
     },
     "execution_count": 92,
     "metadata": {},
     "output_type": "execute_result"
    }
   ],
   "source": [
    "sd.count(\"a\",4)"
   ]
  },
  {
   "cell_type": "code",
   "execution_count": 93,
   "id": "d1527b28-51d2-40ae-9b82-f9e84b241ba9",
   "metadata": {},
   "outputs": [
    {
     "data": {
      "text/plain": [
       "1"
      ]
     },
     "execution_count": 93,
     "metadata": {},
     "output_type": "execute_result"
    }
   ],
   "source": [
    "sd.count(\"a\",4,10)"
   ]
  },
  {
   "cell_type": "code",
   "execution_count": 95,
   "id": "a2eaed59-5199-49b6-9743-d56eb9a7c45c",
   "metadata": {},
   "outputs": [
    {
     "data": {
      "text/plain": [
       "0"
      ]
     },
     "execution_count": 95,
     "metadata": {},
     "output_type": "execute_result"
    }
   ],
   "source": [
    "sd.count(\"Z\")"
   ]
  },
  {
   "cell_type": "code",
   "execution_count": 96,
   "id": "496ab216-f48d-4179-8d95-358ca7847991",
   "metadata": {},
   "outputs": [
    {
     "data": {
      "text/plain": [
       "1"
      ]
     },
     "execution_count": 96,
     "metadata": {},
     "output_type": "execute_result"
    }
   ],
   "source": [
    "sd.count(sd)"
   ]
  },
  {
   "cell_type": "code",
   "execution_count": 1,
   "id": "49d6802a-5a35-4880-bab7-d51ccbb822fd",
   "metadata": {},
   "outputs": [
    {
     "data": {
      "text/plain": [
       "4"
      ]
     },
     "execution_count": 1,
     "metadata": {},
     "output_type": "execute_result"
    }
   ],
   "source": [
    "count=0\n",
    "sd= \"ola ola ola ola\"\n",
    "for i in range(len(sd)):\n",
    "    if sd[i:i+3]==\"ola\":\n",
    "        count=count+1\n",
    "count"
   ]
  },
  {
   "cell_type": "markdown",
   "id": "cd70cb52-d62b-40d8-88bd-62de77c436fb",
   "metadata": {},
   "source": [
    "## Lstrip- rstrip-strip"
   ]
  },
  {
   "cell_type": "code",
   "execution_count": 27,
   "id": "536a4fb3-3f14-46e3-9516-d5cd091837ff",
   "metadata": {},
   "outputs": [],
   "source": [
    "s= \"%*python@@*\"\n"
   ]
  },
  {
   "cell_type": "code",
   "execution_count": 3,
   "id": "0150b9df-3d8f-4ff2-bd54-e226c00c04c5",
   "metadata": {},
   "outputs": [
    {
     "data": {
      "text/plain": [
       "'python'"
      ]
     },
     "execution_count": 3,
     "metadata": {},
     "output_type": "execute_result"
    }
   ],
   "source": [
    "s.strip()"
   ]
  },
  {
   "cell_type": "code",
   "execution_count": 4,
   "id": "23579f22-973c-453b-b4e4-5970bd2bc9e3",
   "metadata": {},
   "outputs": [
    {
     "data": {
      "text/plain": [
       "'python '"
      ]
     },
     "execution_count": 4,
     "metadata": {},
     "output_type": "execute_result"
    }
   ],
   "source": [
    "s.lstrip()"
   ]
  },
  {
   "cell_type": "code",
   "execution_count": 5,
   "id": "3dd33319-6fa4-45bb-aacd-ea49ad7881e8",
   "metadata": {},
   "outputs": [
    {
     "data": {
      "text/plain": [
       "' python'"
      ]
     },
     "execution_count": 5,
     "metadata": {},
     "output_type": "execute_result"
    }
   ],
   "source": [
    "s.rstrip()"
   ]
  },
  {
   "cell_type": "code",
   "execution_count": 24,
   "id": "3c160b13-4d8d-45fd-a625-54aea56607a4",
   "metadata": {},
   "outputs": [
    {
     "data": {
      "text/plain": [
       "'python'"
      ]
     },
     "execution_count": 24,
     "metadata": {},
     "output_type": "execute_result"
    }
   ],
   "source": [
    "s.strip(\"*@\")"
   ]
  },
  {
   "cell_type": "code",
   "execution_count": 30,
   "id": "14aee887-0006-4238-a1f3-ebb7f968f591",
   "metadata": {},
   "outputs": [
    {
     "data": {
      "text/plain": [
       "'python'"
      ]
     },
     "execution_count": 30,
     "metadata": {},
     "output_type": "execute_result"
    }
   ],
   "source": [
    "s.strip(\"%@*\")\n"
   ]
  },
  {
   "cell_type": "code",
   "execution_count": 29,
   "id": "99d1c995-660a-45e8-b522-cb2c0c75e68a",
   "metadata": {},
   "outputs": [
    {
     "data": {
      "text/plain": [
       "'%*python@@*'"
      ]
     },
     "execution_count": 29,
     "metadata": {},
     "output_type": "execute_result"
    }
   ],
   "source": [
    "s"
   ]
  },
  {
   "cell_type": "code",
   "execution_count": 31,
   "id": "5c0be9df-802f-45b4-9d52-f1125595b533",
   "metadata": {},
   "outputs": [],
   "source": [
    "cut = \"Jevan)\"\n",
    "\n",
    "f= cut.strip(\")\")"
   ]
  },
  {
   "cell_type": "code",
   "execution_count": 32,
   "id": "736704b1-4cf2-4562-87f6-ea154a407e94",
   "metadata": {},
   "outputs": [
    {
     "data": {
      "text/plain": [
       "'Jevan'"
      ]
     },
     "execution_count": 32,
     "metadata": {},
     "output_type": "execute_result"
    }
   ],
   "source": [
    "f"
   ]
  },
  {
   "cell_type": "markdown",
   "id": "715f9bbc-2575-432c-815c-2af87233e337",
   "metadata": {},
   "source": [
    "## Index - find "
   ]
  },
  {
   "cell_type": "code",
   "execution_count": 74,
   "id": "04d02631-0db9-4924-97ac-7022e310473a",
   "metadata": {},
   "outputs": [
    {
     "data": {
      "text/plain": [
       "2"
      ]
     },
     "execution_count": 74,
     "metadata": {},
     "output_type": "execute_result"
    }
   ],
   "source": [
    "str1= \"ola ola ola ola\"\n",
    "str1.index(\"a\")"
   ]
  },
  {
   "cell_type": "code",
   "execution_count": 53,
   "id": "df0b5617-e324-40a0-bd6c-adbd56f20958",
   "metadata": {},
   "outputs": [
    {
     "data": {
      "text/plain": [
       "10"
      ]
     },
     "execution_count": 53,
     "metadata": {},
     "output_type": "execute_result"
    }
   ],
   "source": [
    "str1.index(\"a\",7)\n"
   ]
  },
  {
   "cell_type": "code",
   "execution_count": 54,
   "id": "bd4080f9-a859-492b-a20d-76deb580955e",
   "metadata": {},
   "outputs": [
    {
     "data": {
      "text/plain": [
       "14"
      ]
     },
     "execution_count": 54,
     "metadata": {},
     "output_type": "execute_result"
    }
   ],
   "source": [
    "str1.index(\"a\",11)\n"
   ]
  },
  {
   "cell_type": "code",
   "execution_count": 56,
   "id": "b38c4277-5544-4b59-b2dd-0fab77f9990d",
   "metadata": {},
   "outputs": [
    {
     "ename": "ValueError",
     "evalue": "substring not found",
     "output_type": "error",
     "traceback": [
      "\u001b[1;31m---------------------------------------------------------------------------\u001b[0m",
      "\u001b[1;31mValueError\u001b[0m                                Traceback (most recent call last)",
      "Cell \u001b[1;32mIn[56], line 1\u001b[0m\n\u001b[1;32m----> 1\u001b[0m str1\u001b[38;5;241m.\u001b[39mindex(\u001b[38;5;124m\"\u001b[39m\u001b[38;5;124ma\u001b[39m\u001b[38;5;124m\"\u001b[39m,\u001b[38;5;241m15\u001b[39m)\n",
      "\u001b[1;31mValueError\u001b[0m: substring not found"
     ]
    }
   ],
   "source": [
    "str1.index(\"a\",15)\n"
   ]
  },
  {
   "cell_type": "code",
   "execution_count": 61,
   "id": "353b59b3-4233-453f-98be-087a28d7c49e",
   "metadata": {},
   "outputs": [
    {
     "data": {
      "text/plain": [
       "10"
      ]
     },
     "execution_count": 61,
     "metadata": {},
     "output_type": "execute_result"
    }
   ],
   "source": [
    "str1.index(\"a\",3,7)\n",
    "str1.index(\"a\",7,11)\n",
    "# str1.index(\"a\",15)"
   ]
  },
  {
   "cell_type": "markdown",
   "id": "a0a40711-3bd2-4b6b-829e-bb6b2dcf3388",
   "metadata": {},
   "source": [
    "**find**"
   ]
  },
  {
   "cell_type": "code",
   "execution_count": 66,
   "id": "d963866e-ae42-450c-8302-d8fb7f0ffea9",
   "metadata": {},
   "outputs": [
    {
     "data": {
      "text/plain": [
       "2"
      ]
     },
     "execution_count": 66,
     "metadata": {},
     "output_type": "execute_result"
    }
   ],
   "source": [
    "str1.find(\"a\")"
   ]
  },
  {
   "cell_type": "code",
   "execution_count": 67,
   "id": "2a759c12-1044-4385-bc2b-86530b991c74",
   "metadata": {},
   "outputs": [
    {
     "data": {
      "text/plain": [
       "6"
      ]
     },
     "execution_count": 67,
     "metadata": {},
     "output_type": "execute_result"
    }
   ],
   "source": [
    "str1.find(\"a\",3,10)\n"
   ]
  },
  {
   "cell_type": "code",
   "execution_count": 68,
   "id": "89dd68f7-c8bd-43bf-b333-ce6d5dfebaa6",
   "metadata": {},
   "outputs": [
    {
     "data": {
      "text/plain": [
       "10"
      ]
     },
     "execution_count": 68,
     "metadata": {},
     "output_type": "execute_result"
    }
   ],
   "source": [
    "str1.find(\"a\",7,11)\n"
   ]
  },
  {
   "cell_type": "code",
   "execution_count": 72,
   "id": "10c976fe-5e70-4eef-a5ef-aea75b72ce02",
   "metadata": {},
   "outputs": [
    {
     "data": {
      "text/plain": [
       "-1"
      ]
     },
     "execution_count": 72,
     "metadata": {},
     "output_type": "execute_result"
    }
   ],
   "source": [
    "str1.find(\"Z\")"
   ]
  },
  {
   "cell_type": "code",
   "execution_count": null,
   "id": "88612808-2ffc-42ef-be6b-18234fd652d4",
   "metadata": {},
   "outputs": [],
   "source": [
    "diffrence is index nh mila toh error ata \n",
    "find mai -1 ata "
   ]
  },
  {
   "cell_type": "code",
   "execution_count": 82,
   "id": "b84f1b05-b1c7-4d2b-81e6-4655032841c8",
   "metadata": {},
   "outputs": [
    {
     "data": {
      "text/plain": [
       "(2, 6, 10, 14)"
      ]
     },
     "execution_count": 82,
     "metadata": {},
     "output_type": "execute_result"
    }
   ],
   "source": [
    "i1=str1.index(\"a\") \n",
    "i2=str1.index(\"a\",i1+1) \n",
    "i3=str1.index(\"a\",i2+1) \n",
    "i4=str1.index(\"a\",i3+1) \n",
    "# str1.index(\"a\",15) \n",
    "i1,i2,i3,i4"
   ]
  },
  {
   "cell_type": "code",
   "execution_count": 98,
   "id": "01c56d03-50f4-44cd-b30b-d2882711df01",
   "metadata": {},
   "outputs": [
    {
     "data": {
      "text/plain": [
       "'how'"
      ]
     },
     "execution_count": 98,
     "metadata": {},
     "output_type": "execute_result"
    }
   ],
   "source": [
    "str5= \"hello.hai.how.are.you\"\n",
    "first= str5.index(\".\")\n",
    "second= str5.index(\".\",first+1)\n",
    "third=str5.index(\".\",second+1)\n",
    "# four=str5.index(\".\",third+1)\n",
    "str5[second+1:third]"
   ]
  },
  {
   "cell_type": "code",
   "execution_count": 95,
   "id": "e47f8f2c-8b5f-4e33-a0bd-1a5f6799cc31",
   "metadata": {},
   "outputs": [
    {
     "data": {
      "text/plain": [
       "17"
      ]
     },
     "execution_count": 95,
     "metadata": {},
     "output_type": "execute_result"
    }
   ],
   "source": [
    "four"
   ]
  },
  {
   "cell_type": "code",
   "execution_count": 129,
   "id": "71bf6bf9-9c20-497a-9bd3-4e5352015794",
   "metadata": {},
   "outputs": [],
   "source": [
    "str5= \"virat.kohli@rcb.com\"\n",
    "str2= \"rohit.sharma@mi.com\"\n",
    "str3= \"ms.dhoni@csk.com\"\n"
   ]
  },
  {
   "cell_type": "code",
   "execution_count": 161,
   "id": "e456c5e3-9c32-462b-a4c4-b5208276c005",
   "metadata": {},
   "outputs": [],
   "source": [
    "def change(str5):\n",
    "    first_dot= str5.index(\".\")\n",
    "    sen_dot= str5.index(\".\",first_dot+1)\n",
    "    i_at= str5.index(\"@\")\n",
    "    fname=str5[:first_dot]\n",
    "    sname=str5[first_dot+1:i_at] \n",
    "    comapany=str5[i_at+1:sen_dot]\n",
    "    print(fname,sname,comapany)"
   ]
  },
  {
   "cell_type": "code",
   "execution_count": 165,
   "id": "acd21d39-6832-4d31-aa59-193cd63ced25",
   "metadata": {},
   "outputs": [
    {
     "name": "stdout",
     "output_type": "stream",
     "text": [
      "rohit sharma mi\n",
      "ms dhoni csk\n",
      "virat kohli rcb\n"
     ]
    }
   ],
   "source": [
    "change(\"rohit.sharma@mi.com\")\n",
    "change(\"ms.dhoni@csk.com\")\n",
    "change(\"virat.kohli@rcb.com\")"
   ]
  },
  {
   "cell_type": "code",
   "execution_count": 166,
   "id": "54d133c2-d316-44e4-8178-2deee2c57ec7",
   "metadata": {},
   "outputs": [
    {
     "name": "stdout",
     "output_type": "stream",
     "text": [
      "virat kohli rcb\n"
     ]
    }
   ],
   "source": [
    "    first_dot= str5.index(\".\")\n",
    "    sen_dot= str5.index(\".\",first_dot+1)\n",
    "    i_at= str5.index(\"@\")\n",
    "    fname=str5[:first_dot]\n",
    "    sname=str5[first_dot+1:i_at] \n",
    "    comapany=str5[i_at+1:sen_dot]\n",
    "    print(fname,sname,comapany)"
   ]
  },
  {
   "cell_type": "code",
   "execution_count": 167,
   "id": "0b486efc-f1ca-40e7-918b-830dea576fc6",
   "metadata": {},
   "outputs": [
    {
     "data": {
      "text/plain": [
       "5"
      ]
     },
     "execution_count": 167,
     "metadata": {},
     "output_type": "execute_result"
    }
   ],
   "source": [
    "first_dot"
   ]
  },
  {
   "cell_type": "code",
   "execution_count": 168,
   "id": "d8598cfc-0042-471b-975b-60d9952e4020",
   "metadata": {},
   "outputs": [
    {
     "data": {
      "text/plain": [
       "15"
      ]
     },
     "execution_count": 168,
     "metadata": {},
     "output_type": "execute_result"
    }
   ],
   "source": [
    "sen_dot"
   ]
  },
  {
   "cell_type": "code",
   "execution_count": 169,
   "id": "62d3d26b-29ad-4cda-b3d0-9141ab0d6490",
   "metadata": {},
   "outputs": [
    {
     "data": {
      "text/plain": [
       "11"
      ]
     },
     "execution_count": 169,
     "metadata": {},
     "output_type": "execute_result"
    }
   ],
   "source": [
    "i_at"
   ]
  },
  {
   "cell_type": "code",
   "execution_count": null,
   "id": "f07a1633-95da-4227-931e-2680dce9b003",
   "metadata": {},
   "outputs": [],
   "source": []
  },
  {
   "cell_type": "code",
   "execution_count": 163,
   "id": "39a32cbb-43f0-417b-a81e-6040b44cc4a8",
   "metadata": {},
   "outputs": [
    {
     "name": "stdout",
     "output_type": "stream",
     "text": [
      "virat kohli rcb\n"
     ]
    }
   ],
   "source": [
    "change(\"virat.kohli@rcb.com\")"
   ]
  },
  {
   "cell_type": "code",
   "execution_count": 118,
   "id": "c3640f9f-7177-4896-b570-781e855e46c8",
   "metadata": {},
   "outputs": [
    {
     "data": {
      "text/plain": [
       "'sharma'"
      ]
     },
     "execution_count": 118,
     "metadata": {},
     "output_type": "execute_result"
    }
   ],
   "source": [
    "name= str2.index(\"rohit.\")\n",
    "company= str2.index(\"@mi\",name+1)\n",
    "str2[name+6:company]"
   ]
  },
  {
   "cell_type": "markdown",
   "id": "794c25db-2cfd-48a7-9044-d6cfa3ecf8fd",
   "metadata": {},
   "source": [
    "## replace"
   ]
  },
  {
   "cell_type": "code",
   "execution_count": 137,
   "id": "2cbf3c77-6cf4-46f3-92db-526d3299818b",
   "metadata": {},
   "outputs": [],
   "source": [
    "str1 =\"welcome welcome\""
   ]
  },
  {
   "cell_type": "code",
   "execution_count": 138,
   "id": "4270835d-8f44-4830-9bc4-e6dfd5d2ec3e",
   "metadata": {},
   "outputs": [
    {
     "data": {
      "text/plain": [
       "'weLcome weLcome'"
      ]
     },
     "execution_count": 138,
     "metadata": {},
     "output_type": "execute_result"
    }
   ],
   "source": [
    "str1.replace(\"l\",\"L\")"
   ]
  },
  {
   "cell_type": "code",
   "execution_count": null,
   "id": "89777f45-1d89-40bf-b50f-39de29af23d9",
   "metadata": {},
   "outputs": [],
   "source": []
  },
  {
   "cell_type": "code",
   "execution_count": 170,
   "id": "08c962ff-f6c0-4aba-ba8e-a3b25e16d8d8",
   "metadata": {},
   "outputs": [
    {
     "data": {
      "text/plain": [
       "'resta$t'"
      ]
     },
     "execution_count": 170,
     "metadata": {},
     "output_type": "execute_result"
    }
   ],
   "source": [
    "str1=\"restart\"\n",
    "\n",
    "str1[::-1].replace(\"r\",\"$\",1)[::-1]"
   ]
  },
  {
   "cell_type": "code",
   "execution_count": 188,
   "id": "610af306-4715-46e2-a86f-381be6c55be3",
   "metadata": {},
   "outputs": [],
   "source": [
    "s=\"\"\n",
    "for i in str1:\n",
    "    \n",
    "    if i in \"restart\"  and i not in s:\n",
    "        if i==\"t\":\n",
    "            s=s+i\n",
    "        elif i\":\n",
    "            \n",
    "    else:\n",
    "        s=s+\"$\"\n",
    "    "
   ]
  },
  {
   "cell_type": "code",
   "execution_count": 189,
   "id": "5a7a0fd4-7400-42c8-bdde-53f9ae6b6a7b",
   "metadata": {},
   "outputs": [
    {
     "data": {
      "text/plain": [
       "'resta$$'"
      ]
     },
     "execution_count": 189,
     "metadata": {},
     "output_type": "execute_result"
    }
   ],
   "source": [
    "s"
   ]
  },
  {
   "cell_type": "code",
   "execution_count": 197,
   "id": "d1ac37ab-9107-4dc1-aea1-5e51e10735e5",
   "metadata": {},
   "outputs": [],
   "source": [
    "s=\"\"\n",
    "for i in str1:\n",
    "    \n",
    "    if i in \"restart\"  and i not in s:\n",
    "            s=s+i\n",
    "    else:\n",
    "        s=s+\"$\""
   ]
  },
  {
   "cell_type": "code",
   "execution_count": 198,
   "id": "f3b2630d-fe18-48f6-962c-70d2d110a885",
   "metadata": {},
   "outputs": [
    {
     "data": {
      "text/plain": [
       "'resta$$'"
      ]
     },
     "execution_count": 198,
     "metadata": {},
     "output_type": "execute_result"
    }
   ],
   "source": [
    "s"
   ]
  },
  {
   "cell_type": "code",
   "execution_count": 199,
   "id": "934b8427-d421-432c-ac3d-c297b0ce520e",
   "metadata": {},
   "outputs": [
    {
     "data": {
      "text/plain": [
       "'resta$t'"
      ]
     },
     "execution_count": 199,
     "metadata": {},
     "output_type": "execute_result"
    }
   ],
   "source": [
    "str1[::-1].replace(\"r\",\"$\",1)[::-1]"
   ]
  },
  {
   "cell_type": "code",
   "execution_count": 201,
   "id": "626dc8a1-4a2e-4463-ada3-bc7daeae2e65",
   "metadata": {},
   "outputs": [
    {
     "data": {
      "text/plain": [
       "'tratser'"
      ]
     },
     "execution_count": 201,
     "metadata": {},
     "output_type": "execute_result"
    }
   ],
   "source": [
    "str1[::-1]"
   ]
  },
  {
   "cell_type": "code",
   "execution_count": 206,
   "id": "513726ba-93ce-44c5-acbb-16c3b2413050",
   "metadata": {},
   "outputs": [
    {
     "data": {
      "text/plain": [
       "'resta$t'"
      ]
     },
     "execution_count": 206,
     "metadata": {},
     "output_type": "execute_result"
    }
   ],
   "source": [
    "st= \"restart\"\n",
    "s=\"\"\n",
    "count=0\n",
    "\n",
    "for i in st:\n",
    "    if i ==\"r\":\n",
    "        count=count+1\n",
    "        if count==2:\n",
    "            s=s+\"$\"\n",
    "        else:\n",
    "            s=s+i\n",
    "    else:\n",
    "        s=s+i\n",
    "s"
   ]
  },
  {
   "cell_type": "code",
   "execution_count": 207,
   "id": "1d4a3e67-b33d-4878-954b-00c8979b5eb6",
   "metadata": {},
   "outputs": [
    {
     "data": {
      "text/plain": [
       "0"
      ]
     },
     "execution_count": 207,
     "metadata": {},
     "output_type": "execute_result"
    }
   ],
   "source": [
    "st= \"restart\"\n",
    "\n",
    "st.index(\"r\")\n",
    "st.index(\"a\",)"
   ]
  },
  {
   "cell_type": "code",
   "execution_count": 208,
   "id": "3d65ebcf-798b-4f8e-aa99-390adea0fc81",
   "metadata": {},
   "outputs": [
    {
     "name": "stdout",
     "output_type": "stream",
     "text": [
      "resta$t \n"
     ]
    }
   ],
   "source": [
    "s1=\"resta\"\n",
    "s2=\"t\"\n",
    "\n",
    "print(f\"{s1}${s2} \")"
   ]
  },
  {
   "cell_type": "code",
   "execution_count": 213,
   "id": "ee8de7b7-6cb1-4acd-bc62-bf782c703edb",
   "metadata": {},
   "outputs": [],
   "source": []
  },
  {
   "cell_type": "code",
   "execution_count": 214,
   "id": "16caa038-e04f-404e-b414-4c6bcfa0daef",
   "metadata": {},
   "outputs": [],
   "source": []
  },
  {
   "cell_type": "code",
   "execution_count": 221,
   "id": "28005f3e-4b25-41f2-a58f-6f82e275efaa",
   "metadata": {},
   "outputs": [
    {
     "data": {
      "text/plain": [
       "'resta$t'"
      ]
     },
     "execution_count": 221,
     "metadata": {},
     "output_type": "execute_result"
    }
   ],
   "source": [
    "s1=st.index(\"r\")\n",
    "s2=st.index(\"r\",s1+1)\n",
    "s3= st.index(\"t\")\n",
    "st[s1:s2]+\"$\"+st[s3]"
   ]
  },
  {
   "cell_type": "code",
   "execution_count": 223,
   "id": "7050b7ee-2dad-4374-ad60-fc9fbe26016c",
   "metadata": {},
   "outputs": [
    {
     "data": {
      "text/plain": [
       "(2, 6, 10, 14)"
      ]
     },
     "execution_count": 223,
     "metadata": {},
     "output_type": "execute_result"
    }
   ],
   "source": [
    "str1= \"ola ola ola ola\"\n",
    "i1=str1.index(\"a\") \n",
    "i2=str1.index(\"a\",i1+1) \n",
    "i3=str1.index(\"a\",i2+1) \n",
    "i4=str1.index(\"a\",i3+1) \n",
    "# str1.index(\"a\",15) \n",
    "i1,i2,i3,i4"
   ]
  },
  {
   "cell_type": "code",
   "execution_count": 249,
   "id": "d5b55c26-9d0d-47a9-b62b-8d3d3f655e82",
   "metadata": {},
   "outputs": [
    {
     "name": "stdout",
     "output_type": "stream",
     "text": [
      "2\n",
      "2\n",
      "2\n",
      "2\n"
     ]
    }
   ],
   "source": [
    "s=0\n",
    "d=0\n",
    "for i in str1:\n",
    "    if i==\"a\":\n",
    "        if str1.index(\"a\")==2:\n",
    "             s=str1.index(\"a\")\n",
    "             print(s)\n",
    "        else:\n",
    "            d=str1.index(\"a\",s+1)\n",
    "            print(d)\n"
   ]
  },
  {
   "cell_type": "code",
   "execution_count": 252,
   "id": "206868a1-aa81-4f9d-89ac-1b94a1fd1955",
   "metadata": {},
   "outputs": [
    {
     "data": {
      "text/plain": [
       "14"
      ]
     },
     "execution_count": 252,
     "metadata": {},
     "output_type": "execute_result"
    }
   ],
   "source": [
    "str1.index(\"a\",str1.index(\"a\",str1.index(\"a\",str1.index(\"a\")+1)+1)+1)"
   ]
  },
  {
   "cell_type": "code",
   "execution_count": null,
   "id": "7b87db8b-3f0a-4e35-81bc-612cd5996b70",
   "metadata": {},
   "outputs": [],
   "source": [
    "\n",
    "    "
   ]
  },
  {
   "cell_type": "code",
   "execution_count": 272,
   "id": "24dd79c1-c508-4d49-b88d-ae780dd9deb2",
   "metadata": {},
   "outputs": [
    {
     "name": "stdout",
     "output_type": "stream",
     "text": [
      "+\n",
      "++\n",
      "+++\n",
      "++++\n",
      "+++++\n",
      "++++++\n",
      "+++++++\n",
      "++++++++\n",
      "+++++++++\n"
     ]
    }
   ],
   "source": [
    "for i in range(1,10):\n",
    "    print(\"+\"*i)"
   ]
  },
  {
   "cell_type": "code",
   "execution_count": null,
   "id": "6ab0d348-a3c3-4991-847c-900b206bd099",
   "metadata": {},
   "outputs": [],
   "source": []
  },
  {
   "cell_type": "code",
   "execution_count": 284,
   "id": "cd017c97-38dc-4de2-94ec-1cc395794509",
   "metadata": {},
   "outputs": [
    {
     "data": {
      "text/plain": [
       "(2, 6, 10, 14)"
      ]
     },
     "execution_count": 284,
     "metadata": {},
     "output_type": "execute_result"
    }
   ],
   "source": [
    "str1= \"ola ola ola ola\"\n",
    "i1=str1.index(\"a\") \n",
    "i2=str1.index(\"a\",i1+1) \n",
    "i3=str1.index(\"a\",i2+1) \n",
    "i4=str1.index(\"a\",i3+1) \n",
    "# str1.index(\"a\",15) \n",
    "i1,i2,i3,i4"
   ]
  },
  {
   "cell_type": "code",
   "execution_count": 294,
   "id": "b95cf4e3-a51a-4044-a5ec-22ef99a11321",
   "metadata": {},
   "outputs": [
    {
     "data": {
      "text/plain": [
       "6"
      ]
     },
     "execution_count": 294,
     "metadata": {},
     "output_type": "execute_result"
    }
   ],
   "source": [
    "str1.index(\"a\",3)"
   ]
  },
  {
   "cell_type": "code",
   "execution_count": 45,
   "id": "42b826c9-2c9b-4b54-ab6c-0ce172914f2d",
   "metadata": {},
   "outputs": [
    {
     "name": "stdout",
     "output_type": "stream",
     "text": [
      "3 7 11 15 "
     ]
    }
   ],
   "source": [
    "str1 = \" ola ola ola ola \"\n",
    "start = 0\n",
    "for i in range(str1.count(\"a\")):\n",
    "    idx = str1.index(\"a\", start)\n",
    "    print(idx,end=\" \")\n",
    "    start = idx + 1"
   ]
  },
  {
   "cell_type": "code",
   "execution_count": 41,
   "id": "2563edea-8573-4427-be46-eac06114f74f",
   "metadata": {},
   "outputs": [],
   "source": [
    "first=str1.index(\"a\")"
   ]
  },
  {
   "cell_type": "code",
   "execution_count": 26,
   "id": "ef1745c5-c4b5-46a7-89a3-9e4b7b27487f",
   "metadata": {},
   "outputs": [],
   "source": [
    "list1=[]"
   ]
  },
  {
   "cell_type": "code",
   "execution_count": 27,
   "id": "c95dcaac-43f7-4cf1-b768-0eb452447f93",
   "metadata": {},
   "outputs": [
    {
     "ename": "TypeError",
     "evalue": "list.append() takes exactly one argument (0 given)",
     "output_type": "error",
     "traceback": [
      "\u001b[1;31m---------------------------------------------------------------------------\u001b[0m",
      "\u001b[1;31mTypeError\u001b[0m                                 Traceback (most recent call last)",
      "Cell \u001b[1;32mIn[27], line 1\u001b[0m\n\u001b[1;32m----> 1\u001b[0m list1\u001b[38;5;241m=\u001b[39mlist1\u001b[38;5;241m.\u001b[39mappend()\n",
      "\u001b[1;31mTypeError\u001b[0m: list.append() takes exactly one argument (0 given)"
     ]
    }
   ],
   "source": [
    "list1=list1.append()"
   ]
  },
  {
   "cell_type": "code",
   "execution_count": 23,
   "id": "bb58c9ee-16cc-40a2-910c-d3f1f85d8fe1",
   "metadata": {},
   "outputs": [
    {
     "data": {
      "text/plain": [
       "['__add__',\n",
       " '__class__',\n",
       " '__class_getitem__',\n",
       " '__contains__',\n",
       " '__delattr__',\n",
       " '__delitem__',\n",
       " '__dir__',\n",
       " '__doc__',\n",
       " '__eq__',\n",
       " '__format__',\n",
       " '__ge__',\n",
       " '__getattribute__',\n",
       " '__getitem__',\n",
       " '__getstate__',\n",
       " '__gt__',\n",
       " '__hash__',\n",
       " '__iadd__',\n",
       " '__imul__',\n",
       " '__init__',\n",
       " '__init_subclass__',\n",
       " '__iter__',\n",
       " '__le__',\n",
       " '__len__',\n",
       " '__lt__',\n",
       " '__mul__',\n",
       " '__ne__',\n",
       " '__new__',\n",
       " '__reduce__',\n",
       " '__reduce_ex__',\n",
       " '__repr__',\n",
       " '__reversed__',\n",
       " '__rmul__',\n",
       " '__setattr__',\n",
       " '__setitem__',\n",
       " '__sizeof__',\n",
       " '__str__',\n",
       " '__subclasshook__',\n",
       " 'append',\n",
       " 'clear',\n",
       " 'copy',\n",
       " 'count',\n",
       " 'extend',\n",
       " 'index',\n",
       " 'insert',\n",
       " 'pop',\n",
       " 'remove',\n",
       " 'reverse',\n",
       " 'sort']"
      ]
     },
     "execution_count": 23,
     "metadata": {},
     "output_type": "execute_result"
    }
   ],
   "source": [
    "dir(list)"
   ]
  },
  {
   "cell_type": "code",
   "execution_count": null,
   "id": "5e685143-7c01-42b8-adfd-557185c79258",
   "metadata": {},
   "outputs": [],
   "source": []
  },
  {
   "cell_type": "code",
   "execution_count": 341,
   "id": "05f645dd-3e8c-48b7-a07b-e78bfd82b5d9",
   "metadata": {},
   "outputs": [
    {
     "ename": "ValueError",
     "evalue": "substring not found",
     "output_type": "error",
     "traceback": [
      "\u001b[1;31m---------------------------------------------------------------------------\u001b[0m",
      "\u001b[1;31mValueError\u001b[0m                                Traceback (most recent call last)",
      "Cell \u001b[1;32mIn[341], line 5\u001b[0m\n\u001b[0;32m      3\u001b[0m attack\u001b[38;5;241m=\u001b[39m \u001b[38;5;124m\"\u001b[39m\u001b[38;5;124ma\u001b[39m\u001b[38;5;124m\"\u001b[39m\n\u001b[0;32m      4\u001b[0m \u001b[38;5;28;01mfor\u001b[39;00m i \u001b[38;5;129;01min\u001b[39;00m \u001b[38;5;28mrange\u001b[39m(str1\u001b[38;5;241m.\u001b[39mindex(attack)):\n\u001b[1;32m----> 5\u001b[0m     x\u001b[38;5;241m=\u001b[39m str1\u001b[38;5;241m.\u001b[39mindex(attack, start)\n\u001b[0;32m      6\u001b[0m     \u001b[38;5;28;01mif\u001b[39;00m i\u001b[38;5;241m==\u001b[39m\u001b[38;5;241m0\u001b[39m:\n\u001b[0;32m      7\u001b[0m         i1\u001b[38;5;241m=\u001b[39mx\n",
      "\u001b[1;31mValueError\u001b[0m: substring not found"
     ]
    }
   ],
   "source": [
    "st1=\"ola ola ola ola \"\n",
    "start=0\n",
    "attack= \"a\"\n",
    "for i in range(str1.index(attack)):\n",
    "    x= str1.index(attack, start)\n",
    "    if i==0:\n",
    "        i1=x\n",
    "    elif i ==1:\n",
    "        i2==x\n",
    "    elif i==2:\n",
    "        i3==x\n",
    "    elif i==3:\n",
    "        i4==x\n",
    "    start= x+1\n",
    "i1,i2,i3,i4"
   ]
  },
  {
   "cell_type": "code",
   "execution_count": 342,
   "id": "f62db82d-c60d-430e-9cec-1db8c3f274e8",
   "metadata": {},
   "outputs": [],
   "source": [
    "str1= \"restart\" "
   ]
  },
  {
   "cell_type": "code",
   "execution_count": 343,
   "id": "fcf5db0d-141d-46df-8b33-3edf5bb1bc79",
   "metadata": {},
   "outputs": [
    {
     "data": {
      "text/plain": [
       "'resta$t'"
      ]
     },
     "execution_count": 343,
     "metadata": {},
     "output_type": "execute_result"
    }
   ],
   "source": [
    "str1= \"restart\"\n",
    "count=0\n",
    "s=\"\"\n",
    "for i in str1:\n",
    "    if i==\"r\":\n",
    "        count=count+1\n",
    "        if count==2:\n",
    "            s=s+\"$\" \n",
    "        else:\n",
    "            s=s+i\n",
    "    else:\n",
    "        s=s+i\n",
    "s"
   ]
  },
  {
   "cell_type": "code",
   "execution_count": 344,
   "id": "d7598553-2481-4df4-bbe9-923b35b4b0e8",
   "metadata": {},
   "outputs": [],
   "source": [
    "op1=str1[0:5]\n",
    "op2=str1[6]"
   ]
  },
  {
   "cell_type": "code",
   "execution_count": 345,
   "id": "d33394d5-26a4-4d91-91ad-f85774aacff9",
   "metadata": {},
   "outputs": [
    {
     "data": {
      "text/plain": [
       "'resta$t'"
      ]
     },
     "execution_count": 345,
     "metadata": {},
     "output_type": "execute_result"
    }
   ],
   "source": [
    "op1+\"$\"+op2"
   ]
  },
  {
   "cell_type": "code",
   "execution_count": 1,
   "id": "7aa0b0f2-578f-40ed-b5eb-c9078cc3f0c2",
   "metadata": {},
   "outputs": [
    {
     "data": {
      "text/plain": [
       "(2, 6, 10, 14)"
      ]
     },
     "execution_count": 1,
     "metadata": {},
     "output_type": "execute_result"
    }
   ],
   "source": [
    "str5= \"ola ola ola ola\"\n",
    "start=0\n",
    "for i in range(str5.count(\"a\")):\n",
    "    x= str5.index(\"a\",start)\n",
    "\n",
    "    if i==0:\n",
    "        i1=x\n",
    "    elif i==1:\n",
    "        i2=x\n",
    "    elif i==2:\n",
    "        i3=x\n",
    "    elif i==3:\n",
    "        i4=x\n",
    "    start= x+1\n",
    "    \n",
    "i1,i2,i3,i4"
   ]
  },
  {
   "cell_type": "code",
   "execution_count": 3,
   "id": "af716ef1-41d4-4e32-b9b4-c96725c1b167",
   "metadata": {},
   "outputs": [
    {
     "name": "stdin",
     "output_type": "stream",
     "text": [
      "Enter the First Number 80\n",
      "Enter the Operator -\n",
      "Enter the Second Number 30\n"
     ]
    },
    {
     "name": "stdout",
     "output_type": "stream",
     "text": [
      "The Substraction of 80 and 30 is 50\n"
     ]
    }
   ],
   "source": [
    "a=eval(input(\"Enter the First Number\"))\n",
    "op=input(\"Enter the Operator\")\n",
    "b=eval(input(\"Enter the Second Number\"))\n",
    "\n",
    "\n",
    "if op==\"+\":\n",
    "    print(f\"The Addition of {a} and {b} is {a+b}\")\n",
    "elif op==\"-\":\n",
    "    print(f\"The Substraction of {a} and {b} is {a-b}\")\n",
    "elif op==\"*\":\n",
    "    print(f\"The Multiplication of {a} and {b} is {a*b}\")\n",
    "elif op==\"/\":\n",
    "    print(f\"The Division of {a} and {b} is {a/b}\")\n",
    "else:\n",
    "    print(\"invalid Operator\")\n",
    "    "
   ]
  },
  {
   "cell_type": "code",
   "execution_count": null,
   "id": "dce704b8-b030-4307-a3b0-b3ce0ef2e3a2",
   "metadata": {},
   "outputs": [],
   "source": []
  },
  {
   "cell_type": "code",
   "execution_count": 2,
   "id": "898008a9-3315-4890-823d-208ddf720d17",
   "metadata": {},
   "outputs": [
    {
     "name": "stdout",
     "output_type": "stream",
     "text": [
      "2 6 10 14 "
     ]
    }
   ],
   "source": [
    "str1 = \"ola ola ola ola\"\n",
    "start = 0\n",
    "for i in range(str1.count(\"a\")):\n",
    "    idx = str1.index(\"a\", start)\n",
    "    print(idx,end=\" \")\n",
    "    start = idx + 1"
   ]
  },
  {
   "cell_type": "code",
   "execution_count": null,
   "id": "341fe324-1150-4afe-b6f5-de5bc8d8daea",
   "metadata": {},
   "outputs": [],
   "source": []
  },
  {
   "cell_type": "markdown",
   "id": "0d2b2e5e-021e-4712-bbe1-7b7571064acc",
   "metadata": {},
   "source": [
    "## startswith and endswith"
   ]
  },
  {
   "cell_type": "code",
   "execution_count": 5,
   "id": "ccdec39a-75d1-4cde-bc4b-e3ebb312849a",
   "metadata": {},
   "outputs": [
    {
     "data": {
      "text/plain": [
       "True"
      ]
     },
     "execution_count": 5,
     "metadata": {},
     "output_type": "execute_result"
    }
   ],
   "source": [
    "str1=\"hai how are you\"\n",
    "str1.startswith(\"hai\")"
   ]
  },
  {
   "cell_type": "code",
   "execution_count": 6,
   "id": "66f2f2b0-c1df-4173-baaf-140112e251e5",
   "metadata": {},
   "outputs": [
    {
     "data": {
      "text/plain": [
       "True"
      ]
     },
     "execution_count": 6,
     "metadata": {},
     "output_type": "execute_result"
    }
   ],
   "source": [
    "\n",
    "str1=\"hai how are you\"\n",
    "str1.endswith(\"you\")"
   ]
  },
  {
   "cell_type": "code",
   "execution_count": 7,
   "id": "3cd3828b-1950-491d-8e86-649da42f192d",
   "metadata": {},
   "outputs": [
    {
     "data": {
      "text/plain": [
       "True"
      ]
     },
     "execution_count": 7,
     "metadata": {},
     "output_type": "execute_result"
    }
   ],
   "source": [
    "str1.startswith(str1)"
   ]
  },
  {
   "cell_type": "markdown",
   "id": "7526757e-e972-46ab-a03b-f22f922de1c0",
   "metadata": {},
   "source": [
    "## Split"
   ]
  },
  {
   "cell_type": "code",
   "execution_count": 11,
   "id": "7c78970b-ede0-4aaa-a8e2-464a98207be8",
   "metadata": {},
   "outputs": [
    {
     "data": {
      "text/plain": [
       "['hai how', ' are you']"
      ]
     },
     "execution_count": 11,
     "metadata": {},
     "output_type": "execute_result"
    }
   ],
   "source": [
    "str1=\"hai how, are you\"\n",
    "str1.split(\",\") #deafult space taken"
   ]
  },
  {
   "cell_type": "code",
   "execution_count": 15,
   "id": "e3420070-7d91-4ac2-ad5f-f5b2656001db",
   "metadata": {},
   "outputs": [
    {
     "data": {
      "text/plain": [
       "['h', 'i how, ', 're you']"
      ]
     },
     "execution_count": 15,
     "metadata": {},
     "output_type": "execute_result"
    }
   ],
   "source": [
    "str1=\"hai how, are you\"\n",
    "str1.split(\"a\") "
   ]
  },
  {
   "cell_type": "code",
   "execution_count": 16,
   "id": "b97bc864-994f-4a11-a065-134c8abb1628",
   "metadata": {},
   "outputs": [
    {
     "data": {
      "text/plain": [
       "['hai how', ' are you']"
      ]
     },
     "execution_count": 16,
     "metadata": {},
     "output_type": "execute_result"
    }
   ],
   "source": [
    "str1=\"hai how, are you\"\n",
    "str1.split(\",\")"
   ]
  },
  {
   "cell_type": "code",
   "execution_count": 19,
   "id": "20c7ce21-1997-4350-b982-cb9038c4ad66",
   "metadata": {},
   "outputs": [
    {
     "name": "stdout",
     "output_type": "stream",
     "text": [
      "['__add__', '__class__', '__contains__', '__delattr__', '__dir__', '__doc__', '__eq__', '__format__', '__ge__', '__getattribute__', '__getitem__', '__getnewargs__', '__getstate__', '__gt__', '__hash__', '__init__', '__init_subclass__', '__iter__', '__le__', '__len__', '__lt__', '__mod__', '__mul__', '__ne__', '__new__', '__reduce__', '__reduce_ex__', '__repr__', '__rmod__', '__rmul__', '__setattr__', '__sizeof__', '__str__', '__subclasshook__', 'capitalize', 'casefold', 'center', 'count', 'encode', 'endswith', 'expandtabs', 'find', 'format', 'format_map', 'index', 'isalnum', 'isalpha', 'isascii', 'isdecimal', 'isdigit', 'isidentifier', 'islower', 'isnumeric', 'isprintable', 'isspace', 'istitle', 'isupper', 'join', 'ljust', 'lower', 'lstrip', 'maketrans', 'partition', 'removeprefix', 'removesuffix', 'replace', 'rfind', 'rindex', 'rjust', 'rpartition', 'rsplit', 'rstrip', 'split', 'splitlines', 'startswith', 'strip', 'swapcase', 'title', 'translate', 'upper', 'zfill']"
     ]
    }
   ],
   "source": [
    "print(dir(\"\"),end=\"\")"
   ]
  },
  {
   "cell_type": "code",
   "execution_count": 20,
   "id": "44cef3d9-4b0a-4473-b97b-f8d5070b80f2",
   "metadata": {},
   "outputs": [
    {
     "data": {
      "text/plain": [
       "['10', '20', '30']"
      ]
     },
     "execution_count": 20,
     "metadata": {},
     "output_type": "execute_result"
    }
   ],
   "source": [
    "\"10 20 30 \".split()"
   ]
  },
  {
   "cell_type": "code",
   "execution_count": 33,
   "id": "8f3066d9-ada4-4551-9bd8-c3267c74d0e7",
   "metadata": {},
   "outputs": [],
   "source": [
    "r=\"10 20 30 \".split()"
   ]
  },
  {
   "cell_type": "code",
   "execution_count": 34,
   "id": "8c77624e-57d1-43e8-8018-191bf4f60a0b",
   "metadata": {},
   "outputs": [
    {
     "data": {
      "text/plain": [
       "['10', '20', '30']"
      ]
     },
     "execution_count": 34,
     "metadata": {},
     "output_type": "execute_result"
    }
   ],
   "source": [
    "r"
   ]
  },
  {
   "cell_type": "code",
   "execution_count": 37,
   "id": "d7e7c1ab-2abb-44b3-8ecc-a5381c0a5ea4",
   "metadata": {},
   "outputs": [
    {
     "data": {
      "text/plain": [
       "60"
      ]
     },
     "execution_count": 37,
     "metadata": {},
     "output_type": "execute_result"
    }
   ],
   "source": [
    "summ=0\n",
    "for i in r:\n",
    "    summ=summ+int(i)\n",
    "summ"
   ]
  },
  {
   "cell_type": "code",
   "execution_count": null,
   "id": "9f3dc255-1e33-4d0d-be09-bcdb4ba2def3",
   "metadata": {},
   "outputs": [],
   "source": [
    "try:\n",
    "    print(10/0)\n",
    "    "
   ]
  },
  {
   "cell_type": "code",
   "execution_count": 38,
   "id": "b6f54eb8-dea8-415f-85ef-20579e4de0c7",
   "metadata": {},
   "outputs": [],
   "source": [
    "import keyword"
   ]
  },
  {
   "cell_type": "code",
   "execution_count": 41,
   "id": "d38d8e0b-a69d-4df1-9d47-9e2eea477df3",
   "metadata": {},
   "outputs": [
    {
     "data": {
      "text/plain": [
       "['__all__',\n",
       " '__builtins__',\n",
       " '__cached__',\n",
       " '__doc__',\n",
       " '__file__',\n",
       " '__loader__',\n",
       " '__name__',\n",
       " '__package__',\n",
       " '__spec__',\n",
       " 'iskeyword',\n",
       " 'issoftkeyword',\n",
       " 'kwlist',\n",
       " 'softkwlist']"
      ]
     },
     "execution_count": 41,
     "metadata": {},
     "output_type": "execute_result"
    }
   ],
   "source": [
    "dir(keyword)"
   ]
  },
  {
   "cell_type": "code",
   "execution_count": 40,
   "id": "f6516593-5097-4ce6-aeb4-66bd5fecf882",
   "metadata": {},
   "outputs": [
    {
     "data": {
      "text/plain": [
       "['False',\n",
       " 'None',\n",
       " 'True',\n",
       " 'and',\n",
       " 'as',\n",
       " 'assert',\n",
       " 'async',\n",
       " 'await',\n",
       " 'break',\n",
       " 'class',\n",
       " 'continue',\n",
       " 'def',\n",
       " 'del',\n",
       " 'elif',\n",
       " 'else',\n",
       " 'except',\n",
       " 'finally',\n",
       " 'for',\n",
       " 'from',\n",
       " 'global',\n",
       " 'if',\n",
       " 'import',\n",
       " 'in',\n",
       " 'is',\n",
       " 'lambda',\n",
       " 'nonlocal',\n",
       " 'not',\n",
       " 'or',\n",
       " 'pass',\n",
       " 'raise',\n",
       " 'return',\n",
       " 'try',\n",
       " 'while',\n",
       " 'with',\n",
       " 'yield']"
      ]
     },
     "execution_count": 40,
     "metadata": {},
     "output_type": "execute_result"
    }
   ],
   "source": [
    "keyword.kwlist"
   ]
  },
  {
   "cell_type": "code",
   "execution_count": 43,
   "id": "515ba570-3a8c-43a3-ad8a-68704bbdbd25",
   "metadata": {},
   "outputs": [
    {
     "name": "stdin",
     "output_type": "stream",
     "text": [
      "Enter the Number 1\n"
     ]
    },
    {
     "name": "stdout",
     "output_type": "stream",
     "text": [
      "odd\n"
     ]
    }
   ],
   "source": [
    "i= eval(input(\"Enter the Number\"))\n",
    "if i%2==0:\n",
    "    print(\"even\")\n",
    "else:\n",
    "    print(\"odd\")"
   ]
  },
  {
   "cell_type": "code",
   "execution_count": 46,
   "id": "7007aaf2-8665-4e7d-8790-36e4fe5c79ce",
   "metadata": {},
   "outputs": [
    {
     "data": {
      "text/plain": [
       "105"
      ]
     },
     "execution_count": 46,
     "metadata": {},
     "output_type": "execute_result"
    }
   ],
   "source": [
    "int(\"105\")"
   ]
  },
  {
   "cell_type": "code",
   "execution_count": 45,
   "id": "008c83e1-2109-4356-87f3-fb1d175f38fd",
   "metadata": {},
   "outputs": [
    {
     "data": {
      "text/plain": [
       "10.0"
      ]
     },
     "execution_count": 45,
     "metadata": {},
     "output_type": "execute_result"
    }
   ],
   "source": [
    "float(10)"
   ]
  },
  {
   "cell_type": "code",
   "execution_count": 36,
   "id": "ef002da2-fa99-4065-b1c1-984fd8114b40",
   "metadata": {},
   "outputs": [
    {
     "data": {
      "text/plain": [
       "True"
      ]
     },
     "execution_count": 36,
     "metadata": {},
     "output_type": "execute_result"
    }
   ],
   "source": [
    "\"123\".isalnum()"
   ]
  },
  {
   "cell_type": "code",
   "execution_count": 28,
   "id": "d6043cea-fd9b-4611-9f6b-b36616d1233c",
   "metadata": {},
   "outputs": [
    {
     "data": {
      "text/plain": [
       "False"
      ]
     },
     "execution_count": 28,
     "metadata": {},
     "output_type": "execute_result"
    }
   ],
   "source": [
    "\"abc\".isalnum()\n"
   ]
  },
  {
   "cell_type": "code",
   "execution_count": 27,
   "id": "9e8effd5-456e-40bc-a53f-5507b988b458",
   "metadata": {},
   "outputs": [
    {
     "data": {
      "text/plain": [
       "False"
      ]
     },
     "execution_count": 27,
     "metadata": {},
     "output_type": "execute_result"
    }
   ],
   "source": [
    "\"123abc\".isalnum()"
   ]
  },
  {
   "cell_type": "code",
   "execution_count": 26,
   "id": "5e9d12c6-18a8-4029-ac7e-386ab9dc9463",
   "metadata": {},
   "outputs": [
    {
     "data": {
      "text/plain": [
       "True"
      ]
     },
     "execution_count": 26,
     "metadata": {},
     "output_type": "execute_result"
    }
   ],
   "source": [
    "\"abc\".isalpha()"
   ]
  },
  {
   "cell_type": "code",
   "execution_count": 23,
   "id": "f6958074-44a5-488e-9b85-e152468f25f3",
   "metadata": {},
   "outputs": [
    {
     "data": {
      "text/plain": [
       "True"
      ]
     },
     "execution_count": 23,
     "metadata": {},
     "output_type": "execute_result"
    }
   ],
   "source": [
    "\"  \".isascii()"
   ]
  },
  {
   "cell_type": "code",
   "execution_count": 55,
   "id": "a9724a33-211f-4489-9391-da443676606d",
   "metadata": {},
   "outputs": [
    {
     "data": {
      "text/plain": [
       "False"
      ]
     },
     "execution_count": 55,
     "metadata": {},
     "output_type": "execute_result"
    }
   ],
   "source": [
    "a=\"4 5\"\n",
    "a.isdecimal()"
   ]
  },
  {
   "cell_type": "code",
   "execution_count": 63,
   "id": "6b2579de-d2d0-46f4-99b8-36e97833d514",
   "metadata": {},
   "outputs": [
    {
     "data": {
      "text/plain": [
       "False"
      ]
     },
     "execution_count": 63,
     "metadata": {},
     "output_type": "execute_result"
    }
   ],
   "source": [
    "a=\"sima4\"\n",
    "a.isdigit()"
   ]
  },
  {
   "cell_type": "code",
   "execution_count": 64,
   "id": "45c1df67-e660-4320-8171-5d29c744e9a9",
   "metadata": {},
   "outputs": [
    {
     "data": {
      "text/plain": [
       "True"
      ]
     },
     "execution_count": 64,
     "metadata": {},
     "output_type": "execute_result"
    }
   ],
   "source": [
    "a.isidentifier()"
   ]
  },
  {
   "cell_type": "code",
   "execution_count": 76,
   "id": "7b37d71b-72be-46a8-a496-b4f37b0a74a0",
   "metadata": {},
   "outputs": [
    {
     "data": {
      "text/plain": [
       "True"
      ]
     },
     "execution_count": 76,
     "metadata": {},
     "output_type": "execute_result"
    }
   ],
   "source": [
    "\"vishal45\".islower()"
   ]
  },
  {
   "cell_type": "code",
   "execution_count": 78,
   "id": "98e0efa6-9d71-41c6-bb7a-412f9b30eca3",
   "metadata": {},
   "outputs": [
    {
     "data": {
      "text/plain": [
       "True"
      ]
     },
     "execution_count": 78,
     "metadata": {},
     "output_type": "execute_result"
    }
   ],
   "source": [
    "\"vishal\".islower()\n"
   ]
  },
  {
   "cell_type": "code",
   "execution_count": 83,
   "id": "1d9284c0-d3ee-41fd-a31d-cc177c11fc2f",
   "metadata": {},
   "outputs": [
    {
     "data": {
      "text/plain": [
       "True"
      ]
     },
     "execution_count": 83,
     "metadata": {},
     "output_type": "execute_result"
    }
   ],
   "source": [
    "\"VII\"\n",
    "\"Ⅷ\".isnumeric()"
   ]
  },
  {
   "cell_type": "code",
   "execution_count": 100,
   "id": "9cb7cffe-e085-4700-a1dd-205248f57343",
   "metadata": {},
   "outputs": [
    {
     "data": {
      "text/plain": [
       "True"
      ]
     },
     "execution_count": 100,
     "metadata": {},
     "output_type": "execute_result"
    }
   ],
   "source": [
    "\"RAHUL\".isupper()"
   ]
  },
  {
   "cell_type": "code",
   "execution_count": 101,
   "id": "23a91fcc-ba29-4598-b2e4-5a17409dbcb2",
   "metadata": {},
   "outputs": [
    {
     "data": {
      "text/plain": [
       "True"
      ]
     },
     "execution_count": 101,
     "metadata": {},
     "output_type": "execute_result"
    }
   ],
   "source": [
    "\"Rahul Vishal\".istitle()"
   ]
  },
  {
   "cell_type": "code",
   "execution_count": 103,
   "id": "c658f0fe-c6f4-4a0c-b886-bb9f11f9914d",
   "metadata": {},
   "outputs": [
    {
     "data": {
      "text/plain": [
       "True"
      ]
     },
     "execution_count": 103,
     "metadata": {},
     "output_type": "execute_result"
    }
   ],
   "source": [
    "\" \".isspace()"
   ]
  },
  {
   "cell_type": "code",
   "execution_count": null,
   "id": "6f804894-f840-4d88-804b-b20409ab5fa7",
   "metadata": {},
   "outputs": [],
   "source": []
  },
  {
   "cell_type": "code",
   "execution_count": null,
   "id": "f0eb04a5-580f-421a-b262-4fac056231f5",
   "metadata": {},
   "outputs": [],
   "source": []
  }
 ],
 "metadata": {
  "kernelspec": {
   "display_name": "Python [conda env:base] *",
   "language": "python",
   "name": "conda-base-py"
  },
  "language_info": {
   "codemirror_mode": {
    "name": "ipython",
    "version": 3
   },
   "file_extension": ".py",
   "mimetype": "text/x-python",
   "name": "python",
   "nbconvert_exporter": "python",
   "pygments_lexer": "ipython3",
   "version": "3.13.5"
  }
 },
 "nbformat": 4,
 "nbformat_minor": 5
}
