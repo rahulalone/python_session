{
 "cells": [
  {
   "cell_type": "markdown",
   "id": "e25a2517-f08c-497d-8e49-c7d77edeef25",
   "metadata": {},
   "source": [
    "## lambda fuction"
   ]
  },
  {
   "cell_type": "markdown",
   "id": "78414a17-d1b2-444c-8971-c80bff848b22",
   "metadata": {},
   "source": [
    "it is similar to list comprhension \n",
    "function we are writing in single line"
   ]
  },
  {
   "cell_type": "markdown",
   "id": "51845e31-1005-4878-b4ef-3fc25e8efb5d",
   "metadata": {},
   "source": [
    "## case-1"
   ]
  },
  {
   "cell_type": "code",
   "execution_count": 1,
   "id": "2b287268-1b7d-4f79-85c3-ba4cdf2943c5",
   "metadata": {},
   "outputs": [
    {
     "data": {
      "text/plain": [
       "30"
      ]
     },
     "execution_count": 1,
     "metadata": {},
     "output_type": "execute_result"
    }
   ],
   "source": [
    "def add(a):\n",
    "    return(a+10)\n",
    "add(20)"
   ]
  },
  {
   "cell_type": "code",
   "execution_count": 6,
   "id": "3f771103-0003-423d-8964-bcb09ff3c051",
   "metadata": {},
   "outputs": [
    {
     "data": {
      "text/plain": [
       "60"
      ]
     },
     "execution_count": 6,
     "metadata": {},
     "output_type": "execute_result"
    }
   ],
   "source": [
    "\n",
    "add= lambda a:a+10 \n",
    "add(50)"
   ]
  },
  {
   "cell_type": "code",
   "execution_count": 7,
   "id": "5838517f-49ce-4459-a69c-d6ef7093fd28",
   "metadata": {},
   "outputs": [],
   "source": [
    "sub =lambda b:b-10"
   ]
  },
  {
   "cell_type": "code",
   "execution_count": 8,
   "id": "2cf786e2-27c0-4477-ab6d-17705d066e28",
   "metadata": {},
   "outputs": [
    {
     "data": {
      "text/plain": [
       "10"
      ]
     },
     "execution_count": 8,
     "metadata": {},
     "output_type": "execute_result"
    }
   ],
   "source": [
    "sub(20)"
   ]
  },
  {
   "cell_type": "code",
   "execution_count": 17,
   "id": "c94476d8-ed69-4ff9-8259-3179c572f60c",
   "metadata": {},
   "outputs": [],
   "source": [
    "avg= lambda x,y,z=2: round((x+y+z)/3)"
   ]
  },
  {
   "cell_type": "code",
   "execution_count": 18,
   "id": "45e1ad71-2e4a-45f8-a94d-d7893a400ede",
   "metadata": {},
   "outputs": [
    {
     "data": {
      "text/plain": [
       "11"
      ]
     },
     "execution_count": 18,
     "metadata": {},
     "output_type": "execute_result"
    }
   ],
   "source": [
    "avg(10,20)"
   ]
  },
  {
   "cell_type": "markdown",
   "id": "dd7ef5ec-cbf3-4798-b346-26a0dce56864",
   "metadata": {},
   "source": [
    "## Case--3"
   ]
  },
  {
   "cell_type": "code",
   "execution_count": 27,
   "id": "3d934f27-1d81-4f1f-9c4e-4b82cc616b95",
   "metadata": {},
   "outputs": [
    {
     "data": {
      "text/plain": [
       "'odd'"
      ]
     },
     "execution_count": 27,
     "metadata": {},
     "output_type": "execute_result"
    }
   ],
   "source": [
    "even_odd = lambda num: \"even\" if num % 2 == 0 else \"odd\"\n",
    "even_odd(21)"
   ]
  },
  {
   "cell_type": "markdown",
   "id": "d64877e7-ab54-4a15-9ff5-a4275f90a09e",
   "metadata": {},
   "source": [
    "## Case-4"
   ]
  },
  {
   "cell_type": "code",
   "execution_count": 44,
   "id": "05bc93d6-2f7f-4fe5-93ae-342b4059ec4f",
   "metadata": {},
   "outputs": [
    {
     "data": {
      "text/plain": [
       "[<function __main__.<lambda>(i)>, ['hyd', 'bengaluru', 'mumbai', 'chennai']]"
      ]
     },
     "execution_count": 44,
     "metadata": {},
     "output_type": "execute_result"
    }
   ],
   "source": [
    "Input=['hyd','bengaluru','mumbai','chennai']\n",
    "[lambda i: i.title(),Input]"
   ]
  },
  {
   "cell_type": "markdown",
   "id": "16f8692c-6194-4318-9bbf-71ded7f47c88",
   "metadata": {},
   "source": [
    "## Mapping"
   ]
  },
  {
   "cell_type": "code",
   "execution_count": 47,
   "id": "d2ff9de6-d529-4c7d-baa8-3b64d50b02bd",
   "metadata": {},
   "outputs": [],
   "source": [
    "a=list(map(lambda i: i.title(),Input))"
   ]
  },
  {
   "cell_type": "code",
   "execution_count": 48,
   "id": "a4b92bf7-4513-44c7-8f4f-d060eb94a97a",
   "metadata": {},
   "outputs": [
    {
     "data": {
      "text/plain": [
       "['Hyd', 'Bengaluru', 'Mumbai', 'Chennai']"
      ]
     },
     "execution_count": 48,
     "metadata": {},
     "output_type": "execute_result"
    }
   ],
   "source": [
    "a"
   ]
  },
  {
   "cell_type": "code",
   "execution_count": 49,
   "id": "47b28dde-273f-42f2-aa25-a8d24ab04d45",
   "metadata": {},
   "outputs": [
    {
     "data": {
      "text/plain": [
       "['HYD', 'BENGALURU', 'MUMBAI', 'CHENNAI']"
      ]
     },
     "execution_count": 49,
     "metadata": {},
     "output_type": "execute_result"
    }
   ],
   "source": [
    "Input=['hyd','bengaluru','mumbai','chennai']\n",
    "#     output=['HYD','BENGALURU','MUMBAI','CHENNAI']\n",
    "\n",
    "\n",
    "list(map(lambda i: i.upper() ,Input))"
   ]
  },
  {
   "cell_type": "code",
   "execution_count": 55,
   "id": "24c3693b-657b-4a39-976c-637a8142968d",
   "metadata": {},
   "outputs": [
    {
     "data": {
      "text/plain": [
       "[False, False, True, True]"
      ]
     },
     "execution_count": 55,
     "metadata": {},
     "output_type": "execute_result"
    }
   ],
   "source": [
    "Input=['hyd','bengaluru','mum#bai','chen#nai']\n",
    "#     output=['mum#bai','chen#nai']\n",
    "\n",
    "list(map( lambda i : \"#\" in i, Input ))"
   ]
  },
  {
   "cell_type": "markdown",
   "id": "48a49450-7aa6-494a-820f-579b633a2e3b",
   "metadata": {},
   "source": [
    "## filter"
   ]
  },
  {
   "cell_type": "code",
   "execution_count": 56,
   "id": "56614216-bd0d-4bea-961a-eb08bb3fa8c6",
   "metadata": {},
   "outputs": [
    {
     "data": {
      "text/plain": [
       "['mum#bai', 'chen#nai']"
      ]
     },
     "execution_count": 56,
     "metadata": {},
     "output_type": "execute_result"
    }
   ],
   "source": [
    "list(filter( lambda i : \"#\" in i, Input ))"
   ]
  },
  {
   "cell_type": "markdown",
   "id": "0c29bf04-807a-4b88-972e-7313411fb5a0",
   "metadata": {},
   "source": [
    "## Reduce"
   ]
  },
  {
   "cell_type": "code",
   "execution_count": 66,
   "id": "1c5cb264-47ad-47b7-8867-66cbe4bd8c04",
   "metadata": {},
   "outputs": [],
   "source": [
    "num=[i for i in range(1,11)]\n",
    "summ=0"
   ]
  },
  {
   "cell_type": "code",
   "execution_count": 69,
   "id": "27b1fcbc-bdce-4e4e-84d7-52c6d9431080",
   "metadata": {},
   "outputs": [
    {
     "data": {
      "text/plain": [
       "110"
      ]
     },
     "execution_count": 69,
     "metadata": {},
     "output_type": "execute_result"
    }
   ],
   "source": [
    "summ=[summ:=summ+i for i in range(1,11)][-1]\n",
    "summ"
   ]
  },
  {
   "cell_type": "code",
   "execution_count": 70,
   "id": "a802c966-261b-4a5b-9fdb-4a60431a75fa",
   "metadata": {},
   "outputs": [],
   "source": [
    "import functools"
   ]
  },
  {
   "cell_type": "code",
   "execution_count": 71,
   "id": "1bc87cdc-bde9-47ed-951a-efe8f2a0f239",
   "metadata": {},
   "outputs": [
    {
     "data": {
      "text/plain": [
       "['GenericAlias',\n",
       " 'RLock',\n",
       " 'WRAPPER_ASSIGNMENTS',\n",
       " 'WRAPPER_UPDATES',\n",
       " '_CacheInfo',\n",
       " '_HashedSeq',\n",
       " '_NOT_FOUND',\n",
       " '__all__',\n",
       " '__builtins__',\n",
       " '__cached__',\n",
       " '__doc__',\n",
       " '__file__',\n",
       " '__loader__',\n",
       " '__name__',\n",
       " '__package__',\n",
       " '__spec__',\n",
       " '_c3_merge',\n",
       " '_c3_mro',\n",
       " '_compose_mro',\n",
       " '_convert',\n",
       " '_find_impl',\n",
       " '_ge_from_gt',\n",
       " '_ge_from_le',\n",
       " '_ge_from_lt',\n",
       " '_gt_from_ge',\n",
       " '_gt_from_le',\n",
       " '_gt_from_lt',\n",
       " '_initial_missing',\n",
       " '_le_from_ge',\n",
       " '_le_from_gt',\n",
       " '_le_from_lt',\n",
       " '_lru_cache_wrapper',\n",
       " '_lt_from_ge',\n",
       " '_lt_from_gt',\n",
       " '_lt_from_le',\n",
       " '_make_key',\n",
       " '_unwrap_partial',\n",
       " '_unwrap_partialmethod',\n",
       " 'cache',\n",
       " 'cached_property',\n",
       " 'cmp_to_key',\n",
       " 'get_cache_token',\n",
       " 'lru_cache',\n",
       " 'namedtuple',\n",
       " 'partial',\n",
       " 'partialmethod',\n",
       " 'recursive_repr',\n",
       " 'reduce',\n",
       " 'singledispatch',\n",
       " 'singledispatchmethod',\n",
       " 'total_ordering',\n",
       " 'update_wrapper',\n",
       " 'wraps']"
      ]
     },
     "execution_count": 71,
     "metadata": {},
     "output_type": "execute_result"
    }
   ],
   "source": [
    "dir(functools)"
   ]
  },
  {
   "cell_type": "code",
   "execution_count": 74,
   "id": "83d11e34-7517-4e17-8988-9a16f9bb3fe5",
   "metadata": {},
   "outputs": [
    {
     "data": {
      "text/plain": [
       "55"
      ]
     },
     "execution_count": 74,
     "metadata": {},
     "output_type": "execute_result"
    }
   ],
   "source": [
    "num=[i for i in range(1,11)]\n",
    "functools.reduce(lambda s,i: s+i,num )"
   ]
  },
  {
   "cell_type": "code",
   "execution_count": null,
   "id": "0d442917-285b-4fce-ac18-971e2774557a",
   "metadata": {},
   "outputs": [],
   "source": []
  },
  {
   "cell_type": "code",
   "execution_count": null,
   "id": "f1c6dae9-715d-4d66-b323-c413f0615a67",
   "metadata": {},
   "outputs": [],
   "source": []
  }
 ],
 "metadata": {
  "kernelspec": {
   "display_name": "Python [conda env:base] *",
   "language": "python",
   "name": "conda-base-py"
  },
  "language_info": {
   "codemirror_mode": {
    "name": "ipython",
    "version": 3
   },
   "file_extension": ".py",
   "mimetype": "text/x-python",
   "name": "python",
   "nbconvert_exporter": "python",
   "pygments_lexer": "ipython3",
   "version": "3.13.5"
  }
 },
 "nbformat": 4,
 "nbformat_minor": 5
}
