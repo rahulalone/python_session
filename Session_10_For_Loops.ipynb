{
 "cells": [
  {
   "cell_type": "markdown",
   "id": "c1f5ea1d-eab7-4ea2-9fb3-de0a9cb22e51",
   "metadata": {},
   "source": [
    "## **Loops** ========>  For loop and while loops"
   ]
  },
  {
   "cell_type": "markdown",
   "id": "055e19a2-e641-4f56-9abe-501231a1df41",
   "metadata": {},
   "source": [
    "### For loops"
   ]
  },
  {
   "cell_type": "code",
   "execution_count": 8,
   "id": "3473612a-8929-4d79-b1d0-eb008b65d9d1",
   "metadata": {},
   "outputs": [
    {
     "name": "stdout",
     "output_type": "stream",
     "text": [
      "0\n",
      "1\n",
      "2\n"
     ]
    }
   ],
   "source": [
    "for i in range(3):\n",
    "    print(i)\n",
    "    # print(\"Hello\")"
   ]
  },
  {
   "cell_type": "code",
   "execution_count": 14,
   "id": "54dee1db-9814-4191-9aa3-644266e90c0d",
   "metadata": {},
   "outputs": [
    {
     "name": "stdout",
     "output_type": "stream",
     "text": [
      "The square of 0 is 0\n",
      "The square of 1 is 1\n",
      "The square of 2 is 4\n"
     ]
    }
   ],
   "source": [
    "for i in range(3):\n",
    "    print(f\"The square of {i} is {i*i}\")"
   ]
  },
  {
   "cell_type": "code",
   "execution_count": 13,
   "id": "5fa5c076-dd06-496e-b824-147feaebd8df",
   "metadata": {},
   "outputs": [
    {
     "name": "stdin",
     "output_type": "stream",
     "text": [
      "Enter the number 4\n"
     ]
    },
    {
     "name": "stdout",
     "output_type": "stream",
     "text": [
      "The square of 4 is 16\n"
     ]
    },
    {
     "name": "stdin",
     "output_type": "stream",
     "text": [
      "Enter the number 5\n"
     ]
    },
    {
     "name": "stdout",
     "output_type": "stream",
     "text": [
      "The square of 5 is 25\n"
     ]
    },
    {
     "name": "stdin",
     "output_type": "stream",
     "text": [
      "Enter the number 6\n"
     ]
    },
    {
     "name": "stdout",
     "output_type": "stream",
     "text": [
      "The square of 6 is 36\n"
     ]
    }
   ],
   "source": [
    "for i in range(3):\n",
    "    e= eval(input(\"Enter the number\"))\n",
    "    print(f\"The square of {e} is {e*e}\")"
   ]
  },
  {
   "cell_type": "code",
   "execution_count": 22,
   "id": "b5bc5df3-9a06-4925-8515-ed81011b93ef",
   "metadata": {},
   "outputs": [
    {
     "name": "stdout",
     "output_type": "stream",
     "text": [
      " 7 x 0 = 0\n",
      " 7 x 1 = 7\n",
      " 7 x 2 = 14\n",
      " 7 x 3 = 21\n",
      " 7 x 4 = 28\n",
      " 7 x 5 = 35\n",
      " 7 x 6 = 42\n",
      " 7 x 7 = 49\n",
      " 7 x 8 = 56\n",
      " 7 x 9 = 63\n",
      " 7 x 10 = 70\n"
     ]
    }
   ],
   "source": [
    "for i in range(11):\n",
    "    a=7\n",
    "    print(f\" {a} x {i} = {a*i}\")\n",
    "    "
   ]
  },
  {
   "cell_type": "markdown",
   "id": "bede58ba-22bb-4f80-8843-4db107648551",
   "metadata": {},
   "source": [
    "## Case-2"
   ]
  },
  {
   "cell_type": "code",
   "execution_count": 31,
   "id": "4661cde8-6312-4c9f-910c-2b063105a14e",
   "metadata": {},
   "outputs": [
    {
     "name": "stdout",
     "output_type": "stream",
     "text": [
      "1, 2, 3, 4, 5, 6, 7, 8, 9, "
     ]
    }
   ],
   "source": [
    "for i in range(1,10):\n",
    "    print(i, end=\", \")"
   ]
  },
  {
   "cell_type": "code",
   "execution_count": 33,
   "id": "269c14c5-3b88-4478-bedd-193739bae3e9",
   "metadata": {},
   "outputs": [
    {
     "name": "stdout",
     "output_type": "stream",
     "text": [
      "The square of 3 is 9\n",
      "The square of 4 is 16\n",
      "The square of 5 is 25\n"
     ]
    }
   ],
   "source": [
    "for i in range(3,6):\n",
    "    print(f\"The square of {i} is {i*i}\")"
   ]
  },
  {
   "cell_type": "code",
   "execution_count": 36,
   "id": "17697147-c052-47d8-828c-b916e4f3ada2",
   "metadata": {},
   "outputs": [
    {
     "name": "stdout",
     "output_type": "stream",
     "text": [
      "1 is odd Number\n",
      "2 is Even number\n",
      "3 is odd Number\n",
      "4 is Even number\n",
      "5 is odd Number\n"
     ]
    }
   ],
   "source": [
    "for i in range(1,6):\n",
    "    if i%2==0:\n",
    "        print(f\"{i} is Even number\")\n",
    "    else:\n",
    "        print(f\"{i} is odd Number\")\n"
   ]
  },
  {
   "cell_type": "code",
   "execution_count": 39,
   "id": "9e743ae9-e7c6-4ea5-898f-eeeaf030707a",
   "metadata": {},
   "outputs": [
    {
     "name": "stdout",
     "output_type": "stream",
     "text": [
      "82 is Even number\n",
      "82 is Even number\n",
      "12 is Even number\n",
      "57 is odd Number\n",
      "71 is odd Number\n"
     ]
    }
   ],
   "source": [
    "import random\n",
    "for i in range(1,6):\n",
    "    num= random.randint(1,100)\n",
    "    if num%2==0:\n",
    "        print(f\"{num} is Even number\")\n",
    "    else:\n",
    "        print(f\"{num} is odd Number\")\n"
   ]
  },
  {
   "cell_type": "code",
   "execution_count": 42,
   "id": "29394c27-5ceb-46b4-a299-fdb140139091",
   "metadata": {},
   "outputs": [],
   "source": [
    "def odd_even(num):\n",
    "    if num%2==0:\n",
    "        print(f\"{num} is Even number\")\n",
    "    else:\n",
    "        print(f\"{num} is odd Number\")\n"
   ]
  },
  {
   "cell_type": "code",
   "execution_count": 43,
   "id": "803e6c91-04c0-485b-a201-b35f5ecf6a06",
   "metadata": {},
   "outputs": [
    {
     "name": "stdin",
     "output_type": "stream",
     "text": [
      "Enter the Number 10\n"
     ]
    },
    {
     "name": "stdout",
     "output_type": "stream",
     "text": [
      "10 is Even number\n"
     ]
    },
    {
     "name": "stdin",
     "output_type": "stream",
     "text": [
      "Enter the Number 11\n"
     ]
    },
    {
     "name": "stdout",
     "output_type": "stream",
     "text": [
      "11 is odd Number\n"
     ]
    },
    {
     "name": "stdin",
     "output_type": "stream",
     "text": [
      "Enter the Number 125\n"
     ]
    },
    {
     "name": "stdout",
     "output_type": "stream",
     "text": [
      "125 is odd Number\n"
     ]
    },
    {
     "name": "stdin",
     "output_type": "stream",
     "text": [
      "Enter the Number 100\n"
     ]
    },
    {
     "name": "stdout",
     "output_type": "stream",
     "text": [
      "100 is Even number\n"
     ]
    },
    {
     "name": "stdin",
     "output_type": "stream",
     "text": [
      "Enter the Number 78\n"
     ]
    },
    {
     "name": "stdout",
     "output_type": "stream",
     "text": [
      "78 is Even number\n"
     ]
    }
   ],
   "source": [
    "for i in range(5):\n",
    "    num= eval(input(\"Enter the Number\"))\n",
    "    odd_even(num)"
   ]
  },
  {
   "cell_type": "markdown",
   "id": "a29cfed6-06d5-4ec8-b6dd-22dca0145372",
   "metadata": {},
   "source": [
    "## Case--3"
   ]
  },
  {
   "cell_type": "markdown",
   "id": "647e7a20-7122-4490-b067-f69adeaf7f1b",
   "metadata": {},
   "source": [
    "#### Third value means direction ------- either it positive or negative   and jump with the given values"
   ]
  },
  {
   "cell_type": "code",
   "execution_count": 48,
   "id": "f70b3997-a113-417e-9695-355db3c3cc6d",
   "metadata": {},
   "outputs": [
    {
     "name": "stdout",
     "output_type": "stream",
     "text": [
      "0, 2, 4, 6, 8, 10, 12, 14, 16, 18, "
     ]
    }
   ],
   "source": [
    "for i in range(0,20,2):\n",
    "    print(i, end=\", \")"
   ]
  },
  {
   "cell_type": "code",
   "execution_count": 50,
   "id": "24fb2cd9-01e1-48c1-be3a-edc6be34d392",
   "metadata": {},
   "outputs": [
    {
     "name": "stdout",
     "output_type": "stream",
     "text": [
      "2, 5, 8, 11, 14, 17, "
     ]
    }
   ],
   "source": [
    "for i in range(2,20,3):\n",
    "    print(i, end=\", \")  "
   ]
  },
  {
   "cell_type": "code",
   "execution_count": 51,
   "id": "406d991a-e1af-471b-885c-26ad3a785dbf",
   "metadata": {},
   "outputs": [],
   "source": [
    "for i in range(2,20,-3):\n",
    "    print(i, end=\", \")"
   ]
  },
  {
   "cell_type": "code",
   "execution_count": 54,
   "id": "52cea6b0-c733-4ab7-b874-e177cc59be39",
   "metadata": {},
   "outputs": [
    {
     "name": "stdout",
     "output_type": "stream",
     "text": [
      "20, 19, 18, 17, 16, 15, 14, 13, 12, 11, 10, 9, 8, 7, 6, 5, 4, 3, "
     ]
    }
   ],
   "source": [
    "for i in range(20,2,-1):\n",
    "    print(i, end=\", \")"
   ]
  },
  {
   "cell_type": "code",
   "execution_count": 55,
   "id": "4e70a06f-5f47-4f85-bf2b-69ddceca628c",
   "metadata": {},
   "outputs": [],
   "source": [
    "for i in range(-20,2,-1):\n",
    "    print(i, end=\", \")"
   ]
  },
  {
   "cell_type": "code",
   "execution_count": 3,
   "id": "b21f02ed-05d3-4b1f-96fa-c61bef8e3910",
   "metadata": {},
   "outputs": [
    {
     "name": "stdout",
     "output_type": "stream",
     "text": [
      "0\n",
      "1\n",
      "3\n",
      "6\n",
      "10\n",
      "15\n",
      "21\n",
      "28\n",
      "36\n",
      "45\n"
     ]
    }
   ],
   "source": [
    "n=0\n",
    "for i in range(10):\n",
    "    n=n+i\n",
    "    print(n)"
   ]
  },
  {
   "cell_type": "code",
   "execution_count": 47,
   "id": "52621b64-890b-4812-9e9e-b1ca9cd3472f",
   "metadata": {},
   "outputs": [
    {
     "name": "stdout",
     "output_type": "stream",
     "text": [
      "The factors are 1\n",
      "The factors are 2\n",
      "The factors are 6\n",
      "The factors are 24\n",
      "The factors are 120\n",
      "The factorial of 5 is  120\n"
     ]
    }
   ],
   "source": [
    "n1=1\n",
    "for i in range(1,6):\n",
    "    n1=n1*i\n",
    "    print(f\"The factors are {n1}\")\n",
    "print(\"The factorial of 5 is \",n1)"
   ]
  },
  {
   "cell_type": "code",
   "execution_count": 124,
   "id": "4ccd8048-a00e-4241-84a5-e6dab5128aa1",
   "metadata": {},
   "outputs": [
    {
     "name": "stdout",
     "output_type": "stream",
     "text": [
      "The factors are 1\n",
      "The factors are 2\n",
      "The factors are 6\n",
      "The factors are 24\n",
      "The factors are 120\n"
     ]
    }
   ],
   "source": [
    "n1=1\n",
    "for i in range(1,5+1):\n",
    "    n1=n1*i\n",
    "    print(f\"The factors are {n1}\")\n"
   ]
  },
  {
   "cell_type": "code",
   "execution_count": 60,
   "id": "5cb1aa2a-f638-4172-8e12-f57388e35d60",
   "metadata": {},
   "outputs": [
    {
     "name": "stdout",
     "output_type": "stream",
     "text": [
      "The factorial of 5 is  933262154439441526816992388562667004907159682643816214685929638952175999932299156089414639761565182862536979208272237582511852109168640000000000000000000000, "
     ]
    }
   ],
   "source": [
    "print(\"The factorial of 5 is \",n1,end=\", \")"
   ]
  },
  {
   "cell_type": "code",
   "execution_count": 72,
   "id": "d4787c40-c79f-4a7f-861d-2e4957b477db",
   "metadata": {},
   "outputs": [
    {
     "name": "stdin",
     "output_type": "stream",
     "text": [
      "Enter the number 3\n"
     ]
    },
    {
     "name": "stdout",
     "output_type": "stream",
     "text": [
      "123"
     ]
    }
   ],
   "source": [
    "n = int(input(\"Enter the number\"))\n",
    "\n",
    "for i in range(1,n+1):\n",
    "    print(i,end=\"\")"
   ]
  },
  {
   "cell_type": "code",
   "execution_count": null,
   "id": "2623eeec-7b02-4c11-904f-72f1d2989bdd",
   "metadata": {},
   "outputs": [],
   "source": [
    "# Enter your code here. Read input from STDIN. Print output to STDOUT\n",
    "N, M = map(int, input().split())\n",
    "\n",
    "# Upper part\n",
    "for i in range(1, N, 2):\n",
    "    pattern = '.|.' * i\n",
    "    print(pattern.center(M, '-'))\n",
    "\n",
    "# Middle part\n",
    "print('WELCOME'.center(M, '-'))\n",
    "\n",
    "# Lower part\n",
    "for i in range(N-2, 0, -2):\n",
    "    pattern = '.|.' * i\n",
    "    print(pattern.center(M, '-'))"
   ]
  },
  {
   "cell_type": "code",
   "execution_count": null,
   "id": "15f733ac-b01d-4428-87e3-ad75c7c7f99c",
   "metadata": {},
   "outputs": [],
   "source": []
  },
  {
   "cell_type": "code",
   "execution_count": 132,
   "id": "648f2369-7197-4b87-8b31-3bb3d020b434",
   "metadata": {},
   "outputs": [
    {
     "name": "stdout",
     "output_type": "stream",
     "text": [
      "---------.|.---------\n",
      "------.|..|..|.------\n",
      "---.|..|..|..|..|.---\n",
      "-----Welcome Home----\n",
      "---------.|.---------\n",
      "------.|..|..|.------\n",
      "---.|..|..|..|..|.---\n"
     ]
    }
   ],
   "source": [
    "for i in range(1,7 ,2):\n",
    "    pattern = '.|.' * i\n",
    "    print(pattern.center(21, '-'))\n",
    "print(\"Welcome Home\".center(21,\"-\"))\n",
    "for i in range(1,7 , 2):\n",
    "    pattern = '.|.' * i\n",
    "    print(pattern.center(21, '-'))"
   ]
  },
  {
   "cell_type": "code",
   "execution_count": 76,
   "id": "83fb88ab-5906-4487-a5d7-fcd9d3b86857",
   "metadata": {},
   "outputs": [
    {
     "name": "stdout",
     "output_type": "stream",
     "text": [
      ".|.\n",
      ".|..|.\n",
      ".|..|..|.\n",
      ".|..|..|..|.\n",
      ".|..|..|..|..|.\n",
      ".|..|..|..|..|..|.\n"
     ]
    }
   ],
   "source": [
    "for i in range(1,7):\n",
    "    p= '.|.'\n",
    "    print()"
   ]
  },
  {
   "cell_type": "code",
   "execution_count": 95,
   "id": "9c7519f7-de4b-4881-9896-3b6ad765d447",
   "metadata": {},
   "outputs": [
    {
     "name": "stdout",
     "output_type": "stream",
     "text": [
      "     \n",
      "  *  \n",
      "  ** \n",
      " *** \n",
      " ****\n",
      "*****\n"
     ]
    }
   ],
   "source": [
    "for i in range(6):\n",
    "    a=\"*\"*i\n",
    "    print(a.center(5))"
   ]
  },
  {
   "cell_type": "code",
   "execution_count": 99,
   "id": "d858a0a7-bf0a-4555-96fb-bcb14f8e242f",
   "metadata": {},
   "outputs": [
    {
     "name": "stdout",
     "output_type": "stream",
     "text": [
      "\n",
      "^\n",
      "^^\n",
      "^^^\n",
      "^^^^\n",
      "^^^^^\n",
      "^^^^^^\n",
      "^^^^^^^\n",
      "^^^^^^^^\n",
      "^^^^^^^^^\n"
     ]
    }
   ],
   "source": [
    "for i in range(10):\n",
    "    a=\"^\"*i\n",
    "    print(a)"
   ]
  },
  {
   "cell_type": "code",
   "execution_count": 116,
   "id": "0a5939ed-5671-4f7e-a436-da3fc6d92681",
   "metadata": {},
   "outputs": [
    {
     "data": {
      "text/plain": [
       "''"
      ]
     },
     "execution_count": 116,
     "metadata": {},
     "output_type": "execute_result"
    }
   ],
   "source": [
    "\"rahul\"*0"
   ]
  },
  {
   "cell_type": "code",
   "execution_count": 117,
   "id": "627baa8e-4dd1-45bd-90e7-9c8257eac378",
   "metadata": {},
   "outputs": [
    {
     "ename": "TypeError",
     "evalue": "can only concatenate str (not \"int\") to str",
     "output_type": "error",
     "traceback": [
      "\u001b[1;31m---------------------------------------------------------------------------\u001b[0m",
      "\u001b[1;31mTypeError\u001b[0m                                 Traceback (most recent call last)",
      "Cell \u001b[1;32mIn[117], line 1\u001b[0m\n\u001b[1;32m----> 1\u001b[0m \u001b[38;5;124m\"\u001b[39m\u001b[38;5;124mrahul\u001b[39m\u001b[38;5;124m\"\u001b[39m\u001b[38;5;241m+\u001b[39m\u001b[38;5;241m0\u001b[39m\n",
      "\u001b[1;31mTypeError\u001b[0m: can only concatenate str (not \"int\") to str"
     ]
    }
   ],
   "source": [
    "\"rahul\"+0\n",
    "\n"
   ]
  },
  {
   "cell_type": "code",
   "execution_count": 118,
   "id": "cbcee907-e402-4f6a-ae93-44732d0a1211",
   "metadata": {},
   "outputs": [
    {
     "ename": "TypeError",
     "evalue": "unsupported operand type(s) for -: 'str' and 'int'",
     "output_type": "error",
     "traceback": [
      "\u001b[1;31m---------------------------------------------------------------------------\u001b[0m",
      "\u001b[1;31mTypeError\u001b[0m                                 Traceback (most recent call last)",
      "Cell \u001b[1;32mIn[118], line 1\u001b[0m\n\u001b[1;32m----> 1\u001b[0m \u001b[38;5;124m\"\u001b[39m\u001b[38;5;124mrahul\u001b[39m\u001b[38;5;124m\"\u001b[39m\u001b[38;5;241m-\u001b[39m\u001b[38;5;241m0\u001b[39m\n",
      "\u001b[1;31mTypeError\u001b[0m: unsupported operand type(s) for -: 'str' and 'int'"
     ]
    }
   ],
   "source": [
    "\"rahul\"-0\n"
   ]
  },
  {
   "cell_type": "code",
   "execution_count": 119,
   "id": "4c6de60f-da1d-42dc-b71a-73e1943164c8",
   "metadata": {},
   "outputs": [
    {
     "ename": "TypeError",
     "evalue": "unsupported operand type(s) for /: 'str' and 'int'",
     "output_type": "error",
     "traceback": [
      "\u001b[1;31m---------------------------------------------------------------------------\u001b[0m",
      "\u001b[1;31mTypeError\u001b[0m                                 Traceback (most recent call last)",
      "Cell \u001b[1;32mIn[119], line 1\u001b[0m\n\u001b[1;32m----> 1\u001b[0m \u001b[38;5;124m\"\u001b[39m\u001b[38;5;124mrahul\u001b[39m\u001b[38;5;124m\"\u001b[39m\u001b[38;5;241m/\u001b[39m\u001b[38;5;241m0\u001b[39m\n",
      "\u001b[1;31mTypeError\u001b[0m: unsupported operand type(s) for /: 'str' and 'int'"
     ]
    }
   ],
   "source": [
    "\"rahul\"/0\n"
   ]
  },
  {
   "cell_type": "code",
   "execution_count": 120,
   "id": "eb6055ab-b009-4034-aee1-d9ddec662b77",
   "metadata": {},
   "outputs": [
    {
     "data": {
      "text/plain": [
       "''"
      ]
     },
     "execution_count": 120,
     "metadata": {},
     "output_type": "execute_result"
    }
   ],
   "source": [
    "\"rahul\"*0\n"
   ]
  },
  {
   "cell_type": "code",
   "execution_count": 5,
   "id": "47dc4f17-b096-42e4-a17f-2788780d5ad6",
   "metadata": {},
   "outputs": [
    {
     "name": "stdin",
     "output_type": "stream",
     "text": [
      "Enter the Number 75\n"
     ]
    },
    {
     "name": "stdout",
     "output_type": "stream",
     "text": [
      "75 is divisable by 1\n",
      "75 is divisable by 3\n",
      "75 is divisable by 5\n",
      "75 is divisable by 15\n",
      "75 is divisable by 25\n",
      "75 is divisable by 75\n"
     ]
    }
   ],
   "source": [
    "num=eval(input(\"Enter the Number\"))\n",
    "for i in range(1,num+1):\n",
    "    if num%i==0:\n",
    "        print(f\"{num} is divisable by {i}\")"
   ]
  },
  {
   "cell_type": "code",
   "execution_count": 9,
   "id": "933f00c5-e92b-4d61-9cd7-70902c5273f7",
   "metadata": {},
   "outputs": [
    {
     "name": "stdin",
     "output_type": "stream",
     "text": [
      "Enter the Number 5\n"
     ]
    },
    {
     "name": "stdout",
     "output_type": "stream",
     "text": [
      "Loss\n"
     ]
    },
    {
     "name": "stdin",
     "output_type": "stream",
     "text": [
      "Enter the Number 5\n"
     ]
    },
    {
     "name": "stdout",
     "output_type": "stream",
     "text": [
      "Won\n"
     ]
    }
   ],
   "source": [
    "import random\n",
    "\n",
    "for i in range(3):\n",
    "    num1=eval(input(\"Enter the Number\"))\n",
    "    r= random.randint(1,10)\n",
    "    if num1==r:\n",
    "        print(\"Won\")\n",
    "        break\n",
    "    else:\n",
    "        print(\"Loss\")"
   ]
  },
  {
   "cell_type": "code",
   "execution_count": 17,
   "id": "1d6d36f3-c5d9-4a08-bf5d-53998292735f",
   "metadata": {},
   "outputs": [
    {
     "name": "stdin",
     "output_type": "stream",
     "text": [
      "Enter the Number 10\n"
     ]
    },
    {
     "name": "stdout",
     "output_type": "stream",
     "text": [
      "The sum of 10  natural number is 1\n",
      "The sum of 10  natural number is 3\n",
      "The sum of 10  natural number is 6\n",
      "The sum of 10  natural number is 10\n",
      "The sum of 10  natural number is 15\n",
      "The sum of 10  natural number is 21\n",
      "The sum of 10  natural number is 28\n",
      "The sum of 10  natural number is 36\n",
      "The sum of 10  natural number is 45\n",
      "The sum of 10  natural number is 55\n"
     ]
    }
   ],
   "source": [
    "n=0\n",
    "numm=eval(input(\"Enter the Number\"))\n",
    "for i in range(1,numm+1):\n",
    "    n=n+i\n",
    "    print(n)"
   ]
  },
  {
   "cell_type": "code",
   "execution_count": 20,
   "id": "311775b3-b839-4336-b72d-389cb08addba",
   "metadata": {},
   "outputs": [
    {
     "name": "stdin",
     "output_type": "stream",
     "text": [
      "Enter the Number 75\n"
     ]
    },
    {
     "name": "stdout",
     "output_type": "stream",
     "text": [
      "75 is divisable by 1\n",
      "75 is divisable by 3\n",
      "75 is divisable by 5\n",
      "75 is divisable by 15\n",
      "75 is divisable by 25\n",
      "75 is divisable by 75\n",
      "124\n"
     ]
    }
   ],
   "source": [
    "summ=0\n",
    "num=eval(input(\"Enter the Number\"))\n",
    "for i in range(1,num+1):\n",
    "    if num%i==0:\n",
    "        summ=summ+i\n",
    "        print(f\"{num} is divisable by {i}\")\n",
    "print(summ)"
   ]
  },
  {
   "cell_type": "code",
   "execution_count": 31,
   "id": "eba185a6-d1e0-40e3-93b7-d591ec4b7293",
   "metadata": {},
   "outputs": [
    {
     "name": "stdout",
     "output_type": "stream",
     "text": [
      "55 is odd Number\n",
      "96 is Even Number\n",
      "19 is odd Number\n",
      "69 is odd Number\n",
      "65 is odd Number\n",
      "Sum of Even Number is 96\n",
      "Sum of odd Number is 208\n"
     ]
    }
   ],
   "source": [
    "even=0\n",
    "odd=0\n",
    "\n",
    "for i in range(5):\n",
    "    r=random.randint(1,100)\n",
    "    if r%2==0:\n",
    "        even=even+r\n",
    "        print(f\"{r} is Even Number\")\n",
    "    else:\n",
    "        odd=odd+r\n",
    "        print(f\"{r} is odd Number\")\n",
    "print(f\"Sum of Even Number is {even}\")\n",
    "print(f\"Sum of odd Number is {odd}\")"
   ]
  },
  {
   "cell_type": "code",
   "execution_count": 35,
   "id": "5881ab5b-2e4f-4104-ba9a-febcc2d5bc61",
   "metadata": {},
   "outputs": [
    {
     "name": "stdout",
     "output_type": "stream",
     "text": [
      "79 is odd Number\n",
      "85 is odd Number\n",
      "52 is Even Number\n",
      "32 is Even Number\n",
      "59 is odd Number\n",
      "Even Number count are  2\n",
      "Odd Number count are 3\n"
     ]
    }
   ],
   "source": [
    "even_count=0\n",
    "odd_count=0\n",
    "for i in range(5):\n",
    "    r=random.randint(1,100)\n",
    "    if r%2==0:\n",
    "        even_count=even_count+1\n",
    "        print(f\"{r} is Even Number\")\n",
    "    else:\n",
    "        odd_count=odd_count+1\n",
    "        print(f\"{r} is odd Number\")\n",
    "print(f\"Even Number count are {even_count}\")\n",
    "print(f\"Odd Number count are {odd_count}\")"
   ]
  },
  {
   "cell_type": "markdown",
   "id": "31b13da3-2161-4211-8a6b-1326aca5812f",
   "metadata": {},
   "source": [
    "## in operators"
   ]
  },
  {
   "cell_type": "code",
   "execution_count": 36,
   "id": "b836c938-8aae-4793-be31-711431716677",
   "metadata": {},
   "outputs": [
    {
     "name": "stdout",
     "output_type": "stream",
     "text": [
      "p\n",
      "y\n",
      "t\n",
      "h\n",
      "o\n",
      "n\n"
     ]
    }
   ],
   "source": [
    "for i in \"python\":\n",
    "    print(i)"
   ]
  },
  {
   "cell_type": "markdown",
   "id": "341bd96a-5be8-4fc4-a024-553e55258235",
   "metadata": {},
   "source": [
    "## Ord and chr"
   ]
  },
  {
   "cell_type": "code",
   "execution_count": 39,
   "id": "86f43f03-b14a-44c8-9131-6eb2c1a229bb",
   "metadata": {},
   "outputs": [
    {
     "data": {
      "text/plain": [
       "(65, 97)"
      ]
     },
     "execution_count": 39,
     "metadata": {},
     "output_type": "execute_result"
    }
   ],
   "source": [
    "ord(\"A\"),ord(\"a\")"
   ]
  },
  {
   "cell_type": "code",
   "execution_count": 1,
   "id": "8e7e83ea-0533-4254-bf19-43c9d08acee7",
   "metadata": {},
   "outputs": [
    {
     "data": {
      "text/plain": [
       "'A'"
      ]
     },
     "execution_count": 1,
     "metadata": {},
     "output_type": "execute_result"
    }
   ],
   "source": [
    "chr(65)"
   ]
  },
  {
   "cell_type": "code",
   "execution_count": 27,
   "id": "6da233e4-6086-4e6c-8654-9b205d2eddfd",
   "metadata": {},
   "outputs": [
    {
     "name": "stdout",
     "output_type": "stream",
     "text": [
      "112 - p\n",
      "121 - y\n",
      "104 - h\n",
      "116 - t\n",
      "111 - o\n",
      "110 - n\n"
     ]
    }
   ],
   "source": [
    "for i in \"pyhton\":\n",
    "    print(ord(i),\"-\",i)"
   ]
  },
  {
   "cell_type": "code",
   "execution_count": 28,
   "id": "cf697462-55bf-4bd8-80c3-ee3e0dbd8cd8",
   "metadata": {},
   "outputs": [
    {
     "name": "stdout",
     "output_type": "stream",
     "text": [
      "A - 65\n",
      "B - 66\n",
      "C - 67\n",
      "D - 68\n",
      "E - 69\n",
      "F - 70\n",
      "G - 71\n",
      "H - 72\n",
      "I - 73\n",
      "J - 74\n",
      "K - 75\n",
      "L - 76\n",
      "M - 77\n",
      "N - 78\n",
      "O - 79\n",
      "P - 80\n",
      "Q - 81\n",
      "R - 82\n",
      "S - 83\n",
      "T - 84\n",
      "U - 85\n",
      "V - 86\n",
      "W - 87\n",
      "X - 88\n",
      "Y - 89\n",
      "Z - 90\n"
     ]
    }
   ],
   "source": [
    "for i in range(65,91):\n",
    "    print(chr(i),\"-\", i)"
   ]
  },
  {
   "cell_type": "code",
   "execution_count": 36,
   "id": "56eb2dbe-f83c-4c6b-ae32-bf93af7b7fe4",
   "metadata": {},
   "outputs": [
    {
     "name": "stdout",
     "output_type": "stream",
     "text": [
      "A - 65 B - 66 C - 67 D - 68 E - 69 F - 70 G - 71 H - 72 I - 73 J - 74 K - 75 L - 76 M - 77 N - 78 O - 79 P - 80 Q - 81 R - 82 S - 83 T - 84 U - 85 V - 86 W - 87 X - 88 Y - 89 Z - 90 "
     ]
    }
   ],
   "source": [
    "for i in range(ord(\"A\"),ord(\"Z\")+1):\n",
    "    print(chr(i),\"-\", i, end=\" \")"
   ]
  },
  {
   "cell_type": "code",
   "execution_count": 30,
   "id": "c900b577-9813-4b70-b848-e4895aadaec9",
   "metadata": {},
   "outputs": [],
   "source": [
    "import string"
   ]
  },
  {
   "cell_type": "code",
   "execution_count": 35,
   "id": "2831dfdd-6fbc-4306-8e33-77e0edcb0ead",
   "metadata": {},
   "outputs": [
    {
     "name": "stdout",
     "output_type": "stream",
     "text": [
      "A  - 65\n",
      "B  - 66\n",
      "C  - 67\n",
      "D  - 68\n",
      "E  - 69\n",
      "F  - 70\n",
      "G  - 71\n",
      "H  - 72\n",
      "I  - 73\n",
      "J  - 74\n",
      "K  - 75\n",
      "L  - 76\n",
      "M  - 77\n",
      "N  - 78\n",
      "O  - 79\n",
      "P  - 80\n",
      "Q  - 81\n",
      "R  - 82\n",
      "S  - 83\n",
      "T  - 84\n",
      "U  - 85\n",
      "V  - 86\n",
      "W  - 87\n",
      "X  - 88\n",
      "Y  - 89\n",
      "Z  - 90\n"
     ]
    }
   ],
   "source": [
    "for i in string.ascii_uppercase:\n",
    "    print(i,\" -\" ,ord(i))"
   ]
  },
  {
   "cell_type": "code",
   "execution_count": 33,
   "id": "fb558678-917a-47ce-9b34-2606cb603787",
   "metadata": {},
   "outputs": [
    {
     "name": "stdout",
     "output_type": "stream",
     "text": [
      "a b c d e f g h i j k l m n o p q r s t u v w x y z "
     ]
    }
   ],
   "source": [
    "for i in string.ascii_lowercase:\n",
    "    print(i, end=\" \")"
   ]
  },
  {
   "cell_type": "code",
   "execution_count": null,
   "id": "a9f2141a-ef43-47cf-8eed-4646d4d7c82d",
   "metadata": {},
   "outputs": [],
   "source": []
  },
  {
   "cell_type": "code",
   "execution_count": null,
   "id": "be34e844-87ce-46f6-9527-8f032e4e9745",
   "metadata": {},
   "outputs": [],
   "source": []
  },
  {
   "cell_type": "code",
   "execution_count": null,
   "id": "6455caf0-fb2b-4ce2-a627-dcc9bc5718ce",
   "metadata": {},
   "outputs": [],
   "source": []
  },
  {
   "cell_type": "code",
   "execution_count": 5,
   "id": "2e60d238-1e0f-4510-bce5-41f5f891dad7",
   "metadata": {},
   "outputs": [
    {
     "name": "stdout",
     "output_type": "stream",
     "text": [
      "a b c d e f g h i j k l m n o p q r s t u v w x y z "
     ]
    }
   ],
   "source": [
    "for i in range(97,123):\n",
    "    print(chr(i), end=\" \")"
   ]
  },
  {
   "cell_type": "code",
   "execution_count": 20,
   "id": "edcb8161-f0cc-4eae-af8f-57168f974557",
   "metadata": {},
   "outputs": [
    {
     "name": "stdout",
     "output_type": "stream",
     "text": [
      "0 1 2 3 4 5 6 7 8 9 "
     ]
    }
   ],
   "source": [
    "for i in range(48,58):\n",
    "    print(chr(i), end=\" \")"
   ]
  },
  {
   "cell_type": "code",
   "execution_count": 43,
   "id": "70c3a597-d1c8-4f83-af28-a8e7e9f85356",
   "metadata": {},
   "outputs": [
    {
     "name": "stdout",
     "output_type": "stream",
     "text": [
      "\u0014 20 \u0015 21 \u0016 22 \u0017 23 \u0018 24 \u0019 25 \u001a 26 \u001b 27 \u001c",
      " 28 \u001d",
      " 29 \u001e",
      " 30 \u001f 31   32 ! 33 \" 34 # 35 $ 36 % 37 & 38 ' 39 ( 40 ) 41 * 42 + 43 , 44 - 45 . 46 / 47 0 48 1 49 2 50 3 51 4 52 5 53 6 54 7 55 8 56 9 57 : 58 ; 59 < 60 = 61 > 62 ? 63 @ 64 A 65 B 66 C 67 D 68 E 69 F 70 G 71 H 72 I 73 J 74 K 75 L 76 M 77 N 78 O 79 P 80 Q 81 R 82 S 83 T 84 U 85 V 86 W 87 X 88 Y 89 Z 90 [ 91 \\ 92 ] 93 ^ 94 _ 95 ` 96 a 97 b 98 c 99 d 100 e 101 f 102 g 103 h 104 i 105 j 106 k 107 l 108 m 109 n 110 o 111 p 112 q 113 r 114 s 115 t 116 u 117 v 118 w 119 x 120 y 121 z 122 { 123 | 124 } 125 ~ 126  127  128  129  130  131  132 ",
      " 133  134  135  136  137  138  139  140  141  142  143  144  145  146  147  148  149 "
     ]
    }
   ],
   "source": [
    "for i in range(20,150):\n",
    "    print(chr(i), i, end=\" \")"
   ]
  },
  {
   "cell_type": "code",
   "execution_count": 52,
   "id": "cbdab377-797d-4442-9c79-fced39341dbf",
   "metadata": {},
   "outputs": [
    {
     "name": "stdout",
     "output_type": "stream",
     "text": [
      "ऄ ====> 2308 --- अ ====> 2309 --- आ ====> 2310 --- इ ====> 2311 --- ई ====> 2312 --- उ ====> 2313 --- ऊ ====> 2314 --- ऋ ====> 2315 --- ऌ ====> 2316 --- ऍ ====> 2317 --- ऎ ====> 2318 --- ए ====> 2319 --- ऐ ====> 2320 --- ऑ ====> 2321 --- ऒ ====> 2322 --- ओ ====> 2323 --- औ ====> 2324 --- क ====> 2325 --- ख ====> 2326 --- ग ====> 2327 --- घ ====> 2328 --- ङ ====> 2329 --- च ====> 2330 --- छ ====> 2331 --- ज ====> 2332 --- झ ====> 2333 --- ञ ====> 2334 --- ट ====> 2335 --- ठ ====> 2336 --- ड ====> 2337 --- ढ ====> 2338 --- ण ====> 2339 --- त ====> 2340 --- थ ====> 2341 --- द ====> 2342 --- ध ====> 2343 --- न ====> 2344 --- ऩ ====> 2345 --- प ====> 2346 --- फ ====> 2347 --- ब ====> 2348 --- भ ====> 2349 --- म ====> 2350 --- य ====> 2351 --- र ====> 2352 --- ऱ ====> 2353 --- ल ====> 2354 --- ळ ====> 2355 --- ऴ ====> 2356 --- व ====> 2357 --- श ====> 2358 --- ष ====> 2359 --- स ====> 2360 --- ह ====> 2361 --- ऺ ====> 2362 --- ऻ ====> 2363 --- ़ ====> 2364 --- ऽ ====> 2365 --- ा ====> 2366 --- ि ====> 2367 --- ी ====> 2368 --- ु ====> 2369 --- ू ====> 2370 --- ृ ====> 2371 --- ॄ ====> 2372 --- ॅ ====> 2373 --- ॆ ====> 2374 --- े ====> 2375 --- ै ====> 2376 --- ॉ ====> 2377 --- ॊ ====> 2378 --- ो ====> 2379 --- ौ ====> 2380 --- ् ====> 2381 --- ॎ ====> 2382 --- ॏ ====> 2383 --- ॐ ====> 2384 --- ॑ ====> 2385 --- ॒ ====> 2386 --- ॓ ====> 2387 --- ॔ ====> 2388 --- ॕ ====> 2389 --- ॖ ====> 2390 --- ॗ ====> 2391 --- क़ ====> 2392 --- ख़ ====> 2393 --- ग़ ====> 2394 --- ज़ ====> 2395 --- ड़ ====> 2396 --- ढ़ ====> 2397 --- फ़ ====> 2398 --- य़ ====> 2399 --- ॠ ====> 2400 --- ॡ ====> 2401 --- ॢ ====> 2402 --- ॣ ====> 2403 --- । ====> 2404 --- ॥ ====> 2405 --- ० ====> 2406 --- १ ====> 2407 --- २ ====> 2408 --- ३ ====> 2409 --- ४ ====> 2410 --- ५ ====> 2411 --- ६ ====> 2412 --- ७ ====> 2413 --- ८ ====> 2414 --- ९ ====> 2415 --- ॰ ====> 2416 --- ॱ ====> 2417 --- ॲ ====> 2418 --- ॳ ====> 2419 --- ॴ ====> 2420 --- ॵ ====> 2421 --- ॶ ====> 2422 --- ॷ ====> 2423 --- ॸ ====> 2424 --- ॹ ====> 2425 --- ॺ ====> 2426 --- ॻ ====> 2427 --- ॼ ====> 2428 --- ॽ ====> 2429 --- ॾ ====> 2430 --- ॿ ====> 2431 --- ঀ ====> 2432 --- ঁ ====> 2433 --- ং ====> 2434 --- ঃ ====> 2435 --- ঄ ====> 2436 --- অ ====> 2437 --- আ ====> 2438 --- ই ====> 2439 --- ঈ ====> 2440 --- উ ====> 2441 --- ঊ ====> 2442 --- ঋ ====> 2443 --- ঌ ====> 2444 --- ঍ ====> 2445 --- ঎ ====> 2446 --- এ ====> 2447 --- ঐ ====> 2448 --- ঑ ====> 2449 --- ঒ ====> 2450 --- ও ====> 2451 --- ঔ ====> 2452 --- ক ====> 2453 --- খ ====> 2454 --- গ ====> 2455 --- ঘ ====> 2456 --- ঙ ====> 2457 --- চ ====> 2458 --- ছ ====> 2459 --- জ ====> 2460 --- ঝ ====> 2461 --- ঞ ====> 2462 --- ট ====> 2463 --- ঠ ====> 2464 --- ড ====> 2465 --- ঢ ====> 2466 --- ণ ====> 2467 --- ত ====> 2468 --- থ ====> 2469 --- দ ====> 2470 --- ধ ====> 2471 --- ন ====> 2472 --- ঩ ====> 2473 --- প ====> 2474 --- ফ ====> 2475 --- ব ====> 2476 --- ভ ====> 2477 --- ম ====> 2478 --- য ====> 2479 --- র ====> 2480 --- ঱ ====> 2481 --- ল ====> 2482 --- ঳ ====> 2483 --- ঴ ====> 2484 --- ঵ ====> 2485 --- শ ====> 2486 --- ষ ====> 2487 --- স ====> 2488 --- হ ====> 2489 --- ঺ ====> 2490 --- ঻ ====> 2491 --- ় ====> 2492 --- ঽ ====> 2493 --- া ====> 2494 --- ি ====> 2495 --- ী ====> 2496 --- ু ====> 2497 --- ূ ====> 2498 --- ৃ ====> 2499 --- ৄ ====> 2500 --- ৅ ====> 2501 --- ৆ ====> 2502 --- ে ====> 2503 --- ৈ ====> 2504 --- ৉ ====> 2505 --- ৊ ====> 2506 --- ো ====> 2507 --- ৌ ====> 2508 --- ্ ====> 2509 --- ৎ ====> 2510 --- ৏ ====> 2511 --- ৐ ====> 2512 --- ৑ ====> 2513 --- ৒ ====> 2514 --- ৓ ====> 2515 --- ৔ ====> 2516 --- ৕ ====> 2517 --- ৖ ====> 2518 --- ৗ ====> 2519 --- ৘ ====> 2520 --- ৙ ====> 2521 --- ৚ ====> 2522 --- ৛ ====> 2523 --- ড় ====> 2524 --- ঢ় ====> 2525 --- ৞ ====> 2526 --- য় ====> 2527 --- ৠ ====> 2528 --- ৡ ====> 2529 --- ৢ ====> 2530 --- ৣ ====> 2531 --- ৤ ====> 2532 --- ৥ ====> 2533 --- ০ ====> 2534 --- ১ ====> 2535 --- ২ ====> 2536 --- ৩ ====> 2537 --- ৪ ====> 2538 --- ৫ ====> 2539 --- ৬ ====> 2540 --- ৭ ====> 2541 --- ৮ ====> 2542 --- ৯ ====> 2543 --- ৰ ====> 2544 --- ৱ ====> 2545 --- ৲ ====> 2546 --- ৳ ====> 2547 --- ৴ ====> 2548 --- ৵ ====> 2549 --- ৶ ====> 2550 --- ৷ ====> 2551 --- ৸ ====> 2552 --- ৹ ====> 2553 --- ৺ ====> 2554 --- ৻ ====> 2555 --- ৼ ====> 2556 --- ৽ ====> 2557 --- ৾ ====> 2558 --- ৿ ====> 2559 --- ਀ ====> 2560 --- ਁ ====> 2561 --- ਂ ====> 2562 --- ਃ ====> 2563 --- ਄ ====> 2564 --- ਅ ====> 2565 --- ਆ ====> 2566 --- ਇ ====> 2567 --- ਈ ====> 2568 --- ਉ ====> 2569 --- ਊ ====> 2570 --- ਋ ====> 2571 --- ਌ ====> 2572 --- ਍ ====> 2573 --- ਎ ====> 2574 --- ਏ ====> 2575 --- ਐ ====> 2576 --- ਑ ====> 2577 --- ਒ ====> 2578 --- ਓ ====> 2579 --- ਔ ====> 2580 --- ਕ ====> 2581 --- ਖ ====> 2582 --- ਗ ====> 2583 --- ਘ ====> 2584 --- ਙ ====> 2585 --- ਚ ====> 2586 --- ਛ ====> 2587 --- ਜ ====> 2588 --- ਝ ====> 2589 --- ਞ ====> 2590 --- ਟ ====> 2591 --- ਠ ====> 2592 --- ਡ ====> 2593 --- ਢ ====> 2594 --- ਣ ====> 2595 --- ਤ ====> 2596 --- ਥ ====> 2597 --- ਦ ====> 2598 --- ਧ ====> 2599 --- ਨ ====> 2600 --- ਩ ====> 2601 --- ਪ ====> 2602 --- ਫ ====> 2603 --- ਬ ====> 2604 --- ਭ ====> 2605 --- ਮ ====> 2606 --- ਯ ====> 2607 --- ਰ ====> 2608 --- ਱ ====> 2609 --- ਲ ====> 2610 --- ਲ਼ ====> 2611 --- ਴ ====> 2612 --- ਵ ====> 2613 --- ਸ਼ ====> 2614 --- ਷ ====> 2615 --- ਸ ====> 2616 --- ਹ ====> 2617 --- ਺ ====> 2618 --- ਻ ====> 2619 --- ਼ ====> 2620 --- ਽ ====> 2621 --- ਾ ====> 2622 --- ਿ ====> 2623 --- ੀ ====> 2624 --- ੁ ====> 2625 --- ੂ ====> 2626 --- ੃ ====> 2627 --- ੄ ====> 2628 --- ੅ ====> 2629 --- ੆ ====> 2630 --- ੇ ====> 2631 --- ੈ ====> 2632 --- ੉ ====> 2633 --- ੊ ====> 2634 --- ੋ ====> 2635 --- ੌ ====> 2636 --- ੍ ====> 2637 --- ੎ ====> 2638 --- ੏ ====> 2639 --- ੐ ====> 2640 --- ੑ ====> 2641 --- ੒ ====> 2642 --- ੓ ====> 2643 --- ੔ ====> 2644 --- ੕ ====> 2645 --- ੖ ====> 2646 --- ੗ ====> 2647 --- ੘ ====> 2648 --- ਖ਼ ====> 2649 --- ਗ਼ ====> 2650 --- ਜ਼ ====> 2651 --- ੜ ====> 2652 --- ੝ ====> 2653 --- ਫ਼ ====> 2654 --- ੟ ====> 2655 --- ੠ ====> 2656 --- ੡ ====> 2657 --- ੢ ====> 2658 --- ੣ ====> 2659 --- ੤ ====> 2660 --- ੥ ====> 2661 --- ੦ ====> 2662 --- ੧ ====> 2663 --- ੨ ====> 2664 --- ੩ ====> 2665 --- ੪ ====> 2666 --- ੫ ====> 2667 --- ੬ ====> 2668 --- ੭ ====> 2669 --- ੮ ====> 2670 --- ੯ ====> 2671 --- ੰ ====> 2672 --- ੱ ====> 2673 --- ੲ ====> 2674 --- ੳ ====> 2675 --- ੴ ====> 2676 --- ੵ ====> 2677 --- ੶ ====> 2678 --- ੷ ====> 2679 --- ੸ ====> 2680 --- ੹ ====> 2681 --- ੺ ====> 2682 --- ੻ ====> 2683 --- ੼ ====> 2684 --- ੽ ====> 2685 --- ੾ ====> 2686 --- ੿ ====> 2687 --- ઀ ====> 2688 --- ઁ ====> 2689 --- ં ====> 2690 --- ઃ ====> 2691 --- ઄ ====> 2692 --- અ ====> 2693 --- આ ====> 2694 --- ઇ ====> 2695 --- ઈ ====> 2696 --- ઉ ====> 2697 --- ઊ ====> 2698 --- ઋ ====> 2699 --- ઌ ====> 2700 --- ઍ ====> 2701 --- ઎ ====> 2702 --- એ ====> 2703 --- ઐ ====> 2704 --- ઑ ====> 2705 --- ઒ ====> 2706 --- ઓ ====> 2707 --- ઔ ====> 2708 --- ક ====> 2709 --- ખ ====> 2710 --- ગ ====> 2711 --- ઘ ====> 2712 --- ઙ ====> 2713 --- ચ ====> 2714 --- છ ====> 2715 --- જ ====> 2716 --- ઝ ====> 2717 --- ઞ ====> 2718 --- ટ ====> 2719 --- ઠ ====> 2720 --- ડ ====> 2721 --- ઢ ====> 2722 --- ણ ====> 2723 --- ત ====> 2724 --- થ ====> 2725 --- દ ====> 2726 --- ધ ====> 2727 --- ન ====> 2728 --- ઩ ====> 2729 --- પ ====> 2730 --- ફ ====> 2731 --- બ ====> 2732 --- ભ ====> 2733 --- મ ====> 2734 --- ય ====> 2735 --- ર ====> 2736 --- ઱ ====> 2737 --- લ ====> 2738 --- ળ ====> 2739 --- ઴ ====> 2740 --- વ ====> 2741 --- શ ====> 2742 --- ષ ====> 2743 --- સ ====> 2744 --- હ ====> 2745 --- ઺ ====> 2746 --- ઻ ====> 2747 --- ઼ ====> 2748 --- ઽ ====> 2749 --- ા ====> 2750 --- િ ====> 2751 --- ી ====> 2752 --- ુ ====> 2753 --- ૂ ====> 2754 --- ૃ ====> 2755 --- ૄ ====> 2756 --- ૅ ====> 2757 --- ૆ ====> 2758 --- ે ====> 2759 --- ૈ ====> 2760 --- ૉ ====> 2761 --- ૊ ====> 2762 --- ો ====> 2763 --- ૌ ====> 2764 --- ્ ====> 2765 --- ૎ ====> 2766 --- ૏ ====> 2767 --- ૐ ====> 2768 --- ૑ ====> 2769 --- ૒ ====> 2770 --- ૓ ====> 2771 --- ૔ ====> 2772 --- ૕ ====> 2773 --- ૖ ====> 2774 --- ૗ ====> 2775 --- ૘ ====> 2776 --- ૙ ====> 2777 --- ૚ ====> 2778 --- ૛ ====> 2779 --- ૜ ====> 2780 --- ૝ ====> 2781 --- ૞ ====> 2782 --- ૟ ====> 2783 --- ૠ ====> 2784 --- ૡ ====> 2785 --- ૢ ====> 2786 --- ૣ ====> 2787 --- ૤ ====> 2788 --- ૥ ====> 2789 --- ૦ ====> 2790 --- ૧ ====> 2791 --- ૨ ====> 2792 --- ૩ ====> 2793 --- ૪ ====> 2794 --- ૫ ====> 2795 --- ૬ ====> 2796 --- ૭ ====> 2797 --- ૮ ====> 2798 --- ૯ ====> 2799 --- ૰ ====> 2800 --- ૱ ====> 2801 --- ૲ ====> 2802 --- ૳ ====> 2803 --- ૴ ====> 2804 --- ૵ ====> 2805 --- ૶ ====> 2806 --- ૷ ====> 2807 --- ૸ ====> 2808 --- ૹ ====> 2809 --- ૺ ====> 2810 --- ૻ ====> 2811 --- ૼ ====> 2812 --- ૽ ====> 2813 --- ૾ ====> 2814 --- ૿ ====> 2815 --- ଀ ====> 2816 --- ଁ ====> 2817 --- ଂ ====> 2818 --- ଃ ====> 2819 --- ଄ ====> 2820 --- ଅ ====> 2821 --- ଆ ====> 2822 --- ଇ ====> 2823 --- ଈ ====> 2824 --- ଉ ====> 2825 --- ଊ ====> 2826 --- ଋ ====> 2827 --- ଌ ====> 2828 --- ଍ ====> 2829 --- ଎ ====> 2830 --- ଏ ====> 2831 --- ଐ ====> 2832 --- ଑ ====> 2833 --- ଒ ====> 2834 --- ଓ ====> 2835 --- ଔ ====> 2836 --- କ ====> 2837 --- ଖ ====> 2838 --- ଗ ====> 2839 --- ଘ ====> 2840 --- ଙ ====> 2841 --- ଚ ====> 2842 --- ଛ ====> 2843 --- ଜ ====> 2844 --- ଝ ====> 2845 --- ଞ ====> 2846 --- ଟ ====> 2847 --- ଠ ====> 2848 --- ଡ ====> 2849 --- ଢ ====> 2850 --- ଣ ====> 2851 --- ତ ====> 2852 --- ଥ ====> 2853 --- ଦ ====> 2854 --- ଧ ====> 2855 --- ନ ====> 2856 --- ଩ ====> 2857 --- ପ ====> 2858 --- ଫ ====> 2859 --- ବ ====> 2860 --- ଭ ====> 2861 --- ମ ====> 2862 --- ଯ ====> 2863 --- ର ====> 2864 --- ଱ ====> 2865 --- ଲ ====> 2866 --- ଳ ====> 2867 --- ଴ ====> 2868 --- ଵ ====> 2869 --- ଶ ====> 2870 --- ଷ ====> 2871 --- ସ ====> 2872 --- ହ ====> 2873 --- ଺ ====> 2874 --- ଻ ====> 2875 --- ଼ ====> 2876 --- ଽ ====> 2877 --- ା ====> 2878 --- ି ====> 2879 --- ୀ ====> 2880 --- ୁ ====> 2881 --- ୂ ====> 2882 --- ୃ ====> 2883 --- ୄ ====> 2884 --- ୅ ====> 2885 --- ୆ ====> 2886 --- େ ====> 2887 --- ୈ ====> 2888 --- ୉ ====> 2889 --- ୊ ====> 2890 --- ୋ ====> 2891 --- ୌ ====> 2892 --- ୍ ====> 2893 --- ୎ ====> 2894 --- ୏ ====> 2895 --- ୐ ====> 2896 --- ୑ ====> 2897 --- ୒ ====> 2898 --- ୓ ====> 2899 --- ୔ ====> 2900 --- ୕ ====> 2901 --- ୖ ====> 2902 --- ୗ ====> 2903 --- ୘ ====> 2904 --- ୙ ====> 2905 --- ୚ ====> 2906 --- ୛ ====> 2907 --- ଡ଼ ====> 2908 --- ଢ଼ ====> 2909 --- ୞ ====> 2910 --- ୟ ====> 2911 --- ୠ ====> 2912 --- ୡ ====> 2913 --- ୢ ====> 2914 --- ୣ ====> 2915 --- ୤ ====> 2916 --- ୥ ====> 2917 --- ୦ ====> 2918 --- ୧ ====> 2919 --- ୨ ====> 2920 --- ୩ ====> 2921 --- ୪ ====> 2922 --- ୫ ====> 2923 --- ୬ ====> 2924 --- ୭ ====> 2925 --- ୮ ====> 2926 --- ୯ ====> 2927 --- ୰ ====> 2928 --- ୱ ====> 2929 --- ୲ ====> 2930 --- ୳ ====> 2931 --- ୴ ====> 2932 --- ୵ ====> 2933 --- ୶ ====> 2934 --- ୷ ====> 2935 --- ୸ ====> 2936 --- ୹ ====> 2937 --- ୺ ====> 2938 --- ୻ ====> 2939 --- ୼ ====> 2940 --- ୽ ====> 2941 --- ୾ ====> 2942 --- ୿ ====> 2943 --- ஀ ====> 2944 --- ஁ ====> 2945 --- ஂ ====> 2946 --- ஃ ====> 2947 --- ஄ ====> 2948 --- அ ====> 2949 --- ஆ ====> 2950 --- இ ====> 2951 --- ஈ ====> 2952 --- உ ====> 2953 --- ஊ ====> 2954 --- ஋ ====> 2955 --- ஌ ====> 2956 --- ஍ ====> 2957 --- எ ====> 2958 --- ஏ ====> 2959 --- ஐ ====> 2960 --- ஑ ====> 2961 --- ஒ ====> 2962 --- ஓ ====> 2963 --- ஔ ====> 2964 --- க ====> 2965 --- ஖ ====> 2966 --- ஗ ====> 2967 --- ஘ ====> 2968 --- ங ====> 2969 --- ச ====> 2970 --- ஛ ====> 2971 --- ஜ ====> 2972 --- ஝ ====> 2973 --- ஞ ====> 2974 --- ட ====> 2975 --- ஠ ====> 2976 --- ஡ ====> 2977 --- ஢ ====> 2978 --- ண ====> 2979 --- த ====> 2980 --- ஥ ====> 2981 --- ஦ ====> 2982 --- ஧ ====> 2983 --- ந ====> 2984 --- ன ====> 2985 --- ப ====> 2986 --- ஫ ====> 2987 --- ஬ ====> 2988 --- ஭ ====> 2989 --- ம ====> 2990 --- ய ====> 2991 --- ர ====> 2992 --- ற ====> 2993 --- ல ====> 2994 --- ள ====> 2995 --- ழ ====> 2996 --- வ ====> 2997 --- ஶ ====> 2998 --- ஷ ====> 2999 --- "
     ]
    }
   ],
   "source": [
    "for i in range(2308,3000):\n",
    "    print(chr(i),\"====>\", i, end=\" --- \")"
   ]
  },
  {
   "cell_type": "code",
   "execution_count": null,
   "id": "17323632-8eed-4fe4-90fa-8b35c357bdad",
   "metadata": {},
   "outputs": [],
   "source": []
  }
 ],
 "metadata": {
  "kernelspec": {
   "display_name": "Python [conda env:base] *",
   "language": "python",
   "name": "conda-base-py"
  },
  "language_info": {
   "codemirror_mode": {
    "name": "ipython",
    "version": 3
   },
   "file_extension": ".py",
   "mimetype": "text/x-python",
   "name": "python",
   "nbconvert_exporter": "python",
   "pygments_lexer": "ipython3",
   "version": "3.13.5"
  }
 },
 "nbformat": 4,
 "nbformat_minor": 5
}
