{
 "cells": [
  {
   "cell_type": "markdown",
   "id": "475a0aa1-3d27-4a21-bb5b-e88a18cd7875",
   "metadata": {},
   "source": [
    "## Try and except"
   ]
  },
  {
   "cell_type": "markdown",
   "id": "13e09538-36e1-4350-a09d-d83bf580862f",
   "metadata": {},
   "source": [
    "- syntax error \n",
    "- indentation error\n",
    "- type error\n",
    "- name errro\n",
    "- zero division error\n",
    "- module not found error\n",
    "- attribute error\n",
    "- usage error"
   ]
  },
  {
   "cell_type": "code",
   "execution_count": 8,
   "id": "814f91aa-f166-4c25-b0f4-19ae27fb35d2",
   "metadata": {},
   "outputs": [
    {
     "name": "stderr",
     "output_type": "stream",
     "text": [
      "UsageError: Line magic function `%/200` not found.\n"
     ]
    }
   ],
   "source": [
    "%/200"
   ]
  },
  {
   "cell_type": "code",
   "execution_count": 13,
   "id": "ce013f9e-43c9-4ff0-8798-c96bc6ec2541",
   "metadata": {},
   "outputs": [
    {
     "name": "stdout",
     "output_type": "stream",
     "text": [
      "45\n",
      "74\n",
      "the addition of 45 and 74 is 119\n"
     ]
    }
   ],
   "source": [
    "try:\n",
    "    a=45\n",
    "    print(a)\n",
    "    b= 74\n",
    "    print(b)\n",
    "    print(f\"the Addition of {a} and {b} is {a+b}\")\n",
    "except exception as e:\n",
    "    print(e)"
   ]
  },
  {
   "cell_type": "code",
   "execution_count": 14,
   "id": "ab498b5b-5cc6-49fd-8361-76a989e6006a",
   "metadata": {},
   "outputs": [
    {
     "name": "stdout",
     "output_type": "stream",
     "text": [
      "invalid literal for int() with base 10: '10.5'\n"
     ]
    }
   ],
   "source": [
    "try:\n",
    "    int(\"10.5\")\n",
    "except Exception as e:\n",
    "    print(e)"
   ]
  },
  {
   "cell_type": "code",
   "execution_count": 15,
   "id": "58952c20-c812-4c50-953d-a0d3e423a9d9",
   "metadata": {},
   "outputs": [
    {
     "name": "stdout",
     "output_type": "stream",
     "text": [
      "Line magic function `%/200` not found.\n"
     ]
    }
   ],
   "source": [
    "try:\n",
    "    %/200\n",
    "except Exception as e:\n",
    "    print(e)"
   ]
  },
  {
   "cell_type": "code",
   "execution_count": 19,
   "id": "22a1d08b-99b5-4001-9a14-6db4fdd47ff7",
   "metadata": {},
   "outputs": [
    {
     "name": "stdout",
     "output_type": "stream",
     "text": [
      "pow expected 2 arguments, got 1\n"
     ]
    }
   ],
   "source": [
    "try:\n",
    "    math.pow(5)\n",
    "except Exception as e:\n",
    "    print(e)"
   ]
  },
  {
   "cell_type": "code",
   "execution_count": 23,
   "id": "a4b8dede-74ef-482a-90eb-8aa6150c3e46",
   "metadata": {},
   "outputs": [
    {
     "name": "stdout",
     "output_type": "stream",
     "text": [
      "pow expected 2 arguments, got 1\n",
      "kam hogaya\n"
     ]
    }
   ],
   "source": [
    "try:\n",
    "    math.pow(5)\n",
    "except Exception as e:\n",
    "    print(e)\n",
    "    print(\"kam hogaya\")\n"
   ]
  },
  {
   "cell_type": "code",
   "execution_count": 25,
   "id": "724af469-1a23-4cc6-92b8-da21c1c1fef0",
   "metadata": {},
   "outputs": [
    {
     "name": "stdout",
     "output_type": "stream",
     "text": [
      "pow expected 2 arguments, got 1\n",
      "log Out\n"
     ]
    }
   ],
   "source": [
    "try:\n",
    "    math.pow(5)\n",
    "except Exception as e:\n",
    "    print(e)\n",
    "finally:\n",
    "    print(\"log Out\")"
   ]
  },
  {
   "cell_type": "markdown",
   "id": "30ea4d61-bbf3-4ad2-a180-2137d158ca1a",
   "metadata": {},
   "source": [
    "<img src=\"https://images.pexels.com/photos/358070/pexels-photo-358070.jpeg?cs=srgb&amp;dl=car-vehicle-luxury-358070.jpg&amp;fm=jpg\" alt=\"Car images · Pexels · Free Stock Photos\" class=\" nofocus\" tabindex=\"0\" aria-label=\"Car images · Pexels · Free Stock Photos\" role=\"button\">"
   ]
  },
  {
   "cell_type": "markdown",
   "id": "e411b9f4-b4c9-41aa-9c00-2be15d7bfd6a",
   "metadata": {},
   "source": [
    "<img src=\"https://th.bing.com/th/id/R.6ea408daa5c266c136dfe2ef684a540f?rik=XHl4C%2fagM%2bD6Sw&amp;riu=http%3a%2f%2fwallpapercave.com%2fwp%2fXL8tYyk.jpg&amp;ehk=XUedN0PF6BSolL%2fV9XMWz2dulVS4afDrs9pC1C2OyHo%3d&amp;risl=&amp;pid=ImgRaw&amp;r=0\" alt=\"Spider-Man HD Wallpapers - Wallpaper Cave\" class=\" nofocus\" tabindex=\"0\" aria-label=\"Spider-Man HD Wallpapers - Wallpaper Cave\" role=\"button\">"
   ]
  },
  {
   "cell_type": "code",
   "execution_count": 8,
   "id": "8eae4eb2-90f1-406f-b96d-b24790ff737c",
   "metadata": {},
   "outputs": [
    {
     "name": "stdout",
     "output_type": "stream",
     "text": [
      "ok\n"
     ]
    }
   ],
   "source": [
    "try:\n",
    "    i=2 \n",
    "    if i%2==0:\n",
    "        print(\"ok\")\n",
    "except Exception as e:\n",
    "    print(e)"
   ]
  },
  {
   "cell_type": "code",
   "execution_count": 11,
   "id": "3cd4787f-8a46-41ef-9287-ab0ca83d2b68",
   "metadata": {},
   "outputs": [
    {
     "name": "stdin",
     "output_type": "stream",
     "text": [
      "Enter the value:  45\n"
     ]
    },
    {
     "name": "stdout",
     "output_type": "stream",
     "text": [
      "45 is a Odd Number\n"
     ]
    }
   ],
   "source": [
    "try:\n",
    "    i=eval(input(\"Enter the value: \"))\n",
    "    if i%2==0:\n",
    "        print(f\"{i} is a Even Number\")\n",
    "    else:\n",
    "        print(f\"{i} is a Odd Number\")\n",
    "except Exception as e:\n",
    "    print(e)"
   ]
  },
  {
   "cell_type": "code",
   "execution_count": 52,
   "id": "0edbd33f-375f-4076-ab37-6770b85139b2",
   "metadata": {},
   "outputs": [
    {
     "ename": "IndentationError",
     "evalue": "unindent does not match any outer indentation level (<string>, line 5)",
     "output_type": "error",
     "traceback": [
      "\u001b[1;36m  File \u001b[1;32m<string>:5\u001b[1;36m\u001b[0m\n\u001b[1;33m    else:\u001b[0m\n\u001b[1;37m         ^\u001b[0m\n\u001b[1;31mIndentationError\u001b[0m\u001b[1;31m:\u001b[0m unindent does not match any outer indentation level\n"
     ]
    }
   ],
   "source": [
    "try:\n",
    "    i=eval(input(\"Enter the value: \"))\n",
    "    if i%2==0:\n",
    "        print(f\"{i} is a Even Number\")\n",
    "     else:\n",
    "        print(f\"{i} is a Odd Number\")\n",
    "except Exception as e:\n",
    "    print(e)\n",
    "finally:\n",
    "    print(\"log out \")"
   ]
  },
  {
   "cell_type": "code",
   "execution_count": 50,
   "id": "d7a04f75-b3d7-42ef-a831-6c0a21392af0",
   "metadata": {},
   "outputs": [
    {
     "name": "stdout",
     "output_type": "stream",
     "text": [
      "pow expected 2 arguments, got 1\n",
      "log out \n"
     ]
    }
   ],
   "source": [
    "import math\n",
    "try:\n",
    "    math.pow(2)\n",
    "    \n",
    "except Exception as e:\n",
    "    print(e)\n",
    "finally:\n",
    "    print(\"log out \")"
   ]
  },
  {
   "cell_type": "code",
   "execution_count": 44,
   "id": "dac78b0d-4112-467e-a99e-41221dc30543",
   "metadata": {},
   "outputs": [
    {
     "name": "stdout",
     "output_type": "stream",
     "text": [
      "division by zero\n"
     ]
    }
   ],
   "source": [
    "try:\n",
    "    numerator = 10\n",
    "    denominator = 0\n",
    "    result = numerator / denominator  # Crash! ZeroDivisionError\n",
    "    print(result)\n",
    "except Exception as e:\n",
    "    print(e)"
   ]
  },
  {
   "cell_type": "code",
   "execution_count": 49,
   "id": "06d43733-13c6-485b-82b7-7940cd07620b",
   "metadata": {},
   "outputs": [
    {
     "data": {
      "text/plain": [
       "0"
      ]
     },
     "execution_count": 49,
     "metadata": {},
     "output_type": "execute_result"
    }
   ],
   "source": []
  },
  {
   "cell_type": "code",
   "execution_count": 62,
   "id": "6c338978-66ca-46f3-a1c7-009047228c7e",
   "metadata": {},
   "outputs": [
    {
     "name": "stdout",
     "output_type": "stream",
     "text": [
      "invalid literal for int() with base 10: 'abc'\n"
     ]
    }
   ],
   "source": [
    "try:\n",
    "    a= int(\"abc\")\n",
    "    b= 5+\"10\"\n",
    "except Exception as e:\n",
    "    print(e)"
   ]
  },
  {
   "cell_type": "code",
   "execution_count": 63,
   "id": "372d5011-82a1-40c6-969e-16767313102f",
   "metadata": {},
   "outputs": [
    {
     "ename": "TypeError",
     "evalue": "unsupported operand type(s) for +: 'int' and 'str'",
     "output_type": "error",
     "traceback": [
      "\u001b[1;31m---------------------------------------------------------------------------\u001b[0m",
      "\u001b[1;31mTypeError\u001b[0m                                 Traceback (most recent call last)",
      "Cell \u001b[1;32mIn[63], line 2\u001b[0m\n\u001b[0;32m      1\u001b[0m a\u001b[38;5;241m=\u001b[39m\u001b[38;5;241m5\u001b[39m\n\u001b[1;32m----> 2\u001b[0m b\u001b[38;5;241m=\u001b[39m\u001b[38;5;241m5\u001b[39m\u001b[38;5;241m+\u001b[39m\u001b[38;5;124m\"\u001b[39m\u001b[38;5;124m45\u001b[39m\u001b[38;5;124m\"\u001b[39m\n",
      "\u001b[1;31mTypeError\u001b[0m: unsupported operand type(s) for +: 'int' and 'str'"
     ]
    }
   ],
   "source": [
    "a=5\n",
    "b=5+\"45\""
   ]
  },
  {
   "cell_type": "code",
   "execution_count": 65,
   "id": "34f46e07-4db4-4cea-bd9f-a8c0385a2dac",
   "metadata": {},
   "outputs": [
    {
     "name": "stdout",
     "output_type": "stream",
     "text": [
      "[Errno 2] No such file or directory: 'nonexistent.txt'\n"
     ]
    }
   ],
   "source": [
    "try:\n",
    "    file = open(\"nonexistent.txt\", \"r\")\n",
    "except Exception as e:\n",
    "    print(e)"
   ]
  },
  {
   "cell_type": "code",
   "execution_count": 66,
   "id": "626341db-40c9-4b88-8a63-e70961b307c4",
   "metadata": {},
   "outputs": [
    {
     "name": "stdout",
     "output_type": "stream",
     "text": [
      "Success! Number = 42\n"
     ]
    }
   ],
   "source": [
    "try:\n",
    "    num = int(\"42\")  # Valid conversion\n",
    "except ValueError:\n",
    "    print(\"Invalid number!\")\n",
    "else:\n",
    "    print(\"Success! Number =\", num)  # Runs if no error"
   ]
  },
  {
   "cell_type": "code",
   "execution_count": 80,
   "id": "9b8716b4-b169-4a54-8e81-718f1e5f0796",
   "metadata": {},
   "outputs": [],
   "source": [
    "a= \"12 56 2 54 5 4 6 1\""
   ]
  },
  {
   "cell_type": "code",
   "execution_count": 81,
   "id": "0512cab0-de88-4873-bfdf-de88c4af4c26",
   "metadata": {},
   "outputs": [],
   "source": [
    "b=a.split()"
   ]
  },
  {
   "cell_type": "code",
   "execution_count": 87,
   "id": "baa946d5-da81-4814-9314-44b1cccfd725",
   "metadata": {},
   "outputs": [
    {
     "data": {
      "text/plain": [
       "['12', '56', '2', '54', '5', '4', '6', '1']"
      ]
     },
     "execution_count": 87,
     "metadata": {},
     "output_type": "execute_result"
    }
   ],
   "source": [
    "b"
   ]
  },
  {
   "cell_type": "code",
   "execution_count": 86,
   "id": "08c76b37-7cd2-4a95-9d47-4f90a85e3cf1",
   "metadata": {},
   "outputs": [
    {
     "name": "stdout",
     "output_type": "stream",
     "text": [
      "68\n",
      "112\n",
      "58\n",
      "110\n",
      "61\n",
      "60\n",
      "62\n",
      "57\n"
     ]
    }
   ],
   "source": [
    "for i in b:\n",
    "    # print(i)\n",
    "    print(int(i)+56)"
   ]
  },
  {
   "cell_type": "code",
   "execution_count": 90,
   "id": "0b467e20-0204-49fa-81ee-cb9105de0e46",
   "metadata": {},
   "outputs": [],
   "source": [
    "a=float(\"inf\")"
   ]
  },
  {
   "cell_type": "code",
   "execution_count": 92,
   "id": "5d96b105-3db7-4a7e-a1ae-345fb8c1ca09",
   "metadata": {},
   "outputs": [],
   "source": [
    "a= range(1,10)"
   ]
  },
  {
   "cell_type": "code",
   "execution_count": 93,
   "id": "82a59901-c6d0-409b-a3ab-63c8b4850670",
   "metadata": {},
   "outputs": [
    {
     "data": {
      "text/plain": [
       "[1, 2, 3, 4, 5, 6, 7, 8, 9]"
      ]
     },
     "execution_count": 93,
     "metadata": {},
     "output_type": "execute_result"
    }
   ],
   "source": [
    "list(a)"
   ]
  },
  {
   "cell_type": "code",
   "execution_count": 94,
   "id": "2e2f6d2a-8215-4635-94b2-6e7f485adadc",
   "metadata": {},
   "outputs": [
    {
     "data": {
      "text/plain": [
       "(1, 2, 3, 4, 5, 6, 7, 8, 9)"
      ]
     },
     "execution_count": 94,
     "metadata": {},
     "output_type": "execute_result"
    }
   ],
   "source": [
    "tuple(a)"
   ]
  },
  {
   "cell_type": "code",
   "execution_count": 96,
   "id": "e0c33a09-3254-4d67-bd56-67adb4a4546d",
   "metadata": {},
   "outputs": [
    {
     "data": {
      "text/plain": [
       "{1, 2, 3, 4, 5, 6, 7, 8, 9}"
      ]
     },
     "execution_count": 96,
     "metadata": {},
     "output_type": "execute_result"
    }
   ],
   "source": [
    "set(a)"
   ]
  },
  {
   "cell_type": "code",
   "execution_count": 105,
   "id": "50d57bbb-0fac-4d82-abba-fca75a913885",
   "metadata": {},
   "outputs": [],
   "source": [
    "l=[tuple(range(1,10))]"
   ]
  },
  {
   "cell_type": "code",
   "execution_count": 106,
   "id": "adf87b05-49d3-4191-b17c-5847dedc2fb3",
   "metadata": {},
   "outputs": [
    {
     "data": {
      "text/plain": [
       "[(1, 2, 3, 4, 5, 6, 7, 8, 9)]"
      ]
     },
     "execution_count": 106,
     "metadata": {},
     "output_type": "execute_result"
    }
   ],
   "source": [
    "l"
   ]
  },
  {
   "cell_type": "code",
   "execution_count": 101,
   "id": "08fe99e0-cb8d-4ad1-a8b3-3bf355f40d85",
   "metadata": {},
   "outputs": [],
   "source": [
    "a= range(1,10)"
   ]
  },
  {
   "cell_type": "code",
   "execution_count": 102,
   "id": "6ddacc69-9a3c-499d-9fcd-f97d660fb38a",
   "metadata": {},
   "outputs": [
    {
     "data": {
      "text/plain": [
       "range(1, 10)"
      ]
     },
     "execution_count": 102,
     "metadata": {},
     "output_type": "execute_result"
    }
   ],
   "source": [
    "a"
   ]
  },
  {
   "cell_type": "code",
   "execution_count": 107,
   "id": "4318e905-8e8f-4308-8ef6-5d4c20cc0956",
   "metadata": {},
   "outputs": [],
   "source": [
    "a=(10,20,30)"
   ]
  },
  {
   "cell_type": "code",
   "execution_count": 109,
   "id": "58432396-9833-4aa5-b662-58352601de88",
   "metadata": {},
   "outputs": [
    {
     "data": {
      "text/plain": [
       "tuple"
      ]
     },
     "execution_count": 109,
     "metadata": {},
     "output_type": "execute_result"
    }
   ],
   "source": [
    "type(a)"
   ]
  },
  {
   "cell_type": "code",
   "execution_count": 110,
   "id": "52493733-08ae-4f3b-83e7-4286434bab18",
   "metadata": {},
   "outputs": [],
   "source": [
    "b=[10,20,30]"
   ]
  },
  {
   "cell_type": "code",
   "execution_count": 111,
   "id": "f9a507d6-c82a-4be3-8c89-bb189aa8484c",
   "metadata": {},
   "outputs": [
    {
     "data": {
      "text/plain": [
       "list"
      ]
     },
     "execution_count": 111,
     "metadata": {},
     "output_type": "execute_result"
    }
   ],
   "source": [
    "type(b)\n",
    "tuple not change"
   ]
  },
  {
   "cell_type": "code",
   "execution_count": 118,
   "id": "27b4c002-4d75-43b3-aef0-ae1b3bdfee81",
   "metadata": {},
   "outputs": [
    {
     "name": "stdout",
     "output_type": "stream",
     "text": [
      "1, 2, 3, 4, 5, 6, 7, 8, 9, "
     ]
    }
   ],
   "source": [
    "for i in range(1,10):\n",
    "    print(i,end=\", \")"
   ]
  },
  {
   "cell_type": "code",
   "execution_count": 120,
   "id": "0cdfe95a-655e-4aae-84a2-adc1ee118341",
   "metadata": {},
   "outputs": [
    {
     "name": "stdout",
     "output_type": "stream",
     "text": [
      "done\n"
     ]
    }
   ],
   "source": [
    "try:\n",
    "    # print(\"all ok\")\n",
    "    print\n",
    "except Exception as e:\n",
    "    print(e)\n",
    "finally:\n",
    "    print(\"done\")\n",
    "    "
   ]
  },
  {
   "cell_type": "code",
   "execution_count": 134,
   "id": "5e5dfdb9-618e-44aa-bf9c-48f1e3b74d2a",
   "metadata": {},
   "outputs": [],
   "source": [
    "try:\n",
    "    # print(\"all ok\")\n",
    "    print\n",
    "    True\n",
    "    \n",
    "except Exception as e:\n",
    "    print(e)"
   ]
  },
  {
   "cell_type": "code",
   "execution_count": 136,
   "id": "4059424e-2098-4100-b849-542ee577762b",
   "metadata": {},
   "outputs": [
    {
     "name": "stdout",
     "output_type": "stream",
     "text": [
      "0.0\n"
     ]
    }
   ],
   "source": [
    "print(0/55)"
   ]
  },
  {
   "cell_type": "code",
   "execution_count": null,
   "id": "bee15282-ccd5-4dad-b77e-0b4204b98947",
   "metadata": {},
   "outputs": [],
   "source": []
  }
 ],
 "metadata": {
  "kernelspec": {
   "display_name": "Python [conda env:base] *",
   "language": "python",
   "name": "conda-base-py"
  },
  "language_info": {
   "codemirror_mode": {
    "name": "ipython",
    "version": 3
   },
   "file_extension": ".py",
   "mimetype": "text/x-python",
   "name": "python",
   "nbconvert_exporter": "python",
   "pygments_lexer": "ipython3",
   "version": "3.13.5"
  }
 },
 "nbformat": 4,
 "nbformat_minor": 5
}
