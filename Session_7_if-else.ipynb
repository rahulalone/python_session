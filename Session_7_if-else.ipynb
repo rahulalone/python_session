{
 "cells": [
  {
   "cell_type": "code",
   "execution_count": 56,
   "id": "695b06ec-1e46-43d3-b771-72adafe8a9bc",
   "metadata": {},
   "outputs": [
    {
     "name": "stdout",
     "output_type": "stream",
     "text": [
      "24 is Positive Number\n"
     ]
    }
   ],
   "source": [
    "from random import randint\n",
    "num= randint(-100,100)\n",
    "if num>=0:        \n",
    "        print(f\"{num} is Positive Number\") \n",
    "    if num==0:\n",
    "        print(f\" it is zero\")\n",
    "else:\n",
    "    print(f\"{num} is Negative Number\")"
   ]
  },
  {
   "cell_type": "code",
   "execution_count": 29,
   "id": "42705e55-4d63-4bda-a20a-621c3e6fc87e",
   "metadata": {},
   "outputs": [
    {
     "name": "stdin",
     "output_type": "stream",
     "text": [
      "Enter  the number 789\n"
     ]
    },
    {
     "name": "stdout",
     "output_type": "stream",
     "text": [
      "789 is Positive Number\n"
     ]
    }
   ],
   "source": [
    "\n",
    "num1= eval(input(\"Enter  the number\"))\n",
    "if num1>=0:\n",
    "    print(f\"{num1} is Positive Number\")\n",
    "else:\n",
    "    print(f\"{num1} is Negative Number\")"
   ]
  },
  {
   "cell_type": "code",
   "execution_count": 51,
   "id": "65c46f6d-214e-414c-85a5-99edfa96f1e3",
   "metadata": {},
   "outputs": [
    {
     "name": "stdout",
     "output_type": "stream",
     "text": [
      "26 is Positive Number\n"
     ]
    }
   ],
   "source": [
    "from random import randint\n",
    "num= randint(-100,100)\n",
    "if num>=0:\n",
    "    if num==0:\n",
    "        print(f\"{num} is zero\")\n",
    "    else:        \n",
    "        print(f\"{num} is Positive Number\") \n",
    "else:\n",
    "    print(f\"{num} is Negative Number\")"
   ]
  },
  {
   "cell_type": "code",
   "execution_count": 54,
   "id": "7dbff4dd-3cc6-49b6-b170-4e1cf6d7432e",
   "metadata": {},
   "outputs": [
    {
     "name": "stdin",
     "output_type": "stream",
     "text": [
      "Enter the Number 789\n",
      "Enter the Number 585\n"
     ]
    },
    {
     "name": "stdout",
     "output_type": "stream",
     "text": [
      "789 is greater\n"
     ]
    }
   ],
   "source": [
    "i1 = eval(input(\"Enter the Number\"))\n",
    "i2 = eval(input(\"Enter the Number\"))\n",
    "\n",
    "if i1>i2:\n",
    "    print(f\"{i1} is greater\")\n",
    "else:\n",
    "    print(f\"{i2} is greater\")"
   ]
  },
  {
   "cell_type": "code",
   "execution_count": 78,
   "id": "20f44744-8033-4ec8-bda8-cc46428feaf7",
   "metadata": {},
   "outputs": [
    {
     "name": "stdout",
     "output_type": "stream",
     "text": [
      "61 is greater\n"
     ]
    }
   ],
   "source": [
    "i1 = randint(1,200)\n",
    "i2 = randint(1,200)\n",
    "\n",
    "if i1>i2:\n",
    "    print(f\"{i1} is greater\")\n",
    "else:\n",
    "    print(f\"{i2} is greater\")"
   ]
  },
  {
   "cell_type": "code",
   "execution_count": 94,
   "id": "017ccb5d-140b-48ea-b0c5-b86c1c5ac225",
   "metadata": {},
   "outputs": [
    {
     "name": "stdin",
     "output_type": "stream",
     "text": [
      "Enter your number 7\n"
     ]
    },
    {
     "name": "stdout",
     "output_type": "stream",
     "text": [
      "8\n",
      "Loss\n"
     ]
    }
   ],
   "source": [
    "mynumber = eval(input(\"Enter your number\"))\n",
    "random_num = randint(1,10)\n",
    "print(random_num)\n",
    "if mynumber == random_num:\n",
    "    print(\"Won\")\n",
    "else:\n",
    "    print(\"Loss\")\n"
   ]
  },
  {
   "cell_type": "code",
   "execution_count": 105,
   "id": "d7b77c21-a919-4a7d-b370-3caf9b4e566b",
   "metadata": {},
   "outputs": [
    {
     "name": "stdin",
     "output_type": "stream",
     "text": [
      "Enter your Distance 74\n",
      "Your km per average 2\n"
     ]
    },
    {
     "name": "stdout",
     "output_type": "stream",
     "text": [
      "your total charge is 98\n"
     ]
    }
   ],
   "source": [
    "dis = eval(input (\"Enter your Distance\"))\n",
    "\n",
    "if dis>25:\n",
    "    traveled= dis-25\n",
    "    charge= eval(input (\"Your km per average\"))\n",
    "    print(f\"your total charge is {traveled*charge}\")\n",
    "\n",
    "else:\n",
    "    print(\"Enjoy your free Ride\")"
   ]
  },
  {
   "cell_type": "code",
   "execution_count": 1,
   "id": "cfb560db-ad8b-4384-bc11-3447ba2cce59",
   "metadata": {},
   "outputs": [
    {
     "name": "stdout",
     "output_type": "stream",
     "text": [
      "Life is secure\n"
     ]
    }
   ],
   "source": [
    "course_name = \"data science\"\n",
    "institute = \"Naresh IT\"\n",
    "\n",
    "if course_name == \"data science\" and institute == \"Naresh IT\":\n",
    "    print(\"Life is secure\")\n",
    "else:\n",
    "    print(\"khatam Zindagi\")"
   ]
  },
  {
   "cell_type": "code",
   "execution_count": 11,
   "id": "26ed7c33-a44a-4e4b-be24-7a3ef958d8b2",
   "metadata": {},
   "outputs": [
    {
     "name": "stdin",
     "output_type": "stream",
     "text": [
      "Enter the first number  78\n",
      "Enter the second number 45\n"
     ]
    },
    {
     "name": "stdout",
     "output_type": "stream",
     "text": [
      "Enter 1 for addition\n",
      "2 for substration\n",
      "3 for division\n",
      "4 for multiplication\n"
     ]
    },
    {
     "name": "stdin",
     "output_type": "stream",
     "text": [
      "Enter the number 1 to 4 1\n"
     ]
    },
    {
     "name": "stdout",
     "output_type": "stream",
     "text": [
      "the addition of 78 and 45 is 123\n"
     ]
    }
   ],
   "source": [
    "num1 =eval(input(\"Enter the first number \"))\n",
    "num2 =eval(input(\"Enter the second number\"))\n",
    "print(\"1 for addition\\n2 for substration\\n3 for division\\n4 for multiplication\")\n",
    "\n",
    "oper= eval(input(\"Enter the number 1 to 4\"))\n",
    "if oper==1:\n",
    "    print(f\"the addition of {num1} and {num2} is {num1+num2}\")\n",
    "elif oper==2:\n",
    "     print(f\"the Substaction of {num1} and {num2} is {num1-num2}\")\n",
    "elif oper==3:\n",
    "     print(f\"the Division of {num1} and {num2} is {round(num1/num2)}\")\n",
    "elif oper==4:\n",
    "     print(f\"the Multiplication of {num1} and {num2} is {num1*num2}\")\n",
    "else:\n",
    "    print(f\"{oper} is Invalid Number\")"
   ]
  },
  {
   "cell_type": "code",
   "execution_count": 8,
   "id": "95852594-5fe2-4f8b-a12f-455bcc64a2f7",
   "metadata": {},
   "outputs": [
    {
     "name": "stdin",
     "output_type": "stream",
     "text": [
      "Enter the first number  45\n",
      "Enter the second number 89\n",
      "Enter the +,-,*,/ +\n"
     ]
    },
    {
     "name": "stdout",
     "output_type": "stream",
     "text": [
      "the addition of 45 and 89 is 134\n"
     ]
    }
   ],
   "source": [
    "num1 =eval(input(\"Enter the first number \"))\n",
    "num2 =eval(input(\"Enter the second number\"))\n",
    "\n",
    "oper= input(\"Enter the symbol(+,-,*,/)\")\n",
    "if oper==\"+\":\n",
    "    print(f\"the addition of {num1} and {num2} is {num1+num2}\")\n",
    "elif oper==\"-\":\n",
    "     print(f\"the Substaction of {num1} and {num2} is {num1-num2}\")\n",
    "elif oper==\"/\":\n",
    "     print(f\"the Division of {num1} and {num2} is {round(num1/num2)}\")\n",
    "elif oper==\"*\":\n",
    "     print(f\"the Multiplication of {num1} and {num2} is {num1*num2}\")\n",
    "else:\n",
    "    print(f\"{oper} is Invalid Operator\")"
   ]
  },
  {
   "cell_type": "code",
   "execution_count": null,
   "id": "ea01aab7-765b-4b53-a4e2-447ca624746f",
   "metadata": {},
   "outputs": [],
   "source": []
  }
 ],
 "metadata": {
  "kernelspec": {
   "display_name": "Python [conda env:base] *",
   "language": "python",
   "name": "conda-base-py"
  },
  "language_info": {
   "codemirror_mode": {
    "name": "ipython",
    "version": 3
   },
   "file_extension": ".py",
   "mimetype": "text/x-python",
   "name": "python",
   "nbconvert_exporter": "python",
   "pygments_lexer": "ipython3",
   "version": "3.13.5"
  }
 },
 "nbformat": 4,
 "nbformat_minor": 5
}
