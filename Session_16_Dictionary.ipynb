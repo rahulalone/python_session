{
 "cells": [
  {
   "cell_type": "code",
   "execution_count": 1,
   "id": "08ff6492-8c8c-48a7-8b1c-b3b50bfaf632",
   "metadata": {},
   "outputs": [
    {
     "name": "stdout",
     "output_type": "stream",
     "text": [
      "rahul 50\n",
      "suresh 60\n",
      "files 90\n"
     ]
    }
   ],
   "source": [
    "names=[\"rahul\",\"suresh\",\"files\"]\n",
    "s=[50,60,90]\n",
    "\n",
    "for i in range(len(s)):\n",
    "    print(names[i],s[i])"
   ]
  },
  {
   "cell_type": "markdown",
   "id": "a52919d4-eb21-42ed-afdc-2dec5333da71",
   "metadata": {},
   "source": [
    "## ZIP"
   ]
  },
  {
   "cell_type": "code",
   "execution_count": 6,
   "id": "c11e24bd-734d-498b-85ba-a200764d530c",
   "metadata": {},
   "outputs": [
    {
     "name": "stdout",
     "output_type": "stream",
     "text": [
      "('rahul', 50)\n",
      "('suresh', 60)\n",
      "('files', 90)\n"
     ]
    }
   ],
   "source": [
    "for i in zip(names,s):\n",
    "    print(i)"
   ]
  },
  {
   "cell_type": "code",
   "execution_count": 8,
   "id": "4fc15593-2ec3-4b7a-bed1-589aec5290ae",
   "metadata": {},
   "outputs": [
    {
     "name": "stdout",
     "output_type": "stream",
     "text": [
      "rahul 50\n",
      "suresh 60\n",
      "files 90\n"
     ]
    }
   ],
   "source": [
    "for i,j in zip(names,s):\n",
    "    print(i,j)"
   ]
  },
  {
   "cell_type": "code",
   "execution_count": 13,
   "id": "b0cb3cdd-901a-4ff5-b344-43c22cdcf047",
   "metadata": {},
   "outputs": [],
   "source": [
    "a={\n",
    "    \"samar\":56,\n",
    "    \"vishal\":20,\n",
    "    \"cube\":25\n",
    "}"
   ]
  },
  {
   "cell_type": "code",
   "execution_count": 14,
   "id": "96bb603b-f758-47d0-86ad-4809ea81bdd4",
   "metadata": {},
   "outputs": [
    {
     "data": {
      "text/plain": [
       "{'samar': 56, 'vishal': 20, 'cube': 25}"
      ]
     },
     "execution_count": 14,
     "metadata": {},
     "output_type": "execute_result"
    }
   ],
   "source": [
    "a"
   ]
  },
  {
   "cell_type": "code",
   "execution_count": 15,
   "id": "8bfe7276-575d-4621-a779-779be5be594d",
   "metadata": {},
   "outputs": [],
   "source": [
    "a={\n",
    "    56:\"samar\",\n",
    "    20:\"python\",\n",
    "    25:\"shivam\"\n",
    "}"
   ]
  },
  {
   "cell_type": "code",
   "execution_count": 16,
   "id": "9fd0e4e1-f8ab-4b21-a444-271b11f0e5a3",
   "metadata": {},
   "outputs": [
    {
     "data": {
      "text/plain": [
       "{56: 'samar', 20: 'python', 25: 'shivam'}"
      ]
     },
     "execution_count": 16,
     "metadata": {},
     "output_type": "execute_result"
    }
   ],
   "source": [
    "a"
   ]
  },
  {
   "cell_type": "code",
   "execution_count": 17,
   "id": "92640f5a-218c-4993-bfbd-dabb5518fbaa",
   "metadata": {},
   "outputs": [
    {
     "ename": "TypeError",
     "evalue": "unhashable type: 'list'",
     "output_type": "error",
     "traceback": [
      "\u001b[1;31m---------------------------------------------------------------------------\u001b[0m",
      "\u001b[1;31mTypeError\u001b[0m                                 Traceback (most recent call last)",
      "Cell \u001b[1;32mIn[17], line 1\u001b[0m\n\u001b[1;32m----> 1\u001b[0m b\u001b[38;5;241m=\u001b[39m {\n\u001b[0;32m      2\u001b[0m     [\u001b[38;5;241m10\u001b[39m,\u001b[38;5;241m20\u001b[39m,\u001b[38;5;241m30\u001b[39m]:\u001b[38;5;124m\"\u001b[39m\u001b[38;5;124msamar\u001b[39m\u001b[38;5;124m\"\u001b[39m\n\u001b[0;32m      3\u001b[0m }\n",
      "\u001b[1;31mTypeError\u001b[0m: unhashable type: 'list'"
     ]
    }
   ],
   "source": [
    "b= {\n",
    "    [10,20,30]:\"samar\"\n",
    "}"
   ]
  },
  {
   "cell_type": "code",
   "execution_count": 18,
   "id": "d389106f-74fc-440d-aaeb-11fddb13e15e",
   "metadata": {},
   "outputs": [
    {
     "ename": "TypeError",
     "evalue": "unhashable type: 'set'",
     "output_type": "error",
     "traceback": [
      "\u001b[1;31m---------------------------------------------------------------------------\u001b[0m",
      "\u001b[1;31mTypeError\u001b[0m                                 Traceback (most recent call last)",
      "Cell \u001b[1;32mIn[18], line 1\u001b[0m\n\u001b[1;32m----> 1\u001b[0m c\u001b[38;5;241m=\u001b[39m{\n\u001b[0;32m      2\u001b[0m     {\u001b[38;5;241m10\u001b[39m,\u001b[38;5;241m20\u001b[39m,\u001b[38;5;241m30\u001b[39m}:\u001b[38;5;124m\"\u001b[39m\u001b[38;5;124msamar\u001b[39m\u001b[38;5;124m\"\u001b[39m\n\u001b[0;32m      3\u001b[0m }\n",
      "\u001b[1;31mTypeError\u001b[0m: unhashable type: 'set'"
     ]
    }
   ],
   "source": [
    "c={\n",
    "    {10,20,30}:\"samar\"\n",
    "}"
   ]
  },
  {
   "cell_type": "code",
   "execution_count": 19,
   "id": "e85c54ed-f7eb-4793-8363-d558b55e1f43",
   "metadata": {},
   "outputs": [],
   "source": [
    "d={ True: False}"
   ]
  },
  {
   "cell_type": "code",
   "execution_count": 20,
   "id": "cfd685fa-2678-4c08-9610-f44427088a02",
   "metadata": {},
   "outputs": [],
   "source": [
    "e= {\n",
    "    (10,20,30):\"shivam\"\n",
    "}"
   ]
  },
  {
   "cell_type": "code",
   "execution_count": 21,
   "id": "97849805-16f7-487e-97c6-5160094fcc98",
   "metadata": {},
   "outputs": [],
   "source": [
    "e={\n",
    "    True:56\n",
    "}"
   ]
  },
  {
   "cell_type": "code",
   "execution_count": 22,
   "id": "f918856b-81aa-43bb-9092-f46dde968b98",
   "metadata": {},
   "outputs": [
    {
     "data": {
      "text/plain": [
       "{True: 56}"
      ]
     },
     "execution_count": 22,
     "metadata": {},
     "output_type": "execute_result"
    }
   ],
   "source": [
    "e"
   ]
  },
  {
   "cell_type": "code",
   "execution_count": 23,
   "id": "243fe48a-427b-452f-bc93-9fb1cf399d71",
   "metadata": {},
   "outputs": [],
   "source": [
    "f={\n",
    "    2+5j: 56\n",
    "}"
   ]
  },
  {
   "cell_type": "code",
   "execution_count": 24,
   "id": "17e2f7b0-1cfd-4fbf-a3b1-87765a9ddd72",
   "metadata": {},
   "outputs": [],
   "source": [
    "g={\n",
    "    56:2+5j\n",
    "}"
   ]
  },
  {
   "cell_type": "code",
   "execution_count": 25,
   "id": "85afec98-ac19-4299-8c7c-20f83b24930b",
   "metadata": {},
   "outputs": [
    {
     "ename": "TypeError",
     "evalue": "unhashable type: 'dict'",
     "output_type": "error",
     "traceback": [
      "\u001b[1;31m---------------------------------------------------------------------------\u001b[0m",
      "\u001b[1;31mTypeError\u001b[0m                                 Traceback (most recent call last)",
      "Cell \u001b[1;32mIn[25], line 1\u001b[0m\n\u001b[1;32m----> 1\u001b[0m g\u001b[38;5;241m=\u001b[39m{\n\u001b[0;32m      2\u001b[0m     { \u001b[38;5;124m\"\u001b[39m\u001b[38;5;124mramesh\u001b[39m\u001b[38;5;124m\"\u001b[39m:\u001b[38;5;241m20\u001b[39m}:\u001b[38;5;241m20\u001b[39m\n\u001b[0;32m      3\u001b[0m }\n",
      "\u001b[1;31mTypeError\u001b[0m: unhashable type: 'dict'"
     ]
    }
   ],
   "source": [
    "\n",
    "g={\n",
    "    { \"ramesh\":20}:20\n",
    "}\n"
   ]
  },
  {
   "cell_type": "code",
   "execution_count": 27,
   "id": "ff3c7f52-2e5a-4b62-8385-39b11b820931",
   "metadata": {},
   "outputs": [],
   "source": [
    "g={\n",
    "    \"ramesh\":50,\n",
    "    \"ramesh\":41\n",
    "}"
   ]
  },
  {
   "cell_type": "code",
   "execution_count": 28,
   "id": "f0c2d094-8b7e-4554-9e7a-0687ac4b8a9b",
   "metadata": {},
   "outputs": [
    {
     "data": {
      "text/plain": [
       "{'ramesh': 41}"
      ]
     },
     "execution_count": 28,
     "metadata": {},
     "output_type": "execute_result"
    }
   ],
   "source": [
    "g"
   ]
  },
  {
   "cell_type": "code",
   "execution_count": 40,
   "id": "a933913c-1346-4d89-90c6-51c2b574cddf",
   "metadata": {},
   "outputs": [],
   "source": [
    "a={\n",
    "    1:\"samar\",\n",
    "    3:\"python\",\n",
    "    2:\"shivam\"\n",
    "}"
   ]
  },
  {
   "cell_type": "code",
   "execution_count": 41,
   "id": "0980b054-4385-42d3-aa2b-6bf10e5951d5",
   "metadata": {},
   "outputs": [
    {
     "data": {
      "text/plain": [
       "6"
      ]
     },
     "execution_count": 41,
     "metadata": {},
     "output_type": "execute_result"
    }
   ],
   "source": [
    "sum(a)"
   ]
  },
  {
   "cell_type": "code",
   "execution_count": 31,
   "id": "8f977006-8693-4708-8e6f-9b54afaecb7c",
   "metadata": {},
   "outputs": [],
   "source": [
    "a={\n",
    "    \"samar\":56,\n",
    "    \"vishal\":20,\n",
    "    \"cube\":25\n",
    "}"
   ]
  },
  {
   "cell_type": "code",
   "execution_count": 32,
   "id": "e174f3eb-4881-4690-a376-d32068b2c10d",
   "metadata": {},
   "outputs": [
    {
     "data": {
      "text/plain": [
       "['cube', 'samar', 'vishal']"
      ]
     },
     "execution_count": 32,
     "metadata": {},
     "output_type": "execute_result"
    }
   ],
   "source": [
    "sorted(a)"
   ]
  },
  {
   "cell_type": "code",
   "execution_count": 33,
   "id": "6242c8da-9da5-4112-9a46-4528a6fed37b",
   "metadata": {},
   "outputs": [
    {
     "data": {
      "text/plain": [
       "['cube', 'vishal', 'samar']"
      ]
     },
     "execution_count": 33,
     "metadata": {},
     "output_type": "execute_result"
    }
   ],
   "source": [
    "list(reversed(a))"
   ]
  },
  {
   "cell_type": "markdown",
   "id": "56832952-677a-4a3c-98d2-0f90b7247f7b",
   "metadata": {},
   "source": [
    "## concandination"
   ]
  },
  {
   "cell_type": "code",
   "execution_count": 43,
   "id": "50aa1e9c-d330-46d1-b100-376ca06bbedb",
   "metadata": {},
   "outputs": [],
   "source": [
    "a={\n",
    "    \"samar\":56,\n",
    "    \"vishal\":20,\n",
    "    \"cube\":25\n",
    "}\n",
    "b={\n",
    "    1:\"samar\",\n",
    "    3:\"python\",\n",
    "    2:\"shivam\"\n",
    "}"
   ]
  },
  {
   "cell_type": "code",
   "execution_count": 44,
   "id": "9a28c6ba-8ae7-4fe4-ab0f-dfc01e91ab0c",
   "metadata": {},
   "outputs": [
    {
     "ename": "TypeError",
     "evalue": "unsupported operand type(s) for +: 'dict' and 'dict'",
     "output_type": "error",
     "traceback": [
      "\u001b[1;31m---------------------------------------------------------------------------\u001b[0m",
      "\u001b[1;31mTypeError\u001b[0m                                 Traceback (most recent call last)",
      "Cell \u001b[1;32mIn[44], line 1\u001b[0m\n\u001b[1;32m----> 1\u001b[0m a\u001b[38;5;241m+\u001b[39mb\n",
      "\u001b[1;31mTypeError\u001b[0m: unsupported operand type(s) for +: 'dict' and 'dict'"
     ]
    }
   ],
   "source": [
    "a+b"
   ]
  },
  {
   "cell_type": "code",
   "execution_count": 45,
   "id": "4d78fe58-d622-44bd-9102-fd056bf115f0",
   "metadata": {},
   "outputs": [
    {
     "ename": "TypeError",
     "evalue": "unsupported operand type(s) for -: 'dict' and 'dict'",
     "output_type": "error",
     "traceback": [
      "\u001b[1;31m---------------------------------------------------------------------------\u001b[0m",
      "\u001b[1;31mTypeError\u001b[0m                                 Traceback (most recent call last)",
      "Cell \u001b[1;32mIn[45], line 1\u001b[0m\n\u001b[1;32m----> 1\u001b[0m a\u001b[38;5;241m-\u001b[39mb\n",
      "\u001b[1;31mTypeError\u001b[0m: unsupported operand type(s) for -: 'dict' and 'dict'"
     ]
    }
   ],
   "source": [
    "a-b"
   ]
  },
  {
   "cell_type": "code",
   "execution_count": 46,
   "id": "e4abea98-2afa-448f-a6c9-d31b75db3bae",
   "metadata": {},
   "outputs": [
    {
     "ename": "TypeError",
     "evalue": "unsupported operand type(s) for /: 'dict' and 'dict'",
     "output_type": "error",
     "traceback": [
      "\u001b[1;31m---------------------------------------------------------------------------\u001b[0m",
      "\u001b[1;31mTypeError\u001b[0m                                 Traceback (most recent call last)",
      "Cell \u001b[1;32mIn[46], line 1\u001b[0m\n\u001b[1;32m----> 1\u001b[0m a\u001b[38;5;241m/\u001b[39mb\n",
      "\u001b[1;31mTypeError\u001b[0m: unsupported operand type(s) for /: 'dict' and 'dict'"
     ]
    }
   ],
   "source": [
    "a/b"
   ]
  },
  {
   "cell_type": "code",
   "execution_count": 49,
   "id": "563ae0ce-5f9b-4076-a117-0b7451b456f9",
   "metadata": {},
   "outputs": [
    {
     "ename": "TypeError",
     "evalue": "unsupported operand type(s) for *: 'dict' and 'int'",
     "output_type": "error",
     "traceback": [
      "\u001b[1;31m---------------------------------------------------------------------------\u001b[0m",
      "\u001b[1;31mTypeError\u001b[0m                                 Traceback (most recent call last)",
      "Cell \u001b[1;32mIn[49], line 1\u001b[0m\n\u001b[1;32m----> 1\u001b[0m a\u001b[38;5;241m*\u001b[39m\u001b[38;5;241m2\u001b[39m\n",
      "\u001b[1;31mTypeError\u001b[0m: unsupported operand type(s) for *: 'dict' and 'int'"
     ]
    }
   ],
   "source": [
    "a*2"
   ]
  },
  {
   "cell_type": "code",
   "execution_count": 50,
   "id": "7bb1568d-7613-4d27-94f8-17f1e1d391af",
   "metadata": {},
   "outputs": [],
   "source": [
    "a={\n",
    "    \"samar\":56,\n",
    "    \"vishal\":20,\n",
    "    \"cube\":25\n",
    "}"
   ]
  },
  {
   "cell_type": "code",
   "execution_count": 51,
   "id": "7014ed06-78ca-47a9-b682-c6f9a7c2afc8",
   "metadata": {},
   "outputs": [
    {
     "data": {
      "text/plain": [
       "True"
      ]
     },
     "execution_count": 51,
     "metadata": {},
     "output_type": "execute_result"
    }
   ],
   "source": [
    "\"vishal\" in a"
   ]
  },
  {
   "cell_type": "code",
   "execution_count": 53,
   "id": "435d1280-d607-40be-b710-de8d012e1afd",
   "metadata": {},
   "outputs": [
    {
     "name": "stdout",
     "output_type": "stream",
     "text": [
      "samar\n",
      "vishal\n",
      "cube\n"
     ]
    }
   ],
   "source": [
    "for i in a:\n",
    "    print(i)"
   ]
  },
  {
   "cell_type": "code",
   "execution_count": 57,
   "id": "f6b79f79-f51e-49ea-869e-4a923792ca9f",
   "metadata": {},
   "outputs": [
    {
     "name": "stdout",
     "output_type": "stream",
     "text": [
      "samar 56\n",
      "vishal 20\n",
      "cube 25\n"
     ]
    }
   ],
   "source": [
    "for i in a:\n",
    "    print(i,a[i])"
   ]
  },
  {
   "cell_type": "markdown",
   "id": "a1213b10-fbe3-49e6-8be5-051d9d89506f",
   "metadata": {},
   "source": [
    "## Empty"
   ]
  },
  {
   "cell_type": "code",
   "execution_count": 58,
   "id": "c1ff5e10-bee5-4414-b2e6-7b783b4f2af4",
   "metadata": {},
   "outputs": [],
   "source": [
    "a={}"
   ]
  },
  {
   "cell_type": "code",
   "execution_count": 61,
   "id": "a379acad-c43a-40ee-a176-e92f4e9b684e",
   "metadata": {},
   "outputs": [],
   "source": [
    "a[\"ramesh\"]=20\n",
    "a[\"Suresh\"]=25\n"
   ]
  },
  {
   "cell_type": "code",
   "execution_count": 2,
   "id": "ffe677e2-c14a-4cb9-a41e-7d885ee5bc6d",
   "metadata": {},
   "outputs": [],
   "source": [
    "a=[50,60,70]\n",
    "b=[\"samar\",\"python\",\"shivam\"\n",
    "  ]\n",
    "d={}"
   ]
  },
  {
   "cell_type": "code",
   "execution_count": 3,
   "id": "b313ded6-b9de-4541-a9c8-18d1cc079938",
   "metadata": {},
   "outputs": [],
   "source": [
    "for i in range(len(a)):\n",
    "    d[a[i]]=b[i]\n",
    "    "
   ]
  },
  {
   "cell_type": "code",
   "execution_count": 4,
   "id": "0f61042c-b82d-4a31-b7ea-963de9aee5db",
   "metadata": {},
   "outputs": [
    {
     "data": {
      "text/plain": [
       "{50: 'samar', 60: 'python', 70: 'shivam'}"
      ]
     },
     "execution_count": 4,
     "metadata": {},
     "output_type": "execute_result"
    }
   ],
   "source": [
    "d"
   ]
  },
  {
   "cell_type": "code",
   "execution_count": 12,
   "id": "76bff1ee-60e7-4b0a-8713-661b53a8cdcb",
   "metadata": {},
   "outputs": [
    {
     "name": "stdout",
     "output_type": "stream",
     "text": [
      "['samar', 'python', 'shivam']\n",
      "[50, 60, 70]\n"
     ]
    }
   ],
   "source": [
    "\n",
    "names=[]\n",
    "age=[]\n",
    "\n",
    "for i in d:\n",
    "    names.append(d[i])\n",
    "    age.append(i)\n",
    "\n",
    "print(names)\n",
    "print(age)"
   ]
  },
  {
   "cell_type": "code",
   "execution_count": 11,
   "id": "40fe2fbb-2e04-420e-9df4-5d886a68d447",
   "metadata": {},
   "outputs": [],
   "source": [
    "a=tuple(i for i in range(1,11) )"
   ]
  },
  {
   "cell_type": "code",
   "execution_count": 18,
   "id": "1263b210-d93b-4f28-93b5-654f1a4b7094",
   "metadata": {},
   "outputs": [],
   "source": [
    "import string"
   ]
  },
  {
   "cell_type": "code",
   "execution_count": 19,
   "id": "f2d0dd18-06f6-4bc8-b565-b38c7203ab44",
   "metadata": {},
   "outputs": [],
   "source": [
    "a={ i:j for i,j in zip(string.ascii_uppercase,range(1,11))}"
   ]
  },
  {
   "cell_type": "code",
   "execution_count": 20,
   "id": "29acabf4-3503-4061-bcac-bf2a311b8c8b",
   "metadata": {},
   "outputs": [
    {
     "data": {
      "text/plain": [
       "{'A': 1,\n",
       " 'B': 2,\n",
       " 'C': 3,\n",
       " 'D': 4,\n",
       " 'E': 5,\n",
       " 'F': 6,\n",
       " 'G': 7,\n",
       " 'H': 8,\n",
       " 'I': 9,\n",
       " 'J': 10}"
      ]
     },
     "execution_count": 20,
     "metadata": {},
     "output_type": "execute_result"
    }
   ],
   "source": [
    "a"
   ]
  },
  {
   "cell_type": "code",
   "execution_count": 23,
   "id": "5bf06ccb-0e1c-4412-a4de-e204801e0c6e",
   "metadata": {},
   "outputs": [
    {
     "data": {
      "text/plain": [
       "dict"
      ]
     },
     "execution_count": 23,
     "metadata": {},
     "output_type": "execute_result"
    }
   ],
   "source": [
    "type(a)"
   ]
  },
  {
   "cell_type": "markdown",
   "id": "4277f1e5-7ed2-41af-9ff5-3cb83dbd64a0",
   "metadata": {},
   "source": [
    "## slicing  not valid "
   ]
  },
  {
   "cell_type": "code",
   "execution_count": 27,
   "id": "1aea3ef0-0be0-493a-84af-f5ce02e89917",
   "metadata": {},
   "outputs": [
    {
     "data": {
      "text/plain": [
       "'cherry'"
      ]
     },
     "execution_count": 27,
     "metadata": {},
     "output_type": "execute_result"
    }
   ],
   "source": [
    "d1= {\n",
    "    \"fruit\": [\"apple\",\"cherry\"]\n",
    "}\n",
    "d1[\"fruit\"][1]"
   ]
  },
  {
   "cell_type": "code",
   "execution_count": 48,
   "id": "9e4f88e2-7bbb-4886-a670-5ea46ea7222b",
   "metadata": {},
   "outputs": [
    {
     "data": {
      "text/plain": [
       "2"
      ]
     },
     "execution_count": 48,
     "metadata": {},
     "output_type": "execute_result"
    }
   ],
   "source": [
    "d1= {\n",
    "    \"fruit\": [\"apple\",\"cherry\",\"banana\"],\n",
    "    \"cost\":[20,5,2]\n",
    "}\n",
    "d1[\"cost\"][2]"
   ]
  },
  {
   "cell_type": "code",
   "execution_count": 36,
   "id": "12327e90-1328-4639-ae31-64263897715c",
   "metadata": {},
   "outputs": [
    {
     "ename": "SyntaxError",
     "evalue": "invalid syntax. Perhaps you forgot a comma? (2710882244.py, line 1)",
     "output_type": "error",
     "traceback": [
      "\u001b[1;36m  Cell \u001b[1;32mIn[36], line 1\u001b[1;36m\u001b[0m\n\u001b[1;33m    min(d1[])\u001b[0m\n\u001b[1;37m        ^\u001b[0m\n\u001b[1;31mSyntaxError\u001b[0m\u001b[1;31m:\u001b[0m invalid syntax. Perhaps you forgot a comma?\n"
     ]
    }
   ],
   "source": [
    "min(d1[])\n",
    "\n",
    "a= d1.index(min(d1[\"fruit\"[2]]))"
   ]
  },
  {
   "cell_type": "code",
   "execution_count": null,
   "id": "0a3a57df-9442-41fd-b2ff-a60c45d0c856",
   "metadata": {},
   "outputs": [],
   "source": []
  },
  {
   "cell_type": "code",
   "execution_count": 69,
   "id": "b3829161-280e-4358-91ad-136c6315165e",
   "metadata": {},
   "outputs": [],
   "source": [
    "d1= {\n",
    "    \"fruit\": [\"apple\",\"cherry\",\"banana\"],\n",
    "    \"cost\":[20,5,2]\n",
    "}\n",
    "\n",
    "l= d1[\"cost\"]\n",
    "\n",
    "m= min(l)\n",
    "iD= l.index(m)\n",
    "d1[\"fruit\"][iD]"
   ]
  },
  {
   "cell_type": "code",
   "execution_count": 70,
   "id": "50331861-0e04-4de3-9903-46a680833a03",
   "metadata": {},
   "outputs": [
    {
     "data": {
      "text/plain": [
       "'banana'"
      ]
     },
     "execution_count": 70,
     "metadata": {},
     "output_type": "execute_result"
    }
   ],
   "source": [
    "l= d1[\"cost\"]\n",
    "\n",
    "m= min(l)\n",
    "iD= l.index(m)\n",
    "d1[\"fruit\"][iD]"
   ]
  },
  {
   "cell_type": "code",
   "execution_count": 68,
   "id": "de643e76-0643-4906-bb3f-c2e91a47051d",
   "metadata": {},
   "outputs": [
    {
     "data": {
      "text/plain": [
       "'cherry'"
      ]
     },
     "execution_count": 68,
     "metadata": {},
     "output_type": "execute_result"
    }
   ],
   "source": [
    "d2= {\n",
    "    \"fruit\": [{\"items\":[\"apple\",\"cherry\"]}]\n",
    "}\n",
    "\n",
    "d2[\"fruit\"][0][\"items\"][1]"
   ]
  },
  {
   "cell_type": "code",
   "execution_count": 67,
   "id": "b5f17857-c357-4738-aa18-ff6ebd5109d2",
   "metadata": {},
   "outputs": [
    {
     "data": {
      "text/plain": [
       "'apple'"
      ]
     },
     "execution_count": 67,
     "metadata": {},
     "output_type": "execute_result"
    }
   ],
   "source": [
    "d3={\n",
    "    \"fruits\":{\"items\":\"apple\"}\n",
    "}\n",
    "\n",
    "d3[\"fruits\"][\"items\"]"
   ]
  },
  {
   "cell_type": "code",
   "execution_count": 72,
   "id": "7c3304e8-ecb8-41c4-bceb-0e5536d03120",
   "metadata": {},
   "outputs": [],
   "source": [
    "d3={\n",
    "    \"fruits\":[{\"items\":\"orange\"}]\n",
    "}\n",
    "\n"
   ]
  },
  {
   "cell_type": "code",
   "execution_count": 77,
   "id": "b23ddb4c-7dc7-452e-9274-8536988374ea",
   "metadata": {},
   "outputs": [
    {
     "data": {
      "text/plain": [
       "'orange'"
      ]
     },
     "execution_count": 77,
     "metadata": {},
     "output_type": "execute_result"
    }
   ],
   "source": [
    "d3[\"fruits\"][0][\"items\"][0]"
   ]
  },
  {
   "cell_type": "code",
   "execution_count": 84,
   "id": "19d0d885-02c6-4548-b84d-e806885d8a36",
   "metadata": {},
   "outputs": [
    {
     "data": {
      "text/plain": [
       "'viky'"
      ]
     },
     "execution_count": 84,
     "metadata": {},
     "output_type": "execute_result"
    }
   ],
   "source": [
    "d={'Fruites':[{'items':[{'orange':\n",
    "                         [{'Nagpur':\n",
    "                           [{'MH':\n",
    "                             [{'king':\n",
    "                               [{'shivaji':\n",
    "                                 [{'son':\n",
    "                                   [{'shambaji':\n",
    "                                     [{'chava':'viky'}]}]}\n",
    "                                 ]}]}]}]}\n",
    "                         ]}\n",
    "                       ]}\n",
    "             ]}\n",
    "d[\"Fruites\"][0][\"items\"][0][\"orange\"][0]['Nagpur'][0]['MH'][0]['king'][0]['shivaji'][0]['son'][0]['shambaji'][0]['chava']"
   ]
  },
  {
   "cell_type": "code",
   "execution_count": 92,
   "id": "b21c1f9f-e05c-401a-9003-d13662fc38d7",
   "metadata": {},
   "outputs": [
    {
     "name": "stdout",
     "output_type": "stream",
     "text": [
      "{'items': [{'orange': [{'Nagpur': [{'MH': [{'king': [{'shivaji': [{'son': [{'shambaji': [{'chava': 'viky'}]}]}]}]}]}]}]}]}\n"
     ]
    }
   ],
   "source": [
    "for i in d:\n",
    "    print(d[i][0])"
   ]
  },
  {
   "cell_type": "code",
   "execution_count": 88,
   "id": "794144ea-94fe-474c-99ef-9e7f8c1d68c3",
   "metadata": {},
   "outputs": [
    {
     "data": {
      "text/plain": [
       "1"
      ]
     },
     "execution_count": 88,
     "metadata": {},
     "output_type": "execute_result"
    }
   ],
   "source": [
    "len(d)"
   ]
  },
  {
   "cell_type": "markdown",
   "id": "ce62d25c-abce-457b-86dd-dd7b953ed2db",
   "metadata": {},
   "source": [
    "**Method**"
   ]
  },
  {
   "cell_type": "code",
   "execution_count": 94,
   "id": "c0fa677e-ca38-450b-a33f-cbd2476106d7",
   "metadata": {},
   "outputs": [
    {
     "data": {
      "text/plain": [
       "['__class__',\n",
       " '__class_getitem__',\n",
       " '__contains__',\n",
       " '__delattr__',\n",
       " '__delitem__',\n",
       " '__dir__',\n",
       " '__doc__',\n",
       " '__eq__',\n",
       " '__format__',\n",
       " '__ge__',\n",
       " '__getattribute__',\n",
       " '__getitem__',\n",
       " '__getstate__',\n",
       " '__gt__',\n",
       " '__hash__',\n",
       " '__init__',\n",
       " '__init_subclass__',\n",
       " '__ior__',\n",
       " '__iter__',\n",
       " '__le__',\n",
       " '__len__',\n",
       " '__lt__',\n",
       " '__ne__',\n",
       " '__new__',\n",
       " '__or__',\n",
       " '__reduce__',\n",
       " '__reduce_ex__',\n",
       " '__repr__',\n",
       " '__reversed__',\n",
       " '__ror__',\n",
       " '__setattr__',\n",
       " '__setitem__',\n",
       " '__sizeof__',\n",
       " '__str__',\n",
       " '__subclasshook__',\n",
       " 'clear',\n",
       " 'copy',\n",
       " 'fromkeys',\n",
       " 'get',\n",
       " 'items',\n",
       " 'keys',\n",
       " 'pop',\n",
       " 'popitem',\n",
       " 'setdefault',\n",
       " 'update',\n",
       " 'values']"
      ]
     },
     "execution_count": 94,
     "metadata": {},
     "output_type": "execute_result"
    }
   ],
   "source": [
    "'clear',\n",
    " 'copy',\n",
    " 'fromkeys',\n",
    " 'get',\n",
    " 'items',\n",
    " 'keys',\n",
    " 'pop',\n",
    " 'popitem',\n",
    " 'setdefault',\n",
    " 'update',\n",
    " 'values"
   ]
  },
  {
   "cell_type": "code",
   "execution_count": 104,
   "id": "ac9f8783-c1f6-4a0b-9789-9e769b2f6a73",
   "metadata": {},
   "outputs": [
    {
     "data": {
      "text/plain": [
       "dict_items([('fruit', 'apple'), ('cost', 20)])"
      ]
     },
     "execution_count": 104,
     "metadata": {},
     "output_type": "execute_result"
    }
   ],
   "source": [
    "d1= {\n",
    "    \"fruit\": \"apple\",\n",
    "    \"cost\":20\n",
    "}\n",
    "\n",
    "d1.items()"
   ]
  },
  {
   "cell_type": "code",
   "execution_count": 99,
   "id": "b06e8a20-6f61-4837-a6e7-dbe1ab2f7c83",
   "metadata": {},
   "outputs": [
    {
     "data": {
      "text/plain": [
       "'apple'"
      ]
     },
     "execution_count": 99,
     "metadata": {},
     "output_type": "execute_result"
    }
   ],
   "source": [
    "d1.get(\"fruit\")"
   ]
  },
  {
   "cell_type": "code",
   "execution_count": 112,
   "id": "368fcf80-ccf8-41f3-8094-8a8f51fbe3e4",
   "metadata": {},
   "outputs": [],
   "source": [
    "import string\n",
    "d={ }\n",
    "for i,j in zip(string.ascii_uppercase,range(26)):\n",
    "      d[i]=j\n"
   ]
  },
  {
   "cell_type": "code",
   "execution_count": null,
   "id": "680594d7-5afe-412b-b037-6463d82e1b90",
   "metadata": {},
   "outputs": [],
   "source": []
  },
  {
   "cell_type": "code",
   "execution_count": 1,
   "id": "3ac410b7-3fe5-4c5a-82ae-a3eec33b0871",
   "metadata": {},
   "outputs": [
    {
     "data": {
      "text/plain": [
       "'banana'"
      ]
     },
     "execution_count": 1,
     "metadata": {},
     "output_type": "execute_result"
    }
   ],
   "source": [
    "d1= {\n",
    "    \"fruit\": [\"apple\",\"cherry\",\"banana\"],\n",
    "    \"cost\":[20,5,2]\n",
    "}\n",
    "\n",
    "l= d1[\"cost\"]\n",
    "\n",
    "m= min(l)\n",
    "iD= l.index(m)\n",
    "d1[\"fruit\"][iD]"
   ]
  },
  {
   "cell_type": "code",
   "execution_count": 7,
   "id": "95b303d6-5e74-4a6e-8652-ff20b35e1da8",
   "metadata": {},
   "outputs": [
    {
     "data": {
      "text/plain": [
       "[20, 5, 2]"
      ]
     },
     "execution_count": 7,
     "metadata": {},
     "output_type": "execute_result"
    }
   ],
   "source": [
    "l= d1[\"cost\"]\n",
    "l"
   ]
  },
  {
   "cell_type": "code",
   "execution_count": 8,
   "id": "7bd9a98e-8fd4-4731-9ddf-2150c05876c1",
   "metadata": {},
   "outputs": [],
   "source": [
    "l= d1[\"cost\"]\n",
    "m= min(l)\n",
    "iD= l.index(m)"
   ]
  },
  {
   "cell_type": "code",
   "execution_count": 9,
   "id": "01495bf0-bbd7-48fe-8e16-542cc85b4ae7",
   "metadata": {},
   "outputs": [
    {
     "data": {
      "text/plain": [
       "2"
      ]
     },
     "execution_count": 9,
     "metadata": {},
     "output_type": "execute_result"
    }
   ],
   "source": [
    "iD"
   ]
  },
  {
   "cell_type": "code",
   "execution_count": 16,
   "id": "dd9c1299-6cec-4947-9e62-8005daad0604",
   "metadata": {},
   "outputs": [
    {
     "data": {
      "text/plain": [
       "'banana'"
      ]
     },
     "execution_count": 16,
     "metadata": {},
     "output_type": "execute_result"
    }
   ],
   "source": [
    "d1[\"fruit\"][2]"
   ]
  },
  {
   "cell_type": "code",
   "execution_count": 17,
   "id": "feb175c0-99f4-462b-b9bf-2ff2acbd1674",
   "metadata": {},
   "outputs": [],
   "source": []
  },
  {
   "cell_type": "code",
   "execution_count": 76,
   "id": "23b25dc6-7833-4d2e-a002-a1dda4e97e56",
   "metadata": {},
   "outputs": [
    {
     "data": {
      "text/plain": [
       "{'even': [0, 2, 4, 6, 8, 10], 'Odd': [1, 3, 5, 7, 9]}"
      ]
     },
     "execution_count": 76,
     "metadata": {},
     "output_type": "execute_result"
    }
   ],
   "source": [
    "\n",
    "d1={}\n",
    "num=list(range(11))\n",
    "\n",
    "for i in num:\n",
    "    if i%2==0:\n",
    "        if \"even\" not in d1:\n",
    "            d1[\"even\"]=[]\n",
    "        d1[\"even\"].append(i)\n",
    "    else:\n",
    "        if \"Odd\" not in d1:\n",
    "            d1[\"Odd\"]=[]\n",
    "        d1[\"Odd\"].append(i)\n",
    "d1"
   ]
  },
  {
   "cell_type": "code",
   "execution_count": null,
   "id": "8d51bd9f-3b56-4d92-b828-feadd1aa02ae",
   "metadata": {},
   "outputs": [],
   "source": []
  },
  {
   "cell_type": "code",
   "execution_count": 100,
   "id": "84c9da39-b259-4c76-a616-6d215c9c6069",
   "metadata": {},
   "outputs": [
    {
     "data": {
      "text/plain": [
       "{'Odd': [23, 81, 67, 39, 87, 25], 'even': [94, 100, 24, 36, 28]}"
      ]
     },
     "execution_count": 100,
     "metadata": {},
     "output_type": "execute_result"
    }
   ],
   "source": [
    "d1={}\n",
    "for i in range(11):\n",
    "    r= random.randint(1,100)\n",
    "    if r%2==0:\n",
    "        if \"even\" not in d1:\n",
    "            d1[\"even\"]=[]\n",
    "        d1[\"even\"].append(r)\n",
    "    else:\n",
    "        if \"Odd\" not in d1:\n",
    "            d1[\"Odd\"]=[]\n",
    "        d1[\"Odd\"].append(r)\n",
    "d1"
   ]
  },
  {
   "cell_type": "code",
   "execution_count": null,
   "id": "5f2fec4c-fc6f-4884-88ce-f409f3507f26",
   "metadata": {},
   "outputs": [],
   "source": []
  },
  {
   "cell_type": "code",
   "execution_count": null,
   "id": "cc474f41-fa93-4e49-b74d-3274e920701a",
   "metadata": {},
   "outputs": [],
   "source": []
  }
 ],
 "metadata": {
  "kernelspec": {
   "display_name": "Python [conda env:base] *",
   "language": "python",
   "name": "conda-base-py"
  },
  "language_info": {
   "codemirror_mode": {
    "name": "ipython",
    "version": 3
   },
   "file_extension": ".py",
   "mimetype": "text/x-python",
   "name": "python",
   "nbconvert_exporter": "python",
   "pygments_lexer": "ipython3",
   "version": "3.13.5"
  }
 },
 "nbformat": 4,
 "nbformat_minor": 5
}
