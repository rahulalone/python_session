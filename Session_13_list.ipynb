{
 "cells": [
  {
   "cell_type": "code",
   "execution_count": 20,
   "id": "e5700755-a6ca-43c2-8d4d-5044e4e21ca4",
   "metadata": {},
   "outputs": [],
   "source": [
    "l1=[100,20,30,40]\n",
    "l2=[10,\"vishal\", l1, True, False,50.89,2+5j]\n",
    "l3= [10,10,10]"
   ]
  },
  {
   "cell_type": "code",
   "execution_count": 2,
   "id": "7683d927-219c-4efc-8035-274f31b71df3",
   "metadata": {},
   "outputs": [
    {
     "name": "stdout",
     "output_type": "stream",
     "text": [
      "[10, 'vishal', [10, 20, 30, 40], True, False, 50.89, (2+5j)]\n"
     ]
    }
   ],
   "source": [
    "print(l2)"
   ]
  },
  {
   "cell_type": "code",
   "execution_count": 4,
   "id": "662c7d9e-78e2-400f-9a91-610883318ba6",
   "metadata": {},
   "outputs": [
    {
     "name": "stdout",
     "output_type": "stream",
     "text": [
      "[10, 10, 10]\n"
     ]
    }
   ],
   "source": [
    "print(l3)"
   ]
  },
  {
   "cell_type": "code",
   "execution_count": 5,
   "id": "9fabbe38-25e3-4b0d-9db1-91cde96db3c2",
   "metadata": {},
   "outputs": [],
   "source": [
    "l7=[]"
   ]
  },
  {
   "cell_type": "code",
   "execution_count": 6,
   "id": "7e68f911-f2be-4dec-97e3-98cc5b056d12",
   "metadata": {},
   "outputs": [
    {
     "data": {
      "text/plain": [
       "7"
      ]
     },
     "execution_count": 6,
     "metadata": {},
     "output_type": "execute_result"
    }
   ],
   "source": [
    "len(l2)"
   ]
  },
  {
   "cell_type": "code",
   "execution_count": 8,
   "id": "215d27b0-60bd-4ef3-847b-3fb30dd54944",
   "metadata": {},
   "outputs": [
    {
     "data": {
      "text/plain": [
       "100"
      ]
     },
     "execution_count": 8,
     "metadata": {},
     "output_type": "execute_result"
    }
   ],
   "source": [
    "sum(l1)"
   ]
  },
  {
   "cell_type": "code",
   "execution_count": 13,
   "id": "012e4db5-bea9-44af-b55e-a75dd520dca3",
   "metadata": {},
   "outputs": [
    {
     "data": {
      "text/plain": [
       "40"
      ]
     },
     "execution_count": 13,
     "metadata": {},
     "output_type": "execute_result"
    }
   ],
   "source": [
    "max(l1)"
   ]
  },
  {
   "cell_type": "code",
   "execution_count": null,
   "id": "3f7e1288-6590-4d59-9780-febd501c4375",
   "metadata": {},
   "outputs": [],
   "source": [
    "l4= \"\""
   ]
  },
  {
   "cell_type": "code",
   "execution_count": 14,
   "id": "abf64abb-1346-43a1-b86d-17f926edd8b9",
   "metadata": {},
   "outputs": [
    {
     "data": {
      "text/plain": [
       "10"
      ]
     },
     "execution_count": 14,
     "metadata": {},
     "output_type": "execute_result"
    }
   ],
   "source": [
    "min(l1)"
   ]
  },
  {
   "cell_type": "code",
   "execution_count": 25,
   "id": "73aa6208-0409-4f56-9a1d-7741229d3278",
   "metadata": {},
   "outputs": [
    {
     "data": {
      "text/plain": [
       "[20, 30, 40, 100]"
      ]
     },
     "execution_count": 25,
     "metadata": {},
     "output_type": "execute_result"
    }
   ],
   "source": [
    "sorted(l1)"
   ]
  },
  {
   "cell_type": "code",
   "execution_count": 23,
   "id": "9c598713-07f4-4573-aa74-ff305b0efb28",
   "metadata": {},
   "outputs": [
    {
     "data": {
      "text/plain": [
       "[40, 30, 20, 100]"
      ]
     },
     "execution_count": 23,
     "metadata": {},
     "output_type": "execute_result"
    }
   ],
   "source": [
    "list(reversed(l1))"
   ]
  },
  {
   "cell_type": "code",
   "execution_count": 27,
   "id": "1c7ebb7b-62ab-4c21-b619-a9aecb246d35",
   "metadata": {},
   "outputs": [],
   "source": [
    "l4= [10,20,30,'a',\"b\",\"c\"]"
   ]
  },
  {
   "cell_type": "code",
   "execution_count": 28,
   "id": "06c29ebe-0c71-403b-a93b-bc69ab2d98d1",
   "metadata": {},
   "outputs": [
    {
     "ename": "TypeError",
     "evalue": "'>' not supported between instances of 'str' and 'int'",
     "output_type": "error",
     "traceback": [
      "\u001b[1;31m---------------------------------------------------------------------------\u001b[0m",
      "\u001b[1;31mTypeError\u001b[0m                                 Traceback (most recent call last)",
      "Cell \u001b[1;32mIn[28], line 1\u001b[0m\n\u001b[1;32m----> 1\u001b[0m \u001b[38;5;28mmax\u001b[39m(l4)\n",
      "\u001b[1;31mTypeError\u001b[0m: '>' not supported between instances of 'str' and 'int'"
     ]
    }
   ],
   "source": [
    "max(l4)"
   ]
  },
  {
   "cell_type": "code",
   "execution_count": 29,
   "id": "12bd0470-dd75-4dc9-987b-4bd4e83f458e",
   "metadata": {},
   "outputs": [
    {
     "ename": "TypeError",
     "evalue": "'<' not supported between instances of 'str' and 'int'",
     "output_type": "error",
     "traceback": [
      "\u001b[1;31m---------------------------------------------------------------------------\u001b[0m",
      "\u001b[1;31mTypeError\u001b[0m                                 Traceback (most recent call last)",
      "Cell \u001b[1;32mIn[29], line 1\u001b[0m\n\u001b[1;32m----> 1\u001b[0m \u001b[38;5;28mmin\u001b[39m(l4)\n",
      "\u001b[1;31mTypeError\u001b[0m: '<' not supported between instances of 'str' and 'int'"
     ]
    }
   ],
   "source": [
    "min(l4)"
   ]
  },
  {
   "cell_type": "code",
   "execution_count": 30,
   "id": "055d7403-3083-4efa-bd85-5bda46d1efc0",
   "metadata": {},
   "outputs": [
    {
     "data": {
      "text/plain": [
       "[(2+5j), 50.89, False, True, [100, 20, 30, 40], 'vishal', 10]"
      ]
     },
     "execution_count": 30,
     "metadata": {},
     "output_type": "execute_result"
    }
   ],
   "source": [
    "list(reversed(l2))"
   ]
  },
  {
   "cell_type": "markdown",
   "id": "5a242fa2-b11b-4004-961e-9025bf2d4492",
   "metadata": {},
   "source": [
    "## Index"
   ]
  },
  {
   "cell_type": "code",
   "execution_count": 32,
   "id": "9bf3b66a-30fa-4913-8a6e-627272b6b3b7",
   "metadata": {},
   "outputs": [
    {
     "data": {
      "text/plain": [
       "30"
      ]
     },
     "execution_count": 32,
     "metadata": {},
     "output_type": "execute_result"
    }
   ],
   "source": [
    "l4= [10,20,30,'a',\"b\",\"c\"]\n",
    "l4[2]"
   ]
  },
  {
   "cell_type": "code",
   "execution_count": 38,
   "id": "0145095e-641f-420e-bd94-f79a336aecfd",
   "metadata": {},
   "outputs": [
    {
     "data": {
      "text/plain": [
       "30"
      ]
     },
     "execution_count": 38,
     "metadata": {},
     "output_type": "execute_result"
    }
   ],
   "source": [
    "l4= [10,20,[[[30]]],'a',\"b\",\"c\"]\n",
    "l4[2][0][0][0]"
   ]
  },
  {
   "cell_type": "code",
   "execution_count": 41,
   "id": "2986848a-9c8f-46b0-a48f-ad94fc09d94c",
   "metadata": {},
   "outputs": [
    {
     "data": {
      "text/plain": [
       "'b'"
      ]
     },
     "execution_count": 41,
     "metadata": {},
     "output_type": "execute_result"
    }
   ],
   "source": [
    "l4= [10,20,30,['a',[\"b\"]],\"c\"]\n",
    "l4[3][1][0]"
   ]
  },
  {
   "cell_type": "code",
   "execution_count": 42,
   "id": "ea99f39f-af7a-4f03-8b10-332b0ab4c0e0",
   "metadata": {},
   "outputs": [
    {
     "data": {
      "text/plain": [
       "5"
      ]
     },
     "execution_count": 42,
     "metadata": {},
     "output_type": "execute_result"
    }
   ],
   "source": [
    "len(l4)"
   ]
  },
  {
   "cell_type": "code",
   "execution_count": 45,
   "id": "7b71ca6a-7eaa-4547-8e56-3fd10c493ae0",
   "metadata": {},
   "outputs": [
    {
     "data": {
      "text/plain": [
       "'Cherry'"
      ]
     },
     "execution_count": 45,
     "metadata": {},
     "output_type": "execute_result"
    }
   ],
   "source": [
    "l=['Apple',['Banana',['Cherry']]]\n",
    "l[1][1][0]"
   ]
  },
  {
   "cell_type": "code",
   "execution_count": 46,
   "id": "7003971c-65f7-45fb-afad-0fd663cd134b",
   "metadata": {},
   "outputs": [],
   "source": [
    "l=['Orange',['Nagpur',['MH',['Shivaji',['Shambaji',['Chava',['VK']]]]]]]"
   ]
  },
  {
   "cell_type": "code",
   "execution_count": 49,
   "id": "1f1d80a3-32fe-4769-ba4b-238a7adecff0",
   "metadata": {},
   "outputs": [
    {
     "data": {
      "text/plain": [
       "'VK'"
      ]
     },
     "execution_count": 49,
     "metadata": {},
     "output_type": "execute_result"
    }
   ],
   "source": [
    "l[1][1][1][1][1][1][0]"
   ]
  },
  {
   "cell_type": "code",
   "execution_count": 50,
   "id": "0c536949-f1aa-421b-b67b-bfd2b2cf69dd",
   "metadata": {},
   "outputs": [],
   "source": [
    "l=[[[[[[[[[[[\"onion\"]]]]]]]]]]]"
   ]
  },
  {
   "cell_type": "code",
   "execution_count": 53,
   "id": "5b2409a0-8130-4146-b6fd-8943cc16f7d3",
   "metadata": {},
   "outputs": [
    {
     "data": {
      "text/plain": [
       "'onion'"
      ]
     },
     "execution_count": 53,
     "metadata": {},
     "output_type": "execute_result"
    }
   ],
   "source": [
    "l[0][0][0][0][0][0][0][0][0][0][0]"
   ]
  },
  {
   "cell_type": "code",
   "execution_count": 65,
   "id": "7faab18a-9488-48ca-9859-290dfd335e11",
   "metadata": {},
   "outputs": [
    {
     "data": {
      "text/plain": [
       "inf"
      ]
     },
     "execution_count": 65,
     "metadata": {},
     "output_type": "execute_result"
    }
   ],
   "source": [
    "float(\"inf\")"
   ]
  },
  {
   "cell_type": "code",
   "execution_count": 62,
   "id": "ce0535fe-2ad5-4cec-a88c-d1d2f5cb2752",
   "metadata": {},
   "outputs": [
    {
     "data": {
      "text/plain": [
       "10.0"
      ]
     },
     "execution_count": 62,
     "metadata": {},
     "output_type": "execute_result"
    }
   ],
   "source": [
    "float(\"10\")"
   ]
  },
  {
   "cell_type": "code",
   "execution_count": 70,
   "id": "f3b7a584-659b-4ef2-8260-4a3ef39fb89e",
   "metadata": {},
   "outputs": [
    {
     "data": {
      "text/plain": [
       "'infinf'"
      ]
     },
     "execution_count": 70,
     "metadata": {},
     "output_type": "execute_result"
    }
   ],
   "source": [
    "\"inf\"*2"
   ]
  },
  {
   "cell_type": "code",
   "execution_count": 71,
   "id": "30d85e28-b456-4d58-932a-60c8995bdc74",
   "metadata": {},
   "outputs": [
    {
     "ename": "ValueError",
     "evalue": "invalid literal for int() with base 10: 'inf'",
     "output_type": "error",
     "traceback": [
      "\u001b[1;31m---------------------------------------------------------------------------\u001b[0m",
      "\u001b[1;31mValueError\u001b[0m                                Traceback (most recent call last)",
      "Cell \u001b[1;32mIn[71], line 1\u001b[0m\n\u001b[1;32m----> 1\u001b[0m \u001b[38;5;28mint\u001b[39m(\u001b[38;5;124m\"\u001b[39m\u001b[38;5;124minf\u001b[39m\u001b[38;5;124m\"\u001b[39m)\n",
      "\u001b[1;31mValueError\u001b[0m: invalid literal for int() with base 10: 'inf'"
     ]
    }
   ],
   "source": [
    "int(\"inf\")"
   ]
  },
  {
   "cell_type": "code",
   "execution_count": 72,
   "id": "143b81b1-4fd7-491f-b957-41d557b88cbb",
   "metadata": {},
   "outputs": [
    {
     "data": {
      "text/plain": [
       "'inf'"
      ]
     },
     "execution_count": 72,
     "metadata": {},
     "output_type": "execute_result"
    }
   ],
   "source": [
    "str(\"inf\")"
   ]
  },
  {
   "cell_type": "code",
   "execution_count": 73,
   "id": "23f2dd9a-4a09-40e3-8045-464d4cf91638",
   "metadata": {},
   "outputs": [
    {
     "data": {
      "text/plain": [
       "True"
      ]
     },
     "execution_count": 73,
     "metadata": {},
     "output_type": "execute_result"
    }
   ],
   "source": [
    "bool(\"inf\")"
   ]
  },
  {
   "cell_type": "code",
   "execution_count": 74,
   "id": "045bee50-38a7-45bf-8889-fd10b4db6771",
   "metadata": {},
   "outputs": [
    {
     "ename": "NameError",
     "evalue": "name 'inf' is not defined",
     "output_type": "error",
     "traceback": [
      "\u001b[1;31m---------------------------------------------------------------------------\u001b[0m",
      "\u001b[1;31mNameError\u001b[0m                                 Traceback (most recent call last)",
      "Cell \u001b[1;32mIn[74], line 1\u001b[0m\n\u001b[1;32m----> 1\u001b[0m \u001b[38;5;28mint\u001b[39m(inf)\n",
      "\u001b[1;31mNameError\u001b[0m: name 'inf' is not defined"
     ]
    }
   ],
   "source": [
    "int(inf)"
   ]
  },
  {
   "cell_type": "code",
   "execution_count": 81,
   "id": "1ecc8529-ee03-42da-bf3c-964f8c3532e7",
   "metadata": {},
   "outputs": [
    {
     "data": {
      "text/plain": [
       "False"
      ]
     },
     "execution_count": 81,
     "metadata": {},
     "output_type": "execute_result"
    }
   ],
   "source": [
    "bool(0)"
   ]
  },
  {
   "cell_type": "code",
   "execution_count": 76,
   "id": "bb4ea0d9-6de1-4f8a-95a7-b0780dd8905b",
   "metadata": {},
   "outputs": [
    {
     "data": {
      "text/plain": [
       "True"
      ]
     },
     "execution_count": 76,
     "metadata": {},
     "output_type": "execute_result"
    }
   ],
   "source": [
    "bool(\" \")"
   ]
  },
  {
   "cell_type": "code",
   "execution_count": 82,
   "id": "069aa55e-f970-4bd7-b733-c3325e13b9c9",
   "metadata": {},
   "outputs": [
    {
     "ename": "ValueError",
     "evalue": "invalid literal for int() with base 10: '10.5'",
     "output_type": "error",
     "traceback": [
      "\u001b[1;31m---------------------------------------------------------------------------\u001b[0m",
      "\u001b[1;31mValueError\u001b[0m                                Traceback (most recent call last)",
      "Cell \u001b[1;32mIn[82], line 1\u001b[0m\n\u001b[1;32m----> 1\u001b[0m \u001b[38;5;28mint\u001b[39m(\u001b[38;5;124m\"\u001b[39m\u001b[38;5;124m10.5\u001b[39m\u001b[38;5;124m\"\u001b[39m)\n",
      "\u001b[1;31mValueError\u001b[0m: invalid literal for int() with base 10: '10.5'"
     ]
    }
   ],
   "source": []
  },
  {
   "cell_type": "code",
   "execution_count": null,
   "id": "bf7bee9f-0ef2-413f-ac7a-9e7987962e47",
   "metadata": {},
   "outputs": [],
   "source": [
    "\n"
   ]
  },
  {
   "cell_type": "code",
   "execution_count": null,
   "id": "cb2f6d12-e454-466d-a1bc-2180d14bf723",
   "metadata": {},
   "outputs": [],
   "source": []
  },
  {
   "cell_type": "code",
   "execution_count": 88,
   "id": "91151fae-bd15-4855-9cfe-17bdcdd0f27c",
   "metadata": {},
   "outputs": [],
   "source": [
    "Roshan=56"
   ]
  },
  {
   "cell_type": "code",
   "execution_count": 92,
   "id": "04b969bc-a027-4f91-ad52-ab07fc64c5d1",
   "metadata": {},
   "outputs": [
    {
     "data": {
      "text/plain": [
       "6"
      ]
     },
     "execution_count": 92,
     "metadata": {},
     "output_type": "execute_result"
    }
   ],
   "source": [
    "r=6\n",
    "r"
   ]
  },
  {
   "cell_type": "code",
   "execution_count": 100,
   "id": "0b078603-9628-4b80-bb12-b90332f5c415",
   "metadata": {},
   "outputs": [],
   "source": [
    "l1=[10,20,30]\n",
    "l2=[45,80,90]"
   ]
  },
  {
   "cell_type": "code",
   "execution_count": 101,
   "id": "ec49991b-2d79-4661-9afc-9a53282c5962",
   "metadata": {},
   "outputs": [],
   "source": [
    "l[0]=50"
   ]
  },
  {
   "cell_type": "code",
   "execution_count": 102,
   "id": "272c68f7-91dc-4f06-8344-c25ac0ee3ff6",
   "metadata": {},
   "outputs": [
    {
     "data": {
      "text/plain": [
       "[50, 20, 30]"
      ]
     },
     "execution_count": 102,
     "metadata": {},
     "output_type": "execute_result"
    }
   ],
   "source": [
    "l"
   ]
  },
  {
   "cell_type": "code",
   "execution_count": 107,
   "id": "fe2d9a32-212a-409b-872c-e1427662a8ea",
   "metadata": {},
   "outputs": [],
   "source": [
    "l1=l2"
   ]
  },
  {
   "cell_type": "code",
   "execution_count": 108,
   "id": "1b36d269-f1e2-4658-98a8-087914b7df80",
   "metadata": {},
   "outputs": [
    {
     "data": {
      "text/plain": [
       "[45, 80, 90]"
      ]
     },
     "execution_count": 108,
     "metadata": {},
     "output_type": "execute_result"
    }
   ],
   "source": [
    "l1"
   ]
  },
  {
   "cell_type": "code",
   "execution_count": 109,
   "id": "d244aaba-759d-4f0a-8b53-f2d05b7c86cf",
   "metadata": {},
   "outputs": [
    {
     "data": {
      "text/plain": [
       "[45, 80, 90, 45, 80, 90]"
      ]
     },
     "execution_count": 109,
     "metadata": {},
     "output_type": "execute_result"
    }
   ],
   "source": [
    "l1*2"
   ]
  },
  {
   "cell_type": "markdown",
   "id": "61032b2c-09ba-4eac-88e6-89da710c9528",
   "metadata": {},
   "source": [
    "## slice"
   ]
  },
  {
   "cell_type": "code",
   "execution_count": 110,
   "id": "41ea3ee4-bdb4-4c69-851a-cb71e6763e01",
   "metadata": {},
   "outputs": [],
   "source": [
    "l=[10,20,30,40,1,2,3,4,\"a\",\"p\",\"p\",\"l\",\"e\",True, False]"
   ]
  },
  {
   "cell_type": "code",
   "execution_count": 111,
   "id": "92bed983-45fd-498a-b7d9-a86a47293551",
   "metadata": {},
   "outputs": [
    {
     "data": {
      "text/plain": [
       "15"
      ]
     },
     "execution_count": 111,
     "metadata": {},
     "output_type": "execute_result"
    }
   ],
   "source": [
    "len(l)"
   ]
  },
  {
   "cell_type": "code",
   "execution_count": 113,
   "id": "c89dc13b-2fe7-4357-b1fe-d9ced105f257",
   "metadata": {},
   "outputs": [
    {
     "data": {
      "text/plain": [
       "[30, 1, 3, 'a', 'p']"
      ]
     },
     "execution_count": 113,
     "metadata": {},
     "output_type": "execute_result"
    }
   ],
   "source": [
    "l[2:12:2] #30,1,3,a,p"
   ]
  },
  {
   "cell_type": "code",
   "execution_count": 114,
   "id": "e0ce5ef0-e83d-444c-ae81-16fb6ca14807",
   "metadata": {},
   "outputs": [
    {
     "data": {
      "text/plain": [
       "[]"
      ]
     },
     "execution_count": 114,
     "metadata": {},
     "output_type": "execute_result"
    }
   ],
   "source": [
    "l[2:12:-2] # not give otput"
   ]
  },
  {
   "cell_type": "code",
   "execution_count": 115,
   "id": "63ac5dd8-6552-4cfd-a3f2-7b4be74f1f59",
   "metadata": {},
   "outputs": [
    {
     "data": {
      "text/plain": [
       "[30]"
      ]
     },
     "execution_count": 115,
     "metadata": {},
     "output_type": "execute_result"
    }
   ],
   "source": [
    "l[2:-12:2] #"
   ]
  },
  {
   "cell_type": "code",
   "execution_count": 118,
   "id": "36a7df7d-550a-4483-8583-40e07c0c33e2",
   "metadata": {},
   "outputs": [
    {
     "data": {
      "text/plain": [
       "[True, 'l', 'p', 4, 2]"
      ]
     },
     "execution_count": 118,
     "metadata": {},
     "output_type": "execute_result"
    }
   ],
   "source": [
    "l[-2:-12:-2]"
   ]
  },
  {
   "cell_type": "code",
   "execution_count": 119,
   "id": "399d035a-e503-4072-ab83-9b42a49e57ae",
   "metadata": {},
   "outputs": [
    {
     "data": {
      "text/plain": [
       "[]"
      ]
     },
     "execution_count": 119,
     "metadata": {},
     "output_type": "execute_result"
    }
   ],
   "source": [
    "l[2:-12:-2]"
   ]
  },
  {
   "cell_type": "code",
   "execution_count": 120,
   "id": "448e10df-9e4b-49c5-8ee3-93d34135162a",
   "metadata": {},
   "outputs": [
    {
     "data": {
      "text/plain": [
       "['__add__',\n",
       " '__class__',\n",
       " '__class_getitem__',\n",
       " '__contains__',\n",
       " '__delattr__',\n",
       " '__delitem__',\n",
       " '__dir__',\n",
       " '__doc__',\n",
       " '__eq__',\n",
       " '__format__',\n",
       " '__ge__',\n",
       " '__getattribute__',\n",
       " '__getitem__',\n",
       " '__getstate__',\n",
       " '__gt__',\n",
       " '__hash__',\n",
       " '__iadd__',\n",
       " '__imul__',\n",
       " '__init__',\n",
       " '__init_subclass__',\n",
       " '__iter__',\n",
       " '__le__',\n",
       " '__len__',\n",
       " '__lt__',\n",
       " '__mul__',\n",
       " '__ne__',\n",
       " '__new__',\n",
       " '__reduce__',\n",
       " '__reduce_ex__',\n",
       " '__repr__',\n",
       " '__reversed__',\n",
       " '__rmul__',\n",
       " '__setattr__',\n",
       " '__setitem__',\n",
       " '__sizeof__',\n",
       " '__str__',\n",
       " '__subclasshook__',\n",
       " 'append',\n",
       " 'clear',\n",
       " 'copy',\n",
       " 'count',\n",
       " 'extend',\n",
       " 'index',\n",
       " 'insert',\n",
       " 'pop',\n",
       " 'remove',\n",
       " 'reverse',\n",
       " 'sort']"
      ]
     },
     "execution_count": 120,
     "metadata": {},
     "output_type": "execute_result"
    }
   ],
   "source": [
    "dir([])"
   ]
  },
  {
   "cell_type": "code",
   "execution_count": 121,
   "id": "261dd670-9326-4ac5-a0e5-59e888576e13",
   "metadata": {},
   "outputs": [],
   "source": [
    "l1=[10,20,30]"
   ]
  },
  {
   "cell_type": "code",
   "execution_count": 122,
   "id": "72bda5a7-ab31-4329-82cd-659279736dc2",
   "metadata": {},
   "outputs": [],
   "source": [
    "l1.clear()"
   ]
  },
  {
   "cell_type": "code",
   "execution_count": 123,
   "id": "81ea12d2-38f2-4d3d-b0a7-f69b88338cbb",
   "metadata": {},
   "outputs": [
    {
     "data": {
      "text/plain": [
       "[]"
      ]
     },
     "execution_count": 123,
     "metadata": {},
     "output_type": "execute_result"
    }
   ],
   "source": [
    "l1"
   ]
  },
  {
   "cell_type": "code",
   "execution_count": 124,
   "id": "5e244b2d-4c53-4348-9c2d-2bc1447d8520",
   "metadata": {},
   "outputs": [],
   "source": [
    "l2=[40,50,60]"
   ]
  },
  {
   "cell_type": "code",
   "execution_count": 127,
   "id": "31177a8d-e7a5-49cd-b528-dfd7f2ddb269",
   "metadata": {},
   "outputs": [],
   "source": [
    "l1=l2.copy()"
   ]
  },
  {
   "cell_type": "code",
   "execution_count": 128,
   "id": "c3301e75-fcd4-4aeb-aea5-badff421e5de",
   "metadata": {},
   "outputs": [
    {
     "data": {
      "text/plain": [
       "[40, 50, 60]"
      ]
     },
     "execution_count": 128,
     "metadata": {},
     "output_type": "execute_result"
    }
   ],
   "source": [
    "l1"
   ]
  },
  {
   "cell_type": "code",
   "execution_count": 135,
   "id": "4c496767-89a7-4b06-9dd2-69cdea86317d",
   "metadata": {},
   "outputs": [],
   "source": [
    "l1.append(50)"
   ]
  },
  {
   "cell_type": "code",
   "execution_count": 136,
   "id": "77b452ca-6e51-47f3-b3a3-61b2af061021",
   "metadata": {},
   "outputs": [
    {
     "data": {
      "text/plain": [
       "[40, 50, 60, 41, 50]"
      ]
     },
     "execution_count": 136,
     "metadata": {},
     "output_type": "execute_result"
    }
   ],
   "source": [
    "l1"
   ]
  },
  {
   "cell_type": "code",
   "execution_count": 141,
   "id": "c84a187e-48ad-4d57-8394-53c7b2520bb3",
   "metadata": {},
   "outputs": [
    {
     "data": {
      "text/plain": [
       "2"
      ]
     },
     "execution_count": 141,
     "metadata": {},
     "output_type": "execute_result"
    }
   ],
   "source": [
    "l1.count(50)"
   ]
  },
  {
   "cell_type": "code",
   "execution_count": 145,
   "id": "ba960eda-9674-4a0c-b49b-38e2490ef7a2",
   "metadata": {},
   "outputs": [
    {
     "data": {
      "text/plain": [
       "0"
      ]
     },
     "execution_count": 145,
     "metadata": {},
     "output_type": "execute_result"
    }
   ],
   "source": [
    "l1.index(40)"
   ]
  },
  {
   "cell_type": "code",
   "execution_count": 36,
   "id": "a72b5428-62b3-436b-948d-fd1e1aee6a43",
   "metadata": {},
   "outputs": [
    {
     "data": {
      "text/plain": [
       "7"
      ]
     },
     "execution_count": 36,
     "metadata": {},
     "output_type": "execute_result"
    }
   ],
   "source": [
    "l2=[40,50,1,60,40,80,90,1]\n",
    "r=l2.index(1)\n",
    "l2.index(1,r+1)"
   ]
  },
  {
   "cell_type": "code",
   "execution_count": 37,
   "id": "46382ac9-b64d-4758-91b9-0ad067f32e01",
   "metadata": {},
   "outputs": [
    {
     "data": {
      "text/plain": [
       "50"
      ]
     },
     "execution_count": 37,
     "metadata": {},
     "output_type": "execute_result"
    }
   ],
   "source": [
    "l2.pop(1)"
   ]
  },
  {
   "cell_type": "code",
   "execution_count": 38,
   "id": "c6ab83ed-37e8-4e11-85e0-513a936f4630",
   "metadata": {},
   "outputs": [
    {
     "data": {
      "text/plain": [
       "[40, 1, 60, 40, 80, 90, 1]"
      ]
     },
     "execution_count": 38,
     "metadata": {},
     "output_type": "execute_result"
    }
   ],
   "source": [
    "l2"
   ]
  },
  {
   "cell_type": "code",
   "execution_count": 42,
   "id": "da872d5d-070c-4505-8459-cf63994dedde",
   "metadata": {},
   "outputs": [
    {
     "data": {
      "text/plain": [
       "40"
      ]
     },
     "execution_count": 42,
     "metadata": {},
     "output_type": "execute_result"
    }
   ],
   "source": [
    "l2.pop()"
   ]
  },
  {
   "cell_type": "code",
   "execution_count": 48,
   "id": "396c3b58-7dc1-4031-931d-779971df5907",
   "metadata": {},
   "outputs": [
    {
     "data": {
      "text/plain": [
       "'cherry'"
      ]
     },
     "execution_count": 48,
     "metadata": {},
     "output_type": "execute_result"
    }
   ],
   "source": [
    "l=[\"apple\", \"banana\",\"cherry\",\"cherry\",\"a\",\"b\",10,20,30]\n",
    "\n",
    "l1= l.index(\"cherry\")\n",
    "l2= l.index(\"cherry\",l1+1)\n",
    "l.pop(l2)"
   ]
  },
  {
   "cell_type": "code",
   "execution_count": 45,
   "id": "e13a1419-3d9f-4a95-ace9-c9c0fa4d5a44",
   "metadata": {},
   "outputs": [
    {
     "data": {
      "text/plain": [
       "['apple', 'banana', 'cherry', 'a', 'b', 10, 20, 30]"
      ]
     },
     "execution_count": 45,
     "metadata": {},
     "output_type": "execute_result"
    }
   ],
   "source": [
    "l"
   ]
  },
  {
   "cell_type": "code",
   "execution_count": 49,
   "id": "be82897e-bce7-45fd-a2ae-5c9c817fabe8",
   "metadata": {},
   "outputs": [],
   "source": [
    "l=[\"apple\", \"banana\",\"cherry\",\"cherry\",\"a\",\"b\",10,20,30]\n",
    "\n",
    "l.remove(\"cherry\")"
   ]
  },
  {
   "cell_type": "code",
   "execution_count": 50,
   "id": "d9ff7ccd-55d6-47c2-b084-fa02398a87b2",
   "metadata": {},
   "outputs": [
    {
     "data": {
      "text/plain": [
       "['apple', 'banana', 'cherry', 'a', 'b', 10, 20, 30]"
      ]
     },
     "execution_count": 50,
     "metadata": {},
     "output_type": "execute_result"
    }
   ],
   "source": [
    "l"
   ]
  },
  {
   "cell_type": "code",
   "execution_count": 51,
   "id": "172c742b-e6ae-4680-a263-9abd22f14d9c",
   "metadata": {},
   "outputs": [],
   "source": [
    "l.remove(\"cherry\")"
   ]
  },
  {
   "cell_type": "code",
   "execution_count": 52,
   "id": "5186006c-a421-4015-a9c0-9737eaef0913",
   "metadata": {},
   "outputs": [
    {
     "data": {
      "text/plain": [
       "['apple', 'banana', 'a', 'b', 10, 20, 30]"
      ]
     },
     "execution_count": 52,
     "metadata": {},
     "output_type": "execute_result"
    }
   ],
   "source": [
    "l"
   ]
  },
  {
   "cell_type": "code",
   "execution_count": 53,
   "id": "f16c5263-93b4-4929-a9a8-31442b0b8b49",
   "metadata": {},
   "outputs": [
    {
     "data": {
      "text/plain": [
       "0"
      ]
     },
     "execution_count": 53,
     "metadata": {},
     "output_type": "execute_result"
    }
   ],
   "source": [
    "s=\"apple\"\n",
    "s.count(\"z\")"
   ]
  },
  {
   "cell_type": "code",
   "execution_count": 54,
   "id": "6db82d66-85f8-427d-9bb2-95102de7d07f",
   "metadata": {},
   "outputs": [
    {
     "data": {
      "text/plain": [
       "'apple'"
      ]
     },
     "execution_count": 54,
     "metadata": {},
     "output_type": "execute_result"
    }
   ],
   "source": [
    "s.replace(\"z\",\"r\")"
   ]
  },
  {
   "cell_type": "code",
   "execution_count": 55,
   "id": "e7598a4d-6096-4a1e-887d-9fde7d141f39",
   "metadata": {},
   "outputs": [
    {
     "ename": "ValueError",
     "evalue": "substring not found",
     "output_type": "error",
     "traceback": [
      "\u001b[1;31m---------------------------------------------------------------------------\u001b[0m",
      "\u001b[1;31mValueError\u001b[0m                                Traceback (most recent call last)",
      "Cell \u001b[1;32mIn[55], line 1\u001b[0m\n\u001b[1;32m----> 1\u001b[0m s\u001b[38;5;241m.\u001b[39mindex(\u001b[38;5;124m\"\u001b[39m\u001b[38;5;124mz\u001b[39m\u001b[38;5;124m\"\u001b[39m)\n",
      "\u001b[1;31mValueError\u001b[0m: substring not found"
     ]
    }
   ],
   "source": [
    "s.index(\"z\")"
   ]
  },
  {
   "cell_type": "code",
   "execution_count": 56,
   "id": "b6515468-efb0-4eb0-8f13-d9894ebf3975",
   "metadata": {},
   "outputs": [
    {
     "data": {
      "text/plain": [
       "-1"
      ]
     },
     "execution_count": 56,
     "metadata": {},
     "output_type": "execute_result"
    }
   ],
   "source": [
    "s.find(\"z\")"
   ]
  },
  {
   "cell_type": "markdown",
   "id": "9c128b2c-daf7-4fe2-9335-fb49fb1907c6",
   "metadata": {},
   "source": [
    "## append- extend -concat"
   ]
  },
  {
   "cell_type": "code",
   "execution_count": 10,
   "id": "8c5ea884-ca96-4b85-81f9-d56ba4a43951",
   "metadata": {},
   "outputs": [],
   "source": [
    "l=[10,20,30]"
   ]
  },
  {
   "cell_type": "code",
   "execution_count": 12,
   "id": "8821f853-03e4-4a1b-b89a-9f0e2ab1faa4",
   "metadata": {},
   "outputs": [],
   "source": [
    "l.append(50)"
   ]
  },
  {
   "cell_type": "code",
   "execution_count": 7,
   "id": "36f60ba6-d510-479a-840c-20ed66555c79",
   "metadata": {},
   "outputs": [],
   "source": [
    "l.append([100,200])"
   ]
  },
  {
   "cell_type": "code",
   "execution_count": 8,
   "id": "5dc8f716-d8e6-4417-ab9b-ee53b5fb0df7",
   "metadata": {},
   "outputs": [],
   "source": [
    "l.append([\"a\",\"b\"])"
   ]
  },
  {
   "cell_type": "code",
   "execution_count": 13,
   "id": "adbe453f-52e0-4084-a9ae-faaba6980a0e",
   "metadata": {},
   "outputs": [
    {
     "data": {
      "text/plain": [
       "[10, 20, 30, 50]"
      ]
     },
     "execution_count": 13,
     "metadata": {},
     "output_type": "execute_result"
    }
   ],
   "source": [
    "l"
   ]
  },
  {
   "cell_type": "code",
   "execution_count": 20,
   "id": "06878af7-5a4a-4137-881d-83eec039da49",
   "metadata": {},
   "outputs": [],
   "source": [
    "l=[10,20,30]\n",
    "l2=[\"a\",\"b\",\"c\"]"
   ]
  },
  {
   "cell_type": "code",
   "execution_count": 3,
   "id": "68fd661f-8516-4504-b3d6-e9626b9b2f7f",
   "metadata": {},
   "outputs": [],
   "source": [
    "l.extend(l2)"
   ]
  },
  {
   "cell_type": "code",
   "execution_count": 4,
   "id": "565b100d-c116-4f04-a87f-ebbb4a885f10",
   "metadata": {},
   "outputs": [
    {
     "data": {
      "text/plain": [
       "[10, 20, 30, 'a', 'b', 'c', 'a', 'b', 'c']"
      ]
     },
     "execution_count": 4,
     "metadata": {},
     "output_type": "execute_result"
    }
   ],
   "source": [
    "l+l2"
   ]
  },
  {
   "cell_type": "code",
   "execution_count": 14,
   "id": "0ea70334-7de7-46da-a7e7-45361867dd98",
   "metadata": {},
   "outputs": [],
   "source": [
    "# append is used to stored the result"
   ]
  },
  {
   "cell_type": "code",
   "execution_count": 16,
   "id": "444fc624-1fb2-43bc-879c-c6e72009d719",
   "metadata": {},
   "outputs": [],
   "source": [
    "l=[]\n",
    "\n",
    "l.append(1)\n",
    "l.append(2)\n",
    "l.append(3)"
   ]
  },
  {
   "cell_type": "code",
   "execution_count": 17,
   "id": "7fcfe149-67fc-4909-88db-7e72230a6a51",
   "metadata": {},
   "outputs": [
    {
     "data": {
      "text/plain": [
       "[1, 2, 3]"
      ]
     },
     "execution_count": 17,
     "metadata": {},
     "output_type": "execute_result"
    }
   ],
   "source": [
    "l"
   ]
  },
  {
   "cell_type": "code",
   "execution_count": 21,
   "id": "a3728401-9def-4fd5-a338-59086e4add56",
   "metadata": {},
   "outputs": [
    {
     "name": "stdout",
     "output_type": "stream",
     "text": [
      "1\n",
      "2\n",
      "3\n"
     ]
    },
    {
     "data": {
      "text/plain": [
       "[10, 20, 30, 1, 2, 3]"
      ]
     },
     "execution_count": 21,
     "metadata": {},
     "output_type": "execute_result"
    }
   ],
   "source": [
    "for i in range(1,4):\n",
    "    print(i)\n",
    "    l.append(i)\n",
    "l"
   ]
  },
  {
   "cell_type": "code",
   "execution_count": 29,
   "id": "d700cb3b-e1f9-40e7-b25d-50db94349aae",
   "metadata": {},
   "outputs": [
    {
     "name": "stdout",
     "output_type": "stream",
     "text": [
      "[2, 4, 6, 8]\n",
      "[1, 3, 5, 7, 9]\n"
     ]
    }
   ],
   "source": [
    "even=[]\n",
    "odd=[]\n",
    "for i in range(1,10):\n",
    "    if i%2==0:\n",
    "        even.append(i)\n",
    "        # print(\"even\")\n",
    "    else:\n",
    "        odd.append(i)\n",
    "        # print(\"odd\")\n",
    "print(even)\n",
    "print(odd)"
   ]
  },
  {
   "cell_type": "code",
   "execution_count": 30,
   "id": "85fe7b7f-6c82-4041-b773-2d78b5db4fdc",
   "metadata": {},
   "outputs": [
    {
     "data": {
      "text/plain": [
       "20"
      ]
     },
     "execution_count": 30,
     "metadata": {},
     "output_type": "execute_result"
    }
   ],
   "source": [
    "sum(even)"
   ]
  },
  {
   "cell_type": "code",
   "execution_count": 31,
   "id": "54db2c92-b814-4785-9404-6335275d3b43",
   "metadata": {},
   "outputs": [
    {
     "data": {
      "text/plain": [
       "25"
      ]
     },
     "execution_count": 31,
     "metadata": {},
     "output_type": "execute_result"
    }
   ],
   "source": [
    "sum(odd)"
   ]
  },
  {
   "cell_type": "code",
   "execution_count": 39,
   "id": "4b79b60c-6683-46b7-a1ae-c04b09fb3276",
   "metadata": {},
   "outputs": [],
   "source": [
    "l=[10,20,30,40]\n",
    "del (l[2])"
   ]
  },
  {
   "cell_type": "code",
   "execution_count": 40,
   "id": "9f7eddf3-bd39-43d2-950f-3a8c0e9de938",
   "metadata": {},
   "outputs": [
    {
     "data": {
      "text/plain": [
       "[10, 20, 40]"
      ]
     },
     "execution_count": 40,
     "metadata": {},
     "output_type": "execute_result"
    }
   ],
   "source": [
    "l"
   ]
  },
  {
   "cell_type": "code",
   "execution_count": 41,
   "id": "d072d3bb-d360-46dc-90ea-d1ac31a91f84",
   "metadata": {},
   "outputs": [],
   "source": [
    "l=[10,20,30,40]\n",
    "del (l)"
   ]
  },
  {
   "cell_type": "code",
   "execution_count": 42,
   "id": "ddfac3ad-c572-4cba-80a5-271a87335e14",
   "metadata": {},
   "outputs": [
    {
     "ename": "NameError",
     "evalue": "name 'l' is not defined",
     "output_type": "error",
     "traceback": [
      "\u001b[1;31m---------------------------------------------------------------------------\u001b[0m",
      "\u001b[1;31mNameError\u001b[0m                                 Traceback (most recent call last)",
      "Cell \u001b[1;32mIn[42], line 1\u001b[0m\n\u001b[1;32m----> 1\u001b[0m l\n",
      "\u001b[1;31mNameError\u001b[0m: name 'l' is not defined"
     ]
    }
   ],
   "source": [
    "l"
   ]
  },
  {
   "cell_type": "markdown",
   "id": "a8eeb05d-2b07-4e55-a0bb-c01f8c6c1080",
   "metadata": {},
   "source": [
    "## sorted -Sort"
   ]
  },
  {
   "cell_type": "code",
   "execution_count": 52,
   "id": "000e419b-de33-4c39-9e91-5644c531b1a1",
   "metadata": {},
   "outputs": [],
   "source": [
    "l=[30,70,90,50,60,30]\n",
    "\n"
   ]
  },
  {
   "cell_type": "code",
   "execution_count": 50,
   "id": "88165856-1a65-4336-bd68-94844798c10b",
   "metadata": {},
   "outputs": [
    {
     "data": {
      "text/plain": [
       "[30, 30, 50, 60, 70, 90]"
      ]
     },
     "execution_count": 50,
     "metadata": {},
     "output_type": "execute_result"
    }
   ],
   "source": [
    "l.sort()\n",
    "l"
   ]
  },
  {
   "cell_type": "code",
   "execution_count": 53,
   "id": "bcfad674-adfd-450d-8c0b-7fedf0e652c8",
   "metadata": {},
   "outputs": [
    {
     "data": {
      "text/plain": [
       "[30, 30, 50, 60, 70, 90]"
      ]
     },
     "execution_count": 53,
     "metadata": {},
     "output_type": "execute_result"
    }
   ],
   "source": [
    "sorted(l)"
   ]
  },
  {
   "cell_type": "code",
   "execution_count": 54,
   "id": "7561123e-a71a-4637-95f6-27013cfdad6e",
   "metadata": {},
   "outputs": [
    {
     "data": {
      "text/plain": [
       "[30, 70, 90, 50, 60, 30]"
      ]
     },
     "execution_count": 54,
     "metadata": {},
     "output_type": "execute_result"
    }
   ],
   "source": [
    "l"
   ]
  },
  {
   "cell_type": "code",
   "execution_count": 63,
   "id": "82f5f63b-4e9d-49c0-8ed4-34d458160e34",
   "metadata": {},
   "outputs": [
    {
     "data": {
      "text/plain": [
       "[60, 50, 90, 70, 30]"
      ]
     },
     "execution_count": 63,
     "metadata": {},
     "output_type": "execute_result"
    }
   ],
   "source": [
    "l=[30,70,90,50,60]\n",
    "list(reversed(l))"
   ]
  },
  {
   "cell_type": "code",
   "execution_count": 64,
   "id": "e0bc7943-f96b-4d00-9532-39c8a3997183",
   "metadata": {},
   "outputs": [
    {
     "name": "stdout",
     "output_type": "stream",
     "text": [
      "[30, 70, 90, 50, 60]\n"
     ]
    }
   ],
   "source": [
    "print(l)"
   ]
  },
  {
   "cell_type": "code",
   "execution_count": 65,
   "id": "07cd0d60-3097-4767-a27a-38bbbd82fbb9",
   "metadata": {},
   "outputs": [],
   "source": [
    "l=[30,70,90,50,60]\n",
    "l.reverse()"
   ]
  },
  {
   "cell_type": "code",
   "execution_count": 67,
   "id": "3261fa02-b879-49d1-b2d7-81f13b8ab874",
   "metadata": {},
   "outputs": [
    {
     "data": {
      "text/plain": [
       "[60, 50, 90, 70, 30]"
      ]
     },
     "execution_count": 67,
     "metadata": {},
     "output_type": "execute_result"
    }
   ],
   "source": [
    "l"
   ]
  },
  {
   "cell_type": "code",
   "execution_count": 79,
   "id": "466f3c2e-8065-45b0-bce0-c98e3f55e44e",
   "metadata": {},
   "outputs": [
    {
     "data": {
      "text/plain": [
       "'rahul'"
      ]
     },
     "execution_count": 79,
     "metadata": {},
     "output_type": "execute_result"
    }
   ],
   "source": [
    "l=[[\"do\", \"it\",[[[[\"rahul\",\"sima\"]]]]]]\n",
    "\n",
    "l[0][2][0][0][0][0]"
   ]
  },
  {
   "cell_type": "code",
   "execution_count": 88,
   "id": "20fb7627-dcbd-4748-84ba-d768787aaee4",
   "metadata": {},
   "outputs": [],
   "source": [
    "l=[10,20,30,40,50]\n",
    "\n",
    "l=[\"rahul\",\"sima\",\"dog\"]\n",
    "\n",
    "l[0]=\"Rahul\""
   ]
  },
  {
   "cell_type": "code",
   "execution_count": 89,
   "id": "fcf5ee96-7690-458a-b3b0-d4b518b6c999",
   "metadata": {},
   "outputs": [
    {
     "data": {
      "text/plain": [
       "['Rahul', 'sima', 'dog']"
      ]
     },
     "execution_count": 89,
     "metadata": {},
     "output_type": "execute_result"
    }
   ],
   "source": [
    "l"
   ]
  },
  {
   "cell_type": "code",
   "execution_count": 99,
   "id": "1901c8a3-2315-4dca-9dea-910a9a44d0d8",
   "metadata": {},
   "outputs": [],
   "source": [
    "l=[1,89,29,900,00,3,800,10000,730643]"
   ]
  },
  {
   "cell_type": "code",
   "execution_count": 92,
   "id": "6473ffe4-884e-4e91-8e61-8036d40247ef",
   "metadata": {},
   "outputs": [
    {
     "data": {
      "text/plain": [
       "730643"
      ]
     },
     "execution_count": 92,
     "metadata": {},
     "output_type": "execute_result"
    }
   ],
   "source": [
    "s=l[0]\n",
    "for i in l:\n",
    "    if i>s:\n",
    "        s=i\n",
    "s"
   ]
  },
  {
   "cell_type": "code",
   "execution_count": 93,
   "id": "2f000da4-6d7c-46ff-b19e-bd3d783dd515",
   "metadata": {},
   "outputs": [
    {
     "data": {
      "text/plain": [
       "1"
      ]
     },
     "execution_count": 93,
     "metadata": {},
     "output_type": "execute_result"
    }
   ],
   "source": [
    "s=l[0]\n",
    "\n",
    "for i in l:\n",
    "    if i<s:\n",
    "        s=i\n",
    "\n",
    "s"
   ]
  },
  {
   "cell_type": "code",
   "execution_count": 95,
   "id": "1f5f2c94-b4f7-4ae9-b6a2-b5b53b0c567a",
   "metadata": {},
   "outputs": [
    {
     "data": {
      "text/plain": [
       "10000"
      ]
     },
     "execution_count": 95,
     "metadata": {},
     "output_type": "execute_result"
    }
   ],
   "source": [
    "s=l[0]\n",
    "for i in l:\n",
    "    if i>s:\n",
    "        s=i\n",
    "\n",
    "s\n",
    "m=l[0]\n",
    "for i in l:\n",
    "    if i>m and i!=s:\n",
    "        m=i \n",
    "m"
   ]
  },
  {
   "cell_type": "code",
   "execution_count": 123,
   "id": "0b16fac2-fda8-4369-a3fc-20732516df52",
   "metadata": {},
   "outputs": [
    {
     "name": "stdout",
     "output_type": "stream",
     "text": [
      "[0.0, 1, 3, 3, 4, 5, 6.1, 6.2, 7, 8, 10, 60, 820]\n"
     ]
    }
   ],
   "source": [
    "l=[5,4,7,820,60,8,6.2,6.1,3,0000000.0,10,3,1]\n",
    "for i in range(len(l)):\n",
    "    for j in range(len(l)-i-1):\n",
    "        if l[j]>l[j+1]:\n",
    "            l[j],l[j+1]=l[j+1],l[j]\n",
    "print(l)      "
   ]
  },
  {
   "cell_type": "code",
   "execution_count": 129,
   "id": "df4e69ec-02ba-48ae-a524-b11e42c1dfe4",
   "metadata": {},
   "outputs": [
    {
     "data": {
      "text/plain": [
       "[820, 60, 10, 8, 7, 6.2, 6.1, 5, 4, 3, 3, 1, 0.0]"
      ]
     },
     "execution_count": 129,
     "metadata": {},
     "output_type": "execute_result"
    }
   ],
   "source": [
    "out=[]\n",
    "for i in range(len(l)-1,-1,-1):\n",
    "    out.append(l[i])    \n",
    "out"
   ]
  },
  {
   "cell_type": "code",
   "execution_count": 134,
   "id": "2c437935-5a4e-4944-b7e9-b3e6327257c4",
   "metadata": {},
   "outputs": [
    {
     "name": "stdout",
     "output_type": "stream",
     "text": [
      "820\n",
      "60\n",
      "10\n",
      "8\n",
      "7\n",
      "6.2\n",
      "6.1\n",
      "5\n",
      "4\n",
      "3\n",
      "3\n",
      "1\n",
      "0.0\n"
     ]
    }
   ],
   "source": [
    "for i in range(len(l)-1,-1,-1):\n",
    "    print(l[i])"
   ]
  },
  {
   "cell_type": "code",
   "execution_count": 135,
   "id": "cb8b5541-5717-474d-b9df-b282772d9610",
   "metadata": {},
   "outputs": [],
   "source": [
    "def greet():\n",
    "    return \"ok \"\n",
    "gr\n"
   ]
  },
  {
   "cell_type": "code",
   "execution_count": 136,
   "id": "67f09f19-cbe8-47c1-81b0-b9ae15e6b464",
   "metadata": {},
   "outputs": [
    {
     "name": "stdout",
     "output_type": "stream",
     "text": [
      "ok \n"
     ]
    }
   ],
   "source": [
    "print(greet())"
   ]
  },
  {
   "cell_type": "code",
   "execution_count": 137,
   "id": "0174d8c6-67d8-45cc-867c-eb699e4374aa",
   "metadata": {},
   "outputs": [
    {
     "data": {
      "text/plain": [
       "'ok '"
      ]
     },
     "execution_count": 137,
     "metadata": {},
     "output_type": "execute_result"
    }
   ],
   "source": [
    "greet()"
   ]
  },
  {
   "cell_type": "code",
   "execution_count": 144,
   "id": "e2e8a6a1-ef8f-4a5e-802d-bae62c94d599",
   "metadata": {},
   "outputs": [
    {
     "name": "stdout",
     "output_type": "stream",
     "text": [
      "[40, 2, 900]\n",
      "[40, 2, 900]\n"
     ]
    }
   ],
   "source": [
    "a = [1, 2, 3]\n",
    "b = a\n",
    "b[0]=40\n",
    "a[2]=900\n",
    "print(a)\n",
    "print(b)"
   ]
  },
  {
   "cell_type": "code",
   "execution_count": 145,
   "id": "11fcc4d1-52e9-44de-b3f1-595ced1aa7e8",
   "metadata": {},
   "outputs": [
    {
     "name": "stdout",
     "output_type": "stream",
     "text": [
      "[1, 2, 900]\n",
      "[40, 2, 3]\n"
     ]
    }
   ],
   "source": [
    "a = [1, 2, 3]\n",
    "b = a[:]\n",
    "b[0]=40\n",
    "a[2]=900\n",
    "print(a)\n",
    "print(b)"
   ]
  },
  {
   "cell_type": "code",
   "execution_count": 147,
   "id": "39611bb3-ed32-43fc-bf49-bc49854a46f3",
   "metadata": {},
   "outputs": [
    {
     "name": "stdout",
     "output_type": "stream",
     "text": [
      "[[[], 1], [[], 1], [[], 1]]\n"
     ]
    }
   ],
   "source": [
    "list = [[[]]] * 3\n",
    "list[0].append(1)\n",
    "print(list)"
   ]
  },
  {
   "cell_type": "code",
   "execution_count": 148,
   "id": "aa11ccdd-d52e-4980-b468-cc8a5a096214",
   "metadata": {},
   "outputs": [
    {
     "name": "stdout",
     "output_type": "stream",
     "text": [
      "[0, 2, 4]\n"
     ]
    }
   ],
   "source": [
    "list = [i for i in range(5) if i % 2 == 0]\n",
    "print(list)"
   ]
  },
  {
   "cell_type": "code",
   "execution_count": 152,
   "id": "72c82ac9-d4a4-402d-bbee-93124e2d197d",
   "metadata": {},
   "outputs": [],
   "source": [
    "list1=[i for i in range(5) if i%2==0]"
   ]
  },
  {
   "cell_type": "code",
   "execution_count": 153,
   "id": "d1ef0957-e04a-4d2d-b683-836556e00118",
   "metadata": {},
   "outputs": [
    {
     "name": "stdout",
     "output_type": "stream",
     "text": [
      "[0, 2, 4]\n"
     ]
    }
   ],
   "source": [
    "print(list1)"
   ]
  },
  {
   "cell_type": "code",
   "execution_count": 158,
   "id": "c3fdbe3d-dfe9-4c3e-bed5-7233eb36849d",
   "metadata": {},
   "outputs": [
    {
     "data": {
      "text/plain": [
       "[]"
      ]
     },
     "execution_count": 158,
     "metadata": {},
     "output_type": "execute_result"
    }
   ],
   "source": [
    "[1,2,3]*0"
   ]
  },
  {
   "cell_type": "code",
   "execution_count": 167,
   "id": "f931c5a2-5e82-40a0-91bc-cbeb5a663c17",
   "metadata": {},
   "outputs": [
    {
     "name": "stdout",
     "output_type": "stream",
     "text": [
      "[1, 2, 3, 4, 5]\n",
      "[1, 2, 3, 4, 5]\n"
     ]
    }
   ],
   "source": [
    "x = [1, 2, 3, 4]\n",
    "y = x\n",
    "x.append(5)\n",
    "print(y)\n",
    "print(x)"
   ]
  },
  {
   "cell_type": "code",
   "execution_count": 173,
   "id": "a3ce3bd3-fcb8-4491-ab5d-6b19ca84d34b",
   "metadata": {},
   "outputs": [
    {
     "data": {
      "text/plain": [
       "[2, 3, 4]"
      ]
     },
     "execution_count": 173,
     "metadata": {},
     "output_type": "execute_result"
    }
   ],
   "source": [
    "x = [1, 2, 3, 4]\n",
    "x[1:]"
   ]
  },
  {
   "cell_type": "code",
   "execution_count": 174,
   "id": "5e2e960c-a76c-4431-aec9-4fcf7c8ac266",
   "metadata": {},
   "outputs": [
    {
     "name": "stdout",
     "output_type": "stream",
     "text": [
      "[1, 2, 3, 4]\n"
     ]
    }
   ],
   "source": [
    "lst = [1, 2, 3]\n",
    "lst.insert(10, 4)\n",
    "print(lst)"
   ]
  },
  {
   "cell_type": "code",
   "execution_count": 175,
   "id": "fa3ba032-f5de-48b4-9e80-ffee6f6dbdb6",
   "metadata": {},
   "outputs": [],
   "source": [
    "lst = [1, 2, 3]+[4]"
   ]
  },
  {
   "cell_type": "code",
   "execution_count": 176,
   "id": "61d95e66-00e9-4674-978d-e2d73d75bd4f",
   "metadata": {},
   "outputs": [
    {
     "data": {
      "text/plain": [
       "[1, 2, 3, 4]"
      ]
     },
     "execution_count": 176,
     "metadata": {},
     "output_type": "execute_result"
    }
   ],
   "source": [
    "lst"
   ]
  },
  {
   "cell_type": "code",
   "execution_count": 180,
   "id": "1306b3a9-d891-4653-87de-f33ec7f9ac18",
   "metadata": {},
   "outputs": [
    {
     "name": "stdout",
     "output_type": "stream",
     "text": [
      "15\n"
     ]
    }
   ],
   "source": [
    "def func(a, b, *ars, d=4):\n",
    "    \n",
    "    return a + b + sum(ars) + d\n",
    "print(func(1, 2, 3, 4, d=5))"
   ]
  },
  {
   "cell_type": "code",
   "execution_count": 197,
   "id": "d042eaf5-7159-4f43-a302-873da05b1450",
   "metadata": {},
   "outputs": [],
   "source": [
    "def d(*a,):\n",
    "    print(a+b)\n",
    "    "
   ]
  },
  {
   "cell_type": "code",
   "execution_count": 201,
   "id": "fcdd4633-6f0f-4e51-85fd-3f7b35fa895d",
   "metadata": {},
   "outputs": [
    {
     "name": "stdout",
     "output_type": "stream",
     "text": [
      "25\n"
     ]
    }
   ],
   "source": [
    "square = lambda x: x ** 2\n",
    "print(square(5))"
   ]
  },
  {
   "cell_type": "code",
   "execution_count": 202,
   "id": "d276c8ad-614f-48a2-ae48-bc591368835c",
   "metadata": {},
   "outputs": [
    {
     "name": "stdout",
     "output_type": "stream",
     "text": [
      "[1, 2, 3, 4]\n"
     ]
    }
   ],
   "source": [
    "def modify_list(lst):\n",
    "    lst.append(4)\n",
    "my_list = [1, 2, 3]\n",
    "modify_list(my_list)\n",
    "print(my_list)"
   ]
  },
  {
   "cell_type": "code",
   "execution_count": 203,
   "id": "930667e4-99f0-46bc-b437-907fd848d044",
   "metadata": {},
   "outputs": [
    {
     "name": "stdout",
     "output_type": "stream",
     "text": [
      "36\n"
     ]
    }
   ],
   "source": [
    "def test(a, b, c=5, *args, d=10, **kwargs):\n",
    "    return a + b + c + d + sum(args) + sum(kwargs.values())\n",
    "print(test(1, 2, 3, 4, 5, d=6, x=7, y=8))"
   ]
  },
  {
   "cell_type": "code",
   "execution_count": 204,
   "id": "8b7de734-6b10-4d1c-ae38-0d9cbc9cb49b",
   "metadata": {},
   "outputs": [
    {
     "ename": "TypeError",
     "evalue": "can only concatenate list (not \"int\") to list",
     "output_type": "error",
     "traceback": [
      "\u001b[1;31m---------------------------------------------------------------------------\u001b[0m",
      "\u001b[1;31mTypeError\u001b[0m                                 Traceback (most recent call last)",
      "Cell \u001b[1;32mIn[204], line 1\u001b[0m\n\u001b[1;32m----> 1\u001b[0m \u001b[38;5;28;01mdef\u001b[39;00m\u001b[38;5;250m \u001b[39m\u001b[38;5;21mf\u001b[39m(x, y\u001b[38;5;241m=\u001b[39mx\u001b[38;5;241m+\u001b[39m\u001b[38;5;241m1\u001b[39m):\n\u001b[0;32m      2\u001b[0m     \u001b[38;5;28;01mreturn\u001b[39;00m y\n\u001b[0;32m      3\u001b[0m \u001b[38;5;28mprint\u001b[39m(f(\u001b[38;5;241m5\u001b[39m))\n",
      "\u001b[1;31mTypeError\u001b[0m: can only concatenate list (not \"int\") to list"
     ]
    }
   ],
   "source": [
    "def f(x, y=x+1):\n",
    "    return y\n",
    "print(f(5))"
   ]
  },
  {
   "cell_type": "code",
   "execution_count": 208,
   "id": "610a25a6-3f45-4c9a-abdc-6bb340e986f7",
   "metadata": {},
   "outputs": [
    {
     "name": "stdout",
     "output_type": "stream",
     "text": [
      "[1]\n",
      "[2]\n",
      "[3]\n",
      "[4]\n"
     ]
    }
   ],
   "source": [
    "def func(x, y=None):\n",
    "    if y is None:\n",
    "        y = [] \n",
    "    y.append(x)\n",
    "    return y\n",
    "\n",
    "print(func(1))\n",
    "print(func(2))\n",
    "print(func(3, []))\n",
    "print(func(4))"
   ]
  },
  {
   "cell_type": "code",
   "execution_count": 209,
   "id": "c9f4db13-622b-4c49-bd9f-f04dabc255d8",
   "metadata": {},
   "outputs": [
    {
     "name": "stdout",
     "output_type": "stream",
     "text": [
      "10\n"
     ]
    }
   ],
   "source": [
    "def add(a, b):\n",
    "    return a + b\n",
    "def sub(a, b):\n",
    "    return a - b\n",
    "result = [add, sub]\n",
    "print(result[0](5, result[1](8, 3)))"
   ]
  },
  {
   "cell_type": "code",
   "execution_count": 210,
   "id": "02345c41-eb73-4925-b9a2-271d0b59cd1a",
   "metadata": {},
   "outputs": [
    {
     "name": "stdout",
     "output_type": "stream",
     "text": [
      "8\n"
     ]
    }
   ],
   "source": [
    "def add(x, y=5):\n",
    "    return x + y\n",
    "\n",
    "print(add(3))"
   ]
  },
  {
   "cell_type": "code",
   "execution_count": 211,
   "id": "fb56becd-6457-4c6a-8798-d88f5b00d30d",
   "metadata": {},
   "outputs": [
    {
     "name": "stdout",
     "output_type": "stream",
     "text": [
      "Hello World\n"
     ]
    }
   ],
   "source": [
    "def combine(a, b='World'):\n",
    "    return a + ' ' + b\n",
    "\n",
    "print(combine('Hello'))"
   ]
  },
  {
   "cell_type": "code",
   "execution_count": 212,
   "id": "d0908d2e-639e-44b7-b1c9-31c9ba0eb6f5",
   "metadata": {},
   "outputs": [
    {
     "name": "stdout",
     "output_type": "stream",
     "text": [
      "15\n"
     ]
    }
   ],
   "source": [
    "def change(num):\n",
    "    num += 10\n",
    "    return num\n",
    "\n",
    "x = 5\n",
    "print(change(x))"
   ]
  },
  {
   "cell_type": "code",
   "execution_count": 213,
   "id": "0272cfb3-1670-4e94-aa73-ad9aa3471cc9",
   "metadata": {},
   "outputs": [
    {
     "name": "stdout",
     "output_type": "stream",
     "text": [
      "(2, 4)\n"
     ]
    }
   ],
   "source": [
    "\n",
    "def f(x):\n",
    "    return x, x**2\n",
    "\n",
    "print(f(2))"
   ]
  },
  {
   "cell_type": "code",
   "execution_count": 214,
   "id": "d58c7151-2d5a-4a56-8d01-62fd0f75dca9",
   "metadata": {},
   "outputs": [
    {
     "name": "stdout",
     "output_type": "stream",
     "text": [
      "None\n"
     ]
    }
   ],
   "source": [
    "def test():\n",
    "    return\n",
    "    print(\"Inside function\")\n",
    "\n",
    "print(test())"
   ]
  },
  {
   "cell_type": "code",
   "execution_count": 215,
   "id": "63409a7c-e394-48fb-8fff-59cdf27f1f53",
   "metadata": {},
   "outputs": [
    {
     "name": "stdout",
     "output_type": "stream",
     "text": [
      "Hello, Alice\n"
     ]
    }
   ],
   "source": [
    "def greet(name):\n",
    "    print(\"Hello, \" + name)\n",
    "\n",
    "greet('Alice')"
   ]
  },
  {
   "cell_type": "markdown",
   "id": "03791641-b9bb-4695-afb4-3ee868c85b84",
   "metadata": {},
   "source": [
    "## list compheration"
   ]
  },
  {
   "cell_type": "code",
   "execution_count": 216,
   "id": "8eb2dc8b-3494-4330-8f60-cc5770e213f9",
   "metadata": {},
   "outputs": [],
   "source": [
    "l=[i for i in range(10)]"
   ]
  },
  {
   "cell_type": "code",
   "execution_count": 217,
   "id": "e43d16ea-eac1-469b-a90a-b83f46d8c71b",
   "metadata": {},
   "outputs": [
    {
     "data": {
      "text/plain": [
       "[0, 1, 2, 3, 4, 5, 6, 7, 8, 9]"
      ]
     },
     "execution_count": 217,
     "metadata": {},
     "output_type": "execute_result"
    }
   ],
   "source": [
    "l"
   ]
  },
  {
   "cell_type": "code",
   "execution_count": 220,
   "id": "dce2279a-e796-4d0a-96f2-c4c0b60b9807",
   "metadata": {},
   "outputs": [],
   "source": [
    "l= [ i for i in range(11) if i%2==0 ]"
   ]
  },
  {
   "cell_type": "code",
   "execution_count": 221,
   "id": "4c3b1ac0-ae0e-435e-afec-0376e251e7c9",
   "metadata": {},
   "outputs": [
    {
     "data": {
      "text/plain": [
       "[0, 2, 4, 6, 8, 10]"
      ]
     },
     "execution_count": 221,
     "metadata": {},
     "output_type": "execute_result"
    }
   ],
   "source": [
    "l"
   ]
  },
  {
   "cell_type": "code",
   "execution_count": 226,
   "id": "5bf6e6a4-4444-4883-a61e-61179ae8d355",
   "metadata": {},
   "outputs": [
    {
     "data": {
      "text/plain": [
       "[0, 2, 4, 6, 8, 10]"
      ]
     },
     "execution_count": 226,
     "metadata": {},
     "output_type": "execute_result"
    }
   ],
   "source": [
    "l= [i for i in range(11) if i%2==0 ]\n",
    "l"
   ]
  },
  {
   "cell_type": "code",
   "execution_count": 229,
   "id": "81d60832-eeb9-4d72-a9fe-85513cff0961",
   "metadata": {},
   "outputs": [],
   "source": [
    "l= [i*i for i in range(1,11)]"
   ]
  },
  {
   "cell_type": "code",
   "execution_count": 230,
   "id": "a3f45301-c797-4103-adab-b3df2c8187a6",
   "metadata": {},
   "outputs": [
    {
     "data": {
      "text/plain": [
       "[1, 4, 9, 16, 25, 36, 49, 64, 81, 100]"
      ]
     },
     "execution_count": 230,
     "metadata": {},
     "output_type": "execute_result"
    }
   ],
   "source": [
    "l"
   ]
  },
  {
   "cell_type": "code",
   "execution_count": 231,
   "id": "9cdd095d-cb58-4b64-9ab2-ddb16d1e564c",
   "metadata": {},
   "outputs": [],
   "source": [
    "\n",
    "\n",
    "# Q2) input=['hyd','bengaluru','mumbai','chennai']\n",
    "#     output=['HYD','BENGALURU','MUMBAI','CHENNAI']\n",
    "\n",
    "# Q3) input=['hyd','bengaluru','mum#bai','chen#nai']\n",
    "#     output=['mum#bai','chen#nai']\n",
    "\n",
    "# Q4) input=['hyd','bengaluru','mum#bai','chen#nai']\n",
    "#     output=['hyd','bengaluru']\n",
    "\n",
    "# Q5) input=['hyd','bengaluru','mumbai','chennai']\n",
    "#     multiply all indexes by 10\n",
    "\n",
    "# Q6) input=['hyd','bengaluru','mumbai','chennai']\n",
    "#     sum of all indexes\n",
    "\n",
    "# Q7) Sum of first 10 Natural numbers"
   ]
  },
  {
   "cell_type": "code",
   "execution_count": 245,
   "id": "591b1db4-a188-4d57-8a01-ed0fa1f88634",
   "metadata": {},
   "outputs": [],
   "source": [
    "Input=['hyd','bengaluru','mumbai','chennai']\n",
    "# output=[]\n",
    "# for i in Input:\n",
    "#     output.append(i.title())\n",
    "# output\n"
   ]
  },
  {
   "cell_type": "code",
   "execution_count": 246,
   "id": "4be17d1a-d5b4-4bc6-b8f7-c8ad7ce99ee0",
   "metadata": {},
   "outputs": [
    {
     "data": {
      "text/plain": [
       "['Hyd', 'Bengaluru', 'Mumbai', 'Chennai']"
      ]
     },
     "execution_count": 246,
     "metadata": {},
     "output_type": "execute_result"
    }
   ],
   "source": [
    "l=[ i.title() for i in Input   ]\n",
    "l"
   ]
  },
  {
   "cell_type": "code",
   "execution_count": 247,
   "id": "fc4c8b84-f24d-4c1c-9fb1-83ff3bd1a9c6",
   "metadata": {},
   "outputs": [
    {
     "data": {
      "text/plain": [
       "['Hyd', 'Bengaluru', 'Mumbai', 'Chennai']"
      ]
     },
     "execution_count": 247,
     "metadata": {},
     "output_type": "execute_result"
    }
   ],
   "source": [
    "l=[ i.capitalize() for i in Input   ]\n",
    "l"
   ]
  },
  {
   "cell_type": "code",
   "execution_count": 248,
   "id": "16d854e5-befe-414a-b859-a755582ad520",
   "metadata": {},
   "outputs": [
    {
     "data": {
      "text/plain": [
       "['HYD', 'BENGALURU', 'MUMBAI', 'CHENNAI']"
      ]
     },
     "execution_count": 248,
     "metadata": {},
     "output_type": "execute_result"
    }
   ],
   "source": [
    "l=[ i.upper() for i in Input ]\n",
    "l"
   ]
  },
  {
   "cell_type": "code",
   "execution_count": 253,
   "id": "79d9c853-544e-4502-be72-e952d2cd2fed",
   "metadata": {},
   "outputs": [
    {
     "data": {
      "text/plain": [
       "['hyd', 'bengaluru']"
      ]
     },
     "execution_count": 253,
     "metadata": {},
     "output_type": "execute_result"
    }
   ],
   "source": [
    "Input=['hyd','bengaluru','mum#bai','chen#nai']\n",
    "#     output=['mum#bai','chen#nai']\n",
    "l=[ i for i in Input if \"#\" not in i ]\n",
    "l"
   ]
  },
  {
   "cell_type": "code",
   "execution_count": 266,
   "id": "837cf2eb-bf8d-4d12-9c84-fb011425c365",
   "metadata": {},
   "outputs": [],
   "source": [
    "l=[\"abc\", \"bc\",\"fdg\",\"vc\",\"dc\"]\n",
    "li=[i for i in l if len(i)<3 ]"
   ]
  },
  {
   "cell_type": "code",
   "execution_count": 251,
   "id": "96c976dc-bbc5-45e6-bc43-6a9f97845829",
   "metadata": {},
   "outputs": [
    {
     "data": {
      "text/plain": [
       "['bc', 'vc', 'dc']"
      ]
     },
     "execution_count": 251,
     "metadata": {},
     "output_type": "execute_result"
    }
   ],
   "source": [
    "li"
   ]
  },
  {
   "cell_type": "code",
   "execution_count": 254,
   "id": "defbcb37-f32c-4a7d-af28-3fd2ffff99aa",
   "metadata": {},
   "outputs": [
    {
     "name": "stdout",
     "output_type": "stream",
     "text": [
      "मराठी शब्द हवा आहे\n"
     ]
    }
   ],
   "source": [
    "print(\"मराठी शब्द हवा आहे\")"
   ]
  },
  {
   "cell_type": "code",
   "execution_count": 275,
   "id": "3c09b4bb-c9d8-4f69-9600-7ae63e2842fb",
   "metadata": {},
   "outputs": [
    {
     "name": "stdout",
     "output_type": "stream",
     "text": [
      "lenth of मराठी is 5\n",
      "lenth of शब्द is 4\n",
      "lenth of हवा is 3\n",
      "lenth of आहे is 3\n"
     ]
    }
   ],
   "source": [
    "mara=\"मराठी शब्द हवा आहे\".split()\n",
    "for i in mara:\n",
    "    print(f\"lenth of {i} is {len(i)}\")"
   ]
  },
  {
   "cell_type": "code",
   "execution_count": 278,
   "id": "89cba6f0-5c30-40ce-93ce-1ce274ce93ea",
   "metadata": {},
   "outputs": [],
   "source": [
    "l=[\"abc\", \"bc\",\"fdg\",\"vc\",\"dc\"]\n",
    "lv=[]\n",
    "li=[i if  len(i)<3 else lv.append(i) for i in l ]\n"
   ]
  },
  {
   "cell_type": "code",
   "execution_count": 280,
   "id": "de85164b-4c83-42f8-9ef3-72d9fceda479",
   "metadata": {},
   "outputs": [
    {
     "data": {
      "text/plain": [
       "['abc', 'fdg']"
      ]
     },
     "execution_count": 280,
     "metadata": {},
     "output_type": "execute_result"
    }
   ],
   "source": [
    "lv"
   ]
  },
  {
   "cell_type": "code",
   "execution_count": 306,
   "id": "3bc1fb97-2ebc-43da-ab79-9e27a7ba5900",
   "metadata": {},
   "outputs": [
    {
     "name": "stdin",
     "output_type": "stream",
     "text": [
      "Enter your Marks:  5\n"
     ]
    }
   ],
   "source": [
    "i=eval(input(\"Enter your Marks: \"))\n",
    "l=[ \"Good\" if i>=25 and i<=30 else \"very Good\" if i>=31 and i<=35 else \"Excellent\" if i>=36 and i<=40 else \"Practice More\" ]"
   ]
  },
  {
   "cell_type": "code",
   "execution_count": 299,
   "id": "de9bc16d-6c00-4fed-a95b-9a84528200d9",
   "metadata": {},
   "outputs": [
    {
     "name": "stdin",
     "output_type": "stream",
     "text": [
      "Enter your Marks:  5\n"
     ]
    },
    {
     "name": "stdout",
     "output_type": "stream",
     "text": [
      "['Practice More']\n"
     ]
    }
   ],
   "source": [
    "i = eval(input(\"Enter your Marks: \"))\n",
    "l = [\"Good\" if 25 <= i <= 30 else \"Very Good\" if 31 <= i <= 35 else \"Excellent\" if 36 <= i <= 40 else \"Practice More\"]\n",
    "print(l)"
   ]
  },
  {
   "cell_type": "code",
   "execution_count": 318,
   "id": "16ed7a71-da08-4c1d-962e-15b7cb78c966",
   "metadata": {},
   "outputs": [
    {
     "name": "stdin",
     "output_type": "stream",
     "text": [
      "Enter your Marks:  30\n"
     ]
    },
    {
     "data": {
      "text/plain": [
       "'Good'"
      ]
     },
     "execution_count": 318,
     "metadata": {},
     "output_type": "execute_result"
    }
   ],
   "source": [
    "i=eval(input(\"Enter your Marks: \"))\n",
    "l=[ \"Good\" if i>=25 and i<=30 else \"very Good\" if i>=31 and i<=35 else \"Excellent\" if i>=36 and i<=40 else \"Practice More\"]\n",
    "l[0]"
   ]
  },
  {
   "cell_type": "code",
   "execution_count": 313,
   "id": "0df1df0e-f4bc-4117-aaf6-e7cebacc7de2",
   "metadata": {},
   "outputs": [
    {
     "data": {
      "text/plain": [
       "int"
      ]
     },
     "execution_count": 313,
     "metadata": {},
     "output_type": "execute_result"
    }
   ],
   "source": []
  },
  {
   "cell_type": "code",
   "execution_count": 325,
   "id": "8b65e62d-6d63-4f4c-87ee-c3c354815f29",
   "metadata": {},
   "outputs": [
    {
     "data": {
      "text/plain": [
       "['ArithmeticError',\n",
       " 'AssertionError',\n",
       " 'AttributeError',\n",
       " 'BaseException',\n",
       " 'BaseExceptionGroup',\n",
       " 'BlockingIOError',\n",
       " 'BrokenPipeError',\n",
       " 'BufferError',\n",
       " 'BytesWarning',\n",
       " 'ChildProcessError',\n",
       " 'ConnectionAbortedError',\n",
       " 'ConnectionError',\n",
       " 'ConnectionRefusedError',\n",
       " 'ConnectionResetError',\n",
       " 'DeprecationWarning',\n",
       " 'EOFError',\n",
       " 'Ellipsis',\n",
       " 'EncodingWarning',\n",
       " 'EnvironmentError',\n",
       " 'Exception',\n",
       " 'ExceptionGroup',\n",
       " 'False',\n",
       " 'FileExistsError',\n",
       " 'FileNotFoundError',\n",
       " 'FloatingPointError',\n",
       " 'FutureWarning',\n",
       " 'GeneratorExit',\n",
       " 'IOError',\n",
       " 'ImportError',\n",
       " 'ImportWarning',\n",
       " 'IndentationError',\n",
       " 'IndexError',\n",
       " 'InterruptedError',\n",
       " 'IsADirectoryError',\n",
       " 'KeyError',\n",
       " 'KeyboardInterrupt',\n",
       " 'LookupError',\n",
       " 'MemoryError',\n",
       " 'ModuleNotFoundError',\n",
       " 'NameError',\n",
       " 'None',\n",
       " 'NotADirectoryError',\n",
       " 'NotImplemented',\n",
       " 'NotImplementedError',\n",
       " 'OSError',\n",
       " 'OverflowError',\n",
       " 'PendingDeprecationWarning',\n",
       " 'PermissionError',\n",
       " 'ProcessLookupError',\n",
       " 'PythonFinalizationError',\n",
       " 'RecursionError',\n",
       " 'ReferenceError',\n",
       " 'ResourceWarning',\n",
       " 'RuntimeError',\n",
       " 'RuntimeWarning',\n",
       " 'StopAsyncIteration',\n",
       " 'StopIteration',\n",
       " 'SyntaxError',\n",
       " 'SyntaxWarning',\n",
       " 'SystemError',\n",
       " 'SystemExit',\n",
       " 'TabError',\n",
       " 'TimeoutError',\n",
       " 'True',\n",
       " 'TypeError',\n",
       " 'UnboundLocalError',\n",
       " 'UnicodeDecodeError',\n",
       " 'UnicodeEncodeError',\n",
       " 'UnicodeError',\n",
       " 'UnicodeTranslateError',\n",
       " 'UnicodeWarning',\n",
       " 'UserWarning',\n",
       " 'ValueError',\n",
       " 'Warning',\n",
       " 'WindowsError',\n",
       " 'ZeroDivisionError',\n",
       " '_IncompleteInputError',\n",
       " '__IPYTHON__',\n",
       " '__build_class__',\n",
       " '__debug__',\n",
       " '__doc__',\n",
       " '__import__',\n",
       " '__loader__',\n",
       " '__name__',\n",
       " '__package__',\n",
       " '__spec__',\n",
       " 'abs',\n",
       " 'aiter',\n",
       " 'all',\n",
       " 'anext',\n",
       " 'any',\n",
       " 'ascii',\n",
       " 'bin',\n",
       " 'bool',\n",
       " 'breakpoint',\n",
       " 'bytearray',\n",
       " 'bytes',\n",
       " 'callable',\n",
       " 'chr',\n",
       " 'classmethod',\n",
       " 'compile',\n",
       " 'complex',\n",
       " 'copyright',\n",
       " 'credits',\n",
       " 'delattr',\n",
       " 'dict',\n",
       " 'dir',\n",
       " 'display',\n",
       " 'divmod',\n",
       " 'enumerate',\n",
       " 'eval',\n",
       " 'exec',\n",
       " 'execfile',\n",
       " 'filter',\n",
       " 'float',\n",
       " 'format',\n",
       " 'frozenset',\n",
       " 'get_ipython',\n",
       " 'getattr',\n",
       " 'globals',\n",
       " 'hasattr',\n",
       " 'hash',\n",
       " 'help',\n",
       " 'hex',\n",
       " 'id',\n",
       " 'input',\n",
       " 'int',\n",
       " 'isinstance',\n",
       " 'issubclass',\n",
       " 'iter',\n",
       " 'len',\n",
       " 'license',\n",
       " 'list',\n",
       " 'locals',\n",
       " 'map',\n",
       " 'max',\n",
       " 'memoryview',\n",
       " 'min',\n",
       " 'next',\n",
       " 'object',\n",
       " 'oct',\n",
       " 'open',\n",
       " 'ord',\n",
       " 'pow',\n",
       " 'print',\n",
       " 'property',\n",
       " 'range',\n",
       " 'repr',\n",
       " 'reversed',\n",
       " 'round',\n",
       " 'runfile',\n",
       " 'set',\n",
       " 'setattr',\n",
       " 'slice',\n",
       " 'sorted',\n",
       " 'staticmethod',\n",
       " 'str',\n",
       " 'sum',\n",
       " 'super',\n",
       " 'tuple',\n",
       " 'type',\n",
       " 'vars',\n",
       " 'zip']"
      ]
     },
     "execution_count": 325,
     "metadata": {},
     "output_type": "execute_result"
    }
   ],
   "source": [
    "dir(__builtins__)"
   ]
  },
  {
   "cell_type": "code",
   "execution_count": 326,
   "id": "e005d7c5-a723-4413-91c5-2e5211c11d33",
   "metadata": {},
   "outputs": [
    {
     "data": {
      "text/plain": [
       "4"
      ]
     },
     "execution_count": 326,
     "metadata": {},
     "output_type": "execute_result"
    }
   ],
   "source": [
    "pow(2,2)"
   ]
  },
  {
   "cell_type": "code",
   "execution_count": 355,
   "id": "4efd03cf-90e6-4b88-a1f3-719e32d11c4a",
   "metadata": {},
   "outputs": [
    {
     "name": "stdout",
     "output_type": "stream",
     "text": [
      "Ram age is 35\n",
      "raheem age is 60\n",
      "Rohit age is 80\n"
     ]
    }
   ],
   "source": [
    "l=[\"Ram\", \"raheem\", \"Rohit\"]\n",
    "a=[35,60,80]\n",
    "\n",
    "for i in range(len(l)):\n",
    "    print(f\"{l[i]} age is {a[i]}\")"
   ]
  },
  {
   "cell_type": "code",
   "execution_count": 336,
   "id": "a850dde9-4e42-4462-a4c1-030926bf5b7f",
   "metadata": {},
   "outputs": [
    {
     "name": "stdout",
     "output_type": "stream",
     "text": [
      "Ram age is 35\n",
      "raheem age is 60\n",
      "Rohit age is 80\n"
     ]
    }
   ],
   "source": [
    "for i,j in zip(l,a):\n",
    "    print(f\"{i} age is {j}\")\n",
    "    "
   ]
  },
  {
   "cell_type": "code",
   "execution_count": 365,
   "id": "685a8409-fb2b-4af3-9e41-5050c522ee12",
   "metadata": {},
   "outputs": [
    {
     "name": "stdout",
     "output_type": "stream",
     "text": [
      "Ram age is Ram\n",
      "raheem age is raheem\n",
      "Rohit age is Rohit\n"
     ]
    }
   ],
   "source": [
    "l=[\"Ram\", \"raheem\", \"Rohit\",\"raheem\",\"raheem\",\"raheem\",\"raheem\",]\n",
    "a=(\"Ram\", \"raheem\", \"Rohit\")\n",
    "\n",
    "\n",
    "for i,j in zip(l,a):\n",
    "    print(f\"{i} age is {j}\")"
   ]
  },
  {
   "cell_type": "code",
   "execution_count": 356,
   "id": "1fb43900-70dc-4f41-82e2-ca8aec6be1ec",
   "metadata": {},
   "outputs": [],
   "source": [
    "m=[(i,j) for i,j in zip(l,a)]"
   ]
  },
  {
   "cell_type": "code",
   "execution_count": 357,
   "id": "11c45fea-c69f-41d9-b0a8-9d52ddea5a99",
   "metadata": {},
   "outputs": [
    {
     "data": {
      "text/plain": [
       "[('Ram', 35), ('raheem', 60), ('Rohit', 80)]"
      ]
     },
     "execution_count": 357,
     "metadata": {},
     "output_type": "execute_result"
    }
   ],
   "source": [
    "m"
   ]
  },
  {
   "cell_type": "code",
   "execution_count": 375,
   "id": "ef1c8d31-d5de-44e4-aed3-8f20f502dc42",
   "metadata": {},
   "outputs": [],
   "source": [
    "count=0\n",
    "b=[count:=count+1 for i in l if i==\"raheem\" ]"
   ]
  },
  {
   "cell_type": "code",
   "execution_count": 376,
   "id": "5be9cb79-a384-4966-987c-88e2cf48330a",
   "metadata": {},
   "outputs": [],
   "source": [
    "c=[count]"
   ]
  },
  {
   "cell_type": "code",
   "execution_count": 378,
   "id": "9d739d22-fb4d-4339-a222-9d6ff8101bf8",
   "metadata": {},
   "outputs": [
    {
     "data": {
      "text/plain": [
       "[5]"
      ]
     },
     "execution_count": 378,
     "metadata": {},
     "output_type": "execute_result"
    }
   ],
   "source": [
    "c"
   ]
  },
  {
   "cell_type": "code",
   "execution_count": 392,
   "id": "80d3a927-7e84-4802-933e-0e81218493c0",
   "metadata": {},
   "outputs": [
    {
     "ename": "TypeError",
     "evalue": "'list' object is not callable",
     "output_type": "error",
     "traceback": [
      "\u001b[1;31m---------------------------------------------------------------------------\u001b[0m",
      "\u001b[1;31mTypeError\u001b[0m                                 Traceback (most recent call last)",
      "Cell \u001b[1;32mIn[392], line 1\u001b[0m\n\u001b[1;32m----> 1\u001b[0m m\u001b[38;5;241m=\u001b[39m [\u001b[38;5;28mlist\u001b[39m(\u001b[38;5;28mrange\u001b[39m(\u001b[38;5;241m1\u001b[39m,\u001b[38;5;241m10\u001b[39m))]\n",
      "\u001b[1;31mTypeError\u001b[0m: 'list' object is not callable"
     ]
    }
   ],
   "source": [
    "m= [list(range(1,10))]"
   ]
  },
  {
   "cell_type": "code",
   "execution_count": 387,
   "id": "874cb05f-d2b6-41c5-8c28-7f8397c5c337",
   "metadata": {},
   "outputs": [
    {
     "data": {
      "text/plain": [
       "range(1, 10)"
      ]
     },
     "execution_count": 387,
     "metadata": {},
     "output_type": "execute_result"
    }
   ],
   "source": [
    "a"
   ]
  },
  {
   "cell_type": "code",
   "execution_count": 395,
   "id": "be642a14-96a7-4f19-bd5c-3ad60e9bf15f",
   "metadata": {},
   "outputs": [],
   "source": [
    "a=range(1,20)"
   ]
  },
  {
   "cell_type": "code",
   "execution_count": 3,
   "id": "1916a147-29bc-4aa8-af62-78203c48bf07",
   "metadata": {},
   "outputs": [],
   "source": [
    "a= list(range(1,20))"
   ]
  },
  {
   "cell_type": "code",
   "execution_count": 9,
   "id": "db46d837-8e5e-4331-a4c1-d3a6ce25cb7e",
   "metadata": {},
   "outputs": [],
   "source": [
    "a=[]"
   ]
  },
  {
   "cell_type": "code",
   "execution_count": 10,
   "id": "83ffe024-bb58-4bb1-8be0-629185187052",
   "metadata": {},
   "outputs": [],
   "source": [
    "for i in string.ascii_uppercase:\n",
    "    a.append(i)"
   ]
  },
  {
   "cell_type": "code",
   "execution_count": 5,
   "id": "6502891f-adf2-4f34-8d9f-7c531fed03f0",
   "metadata": {},
   "outputs": [],
   "source": [
    "import string"
   ]
  },
  {
   "cell_type": "code",
   "execution_count": 6,
   "id": "ca421e30-79fe-4cd7-aa35-21f5eb6c204c",
   "metadata": {},
   "outputs": [
    {
     "data": {
      "text/plain": [
       "['Formatter',\n",
       " 'Template',\n",
       " '_ChainMap',\n",
       " '__all__',\n",
       " '__builtins__',\n",
       " '__cached__',\n",
       " '__doc__',\n",
       " '__file__',\n",
       " '__loader__',\n",
       " '__name__',\n",
       " '__package__',\n",
       " '__spec__',\n",
       " '_re',\n",
       " '_sentinel_dict',\n",
       " '_string',\n",
       " 'ascii_letters',\n",
       " 'ascii_lowercase',\n",
       " 'ascii_uppercase',\n",
       " 'capwords',\n",
       " 'digits',\n",
       " 'hexdigits',\n",
       " 'octdigits',\n",
       " 'printable',\n",
       " 'punctuation',\n",
       " 'whitespace']"
      ]
     },
     "execution_count": 6,
     "metadata": {},
     "output_type": "execute_result"
    }
   ],
   "source": [
    "dir(string)"
   ]
  },
  {
   "cell_type": "code",
   "execution_count": 11,
   "id": "6c0adc4f-5d83-4aeb-8ae1-a7b54301896c",
   "metadata": {},
   "outputs": [
    {
     "data": {
      "text/plain": [
       "['A',\n",
       " 'B',\n",
       " 'C',\n",
       " 'D',\n",
       " 'E',\n",
       " 'F',\n",
       " 'G',\n",
       " 'H',\n",
       " 'I',\n",
       " 'J',\n",
       " 'K',\n",
       " 'L',\n",
       " 'M',\n",
       " 'N',\n",
       " 'O',\n",
       " 'P',\n",
       " 'Q',\n",
       " 'R',\n",
       " 'S',\n",
       " 'T',\n",
       " 'U',\n",
       " 'V',\n",
       " 'W',\n",
       " 'X',\n",
       " 'Y',\n",
       " 'Z']"
      ]
     },
     "execution_count": 11,
     "metadata": {},
     "output_type": "execute_result"
    }
   ],
   "source": [
    "a"
   ]
  },
  {
   "cell_type": "code",
   "execution_count": 14,
   "id": "09e37100-af54-4a29-b53d-dc2acd53d8c6",
   "metadata": {},
   "outputs": [],
   "source": [
    "a= list(string.ascii_lowercase)"
   ]
  },
  {
   "cell_type": "code",
   "execution_count": 25,
   "id": "45807b23-5555-4200-ba49-e3e96920b075",
   "metadata": {},
   "outputs": [],
   "source": [
    "b=(tuple(string.ascii_uppercase))\n",
    "b=(tuple(string.ascii_letters))"
   ]
  },
  {
   "cell_type": "code",
   "execution_count": 26,
   "id": "94896be3-f9e8-425c-9fc0-eb5ed5a2574b",
   "metadata": {},
   "outputs": [
    {
     "name": "stdout",
     "output_type": "stream",
     "text": [
      "('a', 'b', 'c', 'd', 'e', 'f', 'g', 'h', 'i', 'j', 'k', 'l', 'm', 'n', 'o', 'p', 'q', 'r', 's', 't', 'u', 'v', 'w', 'x', 'y', 'z', 'A', 'B', 'C', 'D', 'E', 'F', 'G', 'H', 'I', 'J', 'K', 'L', 'M', 'N', 'O', 'P', 'Q', 'R', 'S', 'T', 'U', 'V', 'W', 'X', 'Y', 'Z') "
     ]
    }
   ],
   "source": [
    "print(b,end=\" \")"
   ]
  },
  {
   "cell_type": "code",
   "execution_count": 21,
   "id": "56736631-3e58-4b62-b3a0-c65158161e3d",
   "metadata": {},
   "outputs": [
    {
     "data": {
      "text/plain": [
       "['Formatter',\n",
       " 'Template',\n",
       " '_ChainMap',\n",
       " '__all__',\n",
       " '__builtins__',\n",
       " '__cached__',\n",
       " '__doc__',\n",
       " '__file__',\n",
       " '__loader__',\n",
       " '__name__',\n",
       " '__package__',\n",
       " '__spec__',\n",
       " '_re',\n",
       " '_sentinel_dict',\n",
       " '_string',\n",
       " 'ascii_letters',\n",
       " 'ascii_lowercase',\n",
       " 'ascii_uppercase',\n",
       " 'capwords',\n",
       " 'digits',\n",
       " 'hexdigits',\n",
       " 'octdigits',\n",
       " 'printable',\n",
       " 'punctuation',\n",
       " 'whitespace']"
      ]
     },
     "execution_count": 21,
     "metadata": {},
     "output_type": "execute_result"
    }
   ],
   "source": [
    "dir(string)"
   ]
  },
  {
   "cell_type": "code",
   "execution_count": 22,
   "id": "a417afa3-7a14-474f-a860-4868f7546daf",
   "metadata": {},
   "outputs": [
    {
     "data": {
      "text/plain": [
       "['__add__',\n",
       " '__class__',\n",
       " '__contains__',\n",
       " '__delattr__',\n",
       " '__dir__',\n",
       " '__doc__',\n",
       " '__eq__',\n",
       " '__format__',\n",
       " '__ge__',\n",
       " '__getattribute__',\n",
       " '__getitem__',\n",
       " '__getnewargs__',\n",
       " '__getstate__',\n",
       " '__gt__',\n",
       " '__hash__',\n",
       " '__init__',\n",
       " '__init_subclass__',\n",
       " '__iter__',\n",
       " '__le__',\n",
       " '__len__',\n",
       " '__lt__',\n",
       " '__mod__',\n",
       " '__mul__',\n",
       " '__ne__',\n",
       " '__new__',\n",
       " '__reduce__',\n",
       " '__reduce_ex__',\n",
       " '__repr__',\n",
       " '__rmod__',\n",
       " '__rmul__',\n",
       " '__setattr__',\n",
       " '__sizeof__',\n",
       " '__str__',\n",
       " '__subclasshook__',\n",
       " 'capitalize',\n",
       " 'casefold',\n",
       " 'center',\n",
       " 'count',\n",
       " 'encode',\n",
       " 'endswith',\n",
       " 'expandtabs',\n",
       " 'find',\n",
       " 'format',\n",
       " 'format_map',\n",
       " 'index',\n",
       " 'isalnum',\n",
       " 'isalpha',\n",
       " 'isascii',\n",
       " 'isdecimal',\n",
       " 'isdigit',\n",
       " 'isidentifier',\n",
       " 'islower',\n",
       " 'isnumeric',\n",
       " 'isprintable',\n",
       " 'isspace',\n",
       " 'istitle',\n",
       " 'isupper',\n",
       " 'join',\n",
       " 'ljust',\n",
       " 'lower',\n",
       " 'lstrip',\n",
       " 'maketrans',\n",
       " 'partition',\n",
       " 'removeprefix',\n",
       " 'removesuffix',\n",
       " 'replace',\n",
       " 'rfind',\n",
       " 'rindex',\n",
       " 'rjust',\n",
       " 'rpartition',\n",
       " 'rsplit',\n",
       " 'rstrip',\n",
       " 'split',\n",
       " 'splitlines',\n",
       " 'startswith',\n",
       " 'strip',\n",
       " 'swapcase',\n",
       " 'title',\n",
       " 'translate',\n",
       " 'upper',\n",
       " 'zfill']"
      ]
     },
     "execution_count": 22,
     "metadata": {},
     "output_type": "execute_result"
    }
   ],
   "source": [
    "dir(\"\")"
   ]
  },
  {
   "cell_type": "code",
   "execution_count": null,
   "id": "f291326b-4848-48d2-8751-ea1b753f6fcc",
   "metadata": {},
   "outputs": [],
   "source": []
  },
  {
   "cell_type": "code",
   "execution_count": 5,
   "id": "a045dd36-0bb5-4cd2-b3db-7297415f273b",
   "metadata": {},
   "outputs": [],
   "source": [
    "for i in range(5):\n",
    "    if i == 3:\n",
    "        break\n",
    "else:\n",
    "    print(\"No Break\")"
   ]
  },
  {
   "cell_type": "code",
   "execution_count": 8,
   "id": "6de09c7f-3789-4d2c-929a-d1d51e3898c8",
   "metadata": {},
   "outputs": [
    {
     "name": "stdout",
     "output_type": "stream",
     "text": [
      "1 0\n",
      "2 0\n",
      "2 1\n"
     ]
    }
   ],
   "source": [
    "for i in range(3):\n",
    "    for j in range(i):\n",
    "        print(i, j)"
   ]
  },
  {
   "cell_type": "code",
   "execution_count": 21,
   "id": "27137ad2-1556-4c4e-9399-3bb24f4eec5b",
   "metadata": {},
   "outputs": [
    {
     "name": "stdout",
     "output_type": "stream",
     "text": [
      "[76, 89, 90, 82, 99]\n",
      "['F', 'C', 'B', 'F', 'D', 'A', 'B', 'F', 'F', 'A']\n"
     ]
    }
   ],
   "source": [
    "scores=[45,76,89,53,67,90,82,49,33,99]\n",
    "\n",
    "filtered_scores = [score for score in scores if score > 70] \n",
    "\n",
    "\n",
    "print(filtered_scores)\n",
    "grades = [ \n",
    "    'A' if score>=90 else\n",
    "    'B' if score>=80 else\n",
    "    'C' if score>=70 else\n",
    "    'D' if score>=60 else\n",
    "    'F'\n",
    "    for score in scores\n",
    "]\n",
    "\n",
    "print(grades)\n"
   ]
  },
  {
   "cell_type": "code",
   "execution_count": 27,
   "id": "5bbd3a2c-7095-4a9d-9e5e-4057713d7941",
   "metadata": {},
   "outputs": [
    {
     "name": "stdout",
     "output_type": "stream",
     "text": [
      "683\n",
      "683\n",
      "68.3\n"
     ]
    }
   ],
   "source": [
    "summ=0\n",
    "l= [summ:= summ+i for i in scores][-1]\n",
    "print(l)\n",
    "print(l/len(scores))\n"
   ]
  },
  {
   "cell_type": "code",
   "execution_count": 4,
   "id": "3dd5893b-1822-4354-85e5-924dbf0d1c83",
   "metadata": {},
   "outputs": [],
   "source": [
    "i=[21,31,41,51,61,71,81,91]\n",
    "\n",
    "output=[\"D\" if l>=40 and l<50 else\n",
    "        \"C\" if  l>=50 and l<60 else\n",
    "        \"B\" if  l>=60 and l<70 else\n",
    "        \"B+\"if  l>=70 and l<80 else\n",
    "        \"A\" if  l>=80 and l<90 else\n",
    "        \"A+\" if l>=90 and l<100 else\n",
    "        \"F\" \n",
    "        for l in i\n",
    "       ]"
   ]
  },
  {
   "cell_type": "code",
   "execution_count": 5,
   "id": "50e23824-735a-4c31-b325-5945ab629bf0",
   "metadata": {},
   "outputs": [
    {
     "data": {
      "text/plain": [
       "(['F', 'F', 'D', 'C', 'B', 'B+', 'A', 'A+'], [21, 31, 41, 51, 61, 71, 81, 91])"
      ]
     },
     "execution_count": 5,
     "metadata": {},
     "output_type": "execute_result"
    }
   ],
   "source": [
    "output,i"
   ]
  },
  {
   "cell_type": "code",
   "execution_count": 36,
   "id": "77d08293-f494-4022-b19a-c74535961121",
   "metadata": {},
   "outputs": [],
   "source": [
    "fill= [ l for l in i if l>=71]"
   ]
  },
  {
   "cell_type": "code",
   "execution_count": 37,
   "id": "523b38d5-8fde-4071-82cd-100bb85d2dcb",
   "metadata": {},
   "outputs": [
    {
     "data": {
      "text/plain": [
       "[71, 81, 91]"
      ]
     },
     "execution_count": 37,
     "metadata": {},
     "output_type": "execute_result"
    }
   ],
   "source": [
    "fill"
   ]
  },
  {
   "cell_type": "code",
   "execution_count": 45,
   "id": "3e6d9927-437a-4421-8765-90ad67370f3e",
   "metadata": {},
   "outputs": [
    {
     "data": {
      "text/plain": [
       "5.5"
      ]
     },
     "execution_count": 45,
     "metadata": {},
     "output_type": "execute_result"
    }
   ],
   "source": [
    "i= list(range(1,11))\n",
    "summ=0\n",
    "summ=[summ:=summ+l for l in i ][-1]\n",
    "summ/len(i)"
   ]
  },
  {
   "cell_type": "code",
   "execution_count": 96,
   "id": "dd4868b4-4e55-4b40-b900-78e69e9c1f28",
   "metadata": {},
   "outputs": [
    {
     "data": {
      "text/plain": [
       "0"
      ]
     },
     "execution_count": 96,
     "metadata": {},
     "output_type": "execute_result"
    }
   ],
   "source": [
    "l1=[100,20,30,40]\n",
    "l2=[10,\"vishal\", l1, True, False,50.89,2+5j]\n",
    "l3= [10,10,10]\n",
    "\n",
    "r= \"rahul\"\n",
    "l3.extend(r)\n",
    "l3.index(10)"
   ]
  },
  {
   "cell_type": "code",
   "execution_count": 97,
   "id": "be320d61-cc88-44f9-83e8-9bc93ba5063b",
   "metadata": {},
   "outputs": [],
   "source": [
    "l3.insert(5,\"sima\")"
   ]
  },
  {
   "cell_type": "code",
   "execution_count": 98,
   "id": "5fbf6819-6a21-4e39-bcdc-8c5789be23c1",
   "metadata": {},
   "outputs": [
    {
     "data": {
      "text/plain": [
       "'l'"
      ]
     },
     "execution_count": 98,
     "metadata": {},
     "output_type": "execute_result"
    }
   ],
   "source": [
    "l3.pop()"
   ]
  },
  {
   "cell_type": "code",
   "execution_count": 99,
   "id": "d41ec3db-cb05-4cf2-a04a-5684f203f87b",
   "metadata": {},
   "outputs": [
    {
     "data": {
      "text/plain": [
       "[10, 10, 10, 'r', 'a', 'sima', 'h', 'u']"
      ]
     },
     "execution_count": 99,
     "metadata": {},
     "output_type": "execute_result"
    }
   ],
   "source": [
    "l3"
   ]
  },
  {
   "cell_type": "code",
   "execution_count": 105,
   "id": "dd4e4165-e57c-4658-b548-3f74a6232911",
   "metadata": {},
   "outputs": [],
   "source": [
    "l1.sort()"
   ]
  },
  {
   "cell_type": "code",
   "execution_count": 106,
   "id": "593e2808-83cf-486a-8d69-e1e3b2d5e37a",
   "metadata": {},
   "outputs": [
    {
     "data": {
      "text/plain": [
       "[20, 30, 40, 100]"
      ]
     },
     "execution_count": 106,
     "metadata": {},
     "output_type": "execute_result"
    }
   ],
   "source": [
    "l1"
   ]
  },
  {
   "cell_type": "code",
   "execution_count": 107,
   "id": "778aa3a0-8a25-40ec-a06a-ffa82b0eb585",
   "metadata": {},
   "outputs": [],
   "source": [
    "l1.reverse()"
   ]
  },
  {
   "cell_type": "code",
   "execution_count": 110,
   "id": "40e7e29a-b5cc-4ce1-9dbe-6b71b0821456",
   "metadata": {},
   "outputs": [],
   "source": [
    "l5={}"
   ]
  },
  {
   "cell_type": "code",
   "execution_count": 111,
   "id": "a60ee745-905b-4595-bb01-5ea4fa7006b1",
   "metadata": {},
   "outputs": [
    {
     "data": {
      "text/plain": [
       "'rahul.manish.sima'"
      ]
     },
     "execution_count": 111,
     "metadata": {},
     "output_type": "execute_result"
    }
   ],
   "source": [
    "l=[\"rahul.\", \"manish.\" , \"sima\"]\n",
    "d= \"\".join(l)\n",
    "d"
   ]
  },
  {
   "cell_type": "code",
   "execution_count": null,
   "id": "b6ed191b-64ea-4e98-9088-b5a27f97ca80",
   "metadata": {},
   "outputs": [],
   "source": []
  },
  {
   "cell_type": "code",
   "execution_count": null,
   "id": "506bde10-dd11-4839-84d8-62db93dc962e",
   "metadata": {},
   "outputs": [],
   "source": []
  },
  {
   "cell_type": "code",
   "execution_count": null,
   "id": "7181647b-ae15-4b31-b245-caf9d5f0adb1",
   "metadata": {},
   "outputs": [],
   "source": []
  }
 ],
 "metadata": {
  "kernelspec": {
   "display_name": "Python [conda env:base] *",
   "language": "python",
   "name": "conda-base-py"
  },
  "language_info": {
   "codemirror_mode": {
    "name": "ipython",
    "version": 3
   },
   "file_extension": ".py",
   "mimetype": "text/x-python",
   "name": "python",
   "nbconvert_exporter": "python",
   "pygments_lexer": "ipython3",
   "version": "3.13.5"
  }
 },
 "nbformat": 4,
 "nbformat_minor": 5
}
