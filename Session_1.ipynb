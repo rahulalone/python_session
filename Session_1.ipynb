{
 "cells": [
  {
   "cell_type": "code",
   "execution_count": 1,
   "id": "262183fb-1e3f-43c3-a95c-9b4520ddde41",
   "metadata": {},
   "outputs": [
    {
     "name": "stdout",
     "output_type": "stream",
     "text": [
      "hello world\n"
     ]
    }
   ],
   "source": [
    "print(\"hello world\")"
   ]
  },
  {
   "cell_type": "code",
   "execution_count": 2,
   "id": "332cb77b-b541-4f83-9844-15b068ba632b",
   "metadata": {},
   "outputs": [
    {
     "data": {
      "text/plain": [
       "54"
      ]
     },
     "execution_count": 2,
     "metadata": {},
     "output_type": "execute_result"
    }
   ],
   "source": [
    "a= 10\n",
    "b= 44\n",
    "a+b"
   ]
  },
  {
   "cell_type": "markdown",
   "id": "54222e04-3692-4ecd-af5c-f7091cc8b5fc",
   "metadata": {},
   "source": [
    "This is my first session"
   ]
  },
  {
   "cell_type": "markdown",
   "id": "1de5c1d4-5e2f-4210-adfb-1ad041ad8500",
   "metadata": {},
   "source": [
    "## $Python$"
   ]
  },
  {
   "cell_type": "markdown",
   "id": "580a60c4-3fd5-4473-a1c2-9f1085490a17",
   "metadata": {},
   "source": [
    "$# python #$"
   ]
  },
  {
   "cell_type": "markdown",
   "id": "01bb4e11-b0e4-4ded-bf26-db7fc9d0293a",
   "metadata": {},
   "source": [
    "## python ##"
   ]
  },
  {
   "cell_type": "markdown",
   "id": "2b3dda8c-b2c8-4f8f-977e-60d6e1f4a1ae",
   "metadata": {},
   "source": [
    "# $  variable $"
   ]
  },
  {
   "cell_type": "markdown",
   "id": "c5c91dc6-9145-4eb7-baa6-65cd0e66c72b",
   "metadata": {},
   "source": [
    "### Python\n",
    "#### Python\n",
    "##### Python"
   ]
  },
  {
   "cell_type": "markdown",
   "id": "df0d2b68-e830-4d6b-ae6a-db715dde9b90",
   "metadata": {},
   "source": [
    "- who are you ?\n",
    "- this my area \n",
    "- go from their"
   ]
  },
  {
   "cell_type": "code",
   "execution_count": 3,
   "id": "064bcc78-8d59-4159-ba1a-4944f4a662d1",
   "metadata": {},
   "outputs": [
    {
     "name": "stdout",
     "output_type": "stream",
     "text": [
      "125\n"
     ]
    }
   ],
   "source": [
    "Number =125\n",
    "print(Number)"
   ]
  },
  {
   "cell_type": "code",
   "execution_count": 4,
   "id": "4a34b864-e452-4b3d-9167-f8e0838268bc",
   "metadata": {},
   "outputs": [
    {
     "name": "stdout",
     "output_type": "stream",
     "text": [
      "789\n"
     ]
    }
   ],
   "source": [
    "# number = 01\n",
    "# print(number)\n",
    "Number_1 = 789\n",
    "print(Number_1)"
   ]
  },
  {
   "cell_type": "markdown",
   "id": "c1555661-ce0d-47a8-ba5a-caf974d03e71",
   "metadata": {},
   "source": [
    " ## ye doubt  puchna`hai number =01"
   ]
  },
  {
   "cell_type": "code",
   "execution_count": 5,
   "id": "0b67c54b-ac07-4c29-8015-0938627bf687",
   "metadata": {},
   "outputs": [],
   "source": [
    "# num =01"
   ]
  },
  {
   "cell_type": "code",
   "execution_count": 6,
   "id": "ab293e6f-e855-4bab-9a93-61415671328c",
   "metadata": {},
   "outputs": [
    {
     "data": {
      "text/plain": [
       "[{-22}]"
      ]
     },
     "execution_count": 6,
     "metadata": {},
     "output_type": "execute_result"
    }
   ],
   "source": [
    "g= [{(56)-78}]\n",
    "g"
   ]
  },
  {
   "cell_type": "code",
   "execution_count": 7,
   "id": "6dc96660-0ce2-4bc2-aaf4-302b7958d024",
   "metadata": {},
   "outputs": [],
   "source": [
    "a= (56+89)"
   ]
  },
  {
   "cell_type": "code",
   "execution_count": 8,
   "id": "07118cfe-605e-4b8a-920e-effe1304d44a",
   "metadata": {},
   "outputs": [
    {
     "name": "stdout",
     "output_type": "stream",
     "text": [
      "145\n"
     ]
    }
   ],
   "source": [
    "print(a)"
   ]
  },
  {
   "cell_type": "code",
   "execution_count": 9,
   "id": "dd6b015f-bf17-4b7a-9eb2-0bc36ca6c48e",
   "metadata": {},
   "outputs": [],
   "source": [
    "b={48+89}"
   ]
  },
  {
   "cell_type": "code",
   "execution_count": 10,
   "id": "d54b0954-f9fc-4720-b287-c90718cbc572",
   "metadata": {},
   "outputs": [
    {
     "name": "stdout",
     "output_type": "stream",
     "text": [
      "{137}\n"
     ]
    }
   ],
   "source": [
    "print(b)"
   ]
  },
  {
   "cell_type": "code",
   "execution_count": 11,
   "id": "e4820696-3c34-436e-9f04-95b4c8a1b457",
   "metadata": {},
   "outputs": [],
   "source": [
    "c = -5"
   ]
  },
  {
   "cell_type": "code",
   "execution_count": 12,
   "id": "44e475d2-37a0-4a3a-a893-19c383624cb9",
   "metadata": {},
   "outputs": [],
   "source": [
    "d= -89"
   ]
  },
  {
   "cell_type": "code",
   "execution_count": 13,
   "id": "93d3e2de-1ee2-4622-8d3e-1d2654273780",
   "metadata": {},
   "outputs": [
    {
     "data": {
      "text/plain": [
       "-94"
      ]
     },
     "execution_count": 13,
     "metadata": {},
     "output_type": "execute_result"
    }
   ],
   "source": [
    "c+d"
   ]
  },
  {
   "cell_type": "code",
   "execution_count": 14,
   "id": "9be31bd0-12b3-4f38-84e7-0405e87ba59a",
   "metadata": {},
   "outputs": [],
   "source": [
    "s=--5"
   ]
  },
  {
   "cell_type": "markdown",
   "id": "7c4903a8-0d28-44ab-a0a8-1d46f52d0c71",
   "metadata": {},
   "source": [
    "# $Data-types$"
   ]
  },
  {
   "cell_type": "markdown",
   "id": "67d3ca17-8865-4cab-a110-0a66d4f532a6",
   "metadata": {},
   "source": [
    "<img src=\"https://static.vecteezy.com/system/resources/previews/021/863/785/large_2x/ai-robot-thinking-with-hand-on-chin-artificial-intelligence-glowing-light-background-generative-ai-photo.jpeg\" alt=\"ai robot pensando con mano en mentón, artificial inteligencia brillante ...\" class=\" nofocus\" tabindex=\"0\" aria-label=\"ai robot pensando con mano en mentón, artificial inteligencia brillante ...\" role=\"button\" data-bm=\"251\">"
   ]
  },
  {
   "cell_type": "markdown",
   "id": "6a9c33bb-86ad-4fb2-a6c2-b11196cc4fc0",
   "metadata": {},
   "source": [
    "$variable$"
   ]
  },
  {
   "cell_type": "code",
   "execution_count": 15,
   "id": "277aaa91-b38f-445a-89dd-0e57c4032e33",
   "metadata": {},
   "outputs": [],
   "source": [
    "num= 56"
   ]
  },
  {
   "cell_type": "code",
   "execution_count": 16,
   "id": "78e64fa9-fd23-4d19-a460-981af2912d83",
   "metadata": {},
   "outputs": [
    {
     "data": {
      "text/plain": [
       "56"
      ]
     },
     "execution_count": 16,
     "metadata": {},
     "output_type": "execute_result"
    }
   ],
   "source": [
    "num"
   ]
  },
  {
   "cell_type": "code",
   "execution_count": 17,
   "id": "8f3fe943-103d-4b6a-a8bb-5dc4f34dd18f",
   "metadata": {},
   "outputs": [],
   "source": [
    "_=45"
   ]
  },
  {
   "cell_type": "code",
   "execution_count": 18,
   "id": "ab29885e-96b0-494b-b938-85e7183d8b28",
   "metadata": {},
   "outputs": [
    {
     "data": {
      "text/plain": [
       "45"
      ]
     },
     "execution_count": 18,
     "metadata": {},
     "output_type": "execute_result"
    }
   ],
   "source": [
    "_"
   ]
  },
  {
   "cell_type": "code",
   "execution_count": 19,
   "id": "7d08b099-cac1-4073-8998-00a91fc06c81",
   "metadata": {},
   "outputs": [
    {
     "name": "stdout",
     "output_type": "stream",
     "text": [
      "45\n"
     ]
    }
   ],
   "source": [
    "print(_)"
   ]
  },
  {
   "cell_type": "code",
   "execution_count": 20,
   "id": "2fd22b68-7467-4942-8e96-cfa1701dc054",
   "metadata": {},
   "outputs": [],
   "source": [
    "true=5"
   ]
  },
  {
   "cell_type": "code",
   "execution_count": 21,
   "id": "6e397d3b-3511-4a71-a925-947917ee558b",
   "metadata": {},
   "outputs": [],
   "source": [
    "\n",
    "hk= \"true\"\n",
    "hk=100"
   ]
  },
  {
   "cell_type": "code",
   "execution_count": 22,
   "id": "bfc1588a-44f3-4a8e-b838-28605e056a66",
   "metadata": {},
   "outputs": [
    {
     "data": {
      "text/plain": [
       "int"
      ]
     },
     "execution_count": 22,
     "metadata": {},
     "output_type": "execute_result"
    }
   ],
   "source": [
    "type(hk)"
   ]
  },
  {
   "cell_type": "code",
   "execution_count": 23,
   "id": "4ca4a15e-f259-4d82-8fe1-35d39a9b6b54",
   "metadata": {},
   "outputs": [],
   "source": [
    "# print=100"
   ]
  },
  {
   "cell_type": "code",
   "execution_count": 24,
   "id": "b9f94b8c-9ef4-41d9-8b9a-858a57522ae6",
   "metadata": {},
   "outputs": [],
   "source": [
    "# type(print)"
   ]
  },
  {
   "cell_type": "code",
   "execution_count": 25,
   "id": "07b78ac7-9030-4383-8278-7a5540a1b78c",
   "metadata": {},
   "outputs": [],
   "source": [
    "su=122"
   ]
  },
  {
   "cell_type": "code",
   "execution_count": 26,
   "id": "2d3e9a23-c882-4b00-924d-5e0012368444",
   "metadata": {},
   "outputs": [
    {
     "data": {
      "text/plain": [
       "122"
      ]
     },
     "execution_count": 26,
     "metadata": {},
     "output_type": "execute_result"
    }
   ],
   "source": [
    "su"
   ]
  },
  {
   "cell_type": "code",
   "execution_count": 27,
   "id": "a3b69ab7-dc72-43c1-bae7-d3472105e21f",
   "metadata": {},
   "outputs": [
    {
     "data": {
      "text/plain": [
       "145"
      ]
     },
     "execution_count": 27,
     "metadata": {},
     "output_type": "execute_result"
    }
   ],
   "source": [
    "sum([89,56])"
   ]
  },
  {
   "cell_type": "code",
   "execution_count": 28,
   "id": "71979be9-96f9-437a-a911-c824dcc728c4",
   "metadata": {},
   "outputs": [
    {
     "data": {
      "text/plain": [
       "80"
      ]
     },
     "execution_count": 28,
     "metadata": {},
     "output_type": "execute_result"
    }
   ],
   "source": [
    "max([10,80,60,50,30,80])"
   ]
  },
  {
   "cell_type": "code",
   "execution_count": 29,
   "id": "5bcb7f95-45fb-4af3-9e76-fbd59b7292d3",
   "metadata": {},
   "outputs": [
    {
     "data": {
      "text/plain": [
       "10"
      ]
     },
     "execution_count": 29,
     "metadata": {},
     "output_type": "execute_result"
    }
   ],
   "source": [
    "min([10,80,60,50,30,80])"
   ]
  },
  {
   "cell_type": "code",
   "execution_count": 32,
   "id": "c42683f6-23a3-49bd-af85-cf3524865208",
   "metadata": {},
   "outputs": [
    {
     "name": "stdout",
     "output_type": "stream",
     "text": [
      "[45, 89, 56, 6]\n"
     ]
    }
   ],
   "source": [
    "print([45,89,56,6])"
   ]
  },
  {
   "cell_type": "code",
   "execution_count": 33,
   "id": "a21dc20a-0903-41c5-9b36-37eee8894159",
   "metadata": {},
   "outputs": [
    {
     "data": {
      "text/plain": [
       "list"
      ]
     },
     "execution_count": 33,
     "metadata": {},
     "output_type": "execute_result"
    }
   ],
   "source": [
    "type([45,89,23,48])"
   ]
  },
  {
   "cell_type": "code",
   "execution_count": 34,
   "id": "58342fa6-faa8-4c7e-b1d9-370e9266b8c5",
   "metadata": {},
   "outputs": [
    {
     "data": {
      "text/plain": [
       "4"
      ]
     },
     "execution_count": 34,
     "metadata": {},
     "output_type": "execute_result"
    }
   ],
   "source": [
    "len([78,96,32,45])"
   ]
  },
  {
   "cell_type": "code",
   "execution_count": 1,
   "id": "a3fbdc6b-52c0-4026-98ed-005ae88b812c",
   "metadata": {},
   "outputs": [
    {
     "data": {
      "text/plain": [
       "89"
      ]
     },
     "execution_count": 1,
     "metadata": {},
     "output_type": "execute_result"
    }
   ],
   "source": [
    "round(89,79999)"
   ]
  },
  {
   "cell_type": "code",
   "execution_count": null,
   "id": "ddc4eba7-759e-4358-a324-05c403665b24",
   "metadata": {},
   "outputs": [],
   "source": []
  }
 ],
 "metadata": {
  "kernelspec": {
   "display_name": "Python [conda env:base] *",
   "language": "python",
   "name": "conda-base-py"
  },
  "language_info": {
   "codemirror_mode": {
    "name": "ipython",
    "version": 3
   },
   "file_extension": ".py",
   "mimetype": "text/x-python",
   "name": "python",
   "nbconvert_exporter": "python",
   "pygments_lexer": "ipython3",
   "version": "3.13.5"
  }
 },
 "nbformat": 4,
 "nbformat_minor": 5
}
