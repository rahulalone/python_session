{
 "cells": [
  {
   "cell_type": "code",
   "execution_count": 1,
   "id": "1e94b358-1952-4c01-8828-b22a9130bc66",
   "metadata": {},
   "outputs": [
    {
     "name": "stdin",
     "output_type": "stream",
     "text": [
      "Enter the value: 10\n"
     ]
    },
    {
     "data": {
      "text/plain": [
       "'10'"
      ]
     },
     "execution_count": 1,
     "metadata": {},
     "output_type": "execute_result"
    }
   ],
   "source": [
    "input(\"Enter the value:\")"
   ]
  },
  {
   "cell_type": "code",
   "execution_count": 4,
   "id": "ebc1539e-1f05-44a8-891a-695fb26739f7",
   "metadata": {},
   "outputs": [
    {
     "name": "stdin",
     "output_type": "stream",
     "text": [
      "Entered first number value is : 78\n",
      "Entered second number value is : 95\n"
     ]
    },
    {
     "name": "stdout",
     "output_type": "stream",
     "text": [
      "Addition of 78 and 95 is 173\n"
     ]
    }
   ],
   "source": [
    "a= eval(input(\"Entered first number value is :\"))\n",
    "b= eval(input(\"Entered second number value is :\"))\n",
    "print(f\"Addition of {a} and {b} is {a+b}\" )\n"
   ]
  },
  {
   "cell_type": "code",
   "execution_count": null,
   "id": "719193cb-34ff-4890-8f74-91e0e9492a86",
   "metadata": {},
   "outputs": [],
   "source": []
  }
 ],
 "metadata": {
  "kernelspec": {
   "display_name": "Python [conda env:base] *",
   "language": "python",
   "name": "conda-base-py"
  },
  "language_info": {
   "codemirror_mode": {
    "name": "ipython",
    "version": 3
   },
   "file_extension": ".py",
   "mimetype": "text/x-python",
   "name": "python",
   "nbconvert_exporter": "python",
   "pygments_lexer": "ipython3",
   "version": "3.13.5"
  }
 },
 "nbformat": 4,
 "nbformat_minor": 5
}
