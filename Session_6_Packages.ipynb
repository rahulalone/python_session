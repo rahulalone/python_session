{
 "cells": [
  {
   "cell_type": "code",
   "execution_count": 1,
   "id": "74290b1d-c722-4b9f-87d0-fdc02e1fdc27",
   "metadata": {},
   "outputs": [],
   "source": [
    "import math\n",
    "import random,numpy,pandas,matplotlib,seaborn,time\n",
    "import time,cv2\n"
   ]
  },
  {
   "cell_type": "code",
   "execution_count": null,
   "id": "fccda729-5f2a-4710-86b2-886436599481",
   "metadata": {},
   "outputs": [],
   "source": []
  },
  {
   "cell_type": "code",
   "execution_count": 2,
   "id": "27ca6336-a452-49d4-aef5-958ba65c1ba9",
   "metadata": {},
   "outputs": [
    {
     "data": {
      "text/plain": [
       "<module 'cv2' from 'C:\\\\Users\\\\HP\\\\anaconda3\\\\Lib\\\\site-packages\\\\cv2\\\\__init__.py'>"
      ]
     },
     "execution_count": 2,
     "metadata": {},
     "output_type": "execute_result"
    }
   ],
   "source": [
    "cv2"
   ]
  },
  {
   "cell_type": "code",
   "execution_count": 3,
   "id": "656ea5ad-388f-4b81-8088-1279b8a511df",
   "metadata": {},
   "outputs": [],
   "source": [
    "import math"
   ]
  },
  {
   "cell_type": "code",
   "execution_count": 4,
   "id": "2e46a4ae-7db4-4ec1-a918-284c38c83d63",
   "metadata": {
    "scrolled": true
   },
   "outputs": [
    {
     "data": {
      "text/plain": [
       "67"
      ]
     },
     "execution_count": 4,
     "metadata": {},
     "output_type": "execute_result"
    }
   ],
   "source": [
    "len(dir(math))"
   ]
  },
  {
   "cell_type": "code",
   "execution_count": 5,
   "id": "f28e47a2-725d-4a77-b8cd-68cb9aad5ea8",
   "metadata": {},
   "outputs": [
    {
     "data": {
      "text/plain": [
       "70"
      ]
     },
     "execution_count": 5,
     "metadata": {},
     "output_type": "execute_result"
    }
   ],
   "source": [
    "len(dir(random))"
   ]
  },
  {
   "cell_type": "code",
   "execution_count": 6,
   "id": "cc94cb24-5e1d-4177-84e1-0181ebb66dcf",
   "metadata": {},
   "outputs": [
    {
     "data": {
      "text/plain": [
       "0.0097636895103963"
      ]
     },
     "execution_count": 6,
     "metadata": {},
     "output_type": "execute_result"
    }
   ],
   "source": [
    "from random import random,randint,uniform,sample\n",
    "random()"
   ]
  },
  {
   "cell_type": "code",
   "execution_count": 7,
   "id": "4868d761-dcef-4c56-8404-503ec3b1d3a8",
   "metadata": {},
   "outputs": [
    {
     "name": "stdout",
     "output_type": "stream",
     "text": [
      "-30\n",
      "1.5551790077740955\n"
     ]
    }
   ],
   "source": [
    "print(randint(-30,-20))\n",
    "print(uniform(1,5))  # integer and float come"
   ]
  },
  {
   "cell_type": "code",
   "execution_count": null,
   "id": "65d6a1e1-3d5b-42c5-ba2e-8d9d3c83bed3",
   "metadata": {},
   "outputs": [],
   "source": []
  },
  {
   "cell_type": "code",
   "execution_count": 8,
   "id": "1e657272-423e-44b2-8b70-104e4f13752d",
   "metadata": {},
   "outputs": [
    {
     "name": "stdout",
     "output_type": "stream",
     "text": [
      "[20, 10, 30]\n",
      "30\n"
     ]
    }
   ],
   "source": [
    "import random\n",
    "print(random.sample([10,20,30,40],3))\n",
    "print(random.choice([10,20,30,40]))"
   ]
  },
  {
   "cell_type": "code",
   "execution_count": 9,
   "id": "2b89495a-4a01-43c3-a9dc-dd5c9095c2ef",
   "metadata": {},
   "outputs": [
    {
     "data": {
      "text/plain": [
       "[40, 70, 90, 60, 50, 10, 30]"
      ]
     },
     "execution_count": 9,
     "metadata": {},
     "output_type": "execute_result"
    }
   ],
   "source": [
    "n= [50,10,90,60,30,40,70,]\n",
    "random.shuffle(n)\n",
    "n"
   ]
  },
  {
   "cell_type": "code",
   "execution_count": 10,
   "id": "5e7f42ea-0856-4483-be78-2a007091b358",
   "metadata": {},
   "outputs": [
    {
     "data": {
      "text/plain": [
       "30"
      ]
     },
     "execution_count": 10,
     "metadata": {},
     "output_type": "execute_result"
    }
   ],
   "source": [
    "random.choice(n)"
   ]
  },
  {
   "cell_type": "code",
   "execution_count": 11,
   "id": "d8772502-4ecc-4203-b8ec-78e1383c885f",
   "metadata": {},
   "outputs": [],
   "source": [
    "import math"
   ]
  },
  {
   "cell_type": "code",
   "execution_count": 12,
   "id": "1b132bc9-4ae2-47ab-b77f-0b8aade7b78e",
   "metadata": {},
   "outputs": [
    {
     "name": "stdout",
     "output_type": "stream",
     "text": [
      "5.0\n",
      "3.141592653589793\n",
      "2.718281828459045\n",
      "0.8939966636005579\n",
      "-0.9880316240928618\n"
     ]
    }
   ],
   "source": [
    "print(math.sqrt(25))\n",
    "print(math.pi)\n",
    "print(math.e)\n",
    "print(math.sin(90))\n",
    "print(math.sin(30))\n"
   ]
  },
  {
   "cell_type": "code",
   "execution_count": 92,
   "id": "de4d46fb-12f0-42bd-998c-de8cce2419de",
   "metadata": {},
   "outputs": [
    {
     "name": "stdout",
     "output_type": "stream",
     "text": [
      "The square of 5 is 25.0\n"
     ]
    }
   ],
   "source": [
    "b= 5\n",
    "a=math.pow(5,2)\n",
    "print(f\"The square of {b} is {a}\")"
   ]
  },
  {
   "cell_type": "code",
   "execution_count": 14,
   "id": "9c71fcd4-e545-4743-a0f9-546407b57c83",
   "metadata": {},
   "outputs": [],
   "source": [
    "import keyword"
   ]
  },
  {
   "cell_type": "code",
   "execution_count": 15,
   "id": "f68984dc-fed1-4824-b69c-a03ff6a1e31c",
   "metadata": {},
   "outputs": [
    {
     "data": {
      "text/plain": [
       "13"
      ]
     },
     "execution_count": 15,
     "metadata": {},
     "output_type": "execute_result"
    }
   ],
   "source": [
    "len(dir(keyword))"
   ]
  },
  {
   "cell_type": "code",
   "execution_count": 16,
   "id": "b2a18226-57c9-41b4-b2ae-f374e780fcdd",
   "metadata": {},
   "outputs": [
    {
     "data": {
      "text/plain": [
       "35"
      ]
     },
     "execution_count": 16,
     "metadata": {},
     "output_type": "execute_result"
    }
   ],
   "source": [
    "len(keyword.kwlist)"
   ]
  },
  {
   "cell_type": "code",
   "execution_count": 17,
   "id": "230efb92-5779-4871-8aa1-002909bdcc30",
   "metadata": {},
   "outputs": [
    {
     "data": {
      "text/plain": [
       "35"
      ]
     },
     "execution_count": 17,
     "metadata": {},
     "output_type": "execute_result"
    }
   ],
   "source": [
    "len(keyword.kwlist)"
   ]
  },
  {
   "cell_type": "code",
   "execution_count": 18,
   "id": "ad475cc6-2ee1-4752-8b16-71725dd00bfb",
   "metadata": {},
   "outputs": [
    {
     "name": "stdout",
     "output_type": "stream",
     "text": [
      "hello\n"
     ]
    }
   ],
   "source": [
    "import time\n",
    "time.sleep(2)\n",
    "print(\"hello\")"
   ]
  },
  {
   "cell_type": "code",
   "execution_count": 19,
   "id": "bdc73d9c-7041-4aff-8620-eba4b841315e",
   "metadata": {},
   "outputs": [],
   "source": [
    "import string"
   ]
  },
  {
   "cell_type": "code",
   "execution_count": 20,
   "id": "9323c325-92ea-40e8-a317-c48682192c53",
   "metadata": {},
   "outputs": [
    {
     "data": {
      "text/plain": [
       "['Formatter',\n",
       " 'Template',\n",
       " '_ChainMap',\n",
       " '__all__',\n",
       " '__builtins__',\n",
       " '__cached__',\n",
       " '__doc__',\n",
       " '__file__',\n",
       " '__loader__',\n",
       " '__name__',\n",
       " '__package__',\n",
       " '__spec__',\n",
       " '_re',\n",
       " '_sentinel_dict',\n",
       " '_string',\n",
       " 'ascii_letters',\n",
       " 'ascii_lowercase',\n",
       " 'ascii_uppercase',\n",
       " 'capwords',\n",
       " 'digits',\n",
       " 'hexdigits',\n",
       " 'octdigits',\n",
       " 'printable',\n",
       " 'punctuation',\n",
       " 'whitespace']"
      ]
     },
     "execution_count": 20,
     "metadata": {},
     "output_type": "execute_result"
    }
   ],
   "source": [
    "dir(string)"
   ]
  },
  {
   "cell_type": "code",
   "execution_count": 81,
   "id": "b6620052-65e1-4e64-b0c2-5960202ea568",
   "metadata": {},
   "outputs": [
    {
     "name": "stdout",
     "output_type": "stream",
     "text": [
      "f\n",
      "l\n",
      "X\n"
     ]
    }
   ],
   "source": [
    "print(random.choice(string.ascii_letters))\n",
    "print(random.choice(string.ascii_lowercase))\n",
    "print(random.choice(string.ascii_uppercase))"
   ]
  },
  {
   "cell_type": "code",
   "execution_count": 84,
   "id": "c6e37ec3-dd63-4e04-8b62-fc3195705cc7",
   "metadata": {},
   "outputs": [
    {
     "data": {
      "text/plain": [
       "'0123456789abcdefABCDEF'"
      ]
     },
     "execution_count": 84,
     "metadata": {},
     "output_type": "execute_result"
    }
   ],
   "source": [
    "string.hexdigits"
   ]
  },
  {
   "cell_type": "code",
   "execution_count": 85,
   "id": "747e530e-f361-4b64-a64e-20395e8e0ea7",
   "metadata": {},
   "outputs": [
    {
     "data": {
      "text/plain": [
       "'0123456789abcdefghijklmnopqrstuvwxyzABCDEFGHIJKLMNOPQRSTUVWXYZ!\"#$%&\\'()*+,-./:;<=>?@[\\\\]^_`{|}~ \\t\\n\\r\\x0b\\x0c'"
      ]
     },
     "execution_count": 85,
     "metadata": {},
     "output_type": "execute_result"
    }
   ],
   "source": [
    "string.printable"
   ]
  },
  {
   "cell_type": "code",
   "execution_count": 86,
   "id": "a8efbe4d-cbca-4ae5-a97d-1cc37cfb19ce",
   "metadata": {},
   "outputs": [
    {
     "data": {
      "text/plain": [
       "'!\"#$%&\\'()*+,-./:;<=>?@[\\\\]^_`{|}~'"
      ]
     },
     "execution_count": 86,
     "metadata": {},
     "output_type": "execute_result"
    }
   ],
   "source": [
    "string.punctuation"
   ]
  },
  {
   "cell_type": "code",
   "execution_count": 96,
   "id": "f2c8cc56-18bc-4b34-b9f5-8fb35a6c4afc",
   "metadata": {},
   "outputs": [
    {
     "data": {
      "text/plain": [
       "<string.Template at 0x23bcdebfce0>"
      ]
     },
     "execution_count": 96,
     "metadata": {},
     "output_type": "execute_result"
    }
   ],
   "source": [
    "string.Template(b)"
   ]
  },
  {
   "cell_type": "code",
   "execution_count": 98,
   "id": "65d39d1b-4b7f-478a-8450-813febe0da74",
   "metadata": {},
   "outputs": [
    {
     "ename": "TypeError",
     "evalue": "capwords() missing 1 required positional argument: 's'",
     "output_type": "error",
     "traceback": [
      "\u001b[1;31m---------------------------------------------------------------------------\u001b[0m",
      "\u001b[1;31mTypeError\u001b[0m                                 Traceback (most recent call last)",
      "Cell \u001b[1;32mIn[98], line 1\u001b[0m\n\u001b[1;32m----> 1\u001b[0m string\u001b[38;5;241m.\u001b[39mcapwords()\n",
      "\u001b[1;31mTypeError\u001b[0m: capwords() missing 1 required positional argument: 's'"
     ]
    }
   ],
   "source": []
  },
  {
   "cell_type": "code",
   "execution_count": null,
   "id": "507702bd-2c19-4f68-a72d-717bd9d77480",
   "metadata": {},
   "outputs": [],
   "source": []
  }
 ],
 "metadata": {
  "kernelspec": {
   "display_name": "Python [conda env:base] *",
   "language": "python",
   "name": "conda-base-py"
  },
  "language_info": {
   "codemirror_mode": {
    "name": "ipython",
    "version": 3
   },
   "file_extension": ".py",
   "mimetype": "text/x-python",
   "name": "python",
   "nbconvert_exporter": "python",
   "pygments_lexer": "ipython3",
   "version": "3.13.5"
  }
 },
 "nbformat": 4,
 "nbformat_minor": 5
}
