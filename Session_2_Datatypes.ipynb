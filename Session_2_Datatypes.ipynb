{
 "cells": [
  {
   "cell_type": "code",
   "execution_count": 1,
   "id": "40945169-9e57-43d9-af4a-b2a84e08f231",
   "metadata": {},
   "outputs": [],
   "source": [
    "import os"
   ]
  },
  {
   "cell_type": "code",
   "execution_count": 2,
   "id": "9a33785c-9b3f-4afb-aff7-c5272895b444",
   "metadata": {},
   "outputs": [
    {
     "data": {
      "text/plain": [
       "'C:\\\\Users\\\\HP\\\\Documents\\\\NARESH IT\\\\Python_session'"
      ]
     },
     "execution_count": 2,
     "metadata": {},
     "output_type": "execute_result"
    }
   ],
   "source": [
    "os.getcwd()"
   ]
  },
  {
   "cell_type": "code",
   "execution_count": 3,
   "id": "7a47cf56-13c1-470f-8b32-9962eea1ff65",
   "metadata": {},
   "outputs": [
    {
     "name": "stdout",
     "output_type": "stream",
     "text": [
      "\n"
     ]
    }
   ],
   "source": [
    "# print()\n",
    "# bounded error\n",
    "# function error"
   ]
  },
  {
   "cell_type": "code",
   "execution_count": null,
   "id": "57fcf7a0-8668-486c-af2b-ac933583b9ab",
   "metadata": {},
   "outputs": [],
   "source": [
    "# print()\n",
    "# type()\n",
    "# sum()\n",
    "# max()\n",
    "# min()\n",
    "# len()"
   ]
  },
  {
   "cell_type": "markdown",
   "id": "87333965-cea7-4197-912f-4c1740158b19",
   "metadata": {},
   "source": [
    "- int\n",
    "- float\n",
    "- str\n",
    "- bool\n",
    "- complex\n",
    "- range\n",
    "- list \n",
    "- tuple\n",
    "- dict\n",
    "- set \n",
    "- frozenset\n",
    "- bytes\n",
    "- bytearray\n",
    "- memoryview"
   ]
  },
  {
   "cell_type": "code",
   "execution_count": 8,
   "id": "866cb390-de78-4e7b-af8f-136a98c0cbeb",
   "metadata": {},
   "outputs": [
    {
     "name": "stdout",
     "output_type": "stream",
     "text": [
      "100.0\n",
      "1000.0\n",
      "10000.0\n"
     ]
    }
   ],
   "source": [
    "print(10e1) #10*10\n",
    "print(10e2) #10*100\n",
    "print(10e3) #10*1000"
   ]
  },
  {
   "cell_type": "code",
   "execution_count": 9,
   "id": "ed686acf-5350-47c0-a2ff-6680f8339a45",
   "metadata": {},
   "outputs": [
    {
     "name": "stdout",
     "output_type": "stream",
     "text": [
      "1.0\n",
      "0.1\n",
      "0.01\n"
     ]
    }
   ],
   "source": [
    "print(10e-1) #10/10\n",
    "print(10e-2) #10/100\n",
    "print(10e-3) #10/1000"
   ]
  },
  {
   "cell_type": "code",
   "execution_count": 10,
   "id": "73c76687-e897-4e87-8fa2-e6ffd4ed9098",
   "metadata": {},
   "outputs": [
    {
     "name": "stdout",
     "output_type": "stream",
     "text": [
      "100.0\n",
      "1000.0\n",
      "10000.0\n"
     ]
    }
   ],
   "source": [
    "print(10e+1) #10*10\n",
    "print(10e+2) #10*100\n",
    "print(10e+3) #10*1000"
   ]
  },
  {
   "cell_type": "code",
   "execution_count": 12,
   "id": "07647af1-2f64-4fcf-bc9e-273383e20792",
   "metadata": {},
   "outputs": [
    {
     "data": {
      "text/plain": [
       "True"
      ]
     },
     "execution_count": 12,
     "metadata": {},
     "output_type": "execute_result"
    }
   ],
   "source": [
    "10e1==10e+1"
   ]
  },
  {
   "cell_type": "code",
   "execution_count": 13,
   "id": "2bd49273-c5c6-42f0-9f93-2870c4eef0c5",
   "metadata": {},
   "outputs": [
    {
     "data": {
      "text/plain": [
       "False"
      ]
     },
     "execution_count": 13,
     "metadata": {},
     "output_type": "execute_result"
    }
   ],
   "source": [
    "10e1==10e+2"
   ]
  },
  {
   "cell_type": "markdown",
   "id": "81833815-3487-469d-96cc-2da92b52fcc8",
   "metadata": {},
   "source": [
    "## sring"
   ]
  },
  {
   "cell_type": "code",
   "execution_count": 20,
   "id": "e8d9a6e1-b59d-4080-8473-179eeca92413",
   "metadata": {},
   "outputs": [
    {
     "data": {
      "text/plain": [
       "'Nagpur'"
      ]
     },
     "execution_count": 20,
     "metadata": {},
     "output_type": "execute_result"
    }
   ],
   "source": [
    "\"Nagpur\""
   ]
  },
  {
   "cell_type": "code",
   "execution_count": 21,
   "id": "73e69387-287d-48c0-9475-bd56c57ec3d8",
   "metadata": {},
   "outputs": [
    {
     "name": "stdout",
     "output_type": "stream",
     "text": [
      "    hello\n"
     ]
    }
   ],
   "source": [
    "print(\"    hello\")"
   ]
  },
  {
   "cell_type": "code",
   "execution_count": 22,
   "id": "d5723471-c3d7-40e1-977b-9857491eac4b",
   "metadata": {},
   "outputs": [
    {
     "name": "stdout",
     "output_type": "stream",
     "text": [
      "hello     \n"
     ]
    }
   ],
   "source": [
    "print(\"hello     \")"
   ]
  },
  {
   "cell_type": "code",
   "execution_count": 24,
   "id": "2ba7ba2a-ef9c-47e6-87b3-199f05daf5e7",
   "metadata": {},
   "outputs": [
    {
     "name": "stdout",
     "output_type": "stream",
     "text": [
      "    hello     \n"
     ]
    }
   ],
   "source": [
    "print('    hello     ')"
   ]
  },
  {
   "cell_type": "code",
   "execution_count": 25,
   "id": "3c7d3127-c61b-4533-afeb-fbb0928b806d",
   "metadata": {},
   "outputs": [
    {
     "data": {
      "text/plain": [
       "14"
      ]
     },
     "execution_count": 25,
     "metadata": {},
     "output_type": "execute_result"
    }
   ],
   "source": [
    "len('    hello     ')\n"
   ]
  },
  {
   "cell_type": "code",
   "execution_count": 1,
   "id": "d4ecf3d9-bb2a-4f56-acd4-6a9958970f41",
   "metadata": {},
   "outputs": [
    {
     "data": {
      "text/plain": [
       "('pratice', 'pratice')"
      ]
     },
     "execution_count": 1,
     "metadata": {},
     "output_type": "execute_result"
    }
   ],
   "source": [
    "str1 ='pratice'\n",
    "str2 =\"pratice\"\n",
    "str1,str2"
   ]
  },
  {
   "cell_type": "code",
   "execution_count": 2,
   "id": "62057df0-0f32-44a8-b73b-54356adacd3f",
   "metadata": {},
   "outputs": [
    {
     "name": "stdout",
     "output_type": "stream",
     "text": [
      "pratice\n",
      "pratice\n"
     ]
    }
   ],
   "source": [
    "str1 ='pratice'\n",
    "str2 =\"pratice\"\n",
    "print(str1)\n",
    "print(str2)"
   ]
  },
  {
   "cell_type": "code",
   "execution_count": 6,
   "id": "6986aeae-9292-4ceb-a424-057bc5770a32",
   "metadata": {},
   "outputs": [
    {
     "name": "stdout",
     "output_type": "stream",
     "text": [
      "Pratice make man \"Perfect\"\n"
     ]
    }
   ],
   "source": [
    "print('Pratice make man \"Perfect\"')"
   ]
  },
  {
   "cell_type": "code",
   "execution_count": 5,
   "id": "0fb3b7c5-c90c-4d17-8a9f-e0d9689c659c",
   "metadata": {},
   "outputs": [
    {
     "name": "stdout",
     "output_type": "stream",
     "text": [
      "Pratice make man 'Perfect'\n"
     ]
    }
   ],
   "source": [
    "print(\"Pratice make man 'Perfect'\")"
   ]
  },
  {
   "cell_type": "code",
   "execution_count": 7,
   "id": "2918bf22-f6d1-4c82-95ca-57c8b565a443",
   "metadata": {},
   "outputs": [
    {
     "name": "stdout",
     "output_type": "stream",
     "text": [
      "hello i am 'Rahul'\n"
     ]
    }
   ],
   "source": [
    "print(\"hello i am 'Rahul'\")"
   ]
  },
  {
   "cell_type": "code",
   "execution_count": 8,
   "id": "1f9090b1-cdcd-443f-84a1-6a9ead4cfa7b",
   "metadata": {},
   "outputs": [
    {
     "data": {
      "text/plain": [
       "'What are you doing\\nok i will done \\nhow have been'"
      ]
     },
     "execution_count": 8,
     "metadata": {},
     "output_type": "execute_result"
    }
   ],
   "source": [
    "'''What are you doing\n",
    "ok i will done \n",
    "how have been'''"
   ]
  },
  {
   "cell_type": "code",
   "execution_count": 9,
   "id": "d5b1107d-5257-42be-b461-e33fd74ed621",
   "metadata": {},
   "outputs": [
    {
     "name": "stdout",
     "output_type": "stream",
     "text": [
      "What are you doing\n",
      "ok i will done \n",
      "how have been\n"
     ]
    }
   ],
   "source": [
    "print('''What are you doing\n",
    "ok i will done \n",
    "how have been''')"
   ]
  },
  {
   "cell_type": "code",
   "execution_count": 10,
   "id": "681f0d10-56b7-4809-9588-d8663ac1544c",
   "metadata": {},
   "outputs": [
    {
     "data": {
      "text/plain": [
       "\"'What are you doing\\nok i will done \\nhow have been\""
      ]
     },
     "execution_count": 10,
     "metadata": {},
     "output_type": "execute_result"
    }
   ],
   "source": [
    "\"\"\"'What are you doing\n",
    "ok i will done \n",
    "how have been\"\"\""
   ]
  },
  {
   "cell_type": "code",
   "execution_count": 12,
   "id": "10d881d9-b494-4c0f-843d-76caafb5650c",
   "metadata": {},
   "outputs": [
    {
     "name": "stdout",
     "output_type": "stream",
     "text": [
      "What are you doing\n",
      "ok i will done \n",
      "how have been\n"
     ]
    }
   ],
   "source": [
    "print(\"\"\"What are you doing\n",
    "ok i will done \n",
    "how have been\"\"\")"
   ]
  },
  {
   "cell_type": "code",
   "execution_count": 14,
   "id": "fb696546-7a88-4f82-88d4-f11ddf756f24",
   "metadata": {},
   "outputs": [
    {
     "data": {
      "text/plain": [
       "'C:\\\\Users\\\\HP\\\\Documents\\\\NARESH IT\\\\Python_session'"
      ]
     },
     "execution_count": 14,
     "metadata": {},
     "output_type": "execute_result"
    }
   ],
   "source": [
    "import os\n",
    "os.getcwd()"
   ]
  },
  {
   "cell_type": "code",
   "execution_count": 23,
   "id": "75178f8b-8777-479b-a309-9ce13b6e8501",
   "metadata": {},
   "outputs": [],
   "source": [
    "import random\n"
   ]
  },
  {
   "cell_type": "code",
   "execution_count": 25,
   "id": "e255187e-b31c-42c5-97f9-15edf4eb2821",
   "metadata": {},
   "outputs": [
    {
     "data": {
      "text/plain": [
       "10"
      ]
     },
     "execution_count": 25,
     "metadata": {},
     "output_type": "execute_result"
    }
   ],
   "source": [
    "random.randint(1,20)"
   ]
  },
  {
   "cell_type": "code",
   "execution_count": 26,
   "id": "6fcf6082-e71b-4bc4-9beb-72733a4d5a7a",
   "metadata": {},
   "outputs": [],
   "source": [
    "import math"
   ]
  },
  {
   "cell_type": "code",
   "execution_count": 27,
   "id": "1871eb61-b2ff-49cb-9f90-0a20caa41d3e",
   "metadata": {},
   "outputs": [
    {
     "data": {
      "text/plain": [
       "16.0"
      ]
     },
     "execution_count": 27,
     "metadata": {},
     "output_type": "execute_result"
    }
   ],
   "source": [
    "math.pow(2,4)"
   ]
  },
  {
   "cell_type": "markdown",
   "id": "8ebaa1e3-44ef-4e80-9b94-91d67a7fc1d5",
   "metadata": {},
   "source": [
    "**Boolean Operators**"
   ]
  },
  {
   "cell_type": "code",
   "execution_count": 28,
   "id": "1646e040-2324-42ae-87ba-5b882c1604d5",
   "metadata": {},
   "outputs": [
    {
     "data": {
      "text/plain": [
       "bool"
      ]
     },
     "execution_count": 28,
     "metadata": {},
     "output_type": "execute_result"
    }
   ],
   "source": [
    "n1 = True\n",
    "type(n1)\n"
   ]
  },
  {
   "cell_type": "code",
   "execution_count": 29,
   "id": "c792b57a-f5db-4dab-8d5e-3cca6913230e",
   "metadata": {},
   "outputs": [
    {
     "data": {
      "text/plain": [
       "10.5"
      ]
     },
     "execution_count": 29,
     "metadata": {},
     "output_type": "execute_result"
    }
   ],
   "source": [
    "true=\"true\"\n",
    "true =True\n",
    "true =10\n",
    "true =10.5\n",
    "false= true\n",
    "false"
   ]
  },
  {
   "cell_type": "code",
   "execution_count": 30,
   "id": "f3a6ccdc-a0fb-4ed9-b5e6-9256473e2d64",
   "metadata": {},
   "outputs": [
    {
     "data": {
      "text/plain": [
       "10.5"
      ]
     },
     "execution_count": 30,
     "metadata": {},
     "output_type": "execute_result"
    }
   ],
   "source": [
    "true=\"true\"\n",
    "true =True\n",
    "true =10\n",
    "true =10.5\n",
    "false = true\n",
    "false"
   ]
  },
  {
   "cell_type": "code",
   "execution_count": 32,
   "id": "cbbac81e-eec7-408e-b45e-6189cfa51be2",
   "metadata": {},
   "outputs": [
    {
     "data": {
      "text/plain": [
       "10"
      ]
     },
     "execution_count": 32,
     "metadata": {},
     "output_type": "execute_result"
    }
   ],
   "source": [
    "true=\"true\"\n",
    "true =True\n",
    "true =10\n",
    "false = true\n",
    "false"
   ]
  },
  {
   "cell_type": "code",
   "execution_count": 33,
   "id": "4fe1ec6c-83c0-4776-8530-4c76fbc58bc5",
   "metadata": {},
   "outputs": [
    {
     "data": {
      "text/plain": [
       "True"
      ]
     },
     "execution_count": 33,
     "metadata": {},
     "output_type": "execute_result"
    }
   ],
   "source": [
    "true=\"true\"\n",
    "true =True\n",
    "\n",
    "false = true\n",
    "false"
   ]
  },
  {
   "cell_type": "code",
   "execution_count": 34,
   "id": "7658e90b-6e56-44f7-aff2-14defcb7f35a",
   "metadata": {},
   "outputs": [
    {
     "data": {
      "text/plain": [
       "'true'"
      ]
     },
     "execution_count": 34,
     "metadata": {},
     "output_type": "execute_result"
    }
   ],
   "source": [
    "true=\"true\"\n",
    "\n",
    "false = true\n",
    "false"
   ]
  },
  {
   "cell_type": "markdown",
   "id": "6af805be-8e59-4fdb-ab9d-1c5f54b4d3d7",
   "metadata": {},
   "source": [
    "**List**"
   ]
  },
  {
   "cell_type": "code",
   "execution_count": 36,
   "id": "64293b81-13b0-43a0-8e7a-8cde675d2833",
   "metadata": {},
   "outputs": [
    {
     "data": {
      "text/plain": [
       "list"
      ]
     },
     "execution_count": 36,
     "metadata": {},
     "output_type": "execute_result"
    }
   ],
   "source": [
    "l= [10,20,30,40]\n",
    "type(l)"
   ]
  },
  {
   "cell_type": "code",
   "execution_count": 37,
   "id": "0e2219cc-5313-4b41-9506-bb36da0ecc61",
   "metadata": {},
   "outputs": [
    {
     "name": "stdout",
     "output_type": "stream",
     "text": [
      "[10, 20, 30, 40]\n"
     ]
    }
   ],
   "source": [
    "print(l)"
   ]
  },
  {
   "cell_type": "code",
   "execution_count": 38,
   "id": "393d9055-9ac5-4e1d-9ed2-d2836c3cbbbe",
   "metadata": {},
   "outputs": [
    {
     "name": "stdout",
     "output_type": "stream",
     "text": [
      "['Ramesh', 'Suresh', 'Sathish']\n",
      "[10, 'Ramesh', 10.5, True]\n",
      "['Apple', [10, 20, 30]]\n"
     ]
    }
   ],
   "source": [
    "l1 = ['Ramesh','Suresh','Sathish']\n",
    "l2 = [10,'Ramesh',10.5,True]\n",
    "l3 = ['Apple',[10,20,30]]\n",
    "\n",
    "print(l1)\n",
    "print(l2)\n",
    "print(l3)"
   ]
  },
  {
   "cell_type": "markdown",
   "id": "c8539d3a-e39d-4df8-81a8-49741daab93e",
   "metadata": {},
   "source": [
    "**Tuple**"
   ]
  },
  {
   "cell_type": "code",
   "execution_count": 39,
   "id": "b0d72a33-df19-45d2-8a0a-a7829e445bf1",
   "metadata": {},
   "outputs": [
    {
     "name": "stdout",
     "output_type": "stream",
     "text": [
      "('Ramesh', 'Suresh', 'Sathish')\n",
      "(10, 'Ramesh', 10.5, True)\n",
      "('Apple', [10, 20, 30])\n"
     ]
    }
   ],
   "source": [
    "t1 = ('Ramesh','Suresh','Sathish')\n",
    "t2 = (10,'Ramesh',10.5,True)\n",
    "t3 = ('Apple',[10,20,30])\n",
    "\n",
    "print(t1)\n",
    "print(t2)\n",
    "print(t3)"
   ]
  },
  {
   "cell_type": "code",
   "execution_count": 40,
   "id": "f80b9d54-ad1b-476e-b5e4-b5f511dfbbe4",
   "metadata": {},
   "outputs": [
    {
     "data": {
      "text/plain": [
       "tuple"
      ]
     },
     "execution_count": 40,
     "metadata": {},
     "output_type": "execute_result"
    }
   ],
   "source": [
    "l= (10,20,30,40)\n",
    "type(l)"
   ]
  },
  {
   "cell_type": "markdown",
   "id": "8e0104cf-3784-4b48-81a9-97896386fa9b",
   "metadata": {},
   "source": [
    "**dictionary**"
   ]
  },
  {
   "cell_type": "code",
   "execution_count": 13,
   "id": "9d1d3ce2-66e7-402a-818d-c4b92fba3522",
   "metadata": {},
   "outputs": [
    {
     "data": {
      "text/plain": [
       "set"
      ]
     },
     "execution_count": 13,
     "metadata": {},
     "output_type": "execute_result"
    }
   ],
   "source": [
    "j1= {50,56,89}\n",
    "type(j1)"
   ]
  },
  {
   "cell_type": "code",
   "execution_count": 11,
   "id": "8f8643c5-ebe4-4820-b3d7-8aaf47633d27",
   "metadata": {},
   "outputs": [
    {
     "data": {
      "text/plain": [
       "dict"
      ]
     },
     "execution_count": 11,
     "metadata": {},
     "output_type": "execute_result"
    }
   ],
   "source": [
    "d1={'good':'boy'}\n",
    "s1 = {'wife',50}\n",
    "type(d1)"
   ]
  },
  {
   "cell_type": "code",
   "execution_count": 44,
   "id": "c55c7b5b-c621-4f16-9a11-acadf0a492a0",
   "metadata": {},
   "outputs": [
    {
     "data": {
      "text/plain": [
       "{50, 'wife'}"
      ]
     },
     "execution_count": 44,
     "metadata": {},
     "output_type": "execute_result"
    }
   ],
   "source": [
    "s1"
   ]
  },
  {
   "cell_type": "code",
   "execution_count": 2,
   "id": "25705380-628d-4050-b63a-cad1a4d9174c",
   "metadata": {},
   "outputs": [
    {
     "data": {
      "text/plain": [
       "99"
      ]
     },
     "execution_count": 2,
     "metadata": {},
     "output_type": "execute_result"
    }
   ],
   "source": [
    "sum([10,89])"
   ]
  },
  {
   "cell_type": "code",
   "execution_count": 3,
   "id": "fdbf6ed3-baab-4966-82f1-f75a560ccc6b",
   "metadata": {},
   "outputs": [
    {
     "name": "stdout",
     "output_type": "stream",
     "text": [
      "[45, 89]\n"
     ]
    }
   ],
   "source": [
    "print([45,89])"
   ]
  },
  {
   "cell_type": "code",
   "execution_count": 9,
   "id": "91a954f9-8417-46e4-b9a7-cf894b131939",
   "metadata": {},
   "outputs": [
    {
     "data": {
      "text/plain": [
       "0.2914874687114194"
      ]
     },
     "execution_count": 9,
     "metadata": {},
     "output_type": "execute_result"
    }
   ],
   "source": [
    "import random\n",
    "random.random()"
   ]
  },
  {
   "cell_type": "code",
   "execution_count": 12,
   "id": "282f7659-3d74-425f-a62d-c4527970f41a",
   "metadata": {},
   "outputs": [
    {
     "data": {
      "text/plain": [
       "dict"
      ]
     },
     "execution_count": 12,
     "metadata": {},
     "output_type": "execute_result"
    }
   ],
   "source": [
    "type(d1)"
   ]
  },
  {
   "cell_type": "code",
   "execution_count": 14,
   "id": "b3a44064-42e1-469f-9771-6f0f2e034b8f",
   "metadata": {},
   "outputs": [
    {
     "data": {
      "text/plain": [
       "set"
      ]
     },
     "execution_count": 14,
     "metadata": {},
     "output_type": "execute_result"
    }
   ],
   "source": [
    "type(s1)"
   ]
  },
  {
   "cell_type": "code",
   "execution_count": null,
   "id": "8a79c7e1-cddf-4d57-be9d-1bfe8147e27e",
   "metadata": {},
   "outputs": [],
   "source": []
  }
 ],
 "metadata": {
  "kernelspec": {
   "display_name": "Python [conda env:base] *",
   "language": "python",
   "name": "conda-base-py"
  },
  "language_info": {
   "codemirror_mode": {
    "name": "ipython",
    "version": 3
   },
   "file_extension": ".py",
   "mimetype": "text/x-python",
   "name": "python",
   "nbconvert_exporter": "python",
   "pygments_lexer": "ipython3",
   "version": "3.13.5"
  }
 },
 "nbformat": 4,
 "nbformat_minor": 5
}
