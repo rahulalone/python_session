{
 "cells": [
  {
   "cell_type": "code",
   "execution_count": null,
   "id": "d61894ce-4c88-416c-aac5-ee16cfbce872",
   "metadata": {},
   "outputs": [],
   "source": [
    "File Name                    Type of file\n",
    "==================== Structures and Semi-Structured ====================\n",
    "Text                         .txt\n",
    "word                         .doc or .docx                  Package required\n",
    "Pdf                          .pdf                            Package required\n",
    "CSV(Excel)                   .csv (Comma separated value)(tabular)   Package required\n",
    "Excel                        .xlsx (Tabular)                Package required\n",
    "json                         .json (Dictionary key-value)   Package required\n",
    "\n",
    "==================== Unstructured ====================\n",
    "XML                          .xml (Image data)              Package required\n",
    "Parquet                      .delta/.parquet (DE)           Package required\n",
    "Delta                        .delta (DE)                    Package required\n",
    "Image                        .jpg, .JPEG, .png              Package required\n",
    "Video                         .mp4                          package required\n",
    "Audio                         .mp3                          Package required  "
   ]
  },
  {
   "cell_type": "code",
   "execution_count": 2,
   "id": "78607bda-e18d-42b1-a464-754709c75077",
   "metadata": {},
   "outputs": [],
   "source": [
    "import os"
   ]
  },
  {
   "cell_type": "code",
   "execution_count": 3,
   "id": "28c39fb9-c873-42ce-a69c-1a62f5bebfd8",
   "metadata": {},
   "outputs": [
    {
     "data": {
      "text/plain": [
       "'C:\\\\Users\\\\HP\\\\Documents\\\\NARESH IT\\\\Python_session'"
      ]
     },
     "execution_count": 3,
     "metadata": {},
     "output_type": "execute_result"
    }
   ],
   "source": [
    "os.getcwd()"
   ]
  },
  {
   "cell_type": "markdown",
   "id": "83ff86cf-d872-43a1-8666-9560c1de8c8e",
   "metadata": {},
   "source": [
    "## Method-1"
   ]
  },
  {
   "cell_type": "code",
   "execution_count": 12,
   "id": "53de0229-a1b2-4799-9797-7f6fa0460efe",
   "metadata": {},
   "outputs": [],
   "source": [
    "path=\"C:\\\\Users\\\\HP\\\\Documents\\\\NARESH IT\\\\Data Files\\\\mbox-short.txt\"\n",
    "file=open(path)\n",
    "data=file.read()\n"
   ]
  },
  {
   "cell_type": "markdown",
   "id": "87bafd8e-8b71-483e-a26a-057180895807",
   "metadata": {},
   "source": [
    "## Method-2"
   ]
  },
  {
   "cell_type": "code",
   "execution_count": 10,
   "id": "1b0b5afe-c6b5-400f-b9c4-a23deca10106",
   "metadata": {},
   "outputs": [],
   "source": [
    "path=r\"mbox-short.txt\"\n",
    "file=open(path)\n",
    "s=file.read()\n"
   ]
  },
  {
   "cell_type": "markdown",
   "id": "7882358a-774b-4970-a540-81c6586a3ab4",
   "metadata": {},
   "source": [
    "## methos -3"
   ]
  },
  {
   "cell_type": "code",
   "execution_count": 11,
   "id": "d869ecb9-197c-4f5f-93b5-4b310212d868",
   "metadata": {},
   "outputs": [],
   "source": [
    "with open(r\"mbox-short.txt\") as file:\n",
    "    data1= file.read()\n"
   ]
  },
  {
   "cell_type": "code",
   "execution_count": 24,
   "id": "57804172-c9d7-4cb3-8cb3-50e605cfb211",
   "metadata": {},
   "outputs": [
    {
     "data": {
      "text/plain": [
       "18"
      ]
     },
     "execution_count": 24,
     "metadata": {},
     "output_type": "execute_result"
    }
   ],
   "source": [
    "path=r\"dummy.txt\"\n",
    "op= open(path, mode=\"w\")\n",
    "op.write(\"hello good morning\")"
   ]
  },
  {
   "cell_type": "code",
   "execution_count": 25,
   "id": "0e2fe2a2-349a-4a1f-a795-1c6a31bfe63a",
   "metadata": {},
   "outputs": [
    {
     "data": {
      "text/plain": [
       "'hello good morning'"
      ]
     },
     "execution_count": 25,
     "metadata": {},
     "output_type": "execute_result"
    }
   ],
   "source": [
    "path=r\"dummy.txt\"\n",
    "op= open(path, mode=\"r\")\n",
    "op.read()"
   ]
  },
  {
   "cell_type": "code",
   "execution_count": 26,
   "id": "278410af-36c4-4ee8-856b-e26d17315aa4",
   "metadata": {},
   "outputs": [
    {
     "data": {
      "text/plain": [
       "18"
      ]
     },
     "execution_count": 26,
     "metadata": {},
     "output_type": "execute_result"
    }
   ],
   "source": [
    "path=r\"dummy.txt\"\n",
    "op= open(path, mode=\"a\")\n",
    "op.write(\"hello good morning\")"
   ]
  },
  {
   "cell_type": "code",
   "execution_count": 27,
   "id": "56c55021-79f2-4210-af79-9496bf53e698",
   "metadata": {},
   "outputs": [
    {
     "data": {
      "text/plain": [
       "18"
      ]
     },
     "execution_count": 27,
     "metadata": {},
     "output_type": "execute_result"
    }
   ],
   "source": [
    "path=r\"dummy.txt\"\n",
    "op= open(path, mode=\"a\")\n",
    "op.write(\" hello good evening\")"
   ]
  },
  {
   "cell_type": "code",
   "execution_count": 29,
   "id": "0c7b82dd-6736-4bfc-ac57-6c2748c53a70",
   "metadata": {},
   "outputs": [
    {
     "data": {
      "text/plain": [
       "26"
      ]
     },
     "execution_count": 29,
     "metadata": {},
     "output_type": "execute_result"
    }
   ],
   "source": [
    "path=r\"dummy.txt\"\n",
    "op= open(path, mode=\"a\")\n",
    "op.write(\" hello good evening all ok\")"
   ]
  },
  {
   "cell_type": "code",
   "execution_count": 34,
   "id": "c9977e63-c332-4007-994c-25b677709a3a",
   "metadata": {},
   "outputs": [
    {
     "data": {
      "text/plain": [
       "26"
      ]
     },
     "execution_count": 34,
     "metadata": {},
     "output_type": "execute_result"
    }
   ],
   "source": [
    "path=r\"dummy2.txt\"\n",
    "op= open(path, mode=\"a\")\n",
    "op.write(\" hello good evening all ok\")"
   ]
  },
  {
   "cell_type": "code",
   "execution_count": 35,
   "id": "4a177044-1f38-48f6-8d28-ef49a065a109",
   "metadata": {},
   "outputs": [
    {
     "data": {
      "text/plain": [
       "' hello good evening all ok hello good evening all ok hello good evening all ok'"
      ]
     },
     "execution_count": 35,
     "metadata": {},
     "output_type": "execute_result"
    }
   ],
   "source": [
    "path=r\"dummy2.txt\"\n",
    "op= open(path, mode=\"r\")\n",
    "op.read()"
   ]
  },
  {
   "cell_type": "code",
   "execution_count": 45,
   "id": "7b0470cf-1d64-46d7-86b5-6061d9d79cfa",
   "metadata": {},
   "outputs": [],
   "source": [
    "path=\"C:\\\\Users\\\\HP\\\\Documents\\\\NARESH IT\\\\Data Files\\\\mbox-short.txt\"\n",
    "file=open(path)\n"
   ]
  },
  {
   "cell_type": "code",
   "execution_count": 14,
   "id": "9710e69a-09cc-4a30-8134-1245b9237c4b",
   "metadata": {},
   "outputs": [
    {
     "name": "stdout",
     "output_type": "stream",
     "text": [
      "1910\n"
     ]
    }
   ],
   "source": [
    "path=r\"mbox-short.txt\"\n",
    "file=open(path)\n",
    "count=0\n",
    "for _ in file:\n",
    "    count=count+1\n",
    "#     count=count+1\n",
    "# print(count)\n",
    "print(count)"
   ]
  },
  {
   "cell_type": "code",
   "execution_count": 63,
   "id": "18fa0c6c-4a6f-481f-bc77-087751b04d2d",
   "metadata": {},
   "outputs": [
    {
     "name": "stdout",
     "output_type": "stream",
     "text": [
      "0 From stephen.marquard@uct.ac.za Sat Jan  5 09:14:16 2008\n",
      "\n",
      "1 Return-Path: <postmaster@collab.sakaiproject.org>\n",
      "\n",
      "2 Received: from murder (mail.umich.edu [141.211.14.90])\n",
      "\n",
      "3 \t by frankenstein.mail.umich.edu (Cyrus v2.3.8) with LMTPA;\n",
      "\n",
      "4 \t Sat, 05 Jan 2008 09:14:16 -0500\n",
      "\n",
      "5 X-Sieve: CMU Sieve 2.3\n",
      "\n",
      "6 Received: from murder ([unix socket])\n",
      "\n",
      "7 \t by mail.umich.edu (Cyrus v2.2.12) with LMTPA;\n",
      "\n",
      "8 \t Sat, 05 Jan 2008 09:14:16 -0500\n",
      "\n",
      "9 Received: from holes.mr.itd.umich.edu (holes.mr.itd.umich.edu [141.211.14.79])\n",
      "\n",
      "10 \tby flawless.mail.umich.edu () with ESMTP id m05EEFR1013674;\n",
      "\n"
     ]
    }
   ],
   "source": [
    "path=r\"mbox-short.txt\"\n",
    "file=open(path)\n",
    "count=0\n",
    "for Id,line in enumerate(file):\n",
    "    print(Id,line)\n",
    "    if Id==10:\n",
    "        break\n"
   ]
  },
  {
   "cell_type": "code",
   "execution_count": null,
   "id": "ab89a3a6-a584-45c4-95a9-e21b075b704c",
   "metadata": {},
   "outputs": [],
   "source": []
  },
  {
   "cell_type": "code",
   "execution_count": 67,
   "id": "7b378361-455f-4507-bb2a-631ef5a0c049",
   "metadata": {},
   "outputs": [
    {
     "name": "stdout",
     "output_type": "stream",
     "text": [
      "1910\n"
     ]
    }
   ],
   "source": [
    "path=r\"mbox-short.txt\"\n",
    "file=open(path)\n",
    "for Id,_ in enumerate(file):\n",
    "    pass\n"
   ]
  },
  {
   "cell_type": "code",
   "execution_count": 8,
   "id": "40d99887-aeff-48fc-ac05-da9d0407b7b4",
   "metadata": {},
   "outputs": [],
   "source": [
    "path=r\"mbox-short.txt\"\n",
    "file=open(path)\n",
    "data= file.read()\n"
   ]
  },
  {
   "cell_type": "code",
   "execution_count": 15,
   "id": "96a3fa9a-8bb7-4318-a8bd-fc66c8fbffff",
   "metadata": {},
   "outputs": [],
   "source": [
    "# path=r\"mbox-short.txt\"\n",
    "# file=open(path)\n",
    "# for Id,line in enumerate(file):\n",
    "#     print(line.strip())"
   ]
  },
  {
   "cell_type": "code",
   "execution_count": null,
   "id": "5873cc1e-a8cc-411a-b9ad-5bab0b861195",
   "metadata": {},
   "outputs": [],
   "source": []
  },
  {
   "cell_type": "code",
   "execution_count": 22,
   "id": "789c38c5-16f9-45e8-a8f9-c97b99b9e0cb",
   "metadata": {},
   "outputs": [
    {
     "data": {
      "text/plain": [
       "1910"
      ]
     },
     "execution_count": 22,
     "metadata": {},
     "output_type": "execute_result"
    }
   ],
   "source": [
    "with open(r\"mbox-short.txt\") as file:\n",
    "    count=0\n",
    "    for i in file:\n",
    "        count=count+1\n",
    "    d=file.read()\n",
    "\n",
    "# for i in d:\n",
    "#     print(i) for charcter come\n",
    "# count=0\n",
    "# for i in file:\n",
    "#     count=count+1\n",
    "count"
   ]
  },
  {
   "cell_type": "code",
   "execution_count": 47,
   "id": "e7e40acb-e5ae-4221-8943-79292257738a",
   "metadata": {},
   "outputs": [],
   "source": [
    "# path=r\"mbox-short.txt\"\n",
    "# file=open(path)\n",
    "# for i in file:\n",
    "#     print(i.strip())"
   ]
  },
  {
   "cell_type": "code",
   "execution_count": 36,
   "id": "dd7e1f26-b626-4088-8d41-e5cfaa83ce3f",
   "metadata": {},
   "outputs": [
    {
     "data": {
      "text/plain": [
       "['From stephen.marquard@uct.ac.za Sat Jan  5 09:14:16 2008\\n',\n",
       " 'From: stephen.marquard@uct.ac.za\\n',\n",
       " 'From louis@media.berkeley.edu Fri Jan  4 18:10:48 2008\\n',\n",
       " 'From: louis@media.berkeley.edu\\n',\n",
       " 'From zqian@umich.edu Fri Jan  4 16:10:39 2008\\n',\n",
       " 'From: zqian@umich.edu\\n',\n",
       " 'From rjlowe@iupui.edu Fri Jan  4 15:46:24 2008\\n',\n",
       " 'From: rjlowe@iupui.edu\\n',\n",
       " 'From zqian@umich.edu Fri Jan  4 15:03:18 2008\\n',\n",
       " 'From: zqian@umich.edu\\n',\n",
       " 'From rjlowe@iupui.edu Fri Jan  4 14:50:18 2008\\n',\n",
       " 'From: rjlowe@iupui.edu\\n',\n",
       " 'From cwen@iupui.edu Fri Jan  4 11:37:30 2008\\n',\n",
       " 'From: cwen@iupui.edu\\n',\n",
       " 'From cwen@iupui.edu Fri Jan  4 11:35:08 2008\\n',\n",
       " 'From: cwen@iupui.edu\\n',\n",
       " 'From gsilver@umich.edu Fri Jan  4 11:12:37 2008\\n',\n",
       " 'From: gsilver@umich.edu\\n',\n",
       " 'From gsilver@umich.edu Fri Jan  4 11:11:52 2008\\n',\n",
       " 'From: gsilver@umich.edu\\n',\n",
       " 'From zqian@umich.edu Fri Jan  4 11:11:03 2008\\n',\n",
       " 'From: zqian@umich.edu\\n',\n",
       " 'From gsilver@umich.edu Fri Jan  4 11:10:22 2008\\n',\n",
       " 'From: gsilver@umich.edu\\n',\n",
       " 'From wagnermr@iupui.edu Fri Jan  4 10:38:42 2008\\n',\n",
       " 'From: wagnermr@iupui.edu\\n',\n",
       " 'From zqian@umich.edu Fri Jan  4 10:17:43 2008\\n',\n",
       " 'From: zqian@umich.edu\\n',\n",
       " 'From antranig@caret.cam.ac.uk Fri Jan  4 10:04:14 2008\\n',\n",
       " 'From: antranig@caret.cam.ac.uk\\n',\n",
       " 'From gopal.ramasammycook@gmail.com Fri Jan  4 09:05:31 2008\\n',\n",
       " 'From: gopal.ramasammycook@gmail.com\\n',\n",
       " 'From david.horwitz@uct.ac.za Fri Jan  4 07:02:32 2008\\n',\n",
       " 'From: david.horwitz@uct.ac.za\\n',\n",
       " 'From david.horwitz@uct.ac.za Fri Jan  4 06:08:27 2008\\n',\n",
       " 'From: david.horwitz@uct.ac.za\\n',\n",
       " 'From david.horwitz@uct.ac.za Fri Jan  4 04:49:08 2008\\n',\n",
       " 'From: david.horwitz@uct.ac.za\\n',\n",
       " 'From david.horwitz@uct.ac.za Fri Jan  4 04:33:44 2008\\n',\n",
       " 'From: david.horwitz@uct.ac.za\\n',\n",
       " 'From stephen.marquard@uct.ac.za Fri Jan  4 04:07:34 2008\\n',\n",
       " 'From: stephen.marquard@uct.ac.za\\n',\n",
       " 'From louis@media.berkeley.edu Thu Jan  3 19:51:21 2008\\n',\n",
       " 'From: louis@media.berkeley.edu\\n',\n",
       " 'From louis@media.berkeley.edu Thu Jan  3 17:18:23 2008\\n',\n",
       " 'From: louis@media.berkeley.edu\\n',\n",
       " 'From ray@media.berkeley.edu Thu Jan  3 17:07:00 2008\\n',\n",
       " 'From: ray@media.berkeley.edu\\n',\n",
       " 'From cwen@iupui.edu Thu Jan  3 16:34:40 2008\\n',\n",
       " 'From: cwen@iupui.edu\\n',\n",
       " 'From cwen@iupui.edu Thu Jan  3 16:29:07 2008\\n',\n",
       " 'From: cwen@iupui.edu\\n',\n",
       " 'From cwen@iupui.edu Thu Jan  3 16:23:48 2008\\n',\n",
       " 'From: cwen@iupui.edu\\n']"
      ]
     },
     "execution_count": 36,
     "metadata": {},
     "output_type": "execute_result"
    }
   ],
   "source": [
    "path=r\"mbox-short.txt\"\n",
    "file=open(path)\n",
    "l=[]\n",
    "for i in file:\n",
    "    if i.startswith(\"From\"):\n",
    "        \n",
    "        l.append(i)\n",
    "l"
   ]
  },
  {
   "cell_type": "code",
   "execution_count": null,
   "id": "717cad6a-f9a0-4394-8ba0-e41ef175ebf5",
   "metadata": {},
   "outputs": [],
   "source": []
  },
  {
   "cell_type": "code",
   "execution_count": 58,
   "id": "3a374f13-a5c7-4452-9e44-6c7a42d82e30",
   "metadata": {},
   "outputs": [
    {
     "data": {
      "text/plain": [
       "['From stephen.marquard@uct.ac.za Sat Jan  5 09:14:16 2008',\n",
       " 'From: stephen.marquard@uct.ac.za',\n",
       " 'From louis@media.berkeley.edu Fri Jan  4 18:10:48 2008',\n",
       " 'From: louis@media.berkeley.edu',\n",
       " 'From zqian@umich.edu Fri Jan  4 16:10:39 2008',\n",
       " 'From: zqian@umich.edu',\n",
       " 'From rjlowe@iupui.edu Fri Jan  4 15:46:24 2008',\n",
       " 'From: rjlowe@iupui.edu',\n",
       " 'From zqian@umich.edu Fri Jan  4 15:03:18 2008',\n",
       " 'From: zqian@umich.edu',\n",
       " 'From rjlowe@iupui.edu Fri Jan  4 14:50:18 2008',\n",
       " 'From: rjlowe@iupui.edu',\n",
       " 'From cwen@iupui.edu Fri Jan  4 11:37:30 2008',\n",
       " 'From: cwen@iupui.edu',\n",
       " 'From cwen@iupui.edu Fri Jan  4 11:35:08 2008',\n",
       " 'From: cwen@iupui.edu',\n",
       " 'From gsilver@umich.edu Fri Jan  4 11:12:37 2008',\n",
       " 'From: gsilver@umich.edu',\n",
       " 'From gsilver@umich.edu Fri Jan  4 11:11:52 2008',\n",
       " 'From: gsilver@umich.edu',\n",
       " 'From zqian@umich.edu Fri Jan  4 11:11:03 2008',\n",
       " 'From: zqian@umich.edu',\n",
       " 'From gsilver@umich.edu Fri Jan  4 11:10:22 2008',\n",
       " 'From: gsilver@umich.edu',\n",
       " 'From wagnermr@iupui.edu Fri Jan  4 10:38:42 2008',\n",
       " 'From: wagnermr@iupui.edu',\n",
       " 'From zqian@umich.edu Fri Jan  4 10:17:43 2008',\n",
       " 'From: zqian@umich.edu',\n",
       " 'From antranig@caret.cam.ac.uk Fri Jan  4 10:04:14 2008',\n",
       " 'From: antranig@caret.cam.ac.uk',\n",
       " 'From gopal.ramasammycook@gmail.com Fri Jan  4 09:05:31 2008',\n",
       " 'From: gopal.ramasammycook@gmail.com',\n",
       " 'From david.horwitz@uct.ac.za Fri Jan  4 07:02:32 2008',\n",
       " 'From: david.horwitz@uct.ac.za',\n",
       " 'From david.horwitz@uct.ac.za Fri Jan  4 06:08:27 2008',\n",
       " 'From: david.horwitz@uct.ac.za',\n",
       " 'From david.horwitz@uct.ac.za Fri Jan  4 04:49:08 2008',\n",
       " 'From: david.horwitz@uct.ac.za',\n",
       " 'From david.horwitz@uct.ac.za Fri Jan  4 04:33:44 2008',\n",
       " 'From: david.horwitz@uct.ac.za',\n",
       " 'From stephen.marquard@uct.ac.za Fri Jan  4 04:07:34 2008',\n",
       " 'From: stephen.marquard@uct.ac.za',\n",
       " 'From louis@media.berkeley.edu Thu Jan  3 19:51:21 2008',\n",
       " 'From: louis@media.berkeley.edu',\n",
       " 'From louis@media.berkeley.edu Thu Jan  3 17:18:23 2008',\n",
       " 'From: louis@media.berkeley.edu',\n",
       " 'From ray@media.berkeley.edu Thu Jan  3 17:07:00 2008',\n",
       " 'From: ray@media.berkeley.edu',\n",
       " 'From cwen@iupui.edu Thu Jan  3 16:34:40 2008',\n",
       " 'From: cwen@iupui.edu',\n",
       " 'From cwen@iupui.edu Thu Jan  3 16:29:07 2008',\n",
       " 'From: cwen@iupui.edu',\n",
       " 'From cwen@iupui.edu Thu Jan  3 16:23:48 2008',\n",
       " 'From: cwen@iupui.edu']"
      ]
     },
     "execution_count": 58,
     "metadata": {},
     "output_type": "execute_result"
    }
   ],
   "source": [
    "path=r\"mbox-short.txt\"\n",
    "file=open(path)\n",
    "l=[]\n",
    "for i in file:\n",
    "    if i.startswith(\"From\"):\n",
    "        l.append(i.strip(\"\\n\"))\n",
    "l"
   ]
  },
  {
   "cell_type": "code",
   "execution_count": null,
   "id": "e550fbb9-57d7-4c4a-bcd6-5e881c4acb53",
   "metadata": {},
   "outputs": [],
   "source": []
  },
  {
   "cell_type": "code",
   "execution_count": null,
   "id": "74fda93d-0bdc-4012-9d8f-8f74dd254a07",
   "metadata": {},
   "outputs": [],
   "source": []
  },
  {
   "cell_type": "code",
   "execution_count": 132,
   "id": "68e09a44-2bf2-4e6b-9c43-787d89bfe02e",
   "metadata": {},
   "outputs": [
    {
     "data": {
      "text/plain": [
       "['stephen.marquard@uct.ac.za',\n",
       " 'stephen.marquard@uct.ac.za',\n",
       " 'louis@media.berkeley.edu',\n",
       " 'louis@media.berkeley.edu',\n",
       " 'zqian@umich.edu',\n",
       " 'zqian@umich.edu',\n",
       " 'rjlowe@iupui.edu',\n",
       " 'rjlowe@iupui.edu',\n",
       " 'zqian@umich.edu',\n",
       " 'zqian@umich.edu',\n",
       " 'rjlowe@iupui.edu',\n",
       " 'rjlowe@iupui.edu',\n",
       " 'cwen@iupui.edu',\n",
       " 'cwen@iupui.edu',\n",
       " 'cwen@iupui.edu',\n",
       " 'cwen@iupui.edu',\n",
       " 'gsilver@umich.edu',\n",
       " 'gsilver@umich.edu',\n",
       " 'gsilver@umich.edu',\n",
       " 'gsilver@umich.edu',\n",
       " 'zqian@umich.edu',\n",
       " 'zqian@umich.edu',\n",
       " 'gsilver@umich.edu',\n",
       " 'gsilver@umich.edu',\n",
       " 'wagnermr@iupui.edu',\n",
       " 'wagnermr@iupui.edu',\n",
       " 'zqian@umich.edu',\n",
       " 'zqian@umich.edu',\n",
       " 'antranig@caret.cam.ac.uk',\n",
       " 'antranig@caret.cam.ac.uk',\n",
       " 'gopal.ramasammycook@gmail.com',\n",
       " 'gopal.ramasammycook@gmail.com',\n",
       " 'david.horwitz@uct.ac.za',\n",
       " 'david.horwitz@uct.ac.za',\n",
       " 'david.horwitz@uct.ac.za',\n",
       " 'david.horwitz@uct.ac.za',\n",
       " 'david.horwitz@uct.ac.za',\n",
       " 'david.horwitz@uct.ac.za',\n",
       " 'david.horwitz@uct.ac.za',\n",
       " 'david.horwitz@uct.ac.za',\n",
       " 'stephen.marquard@uct.ac.za',\n",
       " 'stephen.marquard@uct.ac.za',\n",
       " 'louis@media.berkeley.edu',\n",
       " 'louis@media.berkeley.edu',\n",
       " 'louis@media.berkeley.edu',\n",
       " 'louis@media.berkeley.edu',\n",
       " 'ray@media.berkeley.edu',\n",
       " 'ray@media.berkeley.edu',\n",
       " 'cwen@iupui.edu',\n",
       " 'cwen@iupui.edu',\n",
       " 'cwen@iupui.edu',\n",
       " 'cwen@iupui.edu',\n",
       " 'cwen@iupui.edu',\n",
       " 'cwen@iupui.edu']"
      ]
     },
     "execution_count": 132,
     "metadata": {},
     "output_type": "execute_result"
    }
   ],
   "source": [
    "path=r\"mbox-short.txt\"\n",
    "file=open(path)\n",
    "l=[]\n",
    "for i in file:\n",
    "    if i.startswith(\"From\"):\n",
    "        e= i.find(\" \")\n",
    "        f= i.find(\" \",i.find(\" \")+1)\n",
    "        l.append(i[e+1:f])\n",
    "        \n",
    "l"
   ]
  },
  {
   "cell_type": "code",
   "execution_count": 135,
   "id": "1f38ebc7-42cc-4594-8e6e-84730b75ce48",
   "metadata": {},
   "outputs": [
    {
     "data": {
      "text/plain": [
       "['stephen.marquard@uct.ac.za',\n",
       " 'louis@media.berkeley.edu',\n",
       " 'zqian@umich.edu',\n",
       " 'rjlowe@iupui.edu',\n",
       " 'cwen@iupui.edu',\n",
       " 'gsilver@umich.edu',\n",
       " 'wagnermr@iupui.edu',\n",
       " 'antranig@caret.cam.ac.uk',\n",
       " 'gopal.ramasammycook@gmail.com',\n",
       " 'david.horwitz@uct.ac.za',\n",
       " 'ray@media.berkeley.edu']"
      ]
     },
     "execution_count": 135,
     "metadata": {},
     "output_type": "execute_result"
    }
   ],
   "source": [
    "path=r\"mbox-short.txt\"\n",
    "file=open(path)\n",
    "l2=[]\n",
    "for i in l:\n",
    "    if i not in l2:\n",
    "        l2.append(i)\n",
    "l2"
   ]
  },
  {
   "cell_type": "code",
   "execution_count": 161,
   "id": "f443ba46-e43e-41f3-8317-d79922b38798",
   "metadata": {
    "scrolled": true
   },
   "outputs": [
    {
     "data": {
      "text/plain": [
       "[0, 1, 2, 3, 4]"
      ]
     },
     "execution_count": 161,
     "metadata": {},
     "output_type": "execute_result"
    }
   ],
   "source": [
    "with open(\"data1.txt\", \"r\") as file:\n",
    "    # for line, _ in enumerate(file):\n",
    "    #     print(line) \n",
    "    l1=[ index for index,_ in enumerate(file)]\n",
    "\n",
    "\n",
    "l1   "
   ]
  },
  {
   "cell_type": "code",
   "execution_count": 162,
   "id": "18da3087-a0ad-4d11-83ef-ab7f2df3989b",
   "metadata": {},
   "outputs": [],
   "source": [
    "path=r\"mbox-short.txt\"\n",
    "file=open(path)\n",
    "l1=[ index for index,_ in enumerate(file)]"
   ]
  },
  {
   "cell_type": "code",
   "execution_count": 168,
   "id": "4fb9831d-e87a-4dbe-bb45-f50300582da4",
   "metadata": {},
   "outputs": [
    {
     "name": "stdout",
     "output_type": "stream",
     "text": [
      "0 From stephen.marquard@uct.ac.za Sat Jan  5 09:14:16 2008\n",
      "\n",
      "1 Return-Path: <postmaster@collab.sakaiproject.org>\n",
      "\n",
      "2 Received: from murder (mail.umich.edu [141.211.14.90])\n",
      "\n",
      "3 \t by frankenstein.mail.umich.edu (Cyrus v2.3.8) with LMTPA;\n",
      "\n",
      "4 \t Sat, 05 Jan 2008 09:14:16 -0500\n",
      "\n",
      "5 X-Sieve: CMU Sieve 2.3\n",
      "\n",
      "6 Received: from murder ([unix socket])\n",
      "\n",
      "7 \t by mail.umich.edu (Cyrus v2.2.12) with LMTPA;\n",
      "\n",
      "8 \t Sat, 05 Jan 2008 09:14:16 -0500\n",
      "\n",
      "9 Received: from holes.mr.itd.umich.edu (holes.mr.itd.umich.edu [141.211.14.79])\n",
      "\n",
      "10 \tby flawless.mail.umich.edu () with ESMTP id m05EEFR1013674;\n",
      "\n"
     ]
    }
   ],
   "source": [
    "with open(r\"mbox-short.txt\", \"r\") as file:\n",
    "    for line, _ in enumerate(file):\n",
    "        print(line,_)\n",
    "        if line==10:\n",
    "            break\n",
    "    "
   ]
  },
  {
   "cell_type": "code",
   "execution_count": null,
   "id": "448060e7-ac56-4f1e-ab29-48a2f950e183",
   "metadata": {},
   "outputs": [],
   "source": []
  }
 ],
 "metadata": {
  "kernelspec": {
   "display_name": "Python [conda env:base] *",
   "language": "python",
   "name": "conda-base-py"
  },
  "language_info": {
   "codemirror_mode": {
    "name": "ipython",
    "version": 3
   },
   "file_extension": ".py",
   "mimetype": "text/x-python",
   "name": "python",
   "nbconvert_exporter": "python",
   "pygments_lexer": "ipython3",
   "version": "3.13.5"
  }
 },
 "nbformat": 4,
 "nbformat_minor": 5
}
