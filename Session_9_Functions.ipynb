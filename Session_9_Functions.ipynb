{
 "cells": [
  {
   "cell_type": "markdown",
   "id": "cca74202-98be-4c29-8c53-ac3c2065886c",
   "metadata": {},
   "source": [
    "## $function$"
   ]
  },
  {
   "cell_type": "markdown",
   "id": "219634a2-f378-468b-b43a-50e1210092aa",
   "metadata": {},
   "source": [
    "## **Function without agrgument**"
   ]
  },
  {
   "cell_type": "code",
   "execution_count": 2,
   "id": "4c95bf72-0d67-4d84-913f-a09a60eaa2bc",
   "metadata": {},
   "outputs": [],
   "source": [
    "def call():\n",
    "    print(\"ok\")\n",
    "    print(\"done\")"
   ]
  },
  {
   "cell_type": "code",
   "execution_count": 3,
   "id": "77301c1e-58a0-40e4-828f-cc07e3b50bb6",
   "metadata": {},
   "outputs": [
    {
     "name": "stdout",
     "output_type": "stream",
     "text": [
      "ok\n",
      "done\n"
     ]
    }
   ],
   "source": [
    "call()"
   ]
  },
  {
   "cell_type": "code",
   "execution_count": 4,
   "id": "0cfee310-811d-4a06-9da1-2721afd649d5",
   "metadata": {},
   "outputs": [],
   "source": [
    "def add():\n",
    "    a= 20\n",
    "    b=30\n",
    "    print(f\"The addition of {a} and {b} is {a+b}\")"
   ]
  },
  {
   "cell_type": "code",
   "execution_count": 5,
   "id": "737e7db2-3aca-4e17-bc72-acaca0bec3f8",
   "metadata": {},
   "outputs": [
    {
     "name": "stdout",
     "output_type": "stream",
     "text": [
      "The addition of 20 and 30 is 50\n"
     ]
    }
   ],
   "source": [
    "add()"
   ]
  },
  {
   "cell_type": "code",
   "execution_count": 6,
   "id": "0143e264-680b-466d-b93b-284b05024649",
   "metadata": {},
   "outputs": [],
   "source": [
    "def adding ():\n",
    "    a=eval(input(\"Enter the Number\"))\n",
    "    b=eval(input(\"Enter the Number\"))\n",
    "    print(f\"The addition of {a} and {b} is {a+b}\")"
   ]
  },
  {
   "cell_type": "code",
   "execution_count": 9,
   "id": "24796ac0-8e8d-4f9d-97ad-730fcde82dd2",
   "metadata": {},
   "outputs": [
    {
     "name": "stdin",
     "output_type": "stream",
     "text": [
      "Enter the Number 14\n",
      "Enter the Number 56\n"
     ]
    },
    {
     "name": "stdout",
     "output_type": "stream",
     "text": [
      "The addition of 14 and 56 is 70\n"
     ]
    }
   ],
   "source": [
    "adding()"
   ]
  },
  {
   "cell_type": "code",
   "execution_count": 10,
   "id": "ff054f7a-0646-402e-aaf5-34c3012d8ec6",
   "metadata": {},
   "outputs": [],
   "source": [
    "# function name as variable "
   ]
  },
  {
   "cell_type": "code",
   "execution_count": 11,
   "id": "2afcf2fa-da19-4eac-aecd-097a22ec5280",
   "metadata": {},
   "outputs": [],
   "source": [
    "import random"
   ]
  },
  {
   "cell_type": "code",
   "execution_count": 12,
   "id": "3cbf6dab-7af4-464a-be68-943611b52da1",
   "metadata": {},
   "outputs": [],
   "source": [
    "def random():\n",
    "    print(\"okk\")"
   ]
  },
  {
   "cell_type": "code",
   "execution_count": 13,
   "id": "f67f7d61-3cf1-4eb8-bc96-414b27da27b0",
   "metadata": {},
   "outputs": [
    {
     "name": "stdout",
     "output_type": "stream",
     "text": [
      "okk\n"
     ]
    }
   ],
   "source": [
    "random()"
   ]
  },
  {
   "cell_type": "code",
   "execution_count": 16,
   "id": "c02ccf33-75c3-46f5-be3a-20a211d8f8b8",
   "metadata": {},
   "outputs": [],
   "source": [
    "def addinng ():\n",
    "    a= random.randint(1,100)\n",
    "    b= random.randint(1,100)\n",
    "    print(f\"The addition of {a} and {b} is {a+b}\")"
   ]
  },
  {
   "cell_type": "code",
   "execution_count": 18,
   "id": "5fb5b22a-5263-40d3-9e39-98055056892f",
   "metadata": {},
   "outputs": [],
   "source": [
    "# addinng()"
   ]
  },
  {
   "cell_type": "code",
   "execution_count": 21,
   "id": "70d7cdd8-010c-44bc-b5ad-cb6bf858449d",
   "metadata": {},
   "outputs": [
    {
     "name": "stdout",
     "output_type": "stream",
     "text": [
      "The addition of 20 and 30 is 50\n"
     ]
    }
   ],
   "source": [
    "try:\n",
    "    def adding3():\n",
    "        a= 20\n",
    "        b=30\n",
    "        c= a+b\n",
    "        print(f\"The addition of {a} and {b} is {c}\")\n",
    "except Exception as e:\n",
    "    print(e)\n",
    "adding3()"
   ]
  },
  {
   "cell_type": "code",
   "execution_count": 23,
   "id": "8a905366-ae7f-40f8-89c8-46be4866be8f",
   "metadata": {},
   "outputs": [
    {
     "name": "stdout",
     "output_type": "stream",
     "text": [
      "The addition of 20 and 30 is 50\n"
     ]
    }
   ],
   "source": [
    "\n",
    "    def adding3():\n",
    "        try:\n",
    "            a= 20\n",
    "            b=30\n",
    "         \n",
    "            print(f\"The addition of {a} and {b} is {a+b}\")\n",
    "        except Exception as e:\n",
    "            print(e)\n",
    "adding3()"
   ]
  },
  {
   "cell_type": "code",
   "execution_count": 24,
   "id": "1c53023e-2ce0-4d21-971a-8fdf0338ac59",
   "metadata": {},
   "outputs": [
    {
     "name": "stdout",
     "output_type": "stream",
     "text": [
      "'function' object has no attribute 'randint'\n"
     ]
    }
   ],
   "source": [
    "def addinng ():\n",
    "    try:\n",
    "        a= random.randint(1,100)\n",
    "        b= random.randint(1,100)\n",
    "        print(f\"The addition of {a1} and {b5} is {a+b}\")\n",
    "    except Exception as e:\n",
    "        print(e)\n",
    "addinng()"
   ]
  },
  {
   "cell_type": "code",
   "execution_count": 25,
   "id": "c9ba5245-31d5-4d56-bed9-7c8384b00ebf",
   "metadata": {},
   "outputs": [],
   "source": [
    "# functio is not "
   ]
  },
  {
   "cell_type": "code",
   "execution_count": 26,
   "id": "64c00bec-0221-4342-929d-a88a51896b38",
   "metadata": {},
   "outputs": [],
   "source": [
    "# bill amount"
   ]
  },
  {
   "cell_type": "code",
   "execution_count": 27,
   "id": "28542000-ead4-404b-9f3c-bf942696354e",
   "metadata": {},
   "outputs": [],
   "source": [
    "def Area():\n",
    "    width = 45\n",
    "    height=50\n",
    "    print(f\"Area of rectangle {width*height}\")"
   ]
  },
  {
   "cell_type": "code",
   "execution_count": 28,
   "id": "8838e817-9d00-42ce-a2ee-0fa7c13abe6f",
   "metadata": {},
   "outputs": [
    {
     "name": "stdout",
     "output_type": "stream",
     "text": [
      "Area of rectangle 2250\n"
     ]
    }
   ],
   "source": [
    "Area()"
   ]
  },
  {
   "cell_type": "code",
   "execution_count": 29,
   "id": "2682aca4-fa45-4e9e-990e-c436ed507515",
   "metadata": {},
   "outputs": [],
   "source": [
    "def even_odd():\n",
    "    num= eval(input(\"Enter the number\"))\n",
    "    if num%2==0:\n",
    "        print(f\"{num} is Even Number\")\n",
    "    else:\n",
    "        print(f\"{num} is Odd number\")"
   ]
  },
  {
   "cell_type": "code",
   "execution_count": 30,
   "id": "5265e826-dc25-481e-9c84-f1d5062d7f05",
   "metadata": {},
   "outputs": [
    {
     "name": "stdin",
     "output_type": "stream",
     "text": [
      "Enter the number 45\n"
     ]
    },
    {
     "name": "stdout",
     "output_type": "stream",
     "text": [
      "45 is Odd number\n"
     ]
    }
   ],
   "source": [
    "even_odd()"
   ]
  },
  {
   "cell_type": "code",
   "execution_count": 31,
   "id": "e105dba0-904a-41cc-b5d6-ca515ed847fb",
   "metadata": {},
   "outputs": [],
   "source": [
    "def avg():\n",
    "    a=eval(input(\"Enter the Number:\"))\n",
    "    b=eval(input(\"Enter the Number:\"))\n",
    "    c=eval(input(\"Enter the Number:\"))\n",
    "    print(f\"The Average of {a}, {b} and {c} is {round(a+b+c)/3}\")"
   ]
  },
  {
   "cell_type": "code",
   "execution_count": 32,
   "id": "d6afce96-3c79-4426-99c7-64d50c08ddd8",
   "metadata": {},
   "outputs": [
    {
     "name": "stdin",
     "output_type": "stream",
     "text": [
      "Enter the Number: 48\n",
      "Enter the Number: 15\n",
      "Enter the Number: 75\n"
     ]
    },
    {
     "name": "stdout",
     "output_type": "stream",
     "text": [
      "The Average of 48, 15 and 75 is 46.0\n"
     ]
    }
   ],
   "source": [
    "avg()"
   ]
  },
  {
   "cell_type": "code",
   "execution_count": 33,
   "id": "8d5752ec-e8ce-4122-9fd7-e72497ff11f9",
   "metadata": {},
   "outputs": [],
   "source": [
    "import random\n",
    "def guess():\n",
    "    a= random.randint(1,10)\n",
    "    b= eval(input(\"Enter the Number:\"))\n",
    "    if a==b:\n",
    "        print(\"won\")\n",
    "    else:\n",
    "        print(\"Loss\")\n",
    "    "
   ]
  },
  {
   "cell_type": "code",
   "execution_count": 34,
   "id": "10f23bd1-8385-4762-9f1a-ea8d381c06bb",
   "metadata": {},
   "outputs": [
    {
     "name": "stdin",
     "output_type": "stream",
     "text": [
      "Enter the Number: 45\n"
     ]
    },
    {
     "name": "stdout",
     "output_type": "stream",
     "text": [
      "Loss\n"
     ]
    }
   ],
   "source": [
    "guess()"
   ]
  },
  {
   "cell_type": "code",
   "execution_count": 35,
   "id": "c0541702-27e0-4756-a7c4-7837ee0d2a63",
   "metadata": {},
   "outputs": [],
   "source": [
    "def choice():\n",
    "    a= (56,89,96,56)\n",
    "    print(random.choice(a))"
   ]
  },
  {
   "cell_type": "code",
   "execution_count": 36,
   "id": "41d20827-a7cd-4723-a0eb-09495fd23427",
   "metadata": {},
   "outputs": [
    {
     "name": "stdout",
     "output_type": "stream",
     "text": [
      "56\n"
     ]
    }
   ],
   "source": [
    "choice()"
   ]
  },
  {
   "cell_type": "code",
   "execution_count": 37,
   "id": "6557c9b9-0205-415d-a6ee-d97fa200960e",
   "metadata": {},
   "outputs": [],
   "source": [
    "def Add(a,b):\n",
    "    print(f\"the addition of {a} and {b} is {a+b}\")"
   ]
  },
  {
   "cell_type": "code",
   "execution_count": 38,
   "id": "7e53b3f6-28e0-4a08-8115-d51d86dd4eac",
   "metadata": {},
   "outputs": [
    {
     "name": "stdout",
     "output_type": "stream",
     "text": [
      "the addition of 5 and 8 is 13\n"
     ]
    }
   ],
   "source": [
    "Add(5,8)"
   ]
  },
  {
   "cell_type": "markdown",
   "id": "d5655667-304c-45fe-889a-8f861beac26a",
   "metadata": {},
   "source": [
    "<img class=\"mimg\" style=\"color: rgb(200, 166, 3);\" height=\"180\" width=\"302\" src=\"https://th.bing.com/th/id/OIP.kB80rFtNkN4fJ3hEgnibBAHaD4?w=302&amp;h=180&amp;c=7&amp;r=0&amp;o=7&amp;dpr=1.3&amp;pid=1.7&amp;rm=3\" alt=\"Image result for function in python\" data-bm=\"169\">"
   ]
  },
  {
   "cell_type": "code",
   "execution_count": 39,
   "id": "f01182fd-9d3e-4008-befa-d92a4cc696a3",
   "metadata": {},
   "outputs": [
    {
     "name": "stdin",
     "output_type": "stream",
     "text": [
      "Enter the Number: 45\n",
      "Enter the Number: 95\n",
      "Enter the Number: 63\n"
     ]
    },
    {
     "name": "stdout",
     "output_type": "stream",
     "text": [
      "The Average of 45, 95 and 63 is 67.66666666666667\n"
     ]
    }
   ],
   "source": [
    "avg()"
   ]
  },
  {
   "cell_type": "code",
   "execution_count": 42,
   "id": "06497fec-5f76-41b0-b384-377f41156d47",
   "metadata": {},
   "outputs": [
    {
     "name": "stdout",
     "output_type": "stream",
     "text": [
      "####################Addition#######################\n",
      "the addition of 56 and 89 is 145\n",
      "####################avg#######################\n"
     ]
    },
    {
     "name": "stdin",
     "output_type": "stream",
     "text": [
      "Enter the Number: 45\n",
      "Enter the Number: 78\n",
      "Enter the Number: 65\n"
     ]
    },
    {
     "name": "stdout",
     "output_type": "stream",
     "text": [
      "The Average of 45, 78 and 65 is 62.666666666666664\n",
      "####################choice#######################\n",
      "56\n",
      "####################guess#######################\n"
     ]
    },
    {
     "name": "stdin",
     "output_type": "stream",
     "text": [
      "Enter the Number: 47\n"
     ]
    },
    {
     "name": "stdout",
     "output_type": "stream",
     "text": [
      "Loss\n",
      "####################even_odd#######################\n"
     ]
    },
    {
     "name": "stdin",
     "output_type": "stream",
     "text": [
      "Enter the number 25\n"
     ]
    },
    {
     "name": "stdout",
     "output_type": "stream",
     "text": [
      "25 is Odd number\n"
     ]
    }
   ],
   "source": [
    "print(\"####################Addition#######################\")\n",
    "Add(56,89)\n",
    "print(\"####################avg#######################\")\n",
    "avg()\n",
    "print(\"####################choice#######################\")\n",
    "choice()\n",
    "print(\"####################guess#######################\")\n",
    "guess()\n",
    "print(\"####################even_odd#######################\")\n",
    "even_odd()\n",
    "\n"
   ]
  },
  {
   "cell_type": "code",
   "execution_count": 45,
   "id": "4456b85b-5b21-4f51-9b1a-3791cd318f96",
   "metadata": {},
   "outputs": [
    {
     "name": "stdout",
     "output_type": "stream",
     "text": [
      "The addition of 32 and 93 is 125\n"
     ]
    }
   ],
   "source": [
    "def addinng ():\n",
    "        '''hello ,good morning'''\n",
    "        a= random.randint(1,100)\n",
    "        b= random.randint(1,100)\n",
    "        print(f\"The addition of {a} and {b} is {a+b}\")\n",
    "addinng()"
   ]
  },
  {
   "cell_type": "markdown",
   "id": "92000930-fcb0-4f0b-84bf-800064efa38e",
   "metadata": {},
   "source": [
    "## **Function with Aurgument**"
   ]
  },
  {
   "cell_type": "code",
   "execution_count": 47,
   "id": "b8707b85-924f-40c2-9f89-c9a440b857d5",
   "metadata": {},
   "outputs": [],
   "source": [
    "def add(b,c):\n",
    "    print(f\"The Addition of {b} and {c} and {b+c}\")"
   ]
  },
  {
   "cell_type": "code",
   "execution_count": 48,
   "id": "67a1e6c6-07df-4078-88e4-339d025ade9a",
   "metadata": {},
   "outputs": [
    {
     "name": "stdout",
     "output_type": "stream",
     "text": [
      "The addition of 5 and 6 and 11\n"
     ]
    }
   ],
   "source": [
    "add(5,6)"
   ]
  },
  {
   "cell_type": "code",
   "execution_count": 51,
   "id": "1e313ebb-fd11-472c-b328-339fb7db3d38",
   "metadata": {},
   "outputs": [],
   "source": [
    "def avg(a,b,c):\n",
    "    print(f\"The Average of {a}, {b} and {c} is {round(a+b+c)/3}\")"
   ]
  },
  {
   "cell_type": "code",
   "execution_count": 52,
   "id": "19d58243-6a38-44b1-9aff-73cc7eb7b6f6",
   "metadata": {},
   "outputs": [
    {
     "name": "stdout",
     "output_type": "stream",
     "text": [
      "The Average of 40, 50 and 60 is 50.0\n"
     ]
    }
   ],
   "source": [
    "avg(40,50,60)"
   ]
  },
  {
   "cell_type": "code",
   "execution_count": 53,
   "id": "c624b2c8-76f5-4e56-a12b-e488805c6801",
   "metadata": {},
   "outputs": [],
   "source": [
    "def even_odd(num):\n",
    "    if num%2==0:\n",
    "        print(f\"{num} is Even Number\")\n",
    "    else:\n",
    "        print(f\"{num} is Odd number\")"
   ]
  },
  {
   "cell_type": "code",
   "execution_count": 60,
   "id": "49c5fd3c-5c8a-4fe7-8043-b226cf9bb8c7",
   "metadata": {},
   "outputs": [
    {
     "name": "stdout",
     "output_type": "stream",
     "text": [
      "20 is Even Number\n"
     ]
    }
   ],
   "source": [
    "even_odd(20)"
   ]
  },
  {
   "cell_type": "code",
   "execution_count": 55,
   "id": "756d3fee-76a6-424f-931e-dfbc8de68fff",
   "metadata": {},
   "outputs": [],
   "source": [
    "import random\n",
    "def guess(b):\n",
    "    a= random.randint(1,10)\n",
    "    if a==b:\n",
    "        print(\"won\")\n",
    "    else:\n",
    "        print(\"Loss\")"
   ]
  },
  {
   "cell_type": "code",
   "execution_count": 56,
   "id": "9a37d8fe-3c94-42cd-bc9f-2b9e5b949f66",
   "metadata": {},
   "outputs": [
    {
     "name": "stdout",
     "output_type": "stream",
     "text": [
      "Loss\n"
     ]
    }
   ],
   "source": [
    "guess(5)"
   ]
  },
  {
   "cell_type": "code",
   "execution_count": 57,
   "id": "22fc713e-b801-4624-a774-90ca08a210b8",
   "metadata": {},
   "outputs": [],
   "source": [
    "def Area(width,height):\n",
    "    print(f\"Area of rectangle {width*height}\")"
   ]
  },
  {
   "cell_type": "code",
   "execution_count": 58,
   "id": "516b8abf-7b5a-4eda-9543-8c8e1c4578c5",
   "metadata": {},
   "outputs": [
    {
     "name": "stdout",
     "output_type": "stream",
     "text": [
      "Area of rectangle 2250\n"
     ]
    }
   ],
   "source": [
    "Area(45,50)"
   ]
  },
  {
   "cell_type": "markdown",
   "id": "533950a5-288b-4468-8f97-bf1401b4d39d",
   "metadata": {},
   "source": [
    "## **Default Agrument**"
   ]
  },
  {
   "cell_type": "code",
   "execution_count": 61,
   "id": "581c57fe-f8cc-4258-a939-7bcef86f237c",
   "metadata": {},
   "outputs": [],
   "source": [
    "def avg(a,b,c=100):\n",
    "    print(f\"The Average of {a}, {b} and {c} is {round(a+b+c)/3}\")"
   ]
  },
  {
   "cell_type": "code",
   "execution_count": 62,
   "id": "ba40d8cb-5f08-4282-ba4e-e7e9f644a938",
   "metadata": {},
   "outputs": [
    {
     "name": "stdout",
     "output_type": "stream",
     "text": [
      "The Average of 10, 20 and 100 is 43.333333333333336\n"
     ]
    }
   ],
   "source": [
    "avg(10,20)"
   ]
  },
  {
   "cell_type": "code",
   "execution_count": 69,
   "id": "60ce93b5-89f3-485b-9a28-6305d8a0c459",
   "metadata": {},
   "outputs": [],
   "source": [
    "def avg(a=100,b=25,c=100):\n",
    "    print(f\"The Average of {a}, {b} and {c} is {round(a+b+c)/3}\")"
   ]
  },
  {
   "cell_type": "code",
   "execution_count": 70,
   "id": "c2b85852-bc1a-46e6-9ab6-6937c4d97986",
   "metadata": {},
   "outputs": [
    {
     "name": "stdout",
     "output_type": "stream",
     "text": [
      "The Average of 100, 25 and 100 is 75.0\n"
     ]
    }
   ],
   "source": [
    "avg()"
   ]
  },
  {
   "cell_type": "code",
   "execution_count": 71,
   "id": "aeb83246-a4c3-48d4-b26d-57ae5e1b9323",
   "metadata": {},
   "outputs": [
    {
     "ename": "SyntaxError",
     "evalue": "parameter without a default follows parameter with a default (2906764473.py, line 1)",
     "output_type": "error",
     "traceback": [
      "\u001b[1;36m  Cell \u001b[1;32mIn[71], line 1\u001b[1;36m\u001b[0m\n\u001b[1;33m    def avg(a,b=25,c):\u001b[0m\n\u001b[1;37m                   ^\u001b[0m\n\u001b[1;31mSyntaxError\u001b[0m\u001b[1;31m:\u001b[0m parameter without a default follows parameter with a default\n"
     ]
    }
   ],
   "source": [
    "def avg(a,b=25,c):\n",
    "    print(f\"The Average of {a}, {b} and {c} is {round(a+b+c)/3}\")"
   ]
  },
  {
   "cell_type": "code",
   "execution_count": 7,
   "id": "300c9ecf-ae27-49eb-a1f5-9c59066db60d",
   "metadata": {},
   "outputs": [],
   "source": [
    "def avg(a,b,c=100):\n",
    "    print(f\"The Average of {a}, {b} and {c} is {round(a+b+c)/3}\")\n",
    "\n",
    "def avg(a,b,c=100):\n",
    "    a= 56\n",
    "    print(f\"The Average of {a}, {b} and {c} is {round(a+b+c)/3}\")\n",
    "\n",
    "def avg(a,b):\n",
    "    global c\n",
    "    c=45\n",
    "    print(f\"The Average of {a}, {b} and {c} is {round(a+b+c)/3}\")\n",
    "    "
   ]
  },
  {
   "cell_type": "code",
   "execution_count": 8,
   "id": "99dd9de4-1b22-4053-96ce-491cdcd08e90",
   "metadata": {},
   "outputs": [
    {
     "name": "stdout",
     "output_type": "stream",
     "text": [
      "The Average of 4, 5 and 45 is 18.0\n"
     ]
    }
   ],
   "source": [
    "avg(4,5)"
   ]
  },
  {
   "cell_type": "code",
   "execution_count": 9,
   "id": "f3ffe191-4d9f-4ae1-b678-f35ba4448376",
   "metadata": {},
   "outputs": [
    {
     "data": {
      "text/plain": [
       "45"
      ]
     },
     "execution_count": 9,
     "metadata": {},
     "output_type": "execute_result"
    }
   ],
   "source": [
    "c"
   ]
  },
  {
   "cell_type": "code",
   "execution_count": 10,
   "id": "3744773b-1655-4a9e-9a98-05b1329bdf4a",
   "metadata": {},
   "outputs": [],
   "source": [
    "\n",
    "complex()"
   ]
  },
  {
   "cell_type": "code",
   "execution_count": 12,
   "id": "f56475af-ef9e-4441-bc4a-b9f282513f7a",
   "metadata": {},
   "outputs": [
    {
     "data": {
      "text/plain": [
       "0j"
      ]
     },
     "execution_count": 12,
     "metadata": {},
     "output_type": "execute_result"
    }
   ],
   "source": [
    "0+0j"
   ]
  },
  {
   "cell_type": "markdown",
   "id": "4cee9df0-64f2-4f56-818e-4287d390b530",
   "metadata": {},
   "source": [
    "## agrgument"
   ]
  },
  {
   "cell_type": "code",
   "execution_count": 13,
   "id": "b8ee5d58-d154-4cf8-944b-f187d39e9503",
   "metadata": {},
   "outputs": [
    {
     "data": {
      "text/plain": [
       "(3+2j)"
      ]
     },
     "execution_count": 13,
     "metadata": {},
     "output_type": "execute_result"
    }
   ],
   "source": [
    "complex()\n",
    "complex(3,2)"
   ]
  },
  {
   "cell_type": "code",
   "execution_count": 14,
   "id": "7314290a-a87f-48ac-9797-91ed87f097ae",
   "metadata": {},
   "outputs": [
    {
     "data": {
      "text/plain": [
       "(6+3j)"
      ]
     },
     "execution_count": 14,
     "metadata": {},
     "output_type": "execute_result"
    }
   ],
   "source": [
    "complex(imag=3,real=6)"
   ]
  },
  {
   "cell_type": "code",
   "execution_count": null,
   "id": "50331eda-fb83-43f7-bab8-4e4377c0ab1c",
   "metadata": {},
   "outputs": [],
   "source": [
    "complex(real=3)"
   ]
  },
  {
   "cell_type": "code",
   "execution_count": 15,
   "id": "13517249-1c6d-47c4-943c-26392fbe6308",
   "metadata": {},
   "outputs": [],
   "source": [
    "import math\n"
   ]
  },
  {
   "cell_type": "code",
   "execution_count": 1,
   "id": "2d83c759-db71-4540-8077-6b425f61de59",
   "metadata": {},
   "outputs": [],
   "source": [
    "def greet(name,/,age):\n",
    "    print(f\"hello my {name} and my age is {age}\")"
   ]
  },
  {
   "cell_type": "code",
   "execution_count": 2,
   "id": "e7d7d055-b350-405e-b621-e1459d3942c1",
   "metadata": {},
   "outputs": [
    {
     "name": "stdout",
     "output_type": "stream",
     "text": [
      "hello my python and my age is 30\n"
     ]
    }
   ],
   "source": [
    "greet('python',30)\n"
   ]
  },
  {
   "cell_type": "code",
   "execution_count": 3,
   "id": "e6090c1d-ff6c-4eb8-a65a-badbebcdcebf",
   "metadata": {},
   "outputs": [
    {
     "name": "stdout",
     "output_type": "stream",
     "text": [
      "hello my python and my age is 30\n"
     ]
    }
   ],
   "source": [
    "greet('python',age=30)\n"
   ]
  },
  {
   "cell_type": "code",
   "execution_count": 4,
   "id": "1d613f64-dd88-4d9d-bde9-863e0d10d30a",
   "metadata": {},
   "outputs": [
    {
     "ename": "SyntaxError",
     "evalue": "positional argument follows keyword argument (3671177052.py, line 1)",
     "output_type": "error",
     "traceback": [
      "\u001b[1;36m  Cell \u001b[1;32mIn[4], line 1\u001b[1;36m\u001b[0m\n\u001b[1;33m    greet(name='python',30)\u001b[0m\n\u001b[1;37m                          ^\u001b[0m\n\u001b[1;31mSyntaxError\u001b[0m\u001b[1;31m:\u001b[0m positional argument follows keyword argument\n"
     ]
    }
   ],
   "source": [
    "greet(name='python',30)"
   ]
  },
  {
   "cell_type": "code",
   "execution_count": 51,
   "id": "96408cb0-fce2-4338-8481-d43a76c3271c",
   "metadata": {},
   "outputs": [
    {
     "ename": "TypeError",
     "evalue": "greet() got some positional-only arguments passed as keyword arguments: 'name'",
     "output_type": "error",
     "traceback": [
      "\u001b[1;31m---------------------------------------------------------------------------\u001b[0m",
      "\u001b[1;31mTypeError\u001b[0m                                 Traceback (most recent call last)",
      "Cell \u001b[1;32mIn[51], line 1\u001b[0m\n\u001b[1;32m----> 1\u001b[0m greet(name\u001b[38;5;241m=\u001b[39m \u001b[38;5;124m'\u001b[39m\u001b[38;5;124mpython\u001b[39m\u001b[38;5;124m'\u001b[39m,age\u001b[38;5;241m=\u001b[39m\u001b[38;5;241m30\u001b[39m)\n",
      "\u001b[1;31mTypeError\u001b[0m: greet() got some positional-only arguments passed as keyword arguments: 'name'"
     ]
    }
   ],
   "source": [
    "greet(name= 'python',age=30)"
   ]
  },
  {
   "cell_type": "code",
   "execution_count": 44,
   "id": "9b714bc9-008f-47df-90a0-daa6821149ae",
   "metadata": {},
   "outputs": [],
   "source": [
    "def greet2(name,*,age):\n",
    "    print(f\"hello my {name} and my age is {age}\")"
   ]
  },
  {
   "cell_type": "code",
   "execution_count": 8,
   "id": "ace4921d-ea8b-4477-ae93-ac1773c9411a",
   "metadata": {},
   "outputs": [
    {
     "name": "stdout",
     "output_type": "stream",
     "text": [
      "hello my python and my age is 30\n"
     ]
    }
   ],
   "source": [
    "greet2('python',age=30)"
   ]
  },
  {
   "cell_type": "code",
   "execution_count": 9,
   "id": "df4ce90f-f155-4129-a069-79f5131f05e6",
   "metadata": {},
   "outputs": [
    {
     "name": "stdout",
     "output_type": "stream",
     "text": [
      "hello my python and my age is 30\n"
     ]
    }
   ],
   "source": [
    "greet2(name= 'python',age=30)"
   ]
  },
  {
   "cell_type": "code",
   "execution_count": 45,
   "id": "5fe64bec-8bda-4522-8ea8-025afcdfe71d",
   "metadata": {},
   "outputs": [
    {
     "ename": "SyntaxError",
     "evalue": "positional argument follows keyword argument (3395844862.py, line 1)",
     "output_type": "error",
     "traceback": [
      "\u001b[1;36m  Cell \u001b[1;32mIn[45], line 1\u001b[1;36m\u001b[0m\n\u001b[1;33m    greet2(name='python',30)\u001b[0m\n\u001b[1;37m                           ^\u001b[0m\n\u001b[1;31mSyntaxError\u001b[0m\u001b[1;31m:\u001b[0m positional argument follows keyword argument\n"
     ]
    }
   ],
   "source": [
    "greet2(name='python',30)"
   ]
  },
  {
   "cell_type": "code",
   "execution_count": 6,
   "id": "1c7e26dc-9c78-4125-9ad2-c2f79db06d5d",
   "metadata": {},
   "outputs": [
    {
     "ename": "TypeError",
     "evalue": "greet2() takes 1 positional argument but 2 were given",
     "output_type": "error",
     "traceback": [
      "\u001b[1;31m---------------------------------------------------------------------------\u001b[0m",
      "\u001b[1;31mTypeError\u001b[0m                                 Traceback (most recent call last)",
      "Cell \u001b[1;32mIn[6], line 1\u001b[0m\n\u001b[1;32m----> 1\u001b[0m greet2( \u001b[38;5;124m'\u001b[39m\u001b[38;5;124mpython\u001b[39m\u001b[38;5;124m'\u001b[39m,\u001b[38;5;241m30\u001b[39m)\n",
      "\u001b[1;31mTypeError\u001b[0m: greet2() takes 1 positional argument but 2 were given"
     ]
    }
   ],
   "source": [
    "greet2( 'python',30)"
   ]
  },
  {
   "cell_type": "code",
   "execution_count": 21,
   "id": "b47320e8-ff04-4084-9616-57cceffa56db",
   "metadata": {},
   "outputs": [],
   "source": [
    "def ADD():\n",
    "    a=100\n",
    "    b=200\n",
    "    c=300\n",
    "    addition=a+b+c\n",
    "    print(f\"The addition of {a},{b} and {c} is {addition}\")"
   ]
  },
  {
   "cell_type": "code",
   "execution_count": 22,
   "id": "7463762b-c981-4c00-bacf-de9adf888091",
   "metadata": {},
   "outputs": [
    {
     "ename": "TypeError",
     "evalue": "'int' object is not callable",
     "output_type": "error",
     "traceback": [
      "\u001b[1;31m---------------------------------------------------------------------------\u001b[0m",
      "\u001b[1;31mTypeError\u001b[0m                                 Traceback (most recent call last)",
      "Cell \u001b[1;32mIn[22], line 1\u001b[0m\n\u001b[1;32m----> 1\u001b[0m ADD()\n",
      "Cell \u001b[1;32mIn[21], line 6\u001b[0m, in \u001b[0;36mADD\u001b[1;34m()\u001b[0m\n\u001b[0;32m      4\u001b[0m c\u001b[38;5;241m=\u001b[39m\u001b[38;5;241m300\u001b[39m\n\u001b[0;32m      5\u001b[0m addition\u001b[38;5;241m=\u001b[39ma\u001b[38;5;241m+\u001b[39mb\u001b[38;5;241m+\u001b[39mc\n\u001b[1;32m----> 6\u001b[0m \u001b[38;5;28mprint\u001b[39m(\u001b[38;5;124mf\u001b[39m\u001b[38;5;124m\"\u001b[39m\u001b[38;5;124mThe addition of \u001b[39m\u001b[38;5;132;01m{\u001b[39;00ma\u001b[38;5;132;01m}\u001b[39;00m\u001b[38;5;124m,\u001b[39m\u001b[38;5;132;01m{\u001b[39;00mb\u001b[38;5;132;01m}\u001b[39;00m\u001b[38;5;124m and \u001b[39m\u001b[38;5;132;01m{\u001b[39;00mc\u001b[38;5;132;01m}\u001b[39;00m\u001b[38;5;124m is \u001b[39m\u001b[38;5;132;01m{\u001b[39;00maddition\u001b[38;5;132;01m}\u001b[39;00m\u001b[38;5;124m\"\u001b[39m)\n",
      "\u001b[1;31mTypeError\u001b[0m: 'int' object is not callable"
     ]
    }
   ],
   "source": [
    "ADD()"
   ]
  },
  {
   "cell_type": "code",
   "execution_count": 14,
   "id": "75b372d2-d479-4672-a20c-c60921308ccb",
   "metadata": {},
   "outputs": [
    {
     "ename": "SyntaxError",
     "evalue": "cannot assign to function call here. Maybe you meant '==' instead of '='? (2056854439.py, line 1)",
     "output_type": "error",
     "traceback": [
      "\u001b[1;36m  Cell \u001b[1;32mIn[14], line 1\u001b[1;36m\u001b[0m\n\u001b[1;33m    print()=3\u001b[0m\n\u001b[1;37m    ^\u001b[0m\n\u001b[1;31mSyntaxError\u001b[0m\u001b[1;31m:\u001b[0m cannot assign to function call here. Maybe you meant '==' instead of '='?\n"
     ]
    }
   ],
   "source": []
  },
  {
   "cell_type": "code",
   "execution_count": null,
   "id": "01a1b1cd-b39d-4fc1-91b7-0c4b104c5068",
   "metadata": {},
   "outputs": [],
   "source": []
  },
  {
   "cell_type": "code",
   "execution_count": 46,
   "id": "1d4e9b9d-3980-4926-8f88-7615686a91a1",
   "metadata": {},
   "outputs": [],
   "source": [
    "def var():\n",
    "    global a,b\n",
    "    a=45\n",
    "    b=55\n",
    "var()"
   ]
  },
  {
   "cell_type": "code",
   "execution_count": 47,
   "id": "c84bf329-37ef-41d8-a949-21c23c6d4d1f",
   "metadata": {},
   "outputs": [
    {
     "data": {
      "text/plain": [
       "45"
      ]
     },
     "execution_count": 47,
     "metadata": {},
     "output_type": "execute_result"
    }
   ],
   "source": [
    "a"
   ]
  },
  {
   "cell_type": "code",
   "execution_count": 48,
   "id": "247503de-e424-40a8-8b7f-1f390a7a113b",
   "metadata": {},
   "outputs": [
    {
     "data": {
      "text/plain": [
       "55"
      ]
     },
     "execution_count": 48,
     "metadata": {},
     "output_type": "execute_result"
    }
   ],
   "source": [
    "b"
   ]
  },
  {
   "cell_type": "code",
   "execution_count": 49,
   "id": "78678ed1-f3b5-4e16-bea9-19be205bce2a",
   "metadata": {},
   "outputs": [],
   "source": [
    "a=56\n",
    "def var2():\n",
    "    # global a,b\n",
    "    a=45\n",
    "    b=55\n",
    "var2()"
   ]
  },
  {
   "cell_type": "code",
   "execution_count": 43,
   "id": "14931309-388b-4147-8993-7bcbc5402df6",
   "metadata": {},
   "outputs": [
    {
     "data": {
      "text/plain": [
       "56"
      ]
     },
     "execution_count": 43,
     "metadata": {},
     "output_type": "execute_result"
    }
   ],
   "source": [
    "a"
   ]
  },
  {
   "cell_type": "code",
   "execution_count": 13,
   "id": "1dee1aa6-eadc-432a-b8ad-bb2b0e86a867",
   "metadata": {},
   "outputs": [],
   "source": [
    "def condi(name,/,age):\n",
    "    print(f\"hello my name is {name} and my age is {age}\")\n"
   ]
  },
  {
   "cell_type": "code",
   "execution_count": 14,
   "id": "499f1f9e-0dd8-414e-8501-9350dd5a2d24",
   "metadata": {},
   "outputs": [
    {
     "ename": "SyntaxError",
     "evalue": "positional argument follows keyword argument (153083445.py, line 1)",
     "output_type": "error",
     "traceback": [
      "\u001b[1;36m  Cell \u001b[1;32mIn[14], line 1\u001b[1;36m\u001b[0m\n\u001b[1;33m    condi(name=\"rahul\",45) # not works\u001b[0m\n\u001b[1;37m                         ^\u001b[0m\n\u001b[1;31mSyntaxError\u001b[0m\u001b[1;31m:\u001b[0m positional argument follows keyword argument\n"
     ]
    }
   ],
   "source": [
    "condi(name=\"rahul\",45) # not works"
   ]
  },
  {
   "cell_type": "code",
   "execution_count": 15,
   "id": "c7c6be16-f9e8-47f9-af3c-bea08d00b862",
   "metadata": {},
   "outputs": [
    {
     "name": "stdout",
     "output_type": "stream",
     "text": [
      "hello my name is rahul and my age is 45\n"
     ]
    }
   ],
   "source": [
    "condi(\"rahul\",age=45) # works"
   ]
  },
  {
   "cell_type": "code",
   "execution_count": 16,
   "id": "1d407650-1e48-48ae-b341-9b9f32d21100",
   "metadata": {},
   "outputs": [
    {
     "name": "stdout",
     "output_type": "stream",
     "text": [
      "hello my name is python and my age is 45\n"
     ]
    }
   ],
   "source": [
    "condi(\"python\",45)  #Works"
   ]
  },
  {
   "cell_type": "code",
   "execution_count": 17,
   "id": "f9209c47-1b13-411d-978a-dbb7125a25a5",
   "metadata": {},
   "outputs": [
    {
     "ename": "TypeError",
     "evalue": "condi() got some positional-only arguments passed as keyword arguments: 'name'",
     "output_type": "error",
     "traceback": [
      "\u001b[1;31m---------------------------------------------------------------------------\u001b[0m",
      "\u001b[1;31mTypeError\u001b[0m                                 Traceback (most recent call last)",
      "Cell \u001b[1;32mIn[17], line 1\u001b[0m\n\u001b[1;32m----> 1\u001b[0m condi(name\u001b[38;5;241m=\u001b[39m\u001b[38;5;124m\"\u001b[39m\u001b[38;5;124mpython\u001b[39m\u001b[38;5;124m\"\u001b[39m,age\u001b[38;5;241m=\u001b[39m\u001b[38;5;241m45\u001b[39m)\n",
      "\u001b[1;31mTypeError\u001b[0m: condi() got some positional-only arguments passed as keyword arguments: 'name'"
     ]
    }
   ],
   "source": [
    "condi(name=\"python\",age=45)# not works"
   ]
  },
  {
   "cell_type": "code",
   "execution_count": null,
   "id": "151c0c9f-117f-43c7-b425-0039bf6deed9",
   "metadata": {},
   "outputs": [],
   "source": []
  },
  {
   "cell_type": "code",
   "execution_count": 39,
   "id": "9184fda2-c1c0-4f74-a2ca-6f054730cd3c",
   "metadata": {},
   "outputs": [],
   "source": [
    "def hell(a,/,b):\n",
    "    print(f\"The two number is {a} and {b}\")"
   ]
  },
  {
   "cell_type": "code",
   "execution_count": 40,
   "id": "d7062db6-9f32-45b6-8013-320393246178",
   "metadata": {},
   "outputs": [
    {
     "ename": "SyntaxError",
     "evalue": "positional argument follows keyword argument (1951361980.py, line 1)",
     "output_type": "error",
     "traceback": [
      "\u001b[1;36m  Cell \u001b[1;32mIn[40], line 1\u001b[1;36m\u001b[0m\n\u001b[1;33m    hell(a=74,85)\u001b[0m\n\u001b[1;37m                ^\u001b[0m\n\u001b[1;31mSyntaxError\u001b[0m\u001b[1;31m:\u001b[0m positional argument follows keyword argument\n"
     ]
    }
   ],
   "source": [
    "hell(a=74,85)"
   ]
  },
  {
   "cell_type": "code",
   "execution_count": 42,
   "id": "b632a405-adfc-4482-a009-b93e9f64ad28",
   "metadata": {},
   "outputs": [
    {
     "name": "stdout",
     "output_type": "stream",
     "text": [
      "The two number is 74 and 85\n"
     ]
    }
   ],
   "source": [
    "hell(74,b=85)\n"
   ]
  },
  {
   "cell_type": "code",
   "execution_count": 25,
   "id": "4d451e7c-a88f-49ba-b510-394d1f27b893",
   "metadata": {},
   "outputs": [
    {
     "name": "stdout",
     "output_type": "stream",
     "text": [
      "The two number is 74 and 85\n"
     ]
    }
   ],
   "source": [
    "hell(74,85)"
   ]
  },
  {
   "cell_type": "code",
   "execution_count": 28,
   "id": "b46d07dc-82a1-4c4f-9379-96ce18f813db",
   "metadata": {},
   "outputs": [
    {
     "ename": "TypeError",
     "evalue": "hell() got some positional-only arguments passed as keyword arguments: 'a'",
     "output_type": "error",
     "traceback": [
      "\u001b[1;31m---------------------------------------------------------------------------\u001b[0m",
      "\u001b[1;31mTypeError\u001b[0m                                 Traceback (most recent call last)",
      "Cell \u001b[1;32mIn[28], line 1\u001b[0m\n\u001b[1;32m----> 1\u001b[0m hell(a\u001b[38;5;241m=\u001b[39m\u001b[38;5;241m74\u001b[39m,b\u001b[38;5;241m=\u001b[39m\u001b[38;5;241m85\u001b[39m)\n",
      "\u001b[1;31mTypeError\u001b[0m: hell() got some positional-only arguments passed as keyword arguments: 'a'"
     ]
    }
   ],
   "source": [
    "hell(a=74,b=85)\n"
   ]
  },
  {
   "cell_type": "code",
   "execution_count": 33,
   "id": "871f8089-0a8f-4286-aa75-8655923f6a29",
   "metadata": {},
   "outputs": [],
   "source": [
    "def hell1(a,*,b):\n",
    "    print(f\"The two number is {a} and {b}\")\n",
    "\n",
    "\n",
    "    "
   ]
  },
  {
   "cell_type": "code",
   "execution_count": 37,
   "id": "b349a7d8-b335-4e3b-9626-f4c478e0f295",
   "metadata": {},
   "outputs": [
    {
     "ename": "SyntaxError",
     "evalue": "positional argument follows keyword argument (3862828536.py, line 1)",
     "output_type": "error",
     "traceback": [
      "\u001b[1;36m  Cell \u001b[1;32mIn[37], line 1\u001b[1;36m\u001b[0m\n\u001b[1;33m    hell1(a=74,85) # not works\u001b[0m\n\u001b[1;37m                 ^\u001b[0m\n\u001b[1;31mSyntaxError\u001b[0m\u001b[1;31m:\u001b[0m positional argument follows keyword argument\n"
     ]
    }
   ],
   "source": [
    "hell1(a=74,85) # not works\n"
   ]
  },
  {
   "cell_type": "code",
   "execution_count": 36,
   "id": "a42b5b5f-260a-414e-8726-28d8a01f5683",
   "metadata": {},
   "outputs": [
    {
     "name": "stdout",
     "output_type": "stream",
     "text": [
      "The two number is 74 and 85\n"
     ]
    }
   ],
   "source": [
    "hell1(74,b=85) # works\n"
   ]
  },
  {
   "cell_type": "code",
   "execution_count": 35,
   "id": "86abca92-0d6e-4390-b086-2d3e6e6993c6",
   "metadata": {},
   "outputs": [
    {
     "ename": "TypeError",
     "evalue": "hell1() takes 1 positional argument but 2 were given",
     "output_type": "error",
     "traceback": [
      "\u001b[1;31m---------------------------------------------------------------------------\u001b[0m",
      "\u001b[1;31mTypeError\u001b[0m                                 Traceback (most recent call last)",
      "Cell \u001b[1;32mIn[35], line 1\u001b[0m\n\u001b[1;32m----> 1\u001b[0m hell1(\u001b[38;5;241m74\u001b[39m,\u001b[38;5;241m85\u001b[39m)\n",
      "\u001b[1;31mTypeError\u001b[0m: hell1() takes 1 positional argument but 2 were given"
     ]
    }
   ],
   "source": [
    "hell1(74,85)  #not works"
   ]
  },
  {
   "cell_type": "code",
   "execution_count": 34,
   "id": "6acb5670-65cb-4928-bf9a-129d5149e5e1",
   "metadata": {},
   "outputs": [
    {
     "name": "stdout",
     "output_type": "stream",
     "text": [
      "The two number is 74 and 85\n"
     ]
    }
   ],
   "source": [
    "hell1(a=74,b=85) #Works"
   ]
  },
  {
   "cell_type": "code",
   "execution_count": 44,
   "id": "229faadf-0a15-4e30-a2d7-fa67c21c5d73",
   "metadata": {},
   "outputs": [
    {
     "name": "stdout",
     "output_type": "stream",
     "text": [
      "hai\n",
      "Heloo\n",
      "The addition of 2000 , 500 and 300 is 1000 \n"
     ]
    }
   ],
   "source": [
    "print(\"hai\")\n",
    "a=1000\n",
    "def ADD1(a=200):\n",
    "    b=500\n",
    "    c=300\n",
    "    a=200\n",
    "    addition=a+b+c\n",
    "    a=2000\n",
    "    print(f\"The addition of {a} , {b} and {c} is {addition} \")\n",
    "\n",
    "\n",
    "print(\"Heloo\")\n",
    "a=1500\n",
    "ADD1(a=600)\n",
    "\n",
    "\n",
    "#a=1000--------a=200---a=1500-----a=600  =+-----------------------------a=2000\n"
   ]
  },
  {
   "cell_type": "code",
   "execution_count": 1,
   "id": "09f41ac6-32af-4628-baf0-d413af702216",
   "metadata": {},
   "outputs": [],
   "source": [
    "def Add():\n",
    "    a= 100\n",
    "    b=200\n",
    "    c=200\n",
    "    print(f\"The addition of {a}, {b} and {c} is {a+b+b+c}\")"
   ]
  },
  {
   "cell_type": "code",
   "execution_count": 3,
   "id": "2ee98db4-8086-4025-a184-b9d2bcc6eed6",
   "metadata": {},
   "outputs": [
    {
     "name": "stdout",
     "output_type": "stream",
     "text": [
      "The addition of 100, 200 and 200 is 700\n"
     ]
    }
   ],
   "source": [
    "Add()"
   ]
  },
  {
   "cell_type": "code",
   "execution_count": 5,
   "id": "e376e0fe-34a8-4008-83fc-3e429fab3b24",
   "metadata": {},
   "outputs": [],
   "source": [
    "# case-3\n",
    "a=1000\n",
    "def Add1():\n",
    "    b=200\n",
    "    c=200\n",
    "    print(f\"The addition of {a}, {b} and {c} is {a+b+b+c}\")"
   ]
  },
  {
   "cell_type": "code",
   "execution_count": 6,
   "id": "acc44318-1c6f-4f05-8fcd-762184a7144c",
   "metadata": {},
   "outputs": [
    {
     "name": "stdout",
     "output_type": "stream",
     "text": [
      "The addition of 1000, 200 and 200 is 1600\n"
     ]
    }
   ],
   "source": [
    "Add1()"
   ]
  },
  {
   "cell_type": "code",
   "execution_count": 9,
   "id": "5a43c759-f0ac-4de2-bff2-4eed90911cb9",
   "metadata": {},
   "outputs": [
    {
     "name": "stdout",
     "output_type": "stream",
     "text": [
      "The addition of 1500, 200 and 200 is 2100\n"
     ]
    }
   ],
   "source": [
    "# case-4\n",
    "a=1000\n",
    "def Add4():\n",
    "    a=1500\n",
    "    b=200\n",
    "    c=200\n",
    "    print(f\"The addition of {a}, {b} and {c} is {a+b+b+c}\")\n",
    "a=2000\n",
    "Add4()"
   ]
  },
  {
   "cell_type": "code",
   "execution_count": 12,
   "id": "b44b70fc-8374-42ca-896a-f5bce4fad4c4",
   "metadata": {},
   "outputs": [
    {
     "name": "stdout",
     "output_type": "stream",
     "text": [
      "The addition of 2000, 200 and 200 is 2600\n"
     ]
    }
   ],
   "source": [
    "# case-5\n",
    "a=1000\n",
    "def Add5():\n",
    "    # a=1500\n",
    "    b=200\n",
    "    c=200\n",
    "    print(f\"The addition of {a}, {b} and {c} is {a+b+b+c}\")\n",
    "a=2000\n",
    "Add5()"
   ]
  },
  {
   "cell_type": "code",
   "execution_count": 14,
   "id": "0dbae523-752e-44c4-a3fe-7baac2fecd16",
   "metadata": {},
   "outputs": [
    {
     "name": "stdout",
     "output_type": "stream",
     "text": [
      "The addition of 3000, 200 and 200 is 3600\n"
     ]
    }
   ],
   "source": [
    "# case-6\n",
    "a=1000\n",
    "def Add6(a):\n",
    "    # a=1500\n",
    "    b=200\n",
    "    c=200\n",
    "    print(f\"The addition of {a}, {b} and {c} is {a+b+b+c}\")\n",
    "a=2000\n",
    "Add6(a=3000)"
   ]
  },
  {
   "cell_type": "code",
   "execution_count": 15,
   "id": "f22ee0e7-ceb8-463c-81ac-162958222e4e",
   "metadata": {},
   "outputs": [
    {
     "name": "stdout",
     "output_type": "stream",
     "text": [
      "The addition of 4000, 200 and 200 is 4600\n"
     ]
    }
   ],
   "source": [
    "# case-7\n",
    "a=1000\n",
    "def Add7(a=4000):\n",
    "    # a=1500\n",
    "    b=200\n",
    "    c=200\n",
    "    print(f\"The addition of {a}, {b} and {c} is {a+b+b+c}\")\n",
    "a=2000\n",
    "Add7()"
   ]
  },
  {
   "cell_type": "code",
   "execution_count": 18,
   "id": "5fa289d4-4e5b-4467-98de-9acf00e5a684",
   "metadata": {},
   "outputs": [
    {
     "data": {
      "text/plain": [
       "0j"
      ]
     },
     "execution_count": 18,
     "metadata": {},
     "output_type": "execute_result"
    }
   ],
   "source": [
    "complex(real=0,imag=0)"
   ]
  },
  {
   "cell_type": "code",
   "execution_count": 19,
   "id": "9e3d9e4c-a52f-46b0-bc69-5b3546624006",
   "metadata": {},
   "outputs": [
    {
     "name": "stdout",
     "output_type": "stream",
     "text": [
      "The addition of 4000, 200 and 200 is 4400\n"
     ]
    }
   ],
   "source": [
    "# case-8\n",
    "a=1000\n",
    "def Add8(a=4000):\n",
    "    # a=1500\n",
    "    b=200\n",
    "    c=200\n",
    "    ad=a+b+c\n",
    "    print(f\"The addition of {a}, {b} and {c} is {ad}\")\n",
    "a=2000\n",
    "Add8()"
   ]
  },
  {
   "cell_type": "markdown",
   "id": "89b28a5d-26af-45be-9d07-80f532e93f8e",
   "metadata": {},
   "source": [
    "## UnboundLocalError: cannot access local variable 's1' where it is not associated with a value\n"
   ]
  },
  {
   "cell_type": "code",
   "execution_count": 20,
   "id": "1b7e3906-b929-45fb-a0ed-4bfee689ad43",
   "metadata": {},
   "outputs": [],
   "source": [
    "def math():\n",
    "    s1=s1+100\n",
    "    s1= 10\n",
    "\n",
    "# UnboundLocalError: cannot access local variable 's1' where it is not associated with a value"
   ]
  },
  {
   "cell_type": "code",
   "execution_count": 21,
   "id": "899a0139-36f0-4a2e-bb36-ee7525c77aaa",
   "metadata": {},
   "outputs": [
    {
     "ename": "UnboundLocalError",
     "evalue": "cannot access local variable 's1' where it is not associated with a value",
     "output_type": "error",
     "traceback": [
      "\u001b[1;31m---------------------------------------------------------------------------\u001b[0m",
      "\u001b[1;31mUnboundLocalError\u001b[0m                         Traceback (most recent call last)",
      "Cell \u001b[1;32mIn[21], line 1\u001b[0m\n\u001b[1;32m----> 1\u001b[0m math()\n",
      "Cell \u001b[1;32mIn[20], line 2\u001b[0m, in \u001b[0;36mmath\u001b[1;34m()\u001b[0m\n\u001b[0;32m      1\u001b[0m \u001b[38;5;28;01mdef\u001b[39;00m\u001b[38;5;250m \u001b[39m\u001b[38;5;21mmath\u001b[39m():\n\u001b[1;32m----> 2\u001b[0m     s1\u001b[38;5;241m=\u001b[39ms1\u001b[38;5;241m+\u001b[39m\u001b[38;5;241m100\u001b[39m\n\u001b[0;32m      3\u001b[0m     s1\u001b[38;5;241m=\u001b[39m \u001b[38;5;241m10\u001b[39m\n",
      "\u001b[1;31mUnboundLocalError\u001b[0m: cannot access local variable 's1' where it is not associated with a value"
     ]
    }
   ],
   "source": [
    "math()"
   ]
  },
  {
   "cell_type": "code",
   "execution_count": 22,
   "id": "5c9b1736-7a0f-4759-8705-0186a0550b5e",
   "metadata": {},
   "outputs": [
    {
     "ename": "UnboundLocalError",
     "evalue": "cannot access local variable 's1' where it is not associated with a value",
     "output_type": "error",
     "traceback": [
      "\u001b[1;31m---------------------------------------------------------------------------\u001b[0m",
      "\u001b[1;31mUnboundLocalError\u001b[0m                         Traceback (most recent call last)",
      "Cell \u001b[1;32mIn[22], line 6\u001b[0m\n\u001b[0;32m      4\u001b[0m     s1\u001b[38;5;241m=\u001b[39ms1\u001b[38;5;241m+\u001b[39m\u001b[38;5;241m100\u001b[39m\n\u001b[0;32m      5\u001b[0m     s1\u001b[38;5;241m=\u001b[39m \u001b[38;5;241m10\u001b[39m\n\u001b[1;32m----> 6\u001b[0m math1()\n",
      "Cell \u001b[1;32mIn[22], line 4\u001b[0m, in \u001b[0;36mmath1\u001b[1;34m()\u001b[0m\n\u001b[0;32m      3\u001b[0m \u001b[38;5;28;01mdef\u001b[39;00m\u001b[38;5;250m \u001b[39m\u001b[38;5;21mmath1\u001b[39m():\n\u001b[1;32m----> 4\u001b[0m     s1\u001b[38;5;241m=\u001b[39ms1\u001b[38;5;241m+\u001b[39m\u001b[38;5;241m100\u001b[39m\n\u001b[0;32m      5\u001b[0m     s1\u001b[38;5;241m=\u001b[39m \u001b[38;5;241m10\u001b[39m\n",
      "\u001b[1;31mUnboundLocalError\u001b[0m: cannot access local variable 's1' where it is not associated with a value"
     ]
    }
   ],
   "source": [
    "s1=1000\n",
    "def math1():\n",
    "    s1=s1+100\n",
    "    s1= 10\n",
    "math1()"
   ]
  },
  {
   "cell_type": "code",
   "execution_count": 48,
   "id": "85d22697-90fa-4369-a5d6-c633e76b54fb",
   "metadata": {},
   "outputs": [
    {
     "name": "stdout",
     "output_type": "stream",
     "text": [
      "1100\n"
     ]
    }
   ],
   "source": [
    "s1=1000\n",
    "def math1():\n",
    "    global s1\n",
    "    s1=s1+100\n",
    "    s1=10\n",
    "    print(s1)\n",
    "math1()"
   ]
  },
  {
   "cell_type": "code",
   "execution_count": 46,
   "id": "cacdf5b9-2aa0-47e0-a09d-8307d19caa82",
   "metadata": {},
   "outputs": [
    {
     "name": "stdout",
     "output_type": "stream",
     "text": [
      "1100\n"
     ]
    }
   ],
   "source": [
    "s1=1000\n",
    "def math1():\n",
    "    val=s1+100\n",
    "    # s1=10\n",
    "    print(val)\n",
    "math1()"
   ]
  },
  {
   "cell_type": "code",
   "execution_count": 52,
   "id": "1c5e0dc0-5c2c-47ab-ac7f-cb1252ffb236",
   "metadata": {},
   "outputs": [
    {
     "name": "stdout",
     "output_type": "stream",
     "text": [
      "The addition of 1000, 200 and 200 is 1400\n"
     ]
    }
   ],
   "source": [
    "a=1000\n",
    "def Add8():\n",
    "    # a=1500\n",
    "    b=200\n",
    "    c=200\n",
    "    ad=a+b+c\n",
    "    a=500\n",
    "    print(f\"The addition of {a}, {b} and {c} is {ad}\")\n",
    "Add8()"
   ]
  },
  {
   "cell_type": "code",
   "execution_count": null,
   "id": "e31f6f6e-e1a9-49c4-8370-87e3d117d428",
   "metadata": {},
   "outputs": [],
   "source": []
  },
  {
   "cell_type": "code",
   "execution_count": null,
   "id": "db155da0-4c52-4e37-8936-e12dc7ff52ff",
   "metadata": {},
   "outputs": [],
   "source": []
  },
  {
   "cell_type": "code",
   "execution_count": null,
   "id": "9f96192d-cbeb-4832-997d-539e0f277d68",
   "metadata": {},
   "outputs": [],
   "source": []
  },
  {
   "cell_type": "code",
   "execution_count": null,
   "id": "cff26b7c-39e8-41f9-b4c0-879f93e88737",
   "metadata": {},
   "outputs": [],
   "source": []
  },
  {
   "cell_type": "code",
   "execution_count": null,
   "id": "63d1daa4-8497-467f-9710-14fae6bc320f",
   "metadata": {},
   "outputs": [],
   "source": []
  },
  {
   "cell_type": "markdown",
   "id": "27582fac-539e-4219-86bb-9e577b165079",
   "metadata": {},
   "source": [
    "# **$Return$ $Statement$**"
   ]
  },
  {
   "cell_type": "code",
   "execution_count": 55,
   "id": "ef0dcb62-13b5-44f0-ab9e-f1ec95bf475b",
   "metadata": {},
   "outputs": [
    {
     "name": "stdout",
     "output_type": "stream",
     "text": [
      "The average of 10, 20 and 30 is : 20.0 \n"
     ]
    }
   ],
   "source": [
    "def avg21(a,b,c):\n",
    "    add=(a+b+c)/3\n",
    "    avg=round(add,2)\n",
    "    print(f\"The average of {a}, {b} and {c} is : {avg} \")\n",
    "    return(avg)\n",
    "\n",
    "avg=avg21(10,20,30)\n",
    "    "
   ]
  },
  {
   "cell_type": "code",
   "execution_count": 56,
   "id": "647d7de4-6789-40b0-84b2-bd1b1835bc8f",
   "metadata": {},
   "outputs": [
    {
     "data": {
      "text/plain": [
       "20.0"
      ]
     },
     "execution_count": 56,
     "metadata": {},
     "output_type": "execute_result"
    }
   ],
   "source": [
    "avg"
   ]
  },
  {
   "cell_type": "code",
   "execution_count": 58,
   "id": "2d962db8-d98a-4b68-99dc-5b300049419e",
   "metadata": {},
   "outputs": [],
   "source": [
    "a= 10\n",
    "b=20"
   ]
  },
  {
   "cell_type": "code",
   "execution_count": 71,
   "id": "b568f444-d575-434a-b133-42b91630791a",
   "metadata": {},
   "outputs": [
    {
     "name": "stdout",
     "output_type": "stream",
     "text": [
      "10 20 30\n"
     ]
    },
    {
     "data": {
      "text/plain": [
       "int"
      ]
     },
     "execution_count": 71,
     "metadata": {},
     "output_type": "execute_result"
    }
   ],
   "source": [
    "a,b,c=10,20,30\n",
    "print(a,b,c)\n",
    "type(a)"
   ]
  },
  {
   "cell_type": "code",
   "execution_count": 69,
   "id": "ca57c91c-111e-46d6-9ed3-ec3d6060e445",
   "metadata": {},
   "outputs": [
    {
     "name": "stdout",
     "output_type": "stream",
     "text": [
      "(10, 20)\n"
     ]
    },
    {
     "data": {
      "text/plain": [
       "tuple"
      ]
     },
     "execution_count": 69,
     "metadata": {},
     "output_type": "execute_result"
    }
   ],
   "source": [
    "a=10,20\n",
    "print(a)\n",
    "type(a)"
   ]
  },
  {
   "cell_type": "code",
   "execution_count": 64,
   "id": "c41a9076-9672-4114-bc65-57c6bfa6b399",
   "metadata": {},
   "outputs": [
    {
     "ename": "TypeError",
     "evalue": "cannot unpack non-iterable int object",
     "output_type": "error",
     "traceback": [
      "\u001b[1;31m---------------------------------------------------------------------------\u001b[0m",
      "\u001b[1;31mTypeError\u001b[0m                                 Traceback (most recent call last)",
      "Cell \u001b[1;32mIn[64], line 1\u001b[0m\n\u001b[1;32m----> 1\u001b[0m a,b\u001b[38;5;241m=\u001b[39m\u001b[38;5;241m10\u001b[39m\n",
      "\u001b[1;31mTypeError\u001b[0m: cannot unpack non-iterable int object"
     ]
    }
   ],
   "source": [
    "a,b=10"
   ]
  },
  {
   "cell_type": "markdown",
   "id": "058a15f7-e401-4a3e-8de5-fb0403e548b5",
   "metadata": {},
   "source": [
    "## Function in Functions"
   ]
  },
  {
   "cell_type": "code",
   "execution_count": 16,
   "id": "1bf27b43-34c5-4cf1-9f04-923be8948f90",
   "metadata": {},
   "outputs": [],
   "source": [
    "\n",
    "def greet1():\n",
    "    # greet2()\n",
    "    print(\"good Morning\")\n",
    "\n",
    "def greet2():\n",
    "    greet1()\n",
    "    print(\"Good Night\")"
   ]
  },
  {
   "cell_type": "code",
   "execution_count": 17,
   "id": "6c3db761-da05-41a1-85e8-fd7374d67b21",
   "metadata": {},
   "outputs": [
    {
     "name": "stdout",
     "output_type": "stream",
     "text": [
      "good Morning\n",
      "Good Night\n"
     ]
    }
   ],
   "source": [
    "greet2()"
   ]
  },
  {
   "cell_type": "code",
   "execution_count": null,
   "id": "f8d152ad-6fd2-4074-980a-8b0d2d1d2d13",
   "metadata": {},
   "outputs": [],
   "source": [
    "greet1()"
   ]
  },
  {
   "cell_type": "code",
   "execution_count": null,
   "id": "40b7f758-5527-42c5-9918-a96b96b226f0",
   "metadata": {},
   "outputs": [],
   "source": [
    "# infinite loop\n",
    "def greet1():\n",
    "    greet2()\n",
    "    print(\"good Morning\")\n",
    "\n",
    "def greet2():\n",
    "    greet1()\n",
    "    print(\"Good Night\")\n",
    "greet2()"
   ]
  },
  {
   "cell_type": "code",
   "execution_count": 31,
   "id": "f143dcdf-caaf-4090-b4a8-f09a293a0e85",
   "metadata": {},
   "outputs": [
    {
     "name": "stdout",
     "output_type": "stream",
     "text": [
      "good Morning\n",
      "Good Night\n"
     ]
    }
   ],
   "source": [
    "\n",
    "def greet4():\n",
    "    def greet5():\n",
    "        print(\"Good Night\")\n",
    "    print(\"good Morning\")\n",
    "    greet5()\n",
    "\n",
    "greet4()\n",
    "# greet5()"
   ]
  },
  {
   "cell_type": "code",
   "execution_count": 33,
   "id": "53991a69-994e-47a9-80df-decb4895ffc3",
   "metadata": {},
   "outputs": [],
   "source": [
    "\n",
    "def add(a,b):\n",
    "    print(f\"The addition of {a} and {b} is {a+b}\")\n",
    "def mul(a,b):\n",
    "    print(f\"The multiplication of {a} and {b} is {a*b}\")"
   ]
  },
  {
   "cell_type": "code",
   "execution_count": 36,
   "id": "eb5f5ddf-f47c-4d28-b478-f483f9869d43",
   "metadata": {},
   "outputs": [],
   "source": [
    "\n",
    "def MATH():\n",
    "    add(100,200)\n",
    "    mul(50,10)"
   ]
  },
  {
   "cell_type": "code",
   "execution_count": 37,
   "id": "bd39be4b-aa48-4987-b7b1-4c93cbd546e8",
   "metadata": {},
   "outputs": [
    {
     "name": "stdout",
     "output_type": "stream",
     "text": [
      "The addition of 100 and 200 is 300\n",
      "The multiplication of 50 and 10 is 500\n"
     ]
    }
   ],
   "source": [
    "MATH()"
   ]
  },
  {
   "cell_type": "code",
   "execution_count": 40,
   "id": "636714e8-01e4-49df-8367-f6e0b24a505e",
   "metadata": {},
   "outputs": [
    {
     "name": "stdout",
     "output_type": "stream",
     "text": [
      "The addition of 100 and 200 is 300\n",
      "The multiplication of 50 and 10 is 500\n"
     ]
    }
   ],
   "source": [
    "def BIGMATH():\n",
    "    def MATH():\n",
    "        add(100,200)\n",
    "        mul(50,10)\n",
    "    MATH()\n",
    "\n",
    "\n",
    "BIGMATH()"
   ]
  },
  {
   "cell_type": "code",
   "execution_count": 42,
   "id": "39ebd88e-d86e-4ee6-bc48-5e5884b15bfb",
   "metadata": {},
   "outputs": [
    {
     "name": "stdout",
     "output_type": "stream",
     "text": [
      "The addition of 100 and 200 is 300\n",
      "The multiplication of 100 and 200 is 20000\n"
     ]
    }
   ],
   "source": [
    "def MATH(a,b):   \n",
    "    def add():\n",
    "         print(f\"The addition of {a} and {b} is {a+b}\")\n",
    "    def mul():\n",
    "        print(f\"The multiplication of {a} and {b} is {a*b}\")\n",
    "    add()\n",
    "    mul()\n",
    "MATH(100,200)"
   ]
  },
  {
   "cell_type": "code",
   "execution_count": 54,
   "id": "aeae04ce-8fc3-4502-9661-62870d914bb0",
   "metadata": {},
   "outputs": [
    {
     "name": "stdout",
     "output_type": "stream",
     "text": [
      "6\n",
      "5\n",
      "4\n",
      "3\n",
      "2\n",
      "1\n"
     ]
    }
   ],
   "source": [
    "def number(n):\n",
    "    if n==0:\n",
    "        return(0)\n",
    "    print(n)\n",
    "    number(n-1)\n",
    "        \n",
    "number(6)"
   ]
  },
  {
   "cell_type": "code",
   "execution_count": 6,
   "id": "573d8923-bed7-410c-b8a9-18ecea6294c0",
   "metadata": {},
   "outputs": [
    {
     "data": {
      "text/plain": [
       "720"
      ]
     },
     "execution_count": 6,
     "metadata": {},
     "output_type": "execute_result"
    }
   ],
   "source": [
    "def factorial(n):\n",
    "    if n==0:\n",
    "        return(1)\n",
    "    else:\n",
    "        return(n*factorial(n-1))\n",
    "        \n",
    "factorial(6)"
   ]
  },
  {
   "cell_type": "code",
   "execution_count": 74,
   "id": "c24577ed-c78e-4b1f-9b85-906e214ce069",
   "metadata": {},
   "outputs": [
    {
     "data": {
      "text/plain": [
       "720"
      ]
     },
     "execution_count": 74,
     "metadata": {},
     "output_type": "execute_result"
    }
   ],
   "source": [
    "6*5*4*3*2*1"
   ]
  },
  {
   "cell_type": "code",
   "execution_count": 11,
   "id": "a51f659f-7d15-4491-a097-df4c18d313ea",
   "metadata": {},
   "outputs": [
    {
     "name": "stdout",
     "output_type": "stream",
     "text": [
      "3\n",
      "18\n"
     ]
    }
   ],
   "source": [
    "\n",
    "def maths(a,b,c,d):\n",
    "    def add():\n",
    "        print(a+b)\n",
    "    def mul():\n",
    "        print(c*d)\n",
    "    add()\n",
    "    mul()\n",
    "\n",
    "maths(1,2,3,6)\n",
    "\n",
    "    "
   ]
  },
  {
   "cell_type": "code",
   "execution_count": 19,
   "id": "607222f0-3807-4100-b8b6-913a2d81b72a",
   "metadata": {},
   "outputs": [
    {
     "ename": "TypeError",
     "evalue": "maths.<locals>.add() missing 2 required positional arguments: 'a' and 'b'",
     "output_type": "error",
     "traceback": [
      "\u001b[1;31m---------------------------------------------------------------------------\u001b[0m",
      "\u001b[1;31mTypeError\u001b[0m                                 Traceback (most recent call last)",
      "Cell \u001b[1;32mIn[19], line 10\u001b[0m\n\u001b[0;32m      7\u001b[0m     add()\n\u001b[0;32m      8\u001b[0m     mul()\n\u001b[1;32m---> 10\u001b[0m maths(\u001b[38;5;241m1\u001b[39m,\u001b[38;5;241m2\u001b[39m)\n",
      "Cell \u001b[1;32mIn[19], line 7\u001b[0m, in \u001b[0;36mmaths\u001b[1;34m(a, b)\u001b[0m\n\u001b[0;32m      5\u001b[0m \u001b[38;5;28;01mdef\u001b[39;00m\u001b[38;5;250m \u001b[39m\u001b[38;5;21mmul\u001b[39m(a,b):\n\u001b[0;32m      6\u001b[0m     \u001b[38;5;28mprint\u001b[39m(a\u001b[38;5;241m*\u001b[39mb)\n\u001b[1;32m----> 7\u001b[0m add()\n\u001b[0;32m      8\u001b[0m mul()\n",
      "\u001b[1;31mTypeError\u001b[0m: maths.<locals>.add() missing 2 required positional arguments: 'a' and 'b'"
     ]
    }
   ],
   "source": [
    "\"\"\"IT WILL SHOWS ERROR\"\"\"\n",
    "def maths(a,b):\n",
    "    def add(a,b):\n",
    "        print(a+b)\n",
    "    def mul(a,b):\n",
    "        print(a*b)\n",
    "    add()\n",
    "    mul()\n",
    "\n",
    "maths(1,2)"
   ]
  },
  {
   "cell_type": "code",
   "execution_count": 310,
   "id": "3aacdd21-b241-4ef1-b9d2-46ffbe3df70a",
   "metadata": {},
   "outputs": [
    {
     "name": "stdout",
     "output_type": "stream",
     "text": [
      "The square of 1 is 1\n",
      "The square of 2 is 4\n",
      "The square of 3 is 9\n",
      "The square of 4 is 16\n",
      "The square of 5 is 25\n",
      "The square of 6 is 36\n",
      "The square of 7 is 49\n",
      "The square of 8 is 64\n",
      "The square of 9 is 81\n"
     ]
    }
   ],
   "source": [
    "  "
   ]
  },
  {
   "cell_type": "code",
   "execution_count": 348,
   "id": "f2d31777-11fb-4bc9-81c3-d29e2049bda2",
   "metadata": {},
   "outputs": [
    {
     "name": "stdout",
     "output_type": "stream",
     "text": [
      "1 is odd number\n",
      "2 is Even number \n",
      "3 is odd number\n",
      "4 is Even number \n",
      "5 is odd number\n",
      "6 is Even number \n",
      "7 is odd number\n",
      "8 is Even number \n",
      "9 is odd number\n",
      "10 is Even number \n",
      "There are 5 Even Numbers\n",
      "There are 5 Odd Numbers\n"
     ]
    }
   ],
   "source": [
    "even_count=0\n",
    "odd_count=0\n",
    "def oddeven(n):\n",
    "    global even_count,odd_count\n",
    "    if n==10+1:\n",
    "        return\n",
    "    if n%2==0:\n",
    "        even_count=even_count+1\n",
    "        print(f\"{n} is Even number \")    \n",
    "    else:\n",
    "        odd_count=odd_count+1\n",
    "        print(f\"{n} is odd number\")\n",
    "    oddeven(n=n+1)\n",
    "oddeven(1)\n",
    "print(f\"There are {even_count} Even Numbers\")\n",
    "print(f\"There are {odd_count} Odd Numbers\")"
   ]
  },
  {
   "cell_type": "code",
   "execution_count": 137,
   "id": "ce0ac51a-8aff-498f-8cb9-fd19a2dbbe8a",
   "metadata": {},
   "outputs": [
    {
     "name": "stdin",
     "output_type": "stream",
     "text": [
      "Enter the Number 15\n",
      "Enter the Number 20\n"
     ]
    },
    {
     "name": "stdout",
     "output_type": "stream",
     "text": [
      "15\n",
      "16\n",
      "17\n",
      "18\n",
      "19\n",
      "20\n"
     ]
    }
   ],
   "source": [
    "\n",
    "def div(n=eval(input(\"Enter the Number\")),a=eval(input(\"Enter the Number\"))):\n",
    "    if n==a+1:\n",
    "        return \n",
    "    print(n)\n",
    "    div(n=n+1)\n",
    "div()"
   ]
  },
  {
   "cell_type": "code",
   "execution_count": 114,
   "id": "028dee71-9391-4bd4-adb8-69210e47a591",
   "metadata": {},
   "outputs": [
    {
     "name": "stdout",
     "output_type": "stream",
     "text": [
      "1\n",
      "2\n",
      "3\n",
      "4\n",
      "5\n",
      "6\n",
      "7\n",
      "8\n",
      "9\n",
      "10\n"
     ]
    }
   ],
   "source": [
    "for i in range(1,10+1):\n",
    "    print(i)"
   ]
  },
  {
   "cell_type": "code",
   "execution_count": 120,
   "id": "f4573297-186c-40d8-9ca1-e2ef69cbd74e",
   "metadata": {},
   "outputs": [
    {
     "name": "stdout",
     "output_type": "stream",
     "text": [
      "The additon of 2 and 3 is 5\n"
     ]
    }
   ],
   "source": [
    "def add(a,/,b):\n",
    "    print(f\"The additon of {a} and {b} is {a+b}\")\n",
    "add(2,b=3)"
   ]
  },
  {
   "cell_type": "code",
   "execution_count": 124,
   "id": "ab5e817b-217e-404f-a873-4bc09b557646",
   "metadata": {},
   "outputs": [
    {
     "name": "stdout",
     "output_type": "stream",
     "text": [
      "The additon of 4 and 3 is 7\n"
     ]
    }
   ],
   "source": [
    "def add(a,*,b):\n",
    "    print(f\"The additon of {a} and {b} is {a+b}\")\n",
    "add(4,b=3)\n"
   ]
  },
  {
   "cell_type": "code",
   "execution_count": 130,
   "id": "a1e60b12-a2ec-4cd1-899c-232e9159c794",
   "metadata": {},
   "outputs": [
    {
     "name": "stdin",
     "output_type": "stream",
     "text": [
      " 45\n"
     ]
    }
   ],
   "source": [
    "# int to other data types\n",
    "a= eval(input())\n"
   ]
  },
  {
   "cell_type": "code",
   "execution_count": 131,
   "id": "69a3fe2d-672a-459e-8720-96a48105ab92",
   "metadata": {},
   "outputs": [
    {
     "data": {
      "text/plain": [
       "int"
      ]
     },
     "execution_count": 131,
     "metadata": {},
     "output_type": "execute_result"
    }
   ],
   "source": [
    "type(a)"
   ]
  },
  {
   "cell_type": "code",
   "execution_count": 312,
   "id": "8ce2aac7-9ae3-45e0-89ce-da5c0817864b",
   "metadata": {},
   "outputs": [
    {
     "name": "stdout",
     "output_type": "stream",
     "text": [
      "The sum of Two number is 0\n",
      "The sum of Two number is 1\n",
      "The sum of Two number is 3\n",
      "The sum of Two number is 6\n",
      "The sum of Two number is 10\n",
      "The sum of Two number is 15\n",
      "The sum of Two number is 21\n",
      "The sum of Two number is 28\n",
      "The sum of Two number is 36\n",
      "The sum of Two number is 45\n",
      "The sum of Two number is 55\n"
     ]
    }
   ],
   "source": [
    "\n",
    "n1=0\n",
    "def sumall1(n):\n",
    "    global n1\n",
    "    if n==11:\n",
    "        return\n",
    "    n1=n1+n\n",
    "    print(f\"The sum of Two number is {n1}\" )\n",
    "    sumall1(n=n+1)\n",
    "sumall1(0)\n",
    "# n1+n\n",
    "# 0+1=1\n",
    "# 1+2=3\n",
    "# 3+3=6\n",
    "# 6+4=10"
   ]
  },
  {
   "cell_type": "code",
   "execution_count": 309,
   "id": "b4ef3170-be35-48c0-9c8e-cc94ad351e61",
   "metadata": {},
   "outputs": [
    {
     "name": "stdin",
     "output_type": "stream",
     "text": [
      "Enter the Number:  45\n"
     ]
    },
    {
     "name": "stdout",
     "output_type": "stream",
     "text": [
      "You Loss\n",
      "The chances left is 4\n"
     ]
    },
    {
     "name": "stdin",
     "output_type": "stream",
     "text": [
      "Enter the Number:  4\n"
     ]
    },
    {
     "name": "stdout",
     "output_type": "stream",
     "text": [
      "You Loss\n",
      "The chances left is 3\n"
     ]
    },
    {
     "name": "stdin",
     "output_type": "stream",
     "text": [
      "Enter the Number:  3\n"
     ]
    },
    {
     "name": "stdout",
     "output_type": "stream",
     "text": [
      "You Loss\n",
      "The chances left is 2\n"
     ]
    },
    {
     "name": "stdin",
     "output_type": "stream",
     "text": [
      "Enter the Number:  8\n"
     ]
    },
    {
     "name": "stdout",
     "output_type": "stream",
     "text": [
      "You Loss\n",
      "The chances left is 1\n"
     ]
    },
    {
     "name": "stdin",
     "output_type": "stream",
     "text": [
      "Enter the Number:  1\n"
     ]
    },
    {
     "name": "stdout",
     "output_type": "stream",
     "text": [
      "You Loss\n",
      "The chances left is 0\n"
     ]
    }
   ],
   "source": [
    "import random\n",
    "d=5\n",
    "def game(m):\n",
    "    global d\n",
    "    if m==5:\n",
    "        return(0)\n",
    "    g= random.randint(1,10)\n",
    "    d= d-1\n",
    "    n= eval(input(\"Enter the Number: \"))\n",
    "    if g==n:\n",
    "        print(\"You Won\")\n",
    "    else:\n",
    "        print(\"You Loss\")\n",
    "        print(f\"The chances left is {d}\")      \n",
    "    game(m=m+1)\n",
    "game(0)"
   ]
  },
  {
   "cell_type": "code",
   "execution_count": 378,
   "id": "c4e4baff-ecdc-4493-90d5-baeae3c46e9b",
   "metadata": {},
   "outputs": [
    {
     "name": "stdout",
     "output_type": "stream",
     "text": [
      "1 is odd number\n",
      "2 is Even number \n",
      "3 is odd number\n",
      "4 is Even number \n",
      "5 is odd number\n",
      "6 is Even number \n",
      "7 is odd number\n",
      "8 is Even number \n",
      "9 is odd number\n",
      "10 is Even number \n",
      "There are 5 Even Numbers\n",
      "There are 5 Odd Numbers\n"
     ]
    }
   ],
   "source": [
    "# even_count=0\n",
    "# odd_count=0\n",
    "def oddeven(n,odd_count=0,even_count=0):\n",
    "    # global even_count,odd_count\n",
    "    if n==10+1:\n",
    "        return\n",
    "    if n%2==0:\n",
    "        even_count=even_count+1\n",
    "        print(f\"{n} is Even number \")    \n",
    "    else:\n",
    "        odd_count=odd_count+1\n",
    "        print(f\"{n} is odd number\")\n",
    "    oddeven(n=n+1)\n",
    "oddeven(1)\n",
    "print(f\"There are {even_count} Even Numbers\")\n",
    "print(f\"There are {odd_count} Odd Numbers\")"
   ]
  },
  {
   "cell_type": "code",
   "execution_count": 383,
   "id": "5765cca1-2f40-44e2-bb00-a600f6f9ff8b",
   "metadata": {},
   "outputs": [
    {
     "name": "stdin",
     "output_type": "stream",
     "text": [
      "Enter the value: 4\n",
      "Enter the value: 5\n"
     ]
    },
    {
     "name": "stdout",
     "output_type": "stream",
     "text": [
      "The square of 4 is 16\n",
      "The square of 5 is 25\n"
     ]
    }
   ],
   "source": [
    "def sqrt(s=eval(input(\"Enter the value:\")),h=eval(input(\"Enter the value:\"))):\n",
    "    if s==h+1:\n",
    "        return \n",
    "    print(f\"The square of {s} is {s**2}\")\n",
    "    sqrt(s=s+1)\n",
    "sqrt()"
   ]
  },
  {
   "cell_type": "code",
   "execution_count": 519,
   "id": "7563c699-69a8-444d-8534-3d968c31c48e",
   "metadata": {},
   "outputs": [
    {
     "name": "stdout",
     "output_type": "stream",
     "text": [
      "The sum of two Number 0\n",
      "The sum of two Number 1\n",
      "The sum of two Number 3\n",
      "The sum of two Number 6\n",
      "The sum of two Number 10\n",
      "The sum of two Number 15\n",
      "The sum of two Number 21\n",
      "The sum of two Number 28\n",
      "The sum of two Number 36\n",
      "The sum of two Number 45\n",
      "The sum of two Number 55\n"
     ]
    }
   ],
   "source": [
    "n2=0\n",
    "def summ(n=0):\n",
    "    global n2\n",
    "    if n==11:\n",
    "        return\n",
    "    n2=n2+n\n",
    "    print(f\"The sum of two Number {n2}\")\n",
    "    summ(n=n+1)\n",
    "summ()"
   ]
  },
  {
   "cell_type": "code",
   "execution_count": 409,
   "id": "65564e13-edc3-49b6-bda6-577ddebb7db5",
   "metadata": {
    "scrolled": true
   },
   "outputs": [
    {
     "name": "stdin",
     "output_type": "stream",
     "text": [
      "Enter the Number:  55\n"
     ]
    },
    {
     "name": "stdout",
     "output_type": "stream",
     "text": [
      "55 is divisible by 1\n",
      "55 is divisible by 5\n",
      "55 is divisible by 11\n",
      "55 is divisible by 55\n"
     ]
    }
   ],
   "source": [
    "def divisiable(n=1,m=eval(input(\"Enter the Number: \"))):\n",
    "    if n==m+1:\n",
    "        return\n",
    "    if m%n==0:\n",
    "        print(f\"{m} is divisible by {n}\")\n",
    "    divisiable(n=n+1)\n",
    "divisiable()"
   ]
  },
  {
   "cell_type": "code",
   "execution_count": 567,
   "id": "b82d0e66-9786-427d-8ea6-0bc7e1cd1f86",
   "metadata": {},
   "outputs": [],
   "source": [
    "import random\n",
    "\n",
    "def abcd():\n",
    "    print(random.choice(\"mf\"))\n",
    "    print(random.choice([\"male\",\"female\"]))\n",
    "    "
   ]
  },
  {
   "cell_type": "code",
   "execution_count": 568,
   "id": "1d642582-2ecb-449d-846c-2b8f34e5032c",
   "metadata": {},
   "outputs": [
    {
     "name": "stdout",
     "output_type": "stream",
     "text": [
      "m\n",
      "female\n"
     ]
    }
   ],
   "source": [
    "abcd()"
   ]
  },
  {
   "cell_type": "code",
   "execution_count": 569,
   "id": "1924244e-f9ca-4bde-a651-595b7fb1c49b",
   "metadata": {},
   "outputs": [
    {
     "data": {
      "text/plain": [
       "108"
      ]
     },
     "execution_count": 569,
     "metadata": {},
     "output_type": "execute_result"
    }
   ],
   "source": [
    "sum([45,63])"
   ]
  },
  {
   "cell_type": "code",
   "execution_count": 572,
   "id": "91778e75-4032-4348-bbd8-0d0f839489b4",
   "metadata": {},
   "outputs": [
    {
     "data": {
      "text/plain": [
       "164.45"
      ]
     },
     "execution_count": 572,
     "metadata": {},
     "output_type": "execute_result"
    }
   ],
   "source": [
    "sum((45,96,23.45))"
   ]
  },
  {
   "cell_type": "code",
   "execution_count": 558,
   "id": "731cc747-560d-4dcf-9a0c-9698796a7ce9",
   "metadata": {},
   "outputs": [],
   "source": [
    "\n",
    "# import numpy\n",
    "# # dir(numpy)"
   ]
  },
  {
   "cell_type": "code",
   "execution_count": 510,
   "id": "8441cdfa-11f6-409b-b8bf-fffe026efc74",
   "metadata": {},
   "outputs": [
    {
     "data": {
      "text/plain": [
       "2"
      ]
     },
     "execution_count": 510,
     "metadata": {},
     "output_type": "execute_result"
    }
   ],
   "source": [
    "round(numpy.tan(1))"
   ]
  },
  {
   "cell_type": "code",
   "execution_count": 511,
   "id": "3af439ae-f3cc-432e-a908-45683580dbcf",
   "metadata": {},
   "outputs": [
    {
     "data": {
      "text/plain": [
       "np.float64(1.5574077246549023)"
      ]
     },
     "execution_count": 511,
     "metadata": {},
     "output_type": "execute_result"
    }
   ],
   "source": [
    "numpy.tan(1)"
   ]
  },
  {
   "cell_type": "code",
   "execution_count": 516,
   "id": "8c77967b-7cc0-46de-a898-22ad47754d12",
   "metadata": {},
   "outputs": [
    {
     "data": {
      "text/plain": [
       "np.int64(0)"
      ]
     },
     "execution_count": 516,
     "metadata": {},
     "output_type": "execute_result"
    }
   ],
   "source": [
    "numpy.take(0,0)"
   ]
  },
  {
   "cell_type": "code",
   "execution_count": 520,
   "id": "bed2568c-96e7-4dd3-9b34-bb1e708a03b4",
   "metadata": {},
   "outputs": [],
   "source": [
    "complex()\n",
    "\n",
    "a=56+6j"
   ]
  },
  {
   "cell_type": "code",
   "execution_count": 559,
   "id": "a9273056-f34a-413c-b45c-96ee1c583fdf",
   "metadata": {},
   "outputs": [],
   "source": [
    "# dir(a)"
   ]
  },
  {
   "cell_type": "code",
   "execution_count": 525,
   "id": "e019ac01-10c6-462e-857c-9aaf09eb2ebf",
   "metadata": {},
   "outputs": [
    {
     "data": {
      "text/plain": [
       "6.0"
      ]
     },
     "execution_count": 525,
     "metadata": {},
     "output_type": "execute_result"
    }
   ],
   "source": [
    "a.imag"
   ]
  },
  {
   "cell_type": "code",
   "execution_count": 526,
   "id": "d37fa7d9-6694-4633-9792-c65ba5ac431c",
   "metadata": {},
   "outputs": [
    {
     "data": {
      "text/plain": [
       "56.0"
      ]
     },
     "execution_count": 526,
     "metadata": {},
     "output_type": "execute_result"
    }
   ],
   "source": [
    "a.real"
   ]
  },
  {
   "cell_type": "code",
   "execution_count": 528,
   "id": "d93634b8-0854-4c6b-88fa-09f115796e17",
   "metadata": {},
   "outputs": [
    {
     "data": {
      "text/plain": [
       "(56-6j)"
      ]
     },
     "execution_count": 528,
     "metadata": {},
     "output_type": "execute_result"
    }
   ],
   "source": [
    "a.conjugate()"
   ]
  },
  {
   "cell_type": "code",
   "execution_count": 530,
   "id": "5decb902-c5c3-48aa-a771-bd1fe3a9ba6b",
   "metadata": {},
   "outputs": [
    {
     "data": {
      "text/plain": [
       "(56+6j)"
      ]
     },
     "execution_count": 530,
     "metadata": {},
     "output_type": "execute_result"
    }
   ],
   "source": [
    "a.__complex__()"
   ]
  },
  {
   "cell_type": "code",
   "execution_count": 557,
   "id": "8a43a0a9-fa5f-4698-9b21-a5a0bba80f01",
   "metadata": {},
   "outputs": [
    {
     "data": {
      "text/plain": [
       "True"
      ]
     },
     "execution_count": 557,
     "metadata": {},
     "output_type": "execute_result"
    }
   ],
   "source": [
    "a=1+0j\n",
    "a.__bool__()"
   ]
  },
  {
   "cell_type": "code",
   "execution_count": 2,
   "id": "7b4facf0-4293-4960-b7e4-3de5b370bcc4",
   "metadata": {},
   "outputs": [
    {
     "data": {
      "text/plain": [
       "2"
      ]
     },
     "execution_count": 2,
     "metadata": {},
     "output_type": "execute_result"
    }
   ],
   "source": [
    "True+True"
   ]
  },
  {
   "cell_type": "code",
   "execution_count": 4,
   "id": "ca1ab811-b299-4ec8-a9f0-3a858ca0c8f4",
   "metadata": {},
   "outputs": [
    {
     "data": {
      "text/plain": [
       "0"
      ]
     },
     "execution_count": 4,
     "metadata": {},
     "output_type": "execute_result"
    }
   ],
   "source": [
    "False+False"
   ]
  },
  {
   "cell_type": "code",
   "execution_count": 17,
   "id": "2850b0d9-2936-4e65-b5d8-8de29020f8d7",
   "metadata": {},
   "outputs": [
    {
     "name": "stdout",
     "output_type": "stream",
     "text": [
      " gender=f your age is 82,Your are a old Women\n",
      " gender=f your age is 84,Your are a old Women\n",
      " gender=f your age is 30,Your are a Women \n",
      " gender=f your age is 53,Your are a old Women\n",
      " gender=m your age is 100,Your are a old Men\n",
      " gender=f your age is 27,Your are a Women \n",
      " gender=f your age is 47,Your are a old Women\n",
      " gender=m your age is 64,Your are a old Men\n",
      " gender=m your age is 87,Your are a old Men\n",
      " gender=f your age is 34,Your are a Women \n"
     ]
    }
   ],
   "source": [
    "import random\n",
    "def timepass(n=0):\n",
    "    if n==10:\n",
    "        return\n",
    "    num=random.randint(1,100)\n",
    "    g= random.choice(\"mf\")\n",
    "    if g==\"m\":\n",
    "        if num <=20:\n",
    "            print(f\" gender={g} your age is {num},Your are a Teenager boy\")\n",
    "        elif num>20 and num<=40:\n",
    "            print(f\" gender={g} your age is {num},Your are a Men\")\n",
    "        elif num>40:\n",
    "            print(f\" gender={g} your age is {num},Your are a old Men\")\n",
    "        else:\n",
    "            print(f\" gender={g}  {num} Invalid Age\")\n",
    "        \n",
    "    elif g==\"f\":\n",
    "        if num<=20:\n",
    "            print(f\" gender={g} your age is {num},Your are a Teenager girl\")\n",
    "        elif num>20 and num<=40:\n",
    "            print(f\" gender={g} your age is {num},Your are a Women \")\n",
    "        elif num>40:\n",
    "            print(f\" gender={g} your age is {num},Your are a old Women\")\n",
    "        else:\n",
    "            print(f\" gender={g}  {num}Invalid Age\")\n",
    "    else:\n",
    "        print(\"Invalid Gender\")\n",
    "\n",
    "    timepass(n=n+1)\n",
    "timepass()    "
   ]
  },
  {
   "cell_type": "code",
   "execution_count": null,
   "id": "d9043608-3563-4e13-a48e-afa4df06015f",
   "metadata": {},
   "outputs": [],
   "source": []
  }
 ],
 "metadata": {
  "kernelspec": {
   "display_name": "Python [conda env:base] *",
   "language": "python",
   "name": "conda-base-py"
  },
  "language_info": {
   "codemirror_mode": {
    "name": "ipython",
    "version": 3
   },
   "file_extension": ".py",
   "mimetype": "text/x-python",
   "name": "python",
   "nbconvert_exporter": "python",
   "pygments_lexer": "ipython3",
   "version": "3.13.5"
  }
 },
 "nbformat": 4,
 "nbformat_minor": 5
}
