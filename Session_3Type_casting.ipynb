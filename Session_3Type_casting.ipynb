{
 "cells": [
  {
   "cell_type": "markdown",
   "id": "9446a462-f29d-46b9-a86f-443a7b8fca0b",
   "metadata": {},
   "source": [
    "int to float"
   ]
  },
  {
   "cell_type": "code",
   "execution_count": 2,
   "id": "5e618721-6024-4966-9507-da27879dd714",
   "metadata": {},
   "outputs": [
    {
     "data": {
      "text/plain": [
       "float"
      ]
     },
     "execution_count": 2,
     "metadata": {},
     "output_type": "execute_result"
    }
   ],
   "source": [
    "number = 56\n",
    "number_float= float(number)\n",
    "type(number_float)"
   ]
  },
  {
   "cell_type": "code",
   "execution_count": 4,
   "id": "f6a6a17d-c8ef-4eae-8641-69993146d87d",
   "metadata": {},
   "outputs": [
    {
     "data": {
      "text/plain": [
       "(56.0, '56', True)"
      ]
     },
     "execution_count": 4,
     "metadata": {},
     "output_type": "execute_result"
    }
   ],
   "source": [
    "float(number),str(number),bool(number)"
   ]
  },
  {
   "cell_type": "code",
   "execution_count": 7,
   "id": "68329e4e-2355-47c5-8482-92078cecc4cd",
   "metadata": {},
   "outputs": [
    {
     "data": {
      "text/plain": [
       "(-56.0, '-56', False)"
      ]
     },
     "execution_count": 7,
     "metadata": {},
     "output_type": "execute_result"
    }
   ],
   "source": [
    "float(-56), str(-56),bool(0) "
   ]
  },
  {
   "cell_type": "code",
   "execution_count": 10,
   "id": "952a5a90-2fae-4430-aa81-5fdfda7ce9af",
   "metadata": {},
   "outputs": [
    {
     "data": {
      "text/plain": [
       "(0, '-0.0', False)"
      ]
     },
     "execution_count": 10,
     "metadata": {},
     "output_type": "execute_result"
    }
   ],
   "source": [
    "int(-0.0),str(-0.0),bool(-0.0)"
   ]
  },
  {
   "cell_type": "code",
   "execution_count": 12,
   "id": "0ca1180a-5067-4db6-adc6-a91be96ce03f",
   "metadata": {},
   "outputs": [
    {
     "data": {
      "text/plain": [
       "(0, '-0.0', True)"
      ]
     },
     "execution_count": 12,
     "metadata": {},
     "output_type": "execute_result"
    }
   ],
   "source": [
    "int(-0.0000),str(-0.0000),bool(-0.0001)"
   ]
  },
  {
   "cell_type": "markdown",
   "id": "397e153f-44a8-42d6-af15-7c9e980ca2c9",
   "metadata": {},
   "source": [
    "## String to other datatypes"
   ]
  },
  {
   "cell_type": "code",
   "execution_count": 13,
   "id": "236840bd-f151-4a05-b50f-3f0cd9b09be2",
   "metadata": {},
   "outputs": [
    {
     "name": "stdout",
     "output_type": "stream",
     "text": [
      "10.5\n"
     ]
    }
   ],
   "source": [
    "print(float ('10.5'))"
   ]
  },
  {
   "cell_type": "code",
   "execution_count": 15,
   "id": "28803370-c246-4f5e-9e2c-23b1f890d3a4",
   "metadata": {},
   "outputs": [
    {
     "name": "stdout",
     "output_type": "stream",
     "text": [
      "10\n"
     ]
    }
   ],
   "source": [
    "print(int(float('10.5')))"
   ]
  },
  {
   "cell_type": "code",
   "execution_count": 16,
   "id": "754ac774-81b2-46ce-9903-8ec8aa9fb3df",
   "metadata": {},
   "outputs": [
    {
     "data": {
      "text/plain": [
       "145"
      ]
     },
     "execution_count": 16,
     "metadata": {},
     "output_type": "execute_result"
    }
   ],
   "source": [
    "n= eval(\"56\")\n",
    "n2=eval(\"89\")\n",
    "n+n2\n"
   ]
  },
  {
   "cell_type": "code",
   "execution_count": 19,
   "id": "0c017860-c884-4e61-bc8b-26317ca7bd0f",
   "metadata": {},
   "outputs": [
    {
     "data": {
      "text/plain": [
       "145.0"
      ]
     },
     "execution_count": 19,
     "metadata": {},
     "output_type": "execute_result"
    }
   ],
   "source": [
    "n= float(\"56\")\n",
    "n2=float(\"89\")\n",
    "n+n2"
   ]
  },
  {
   "cell_type": "code",
   "execution_count": null,
   "id": "c686846e-af1d-4bbf-a68e-7a2b068060a9",
   "metadata": {},
   "outputs": [],
   "source": []
  },
  {
   "cell_type": "code",
   "execution_count": null,
   "id": "58bed8a1-cb7d-4217-a81b-495b5e0618fa",
   "metadata": {},
   "outputs": [],
   "source": []
  }
 ],
 "metadata": {
  "kernelspec": {
   "display_name": "Python [conda env:base] *",
   "language": "python",
   "name": "conda-base-py"
  },
  "language_info": {
   "codemirror_mode": {
    "name": "ipython",
    "version": 3
   },
   "file_extension": ".py",
   "mimetype": "text/x-python",
   "name": "python",
   "nbconvert_exporter": "python",
   "pygments_lexer": "ipython3",
   "version": "3.13.5"
  }
 },
 "nbformat": 4,
 "nbformat_minor": 5
}
